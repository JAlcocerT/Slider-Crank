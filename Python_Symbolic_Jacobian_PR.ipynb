{
 "cells": [
  {
   "cell_type": "code",
   "execution_count": 3,
   "metadata": {},
   "outputs": [],
   "source": [
    "from sympy import Eq, solve, pi\n",
    "from sympy import lambdify\n",
    "import numpy as np\n",
    "from scipy.optimize import fsolve\n",
    "\n",
    "\n",
    "from sympy import Matrix, cos, sin, symbols\n",
    "\n",
    "def rotation_matrix_2d(theta):\n",
    "    \"\"\"Generate a 2D rotation matrix for a given angle.\"\"\"\n",
    "    return Matrix([\n",
    "        [cos(theta), -sin(theta)],\n",
    "        [sin(theta), cos(theta)]\n",
    "    ])\n",
    "\n",
    "def generate_constraint_equations_pr(theta_i, theta_j, r_x_i, r_y_i, r_x_j, r_y_j, u_x_i, u_y_i, u_x_j, u_y_j):\n",
    "    \"\"\"Generate the position restraint equations.\"\"\"\n",
    "    R_i = Matrix([r_x_i, r_y_i])\n",
    "    R_j = Matrix([r_x_j, r_y_j])\n",
    "    local_vector_i = Matrix([u_x_i, u_y_i])\n",
    "    local_vector_j = Matrix([u_x_j, u_y_j])\n",
    "    \n",
    "    transformed_vector_i = rotation_matrix_2d(theta_i) * local_vector_i\n",
    "    transformed_vector_j = rotation_matrix_2d(theta_j) * local_vector_j\n",
    "\n",
    "    constraint_equations = R_i + transformed_vector_i - R_j - transformed_vector_j\n",
    "    return constraint_equations\n",
    "\n",
    "def generate_equations_wo_topology_pr(theta_i, theta_j, r_x_i, r_y_i, r_x_j, r_y_j):\n",
    "\n",
    "    u_x_i, u_y_i, u_x_j, u_y_j = symbols('u_x_i u_y_i u_x_j u_y_j')\n",
    "\n",
    "\n",
    "    # Generate the constraint equations\n",
    "    equations = generate_constraint_equations_pr(theta_i, theta_j, r_x_i, r_y_i, r_x_j, r_y_j, u_x_i, u_y_i, u_x_j, u_y_j)    \n",
    "    \n",
    "    # Return the equation and the symbols\n",
    "    #return (equations)\n",
    "    return equations\n",
    "\n",
    "def generate_equations_included_topology_pr(theta_i, theta_j, r_x_i, r_y_i, r_x_j, r_y_j, u_x_a, u_y_a, u_x_b, u_y_b):\n",
    "\n",
    "    u_x_i, u_y_i, u_x_j, u_y_j = symbols('u_x_i u_y_i u_x_j u_y_j')\n",
    "\n",
    "\n",
    "    # Generate the constraint equations\n",
    "    equations = generate_constraint_equations_pr(theta_i, theta_j, r_x_i, r_y_i, r_x_j, r_y_j, u_x_i, u_y_i, u_x_j, u_y_j)\n",
    "    \n",
    "    # Substitute the symbolic variables with the provided values\n",
    "    equations_substituted = equations.subs({u_x_i: u_x_a, u_y_i: u_y_a, u_x_j: u_x_b, u_y_j: u_y_b})\n",
    "    \n",
    "    \n",
    "    # Return the equation and the symbols\n",
    "    #return (equations)\n",
    "    return equations_substituted\n"
   ]
  },
  {
   "cell_type": "code",
   "execution_count": 5,
   "metadata": {},
   "outputs": [],
   "source": [
    "def four_bars_mechanism_example_symbolic_full():\n",
    "\n",
    "    theta_1, theta_2, theta_3, theta_4 = symbols('theta_1 theta_2 theta_3 theta_4')\n",
    "    r_x_1, r_y_1, r_x_2, r_y_2, r_x_3, r_y_3, r_x_4, r_y_4 = symbols('r_x_1 r_y_1 r_x_2 r_y_2 r_x_3 r_y_3 r_x_4 r_y_4')\n",
    "\n",
    "    L2, L3, L4, Separation = symbols('L2 L3 L4 Separation')\n",
    "\n",
    "\n",
    "\n",
    "    u_x_1_12 = 0\n",
    "    u_y_1_12 = 0\n",
    "    u_x_2_12 = 0\n",
    "    u_y_2_12 = 0\n",
    "    restrictions_pr12 = generate_equations_included_topology_pr(theta_1, theta_2, r_x_1, r_y_1, r_x_2, r_y_2, u_x_1_12, u_y_1_12, u_x_2_12, u_y_2_12)\n",
    "\n",
    "    u_x_2_23 = L2\n",
    "    u_y_2_23 = 0\n",
    "    u_x_3_23 = 0\n",
    "    u_y_3_23 = 0\n",
    "    restrictions_pr23 = generate_equations_included_topology_pr(theta_2, theta_3, r_x_2, r_y_2, r_x_3, r_y_3, u_x_2_23, u_y_2_23, u_x_3_23, u_y_3_23)\n",
    "\n",
    "    u_x_3_34 = L3\n",
    "    u_y_3_34 = 0\n",
    "    u_x_4_34 = 0\n",
    "    u_y_4_34 = 0\n",
    "    restrictions_pr34 = generate_equations_included_topology_pr(theta_3, theta_4, r_x_3, r_y_3, r_x_4, r_y_4, u_x_3_34, u_y_3_34, u_x_4_34, u_y_4_34)\n",
    "\n",
    "    u_x_1_14 = Separation\n",
    "    u_y_1_14 = 0\n",
    "    u_x_4_14 = L4\n",
    "    u_y_4_14 = 0\n",
    "    restrictions_pr14 = generate_equations_included_topology_pr(theta_1, theta_4, r_x_1, r_y_1, r_x_4, r_y_4, u_x_1_14, u_y_1_14, u_x_4_14, u_y_4_14)\n",
    "\n",
    "    # Stacking the matrices vertically to form a single large matrix\n",
    "    restrictions_to_solve = restrictions_pr12.col_join(restrictions_pr23).col_join(restrictions_pr34).col_join(restrictions_pr14)\n",
    "\n",
    "    # Substituting the known values into the equations\n",
    "    restrictions_substituted = restrictions_to_solve.subs({\n",
    "        r_x_1: 0,\n",
    "        r_y_1: 0,\n",
    "        theta_1: 0 })\n",
    "\n",
    "    # Create a list of equations from the matrix\n",
    "    equation_list = [Eq(restrictions_substituted[i, 0], 0) for i in range(restrictions_substituted.shape[0])]\n",
    "\n",
    "    #print(equation_list) \n",
    "\n",
    "    return(equation_list)"
   ]
  },
  {
   "cell_type": "code",
   "execution_count": 6,
   "metadata": {},
   "outputs": [
    {
     "data": {
      "text/plain": [
       "[Eq(-r_x_2, 0),\n",
       " Eq(-r_y_2, 0),\n",
       " Eq(L2*cos(theta_2) + r_x_2 - r_x_3, 0),\n",
       " Eq(L2*sin(theta_2) + r_y_2 - r_y_3, 0),\n",
       " Eq(L3*cos(theta_3) + r_x_3 - r_x_4, 0),\n",
       " Eq(L3*sin(theta_3) + r_y_3 - r_y_4, 0),\n",
       " Eq(-L4*cos(theta_4) + Separation - r_x_4, 0),\n",
       " Eq(-L4*sin(theta_4) - r_y_4, 0)]"
      ]
     },
     "execution_count": 6,
     "metadata": {},
     "output_type": "execute_result"
    }
   ],
   "source": [
    "four_bars_mechanism_example_symbolic_full()"
   ]
  },
  {
   "cell_type": "code",
   "execution_count": 7,
   "metadata": {},
   "outputs": [],
   "source": [
    "def four_bars_mechanism_example_symbolic(theta_2_value, L2, L3, L4, Separation):\n",
    "\n",
    "    theta_1, theta_2, theta_3, theta_4 = symbols('theta_1 theta_2 theta_3 theta_4')\n",
    "    r_x_1, r_y_1, r_x_2, r_y_2, r_x_3, r_y_3, r_x_4, r_y_4 = symbols('r_x_1 r_y_1 r_x_2 r_y_2 r_x_3 r_y_3 r_x_4 r_y_4')\n",
    "\n",
    "\n",
    "    u_x_1_12 = 0\n",
    "    u_y_1_12 = 0\n",
    "    u_x_2_12 = 0\n",
    "    u_y_2_12 = 0\n",
    "    restrictions_pr12 = generate_equations_included_topology_pr(theta_1, theta_2, r_x_1, r_y_1, r_x_2, r_y_2, u_x_1_12, u_y_1_12, u_x_2_12, u_y_2_12)\n",
    "\n",
    "    u_x_2_23 = L2\n",
    "    u_y_2_23 = 0\n",
    "    u_x_3_23 = 0\n",
    "    u_y_3_23 = 0\n",
    "    restrictions_pr23 = generate_equations_included_topology_pr(theta_2, theta_3, r_x_2, r_y_2, r_x_3, r_y_3, u_x_2_23, u_y_2_23, u_x_3_23, u_y_3_23)\n",
    "\n",
    "    u_x_3_34 = L3\n",
    "    u_y_3_34 = 0\n",
    "    u_x_4_34 = 0\n",
    "    u_y_4_34 = 0\n",
    "    restrictions_pr34 = generate_equations_included_topology_pr(theta_3, theta_4, r_x_3, r_y_3, r_x_4, r_y_4, u_x_3_34, u_y_3_34, u_x_4_34, u_y_4_34)\n",
    "\n",
    "    u_x_1_14 = Separation\n",
    "    u_y_1_14 = 0\n",
    "    u_x_4_14 = L4\n",
    "    u_y_4_14 = 0\n",
    "    restrictions_pr14 = generate_equations_included_topology_pr(theta_1, theta_4, r_x_1, r_y_1, r_x_4, r_y_4, u_x_1_14, u_y_1_14, u_x_4_14, u_y_4_14)\n",
    "\n",
    "    # Stacking the matrices vertically to form a single large matrix\n",
    "    restrictions_to_solve = restrictions_pr12.col_join(restrictions_pr23).col_join(restrictions_pr34).col_join(restrictions_pr14)\n",
    "\n",
    "    # Substituting the known values into the equations\n",
    "    restrictions_substituted = restrictions_to_solve.subs({\n",
    "        r_x_1: 0,\n",
    "        r_y_1: 0,\n",
    "        theta_1: 0,\n",
    "        theta_2: theta_2_value\n",
    "    })\n",
    "\n",
    "    # Create a list of equations from the matrix\n",
    "    equation_list = [Eq(restrictions_substituted[i, 0], 0) for i in range(restrictions_substituted.shape[0])]\n",
    "\n",
    "    #print(equation_list) \n",
    "\n",
    "    return(equation_list)"
   ]
  },
  {
   "cell_type": "code",
   "execution_count": 8,
   "metadata": {},
   "outputs": [
    {
     "data": {
      "text/plain": [
       "[Eq(-r_x_2, 0),\n",
       " Eq(-r_y_2, 0),\n",
       " Eq(r_x_2 - r_x_3 + 1.22464679914735e-16, 0),\n",
       " Eq(r_y_2 - r_y_3 + 2.0, 0),\n",
       " Eq(r_x_3 - r_x_4 + 3*cos(theta_3), 0),\n",
       " Eq(r_y_3 - r_y_4 + 3*sin(theta_3), 0),\n",
       " Eq(-r_x_4 - 5*cos(theta_4) + 4, 0),\n",
       " Eq(-r_y_4 - 5*sin(theta_4), 0)]"
      ]
     },
     "execution_count": 8,
     "metadata": {},
     "output_type": "execute_result"
    }
   ],
   "source": [
    "L2 = 2\n",
    "L3 = 3\n",
    "L4 = 5\n",
    "Separation = 4\n",
    "\n",
    "\n",
    "theta_2 = np.pi/2\n",
    "\n",
    "\n",
    "four_bars_mechanism_example_symbolic(theta_2, L2, L3, L4, Separation)"
   ]
  },
  {
   "cell_type": "code",
   "execution_count": 9,
   "metadata": {},
   "outputs": [],
   "source": [
    "import plotly.graph_objects as go\n",
    "\n",
    "\n",
    "\n",
    "import plotly.graph_objects as go\n",
    "import numpy as np\n",
    "\n",
    "def plot_mechanism_updated(solution):\n",
    "    # Extracting the coordinates from the solution\n",
    "    r_x_2, r_y_2, r_x_3, r_y_3, r_x_4, r_y_4 = solution[0:6]\n",
    "    \n",
    "    # Create traces for each line\n",
    "    trace1 = go.Scatter(x=[r_x_2, r_x_3], y=[r_y_2, r_y_3], mode='lines+markers', name='Link 2-3')\n",
    "    trace2 = go.Scatter(x=[r_x_3, r_x_4], y=[r_y_3, r_y_4], mode='lines+markers', name='Link 3-4')\n",
    "    trace3 = go.Scatter(x=[r_x_4, 5], y=[r_y_4, 0], mode='lines+markers', name='Link 4-Base')\n",
    "    \n",
    "    # Define layout with equal aspect ratio and specified axis ranges\n",
    "    layout = go.Layout(title='Four Bars Mechanism Visualization',\n",
    "                       xaxis=dict(title='X Coordinate', scaleanchor=\"y\", scaleratio=1, range=[-15, 15]),\n",
    "                       yaxis=dict(title='Y Coordinate', scaleanchor=\"x\", scaleratio=1, range=[-15, 15]),\n",
    "                       showlegend=True,\n",
    "                       autosize=False,  # Disable automatic sizing to maintain aspect ratio\n",
    "                       width=500,  # Set width of the plot\n",
    "                       height=500)  # Set height of the plot\n",
    "    \n",
    "    # Create figure and plot\n",
    "    fig = go.Figure(data=[trace1, trace2, trace3], layout=layout)\n",
    "    fig.show()\n",
    "\n",
    "\n",
    "\n",
    "\n",
    "# Testing the updated plotting function with the sample solution\n",
    "#plot_mechanism_updated(solution)\n"
   ]
  },
  {
   "cell_type": "code",
   "execution_count": 18,
   "metadata": {},
   "outputs": [],
   "source": [
    "import plotly.graph_objs as go\n",
    "\n",
    "def plot_mechanism_updated_json(new_input, Separation):\n",
    "    # Extract values from the input dictionary using string keys\n",
    "    r_x_2_value = new_input['r_x_2']\n",
    "    r_y_2_value = new_input['r_y_2']\n",
    "    r_x_3_value = new_input['r_x_3']\n",
    "    r_y_3_value = new_input['r_y_3']\n",
    "    r_x_4_value = new_input['r_x_4']\n",
    "    r_y_4_value = new_input['r_y_4']\n",
    "\n",
    "    print(r_x_2_value)\n",
    "    \n",
    "    # Create traces for each line\n",
    "    trace1 = go.Scatter(x=[r_x_2_value, r_x_3_value], y=[r_y_2_value, r_y_3_value], mode='lines+markers', name='Link 2-3')\n",
    "    trace2 = go.Scatter(x=[r_x_3_value, r_x_4_value], y=[r_y_3_value, r_y_4_value], mode='lines+markers', name='Link 3-4')\n",
    "    trace3 = go.Scatter(x=[r_x_4_value, Separation], y=[r_y_4_value, 0], mode='lines+markers', name='Link 4-Base')\n",
    "    \n",
    "    # Define layout with equal aspect ratio and specified axis ranges\n",
    "    layout = go.Layout(title='Four Bars Mechanism Visualization',\n",
    "                       xaxis=dict(title='X Coordinate', scaleanchor=\"y\", scaleratio=1, range=[-15, 15]),\n",
    "                       yaxis=dict(title='Y Coordinate', scaleanchor=\"x\", scaleratio=1, range=[-15, 15]),\n",
    "                       showlegend=True,\n",
    "                       autosize=False,  # Disable automatic sizing to maintain aspect ratio\n",
    "                       width=500,  # Set width of the plot\n",
    "                       height=500)  # Set height of the plot\n",
    "    \n",
    "    # Create figure and plot\n",
    "    fig = go.Figure(data=[trace1, trace2, trace3], layout=layout)\n",
    "    fig.show()\n",
    "\n",
    "# test_results2 = {\n",
    "#     'r_x_2': 0.0,\n",
    "#     'r_x_3': 1.22464679914735e-16,\n",
    "#     'r_y_2': 0.0,\n",
    "#     'r_y_3': 2.00000000000000,\n",
    "#     'r_x_4': 3.06161699786838e-16,\n",
    "#     'r_y_4': 5.00000000000000\n",
    "# }\n",
    "\n",
    "#plot_mechanism_updated_json(test_results2,Separation)\n",
    "#plot_mechanism_updated_json(new_dict,Separation)\n"
   ]
  },
  {
   "cell_type": "code",
   "execution_count": 11,
   "metadata": {},
   "outputs": [
    {
     "data": {
      "text/plain": [
       "[Eq(-r_x_2, 0),\n",
       " Eq(-r_y_2, 0),\n",
       " Eq(r_x_2 - r_x_3 + 1.22464679914735e-16, 0),\n",
       " Eq(r_y_2 - r_y_3 + 2.0, 0),\n",
       " Eq(r_x_3 - r_x_4 + 3*cos(theta_3), 0),\n",
       " Eq(r_y_3 - r_y_4 + 3*sin(theta_3), 0),\n",
       " Eq(-r_x_4 - 5*cos(theta_4) + 4, 0),\n",
       " Eq(-r_y_4 - 5*sin(theta_4), 0)]"
      ]
     },
     "execution_count": 11,
     "metadata": {},
     "output_type": "execute_result"
    }
   ],
   "source": [
    "L2 = 2\n",
    "L3 = 3\n",
    "L4 = 5\n",
    "Separation = 4\n",
    "\n",
    "\n",
    "theta_2 = np.pi/2\n",
    "\n",
    "\n",
    "\n",
    "#plot_mechanism_updated(solution)\n"
   ]
  },
  {
   "cell_type": "code",
   "execution_count": 13,
   "metadata": {},
   "outputs": [
    {
     "data": {
      "text/plain": [
       "[{r_x_2: 0.0,\n",
       "  r_x_3: 1.22464679914735e-16,\n",
       "  r_y_2: 0.0,\n",
       "  r_y_3: 2.00000000000000,\n",
       "  r_y_4: -0.853299832284320,\n",
       "  r_x_4: -0.926649916142160,\n",
       "  theta_3: 4.39837028074340,\n",
       "  theta_4: 0.171499422654302},\n",
       " {r_x_2: 0.0,\n",
       "  r_x_3: 1.22464679914735e-16,\n",
       "  r_y_2: 0.0,\n",
       "  r_y_3: 2.00000000000000,\n",
       "  r_y_4: 4.45329983228432,\n",
       "  r_x_4: 1.72664991614216,\n",
       "  theta_3: 0.957519808434573,\n",
       "  theta_4: -1.09879464065591}]"
      ]
     },
     "execution_count": 13,
     "metadata": {},
     "output_type": "execute_result"
    }
   ],
   "source": [
    "import sympy as sp\n",
    "\n",
    "# Solve the equations\n",
    "solutions = sp.solve(four_bars_mechanism_example_symbolic(theta_2, L2, L3, L4, Separation)\n",
    ")\n",
    "\n",
    "solutions"
   ]
  },
  {
   "cell_type": "code",
   "execution_count": 23,
   "metadata": {},
   "outputs": [
    {
     "data": {
      "text/plain": [
       "{'r_x_2': 0.0,\n",
       " 'r_x_3': 1.22464679914735e-16,\n",
       " 'r_y_2': 0.0,\n",
       " 'r_y_3': 2.00000000000000,\n",
       " 'r_y_4': 4.45329983228432,\n",
       " 'r_x_4': 1.72664991614216,\n",
       " 'theta_3': 0.957519808434573,\n",
       " 'theta_4': -1.09879464065591}"
      ]
     },
     "execution_count": 23,
     "metadata": {},
     "output_type": "execute_result"
    }
   ],
   "source": [
    "\n",
    "solutions_theta_3_1 = solutions[1]\n",
    "\n",
    "solution_json = {str(key): value for key, value in solutions_theta_3_1.items()}\n",
    "\n",
    "solution_json"
   ]
  },
  {
   "cell_type": "code",
   "execution_count": 27,
   "metadata": {},
   "outputs": [
    {
     "name": "stdout",
     "output_type": "stream",
     "text": [
      "0.0\n"
     ]
    },
    {
     "data": {
      "application/vnd.plotly.v1+json": {
       "config": {
        "plotlyServerURL": "https://plot.ly"
       },
       "data": [
        {
         "mode": "lines+markers",
         "name": "Link 2-3",
         "type": "scatter",
         "x": [
          0,
          1.22464679914735e-16
         ],
         "y": [
          0,
          2
         ]
        },
        {
         "mode": "lines+markers",
         "name": "Link 3-4",
         "type": "scatter",
         "x": [
          1.22464679914735e-16,
          1.72664991614216
         ],
         "y": [
          2,
          4.45329983228432
         ]
        },
        {
         "mode": "lines+markers",
         "name": "Link 4-Base",
         "type": "scatter",
         "x": [
          1.72664991614216,
          4
         ],
         "y": [
          4.45329983228432,
          0
         ]
        }
       ],
       "layout": {
        "autosize": false,
        "height": 500,
        "showlegend": true,
        "template": {
         "data": {
          "bar": [
           {
            "error_x": {
             "color": "#2a3f5f"
            },
            "error_y": {
             "color": "#2a3f5f"
            },
            "marker": {
             "line": {
              "color": "#E5ECF6",
              "width": 0.5
             },
             "pattern": {
              "fillmode": "overlay",
              "size": 10,
              "solidity": 0.2
             }
            },
            "type": "bar"
           }
          ],
          "barpolar": [
           {
            "marker": {
             "line": {
              "color": "#E5ECF6",
              "width": 0.5
             },
             "pattern": {
              "fillmode": "overlay",
              "size": 10,
              "solidity": 0.2
             }
            },
            "type": "barpolar"
           }
          ],
          "carpet": [
           {
            "aaxis": {
             "endlinecolor": "#2a3f5f",
             "gridcolor": "white",
             "linecolor": "white",
             "minorgridcolor": "white",
             "startlinecolor": "#2a3f5f"
            },
            "baxis": {
             "endlinecolor": "#2a3f5f",
             "gridcolor": "white",
             "linecolor": "white",
             "minorgridcolor": "white",
             "startlinecolor": "#2a3f5f"
            },
            "type": "carpet"
           }
          ],
          "choropleth": [
           {
            "colorbar": {
             "outlinewidth": 0,
             "ticks": ""
            },
            "type": "choropleth"
           }
          ],
          "contour": [
           {
            "colorbar": {
             "outlinewidth": 0,
             "ticks": ""
            },
            "colorscale": [
             [
              0,
              "#0d0887"
             ],
             [
              0.1111111111111111,
              "#46039f"
             ],
             [
              0.2222222222222222,
              "#7201a8"
             ],
             [
              0.3333333333333333,
              "#9c179e"
             ],
             [
              0.4444444444444444,
              "#bd3786"
             ],
             [
              0.5555555555555556,
              "#d8576b"
             ],
             [
              0.6666666666666666,
              "#ed7953"
             ],
             [
              0.7777777777777778,
              "#fb9f3a"
             ],
             [
              0.8888888888888888,
              "#fdca26"
             ],
             [
              1,
              "#f0f921"
             ]
            ],
            "type": "contour"
           }
          ],
          "contourcarpet": [
           {
            "colorbar": {
             "outlinewidth": 0,
             "ticks": ""
            },
            "type": "contourcarpet"
           }
          ],
          "heatmap": [
           {
            "colorbar": {
             "outlinewidth": 0,
             "ticks": ""
            },
            "colorscale": [
             [
              0,
              "#0d0887"
             ],
             [
              0.1111111111111111,
              "#46039f"
             ],
             [
              0.2222222222222222,
              "#7201a8"
             ],
             [
              0.3333333333333333,
              "#9c179e"
             ],
             [
              0.4444444444444444,
              "#bd3786"
             ],
             [
              0.5555555555555556,
              "#d8576b"
             ],
             [
              0.6666666666666666,
              "#ed7953"
             ],
             [
              0.7777777777777778,
              "#fb9f3a"
             ],
             [
              0.8888888888888888,
              "#fdca26"
             ],
             [
              1,
              "#f0f921"
             ]
            ],
            "type": "heatmap"
           }
          ],
          "heatmapgl": [
           {
            "colorbar": {
             "outlinewidth": 0,
             "ticks": ""
            },
            "colorscale": [
             [
              0,
              "#0d0887"
             ],
             [
              0.1111111111111111,
              "#46039f"
             ],
             [
              0.2222222222222222,
              "#7201a8"
             ],
             [
              0.3333333333333333,
              "#9c179e"
             ],
             [
              0.4444444444444444,
              "#bd3786"
             ],
             [
              0.5555555555555556,
              "#d8576b"
             ],
             [
              0.6666666666666666,
              "#ed7953"
             ],
             [
              0.7777777777777778,
              "#fb9f3a"
             ],
             [
              0.8888888888888888,
              "#fdca26"
             ],
             [
              1,
              "#f0f921"
             ]
            ],
            "type": "heatmapgl"
           }
          ],
          "histogram": [
           {
            "marker": {
             "pattern": {
              "fillmode": "overlay",
              "size": 10,
              "solidity": 0.2
             }
            },
            "type": "histogram"
           }
          ],
          "histogram2d": [
           {
            "colorbar": {
             "outlinewidth": 0,
             "ticks": ""
            },
            "colorscale": [
             [
              0,
              "#0d0887"
             ],
             [
              0.1111111111111111,
              "#46039f"
             ],
             [
              0.2222222222222222,
              "#7201a8"
             ],
             [
              0.3333333333333333,
              "#9c179e"
             ],
             [
              0.4444444444444444,
              "#bd3786"
             ],
             [
              0.5555555555555556,
              "#d8576b"
             ],
             [
              0.6666666666666666,
              "#ed7953"
             ],
             [
              0.7777777777777778,
              "#fb9f3a"
             ],
             [
              0.8888888888888888,
              "#fdca26"
             ],
             [
              1,
              "#f0f921"
             ]
            ],
            "type": "histogram2d"
           }
          ],
          "histogram2dcontour": [
           {
            "colorbar": {
             "outlinewidth": 0,
             "ticks": ""
            },
            "colorscale": [
             [
              0,
              "#0d0887"
             ],
             [
              0.1111111111111111,
              "#46039f"
             ],
             [
              0.2222222222222222,
              "#7201a8"
             ],
             [
              0.3333333333333333,
              "#9c179e"
             ],
             [
              0.4444444444444444,
              "#bd3786"
             ],
             [
              0.5555555555555556,
              "#d8576b"
             ],
             [
              0.6666666666666666,
              "#ed7953"
             ],
             [
              0.7777777777777778,
              "#fb9f3a"
             ],
             [
              0.8888888888888888,
              "#fdca26"
             ],
             [
              1,
              "#f0f921"
             ]
            ],
            "type": "histogram2dcontour"
           }
          ],
          "mesh3d": [
           {
            "colorbar": {
             "outlinewidth": 0,
             "ticks": ""
            },
            "type": "mesh3d"
           }
          ],
          "parcoords": [
           {
            "line": {
             "colorbar": {
              "outlinewidth": 0,
              "ticks": ""
             }
            },
            "type": "parcoords"
           }
          ],
          "pie": [
           {
            "automargin": true,
            "type": "pie"
           }
          ],
          "scatter": [
           {
            "fillpattern": {
             "fillmode": "overlay",
             "size": 10,
             "solidity": 0.2
            },
            "type": "scatter"
           }
          ],
          "scatter3d": [
           {
            "line": {
             "colorbar": {
              "outlinewidth": 0,
              "ticks": ""
             }
            },
            "marker": {
             "colorbar": {
              "outlinewidth": 0,
              "ticks": ""
             }
            },
            "type": "scatter3d"
           }
          ],
          "scattercarpet": [
           {
            "marker": {
             "colorbar": {
              "outlinewidth": 0,
              "ticks": ""
             }
            },
            "type": "scattercarpet"
           }
          ],
          "scattergeo": [
           {
            "marker": {
             "colorbar": {
              "outlinewidth": 0,
              "ticks": ""
             }
            },
            "type": "scattergeo"
           }
          ],
          "scattergl": [
           {
            "marker": {
             "colorbar": {
              "outlinewidth": 0,
              "ticks": ""
             }
            },
            "type": "scattergl"
           }
          ],
          "scattermapbox": [
           {
            "marker": {
             "colorbar": {
              "outlinewidth": 0,
              "ticks": ""
             }
            },
            "type": "scattermapbox"
           }
          ],
          "scatterpolar": [
           {
            "marker": {
             "colorbar": {
              "outlinewidth": 0,
              "ticks": ""
             }
            },
            "type": "scatterpolar"
           }
          ],
          "scatterpolargl": [
           {
            "marker": {
             "colorbar": {
              "outlinewidth": 0,
              "ticks": ""
             }
            },
            "type": "scatterpolargl"
           }
          ],
          "scatterternary": [
           {
            "marker": {
             "colorbar": {
              "outlinewidth": 0,
              "ticks": ""
             }
            },
            "type": "scatterternary"
           }
          ],
          "surface": [
           {
            "colorbar": {
             "outlinewidth": 0,
             "ticks": ""
            },
            "colorscale": [
             [
              0,
              "#0d0887"
             ],
             [
              0.1111111111111111,
              "#46039f"
             ],
             [
              0.2222222222222222,
              "#7201a8"
             ],
             [
              0.3333333333333333,
              "#9c179e"
             ],
             [
              0.4444444444444444,
              "#bd3786"
             ],
             [
              0.5555555555555556,
              "#d8576b"
             ],
             [
              0.6666666666666666,
              "#ed7953"
             ],
             [
              0.7777777777777778,
              "#fb9f3a"
             ],
             [
              0.8888888888888888,
              "#fdca26"
             ],
             [
              1,
              "#f0f921"
             ]
            ],
            "type": "surface"
           }
          ],
          "table": [
           {
            "cells": {
             "fill": {
              "color": "#EBF0F8"
             },
             "line": {
              "color": "white"
             }
            },
            "header": {
             "fill": {
              "color": "#C8D4E3"
             },
             "line": {
              "color": "white"
             }
            },
            "type": "table"
           }
          ]
         },
         "layout": {
          "annotationdefaults": {
           "arrowcolor": "#2a3f5f",
           "arrowhead": 0,
           "arrowwidth": 1
          },
          "autotypenumbers": "strict",
          "coloraxis": {
           "colorbar": {
            "outlinewidth": 0,
            "ticks": ""
           }
          },
          "colorscale": {
           "diverging": [
            [
             0,
             "#8e0152"
            ],
            [
             0.1,
             "#c51b7d"
            ],
            [
             0.2,
             "#de77ae"
            ],
            [
             0.3,
             "#f1b6da"
            ],
            [
             0.4,
             "#fde0ef"
            ],
            [
             0.5,
             "#f7f7f7"
            ],
            [
             0.6,
             "#e6f5d0"
            ],
            [
             0.7,
             "#b8e186"
            ],
            [
             0.8,
             "#7fbc41"
            ],
            [
             0.9,
             "#4d9221"
            ],
            [
             1,
             "#276419"
            ]
           ],
           "sequential": [
            [
             0,
             "#0d0887"
            ],
            [
             0.1111111111111111,
             "#46039f"
            ],
            [
             0.2222222222222222,
             "#7201a8"
            ],
            [
             0.3333333333333333,
             "#9c179e"
            ],
            [
             0.4444444444444444,
             "#bd3786"
            ],
            [
             0.5555555555555556,
             "#d8576b"
            ],
            [
             0.6666666666666666,
             "#ed7953"
            ],
            [
             0.7777777777777778,
             "#fb9f3a"
            ],
            [
             0.8888888888888888,
             "#fdca26"
            ],
            [
             1,
             "#f0f921"
            ]
           ],
           "sequentialminus": [
            [
             0,
             "#0d0887"
            ],
            [
             0.1111111111111111,
             "#46039f"
            ],
            [
             0.2222222222222222,
             "#7201a8"
            ],
            [
             0.3333333333333333,
             "#9c179e"
            ],
            [
             0.4444444444444444,
             "#bd3786"
            ],
            [
             0.5555555555555556,
             "#d8576b"
            ],
            [
             0.6666666666666666,
             "#ed7953"
            ],
            [
             0.7777777777777778,
             "#fb9f3a"
            ],
            [
             0.8888888888888888,
             "#fdca26"
            ],
            [
             1,
             "#f0f921"
            ]
           ]
          },
          "colorway": [
           "#636efa",
           "#EF553B",
           "#00cc96",
           "#ab63fa",
           "#FFA15A",
           "#19d3f3",
           "#FF6692",
           "#B6E880",
           "#FF97FF",
           "#FECB52"
          ],
          "font": {
           "color": "#2a3f5f"
          },
          "geo": {
           "bgcolor": "white",
           "lakecolor": "white",
           "landcolor": "#E5ECF6",
           "showlakes": true,
           "showland": true,
           "subunitcolor": "white"
          },
          "hoverlabel": {
           "align": "left"
          },
          "hovermode": "closest",
          "mapbox": {
           "style": "light"
          },
          "paper_bgcolor": "white",
          "plot_bgcolor": "#E5ECF6",
          "polar": {
           "angularaxis": {
            "gridcolor": "white",
            "linecolor": "white",
            "ticks": ""
           },
           "bgcolor": "#E5ECF6",
           "radialaxis": {
            "gridcolor": "white",
            "linecolor": "white",
            "ticks": ""
           }
          },
          "scene": {
           "xaxis": {
            "backgroundcolor": "#E5ECF6",
            "gridcolor": "white",
            "gridwidth": 2,
            "linecolor": "white",
            "showbackground": true,
            "ticks": "",
            "zerolinecolor": "white"
           },
           "yaxis": {
            "backgroundcolor": "#E5ECF6",
            "gridcolor": "white",
            "gridwidth": 2,
            "linecolor": "white",
            "showbackground": true,
            "ticks": "",
            "zerolinecolor": "white"
           },
           "zaxis": {
            "backgroundcolor": "#E5ECF6",
            "gridcolor": "white",
            "gridwidth": 2,
            "linecolor": "white",
            "showbackground": true,
            "ticks": "",
            "zerolinecolor": "white"
           }
          },
          "shapedefaults": {
           "line": {
            "color": "#2a3f5f"
           }
          },
          "ternary": {
           "aaxis": {
            "gridcolor": "white",
            "linecolor": "white",
            "ticks": ""
           },
           "baxis": {
            "gridcolor": "white",
            "linecolor": "white",
            "ticks": ""
           },
           "bgcolor": "#E5ECF6",
           "caxis": {
            "gridcolor": "white",
            "linecolor": "white",
            "ticks": ""
           }
          },
          "title": {
           "x": 0.05
          },
          "xaxis": {
           "automargin": true,
           "gridcolor": "white",
           "linecolor": "white",
           "ticks": "",
           "title": {
            "standoff": 15
           },
           "zerolinecolor": "white",
           "zerolinewidth": 2
          },
          "yaxis": {
           "automargin": true,
           "gridcolor": "white",
           "linecolor": "white",
           "ticks": "",
           "title": {
            "standoff": 15
           },
           "zerolinecolor": "white",
           "zerolinewidth": 2
          }
         }
        },
        "title": {
         "text": "Four Bars Mechanism Visualization"
        },
        "width": 500,
        "xaxis": {
         "range": [
          -15,
          15
         ],
         "scaleanchor": "y",
         "scaleratio": 1,
         "title": {
          "text": "X Coordinate"
         }
        },
        "yaxis": {
         "range": [
          -15,
          15
         ],
         "scaleanchor": "x",
         "scaleratio": 1,
         "title": {
          "text": "Y Coordinate"
         }
        }
       }
      }
     },
     "metadata": {},
     "output_type": "display_data"
    }
   ],
   "source": [
    "# plot_mechanism_updated_json({'r_x_2': 0.0,\n",
    "#  'r_x_3': 1.22464679914735e-16,\n",
    "#  'r_y_2': 0.0,\n",
    "#  'r_y_3': 2.00000000000000,\n",
    "#  'r_y_4': 4.45329983228432,\n",
    "#  'r_x_4': 1.72664991614216,\n",
    "#  'theta_3': 0.957519808434573,\n",
    "#  'theta_4': -1.09879464065591},Separation)\n",
    "\n",
    "def convert_floats(input_dict):\n",
    "    return {k: float(v) if isinstance(v, sp.Float) else v for k, v in input_dict.items()}\n",
    "\n",
    "solution_json_converted = convert_floats(solution_json)\n",
    "plot_mechanism_updated_json(solution_json_converted, Separation)\n",
    "\n",
    "\n",
    "#plot_mechanism_updated_json(solution_json,Separation)"
   ]
  },
  {
   "cell_type": "markdown",
   "metadata": {},
   "source": [
    "## Specific mechanism Topology"
   ]
  },
  {
   "cell_type": "code",
   "execution_count": 24,
   "metadata": {},
   "outputs": [
    {
     "data": {
      "text/plain": [
       "[Eq(-r_x_2, 0),\n",
       " Eq(-r_y_2, 0),\n",
       " Eq(r_x_2 - r_x_3 + 1.22464679914735e-16, 0),\n",
       " Eq(r_y_2 - r_y_3 + 2.0, 0),\n",
       " Eq(r_x_3 - r_x_4 + 3*cos(theta_3), 0),\n",
       " Eq(r_y_3 - r_y_4 + 3*sin(theta_3), 0),\n",
       " Eq(-r_x_4 - 5*cos(theta_4) + 4, 0),\n",
       " Eq(-r_y_4 - 5*sin(theta_4), 0)]"
      ]
     },
     "execution_count": 24,
     "metadata": {},
     "output_type": "execute_result"
    }
   ],
   "source": [
    "# For this particular mechansim Topology\n",
    "L2 = 2\n",
    "L3 = 3\n",
    "L4 = 5\n",
    "Separation = 4\n",
    "\n",
    "#And for this position of the 1 degree of freedom\n",
    "theta_2 = np.pi/2\n",
    "\n",
    "\n",
    "four_bars_mechanism_example_symbolic(theta_2, L2, L3, L4, Separation)"
   ]
  },
  {
   "cell_type": "code",
   "execution_count": 22,
   "metadata": {},
   "outputs": [
    {
     "data": {
      "text/latex": [
       "$\\displaystyle \\left[\\begin{matrix}-1 & 0 & 0 & 0 & 0 & 0 & 0 & 0 & 0\\\\0 & -1 & 0 & 0 & 0 & 0 & 0 & 0 & 0\\\\1 & 0 & 0 & -1 & 0 & 0 & 0 & 0 & 0\\\\0 & 1 & 0 & 0 & -1 & 0 & 0 & 0 & 0\\\\0 & 0 & 0 & 1 & 0 & - 5 \\sin{\\left(\\theta_{3} \\right)} & -1 & 0 & 0\\\\0 & 0 & 0 & 0 & 1 & 5 \\cos{\\left(\\theta_{3} \\right)} & 0 & -1 & 0\\\\0 & 0 & 0 & 0 & 0 & 0 & -1 & 0 & 5 \\sin{\\left(\\theta_{4} \\right)}\\\\0 & 0 & 0 & 0 & 0 & 0 & 0 & -1 & - 5 \\cos{\\left(\\theta_{4} \\right)}\\\\0 & 0 & 1 & 0 & 0 & 0 & 0 & 0 & 0\\end{matrix}\\right]$"
      ],
      "text/plain": [
       "Matrix([\n",
       "[-1,  0, 0,  0,  0,               0,  0,  0,               0],\n",
       "[ 0, -1, 0,  0,  0,               0,  0,  0,               0],\n",
       "[ 1,  0, 0, -1,  0,               0,  0,  0,               0],\n",
       "[ 0,  1, 0,  0, -1,               0,  0,  0,               0],\n",
       "[ 0,  0, 0,  1,  0, -5*sin(theta_3), -1,  0,               0],\n",
       "[ 0,  0, 0,  0,  1,  5*cos(theta_3),  0, -1,               0],\n",
       "[ 0,  0, 0,  0,  0,               0, -1,  0,  5*sin(theta_4)],\n",
       "[ 0,  0, 0,  0,  0,               0,  0, -1, -5*cos(theta_4)],\n",
       "[ 0,  0, 1,  0,  0,               0,  0,  0,               0]])"
      ]
     },
     "execution_count": 22,
     "metadata": {},
     "output_type": "execute_result"
    }
   ],
   "source": [
    "from sympy import symbols, Eq, cos, sin, diff, Matrix\n",
    "\n",
    "# Define the symbols\n",
    "theta_2, theta_3, theta_4 = symbols('theta_2 theta_3 theta_4')\n",
    "r_x_2, r_y_2, r_x_3, r_y_3, r_x_4, r_y_4 = symbols('r_x_2 r_y_2 r_x_3 r_y_3 r_x_4 r_y_4')\n",
    "\n",
    "# Define the function components\n",
    "f = Matrix([\n",
    "    -r_x_2,\n",
    "    -r_y_2,\n",
    "    r_x_2 - r_x_3,\n",
    "    r_y_2 - r_y_3 + 2.0,\n",
    "    r_x_3 - r_x_4 + 5*cos(theta_3),\n",
    "    r_y_3 - r_y_4 + 5*sin(theta_3),\n",
    "    -r_x_4 + 5 - 5*cos(theta_4),\n",
    "    -r_y_4 -5*sin(theta_4),\n",
    "    theta_2  # Additional equation (mov constraint)\n",
    "])\n",
    "\n",
    "# Variables with respect to which we differentiate\n",
    "variables = [r_x_2, r_y_2, theta_2, r_x_3, r_y_3, theta_3, r_x_4, r_y_4, theta_4]\n",
    "\n",
    "# Compute the Jacobian\n",
    "jacobian_extended = f.jacobian(variables)\n",
    "jacobian_extended\n"
   ]
  },
  {
   "cell_type": "code",
   "execution_count": 23,
   "metadata": {},
   "outputs": [
    {
     "data": {
      "text/latex": [
       "$\\displaystyle -25.0$"
      ],
      "text/plain": [
       "-25.0000000000000"
      ]
     },
     "execution_count": 23,
     "metadata": {},
     "output_type": "execute_result"
    }
   ],
   "source": [
    "# Evaluate the determinant for the given values\n",
    "theta_3_val = 0\n",
    "theta_4_val = -np.pi / 2  # -90 degrees in radians\n",
    "\n",
    "determinant_value = jacobian_extended.det().subs({theta_3: theta_3_val, theta_4: theta_4_val})\n",
    "determinant_value\n"
   ]
  },
  {
   "cell_type": "code",
   "execution_count": 25,
   "metadata": {},
   "outputs": [
    {
     "data": {
      "text/plain": [
       "<Figure size 720x720 with 0 Axes>"
      ]
     },
     "metadata": {},
     "output_type": "display_data"
    },
    {
     "data": {
      "image/png": "[encoded data removed]",
      "text/plain": [
       "<Figure size 720x720 with 1 Axes>"
      ]
     },
     "metadata": {
      "needs_background": "light"
     },
     "output_type": "display_data"
    }
   ],
   "source": [
    "import numpy as np\n",
    "import matplotlib.pyplot as plt\n",
    "\n",
    "# Define the range for theta_3 and theta_4 in 15 degree steps\n",
    "theta_values = np.arange(0, 2 * np.pi, np.deg2rad(15))\n",
    "\n",
    "# Lists to store theta combinations for which the Jacobian is invertible or not\n",
    "invertible_points = []\n",
    "non_invertible_points = []\n",
    "\n",
    "# Iterate over the theta values\n",
    "for theta_3_val in theta_values:\n",
    "    for theta_4_val in theta_values:\n",
    "        # Substitute the values into the Jacobian matrix\n",
    "        matrix_val = jacobian_extended.subs({theta_3: theta_3_val, theta_4: theta_4_val})\n",
    "        \n",
    "        # Check if the matrix is invertible by checking its determinant\n",
    "        if matrix_val.det() != 0:\n",
    "            invertible_points.append((theta_3_val, theta_4_val))\n",
    "        else:\n",
    "            non_invertible_points.append((theta_3_val, theta_4_val))\n",
    "\n",
    "# Convert the lists to arrays for plotting\n",
    "invertible_points = np.array(invertible_points)\n",
    "non_invertible_points = np.array(non_invertible_points)\n",
    "\n",
    "# Plot the points\n",
    "plt.figure(figsize=(10, 10))\n",
    "# plt.scatter(invertible_points[:, 0], invertible_points[:, 1], color='blue', label='Invertible')\n",
    "# plt.scatter(non_invertible_points[:, 0], non_invertible_points[:, 1], color='red', label='Not Invertible')\n",
    "# plt.xlabel('$\\\\theta_3$')\n",
    "# plt.ylabel('$\\\\theta_4$')\n",
    "# plt.title('Invertibility of Jacobian for different values of $\\\\theta_3$ and $\\\\theta_4$')\n",
    "# plt.legend()\n",
    "# plt.grid(True)\n",
    "# plt.show()\n",
    "\n",
    "\n",
    "# Plot the points with checks for empty arrays\n",
    "plt.figure(figsize=(10, 10))\n",
    "\n",
    "if invertible_points.size != 0:\n",
    "    plt.scatter(invertible_points[:, 0], invertible_points[:, 1], color='blue', label='Invertible')\n",
    "\n",
    "if non_invertible_points.size != 0:\n",
    "    plt.scatter(non_invertible_points[:, 0], non_invertible_points[:, 1], color='red', label='Not Invertible')\n",
    "\n",
    "plt.xlabel('$\\\\theta_3$')\n",
    "plt.ylabel('$\\\\theta_4$')\n",
    "plt.title('Invertibility of Jacobian for different values of $\\\\theta_3$ and $\\\\theta_4$')\n",
    "plt.legend()\n",
    "plt.grid(True)\n",
    "plt.show()\n"
   ]
  },
  {
   "cell_type": "code",
   "execution_count": 26,
   "metadata": {},
   "outputs": [
    {
     "data": {
      "application/vnd.plotly.v1+json": {
       "config": {
        "plotlyServerURL": "https://plot.ly"
       },
       "data": [
        {
         "marker": {
          "color": "blue",
          "size": 10
         },
         "mode": "markers",
         "name": "Invertible",
         "type": "scatter",
         "x": [
          0,
          0,
          0,
          0,
          0,
          0,
          0,
          0,
          0,
          0,
          0,
          0,
          0,
          0,
          0,
          0,
          0,
          0,
          0,
          0,
          0,
          0,
          0,
          0.2617993877991494,
          0.2617993877991494,
          0.2617993877991494,
          0.2617993877991494,
          0.2617993877991494,
          0.2617993877991494,
          0.2617993877991494,
          0.2617993877991494,
          0.2617993877991494,
          0.2617993877991494,
          0.2617993877991494,
          0.2617993877991494,
          0.2617993877991494,
          0.2617993877991494,
          0.2617993877991494,
          0.2617993877991494,
          0.2617993877991494,
          0.2617993877991494,
          0.2617993877991494,
          0.2617993877991494,
          0.2617993877991494,
          0.2617993877991494,
          0.2617993877991494,
          0.2617993877991494,
          0.5235987755982988,
          0.5235987755982988,
          0.5235987755982988,
          0.5235987755982988,
          0.5235987755982988,
          0.5235987755982988,
          0.5235987755982988,
          0.5235987755982988,
          0.5235987755982988,
          0.5235987755982988,
          0.5235987755982988,
          0.5235987755982988,
          0.5235987755982988,
          0.5235987755982988,
          0.5235987755982988,
          0.5235987755982988,
          0.5235987755982988,
          0.5235987755982988,
          0.5235987755982988,
          0.5235987755982988,
          0.5235987755982988,
          0.5235987755982988,
          0.5235987755982988,
          0.7853981633974483,
          0.7853981633974483,
          0.7853981633974483,
          0.7853981633974483,
          0.7853981633974483,
          0.7853981633974483,
          0.7853981633974483,
          0.7853981633974483,
          0.7853981633974483,
          0.7853981633974483,
          0.7853981633974483,
          0.7853981633974483,
          0.7853981633974483,
          0.7853981633974483,
          0.7853981633974483,
          0.7853981633974483,
          0.7853981633974483,
          0.7853981633974483,
          0.7853981633974483,
          0.7853981633974483,
          0.7853981633974483,
          0.7853981633974483,
          0.7853981633974483,
          1.0471975511965976,
          1.0471975511965976,
          1.0471975511965976,
          1.0471975511965976,
          1.0471975511965976,
          1.0471975511965976,
          1.0471975511965976,
          1.0471975511965976,
          1.0471975511965976,
          1.0471975511965976,
          1.0471975511965976,
          1.0471975511965976,
          1.0471975511965976,
          1.0471975511965976,
          1.0471975511965976,
          1.0471975511965976,
          1.0471975511965976,
          1.0471975511965976,
          1.0471975511965976,
          1.0471975511965976,
          1.0471975511965976,
          1.0471975511965976,
          1.0471975511965976,
          1.308996938995747,
          1.308996938995747,
          1.308996938995747,
          1.308996938995747,
          1.308996938995747,
          1.308996938995747,
          1.308996938995747,
          1.308996938995747,
          1.308996938995747,
          1.308996938995747,
          1.308996938995747,
          1.308996938995747,
          1.308996938995747,
          1.308996938995747,
          1.308996938995747,
          1.308996938995747,
          1.308996938995747,
          1.308996938995747,
          1.308996938995747,
          1.308996938995747,
          1.308996938995747,
          1.308996938995747,
          1.308996938995747,
          1.308996938995747,
          1.5707963267948966,
          1.5707963267948966,
          1.5707963267948966,
          1.5707963267948966,
          1.5707963267948966,
          1.5707963267948966,
          1.5707963267948966,
          1.5707963267948966,
          1.5707963267948966,
          1.5707963267948966,
          1.5707963267948966,
          1.5707963267948966,
          1.5707963267948966,
          1.5707963267948966,
          1.5707963267948966,
          1.5707963267948966,
          1.5707963267948966,
          1.5707963267948966,
          1.5707963267948966,
          1.5707963267948966,
          1.5707963267948966,
          1.5707963267948966,
          1.5707963267948966,
          1.832595714594046,
          1.832595714594046,
          1.832595714594046,
          1.832595714594046,
          1.832595714594046,
          1.832595714594046,
          1.832595714594046,
          1.832595714594046,
          1.832595714594046,
          1.832595714594046,
          1.832595714594046,
          1.832595714594046,
          1.832595714594046,
          1.832595714594046,
          1.832595714594046,
          1.832595714594046,
          1.832595714594046,
          1.832595714594046,
          1.832595714594046,
          1.832595714594046,
          1.832595714594046,
          1.832595714594046,
          1.832595714594046,
          2.0943951023931953,
          2.0943951023931953,
          2.0943951023931953,
          2.0943951023931953,
          2.0943951023931953,
          2.0943951023931953,
          2.0943951023931953,
          2.0943951023931953,
          2.0943951023931953,
          2.0943951023931953,
          2.0943951023931953,
          2.0943951023931953,
          2.0943951023931953,
          2.0943951023931953,
          2.0943951023931953,
          2.0943951023931953,
          2.0943951023931953,
          2.0943951023931953,
          2.0943951023931953,
          2.0943951023931953,
          2.0943951023931953,
          2.0943951023931953,
          2.0943951023931953,
          2.0943951023931953,
          2.356194490192345,
          2.356194490192345,
          2.356194490192345,
          2.356194490192345,
          2.356194490192345,
          2.356194490192345,
          2.356194490192345,
          2.356194490192345,
          2.356194490192345,
          2.356194490192345,
          2.356194490192345,
          2.356194490192345,
          2.356194490192345,
          2.356194490192345,
          2.356194490192345,
          2.356194490192345,
          2.356194490192345,
          2.356194490192345,
          2.356194490192345,
          2.356194490192345,
          2.356194490192345,
          2.356194490192345,
          2.356194490192345,
          2.356194490192345,
          2.617993877991494,
          2.617993877991494,
          2.617993877991494,
          2.617993877991494,
          2.617993877991494,
          2.617993877991494,
          2.617993877991494,
          2.617993877991494,
          2.617993877991494,
          2.617993877991494,
          2.617993877991494,
          2.617993877991494,
          2.617993877991494,
          2.617993877991494,
          2.617993877991494,
          2.617993877991494,
          2.617993877991494,
          2.617993877991494,
          2.617993877991494,
          2.617993877991494,
          2.617993877991494,
          2.617993877991494,
          2.617993877991494,
          2.8797932657906435,
          2.8797932657906435,
          2.8797932657906435,
          2.8797932657906435,
          2.8797932657906435,
          2.8797932657906435,
          2.8797932657906435,
          2.8797932657906435,
          2.8797932657906435,
          2.8797932657906435,
          2.8797932657906435,
          2.8797932657906435,
          2.8797932657906435,
          2.8797932657906435,
          2.8797932657906435,
          2.8797932657906435,
          2.8797932657906435,
          2.8797932657906435,
          2.8797932657906435,
          2.8797932657906435,
          2.8797932657906435,
          2.8797932657906435,
          2.8797932657906435,
          3.141592653589793,
          3.141592653589793,
          3.141592653589793,
          3.141592653589793,
          3.141592653589793,
          3.141592653589793,
          3.141592653589793,
          3.141592653589793,
          3.141592653589793,
          3.141592653589793,
          3.141592653589793,
          3.141592653589793,
          3.141592653589793,
          3.141592653589793,
          3.141592653589793,
          3.141592653589793,
          3.141592653589793,
          3.141592653589793,
          3.141592653589793,
          3.141592653589793,
          3.141592653589793,
          3.141592653589793,
          3.141592653589793,
          3.4033920413889422,
          3.4033920413889422,
          3.4033920413889422,
          3.4033920413889422,
          3.4033920413889422,
          3.4033920413889422,
          3.4033920413889422,
          3.4033920413889422,
          3.4033920413889422,
          3.4033920413889422,
          3.4033920413889422,
          3.4033920413889422,
          3.4033920413889422,
          3.4033920413889422,
          3.4033920413889422,
          3.4033920413889422,
          3.4033920413889422,
          3.4033920413889422,
          3.4033920413889422,
          3.4033920413889422,
          3.4033920413889422,
          3.4033920413889422,
          3.4033920413889422,
          3.665191429188092,
          3.665191429188092,
          3.665191429188092,
          3.665191429188092,
          3.665191429188092,
          3.665191429188092,
          3.665191429188092,
          3.665191429188092,
          3.665191429188092,
          3.665191429188092,
          3.665191429188092,
          3.665191429188092,
          3.665191429188092,
          3.665191429188092,
          3.665191429188092,
          3.665191429188092,
          3.665191429188092,
          3.665191429188092,
          3.665191429188092,
          3.665191429188092,
          3.665191429188092,
          3.665191429188092,
          3.665191429188092,
          3.665191429188092,
          3.926990816987241,
          3.926990816987241,
          3.926990816987241,
          3.926990816987241,
          3.926990816987241,
          3.926990816987241,
          3.926990816987241,
          3.926990816987241,
          3.926990816987241,
          3.926990816987241,
          3.926990816987241,
          3.926990816987241,
          3.926990816987241,
          3.926990816987241,
          3.926990816987241,
          3.926990816987241,
          3.926990816987241,
          3.926990816987241,
          3.926990816987241,
          3.926990816987241,
          3.926990816987241,
          3.926990816987241,
          3.926990816987241,
          4.1887902047863905,
          4.1887902047863905,
          4.1887902047863905,
          4.1887902047863905,
          4.1887902047863905,
          4.1887902047863905,
          4.1887902047863905,
          4.1887902047863905,
          4.1887902047863905,
          4.1887902047863905,
          4.1887902047863905,
          4.1887902047863905,
          4.1887902047863905,
          4.1887902047863905,
          4.1887902047863905,
          4.1887902047863905,
          4.1887902047863905,
          4.1887902047863905,
          4.1887902047863905,
          4.1887902047863905,
          4.1887902047863905,
          4.1887902047863905,
          4.1887902047863905,
          4.45058959258554,
          4.45058959258554,
          4.45058959258554,
          4.45058959258554,
          4.45058959258554,
          4.45058959258554,
          4.45058959258554,
          4.45058959258554,
          4.45058959258554,
          4.45058959258554,
          4.45058959258554,
          4.45058959258554,
          4.45058959258554,
          4.45058959258554,
          4.45058959258554,
          4.45058959258554,
          4.45058959258554,
          4.45058959258554,
          4.45058959258554,
          4.45058959258554,
          4.45058959258554,
          4.45058959258554,
          4.45058959258554,
          4.45058959258554,
          4.71238898038469,
          4.71238898038469,
          4.71238898038469,
          4.71238898038469,
          4.71238898038469,
          4.71238898038469,
          4.71238898038469,
          4.71238898038469,
          4.71238898038469,
          4.71238898038469,
          4.71238898038469,
          4.71238898038469,
          4.71238898038469,
          4.71238898038469,
          4.71238898038469,
          4.71238898038469,
          4.71238898038469,
          4.71238898038469,
          4.71238898038469,
          4.71238898038469,
          4.71238898038469,
          4.71238898038469,
          4.71238898038469,
          4.71238898038469,
          4.974188368183839,
          4.974188368183839,
          4.974188368183839,
          4.974188368183839,
          4.974188368183839,
          4.974188368183839,
          4.974188368183839,
          4.974188368183839,
          4.974188368183839,
          4.974188368183839,
          4.974188368183839,
          4.974188368183839,
          4.974188368183839,
          4.974188368183839,
          4.974188368183839,
          4.974188368183839,
          4.974188368183839,
          4.974188368183839,
          4.974188368183839,
          4.974188368183839,
          4.974188368183839,
          4.974188368183839,
          4.974188368183839,
          4.974188368183839,
          5.235987755982988,
          5.235987755982988,
          5.235987755982988,
          5.235987755982988,
          5.235987755982988,
          5.235987755982988,
          5.235987755982988,
          5.235987755982988,
          5.235987755982988,
          5.235987755982988,
          5.235987755982988,
          5.235987755982988,
          5.235987755982988,
          5.235987755982988,
          5.235987755982988,
          5.235987755982988,
          5.235987755982988,
          5.235987755982988,
          5.235987755982988,
          5.235987755982988,
          5.235987755982988,
          5.235987755982988,
          5.235987755982988,
          5.235987755982988,
          5.497787143782138,
          5.497787143782138,
          5.497787143782138,
          5.497787143782138,
          5.497787143782138,
          5.497787143782138,
          5.497787143782138,
          5.497787143782138,
          5.497787143782138,
          5.497787143782138,
          5.497787143782138,
          5.497787143782138,
          5.497787143782138,
          5.497787143782138,
          5.497787143782138,
          5.497787143782138,
          5.497787143782138,
          5.497787143782138,
          5.497787143782138,
          5.497787143782138,
          5.497787143782138,
          5.497787143782138,
          5.497787143782138,
          5.497787143782138,
          5.759586531581287,
          5.759586531581287,
          5.759586531581287,
          5.759586531581287,
          5.759586531581287,
          5.759586531581287,
          5.759586531581287,
          5.759586531581287,
          5.759586531581287,
          5.759586531581287,
          5.759586531581287,
          5.759586531581287,
          5.759586531581287,
          5.759586531581287,
          5.759586531581287,
          5.759586531581287,
          5.759586531581287,
          5.759586531581287,
          5.759586531581287,
          5.759586531581287,
          5.759586531581287,
          5.759586531581287,
          5.759586531581287,
          6.021385919380436,
          6.021385919380436,
          6.021385919380436,
          6.021385919380436,
          6.021385919380436,
          6.021385919380436,
          6.021385919380436,
          6.021385919380436,
          6.021385919380436,
          6.021385919380436,
          6.021385919380436,
          6.021385919380436,
          6.021385919380436,
          6.021385919380436,
          6.021385919380436,
          6.021385919380436,
          6.021385919380436,
          6.021385919380436,
          6.021385919380436,
          6.021385919380436,
          6.021385919380436,
          6.021385919380436,
          6.021385919380436
         ],
         "y": [
          0.2617993877991494,
          0.5235987755982988,
          0.7853981633974483,
          1.0471975511965976,
          1.308996938995747,
          1.5707963267948966,
          1.832595714594046,
          2.0943951023931953,
          2.356194490192345,
          2.617993877991494,
          2.8797932657906435,
          3.141592653589793,
          3.4033920413889422,
          3.665191429188092,
          3.926990816987241,
          4.1887902047863905,
          4.45058959258554,
          4.71238898038469,
          4.974188368183839,
          5.235987755982988,
          5.497787143782138,
          5.759586531581287,
          6.021385919380436,
          0,
          0.2617993877991494,
          0.5235987755982988,
          0.7853981633974483,
          1.0471975511965976,
          1.308996938995747,
          1.5707963267948966,
          1.832595714594046,
          2.0943951023931953,
          2.356194490192345,
          2.617993877991494,
          2.8797932657906435,
          3.141592653589793,
          3.4033920413889422,
          3.665191429188092,
          3.926990816987241,
          4.1887902047863905,
          4.45058959258554,
          4.71238898038469,
          4.974188368183839,
          5.235987755982988,
          5.497787143782138,
          5.759586531581287,
          6.021385919380436,
          0,
          0.2617993877991494,
          0.7853981633974483,
          1.0471975511965976,
          1.308996938995747,
          1.5707963267948966,
          1.832595714594046,
          2.0943951023931953,
          2.356194490192345,
          2.617993877991494,
          2.8797932657906435,
          3.141592653589793,
          3.4033920413889422,
          3.665191429188092,
          3.926990816987241,
          4.1887902047863905,
          4.45058959258554,
          4.71238898038469,
          4.974188368183839,
          5.235987755982988,
          5.497787143782138,
          5.759586531581287,
          6.021385919380436,
          0,
          0.2617993877991494,
          0.5235987755982988,
          1.0471975511965976,
          1.308996938995747,
          1.5707963267948966,
          1.832595714594046,
          2.0943951023931953,
          2.356194490192345,
          2.617993877991494,
          2.8797932657906435,
          3.141592653589793,
          3.4033920413889422,
          3.665191429188092,
          3.926990816987241,
          4.1887902047863905,
          4.45058959258554,
          4.71238898038469,
          4.974188368183839,
          5.235987755982988,
          5.497787143782138,
          5.759586531581287,
          6.021385919380436,
          0,
          0.2617993877991494,
          0.5235987755982988,
          0.7853981633974483,
          1.308996938995747,
          1.5707963267948966,
          1.832595714594046,
          2.0943951023931953,
          2.356194490192345,
          2.617993877991494,
          2.8797932657906435,
          3.141592653589793,
          3.4033920413889422,
          3.665191429188092,
          3.926990816987241,
          4.1887902047863905,
          4.45058959258554,
          4.71238898038469,
          4.974188368183839,
          5.235987755982988,
          5.497787143782138,
          5.759586531581287,
          6.021385919380436,
          0,
          0.2617993877991494,
          0.5235987755982988,
          0.7853981633974483,
          1.0471975511965976,
          1.308996938995747,
          1.5707963267948966,
          1.832595714594046,
          2.0943951023931953,
          2.356194490192345,
          2.617993877991494,
          2.8797932657906435,
          3.141592653589793,
          3.4033920413889422,
          3.665191429188092,
          3.926990816987241,
          4.1887902047863905,
          4.45058959258554,
          4.71238898038469,
          4.974188368183839,
          5.235987755982988,
          5.497787143782138,
          5.759586531581287,
          6.021385919380436,
          0,
          0.2617993877991494,
          0.5235987755982988,
          0.7853981633974483,
          1.0471975511965976,
          1.308996938995747,
          1.832595714594046,
          2.0943951023931953,
          2.356194490192345,
          2.617993877991494,
          2.8797932657906435,
          3.141592653589793,
          3.4033920413889422,
          3.665191429188092,
          3.926990816987241,
          4.1887902047863905,
          4.45058959258554,
          4.71238898038469,
          4.974188368183839,
          5.235987755982988,
          5.497787143782138,
          5.759586531581287,
          6.021385919380436,
          0,
          0.2617993877991494,
          0.5235987755982988,
          0.7853981633974483,
          1.0471975511965976,
          1.308996938995747,
          1.5707963267948966,
          2.0943951023931953,
          2.356194490192345,
          2.617993877991494,
          2.8797932657906435,
          3.141592653589793,
          3.4033920413889422,
          3.665191429188092,
          3.926990816987241,
          4.1887902047863905,
          4.45058959258554,
          4.71238898038469,
          4.974188368183839,
          5.235987755982988,
          5.497787143782138,
          5.759586531581287,
          6.021385919380436,
          0,
          0.2617993877991494,
          0.5235987755982988,
          0.7853981633974483,
          1.0471975511965976,
          1.308996938995747,
          1.5707963267948966,
          1.832595714594046,
          2.0943951023931953,
          2.356194490192345,
          2.617993877991494,
          2.8797932657906435,
          3.141592653589793,
          3.4033920413889422,
          3.665191429188092,
          3.926990816987241,
          4.1887902047863905,
          4.45058959258554,
          4.71238898038469,
          4.974188368183839,
          5.235987755982988,
          5.497787143782138,
          5.759586531581287,
          6.021385919380436,
          0,
          0.2617993877991494,
          0.5235987755982988,
          0.7853981633974483,
          1.0471975511965976,
          1.308996938995747,
          1.5707963267948966,
          1.832595714594046,
          2.0943951023931953,
          2.356194490192345,
          2.617993877991494,
          2.8797932657906435,
          3.141592653589793,
          3.4033920413889422,
          3.665191429188092,
          3.926990816987241,
          4.1887902047863905,
          4.45058959258554,
          4.71238898038469,
          4.974188368183839,
          5.235987755982988,
          5.497787143782138,
          5.759586531581287,
          6.021385919380436,
          0,
          0.2617993877991494,
          0.5235987755982988,
          0.7853981633974483,
          1.0471975511965976,
          1.308996938995747,
          1.5707963267948966,
          1.832595714594046,
          2.0943951023931953,
          2.356194490192345,
          2.8797932657906435,
          3.141592653589793,
          3.4033920413889422,
          3.665191429188092,
          3.926990816987241,
          4.1887902047863905,
          4.45058959258554,
          4.71238898038469,
          4.974188368183839,
          5.235987755982988,
          5.497787143782138,
          5.759586531581287,
          6.021385919380436,
          0,
          0.2617993877991494,
          0.5235987755982988,
          0.7853981633974483,
          1.0471975511965976,
          1.308996938995747,
          1.5707963267948966,
          1.832595714594046,
          2.0943951023931953,
          2.356194490192345,
          2.617993877991494,
          3.141592653589793,
          3.4033920413889422,
          3.665191429188092,
          3.926990816987241,
          4.1887902047863905,
          4.45058959258554,
          4.71238898038469,
          4.974188368183839,
          5.235987755982988,
          5.497787143782138,
          5.759586531581287,
          6.021385919380436,
          0,
          0.2617993877991494,
          0.5235987755982988,
          0.7853981633974483,
          1.0471975511965976,
          1.308996938995747,
          1.5707963267948966,
          1.832595714594046,
          2.0943951023931953,
          2.356194490192345,
          2.617993877991494,
          2.8797932657906435,
          3.4033920413889422,
          3.665191429188092,
          3.926990816987241,
          4.1887902047863905,
          4.45058959258554,
          4.71238898038469,
          4.974188368183839,
          5.235987755982988,
          5.497787143782138,
          5.759586531581287,
          6.021385919380436,
          0,
          0.2617993877991494,
          0.5235987755982988,
          0.7853981633974483,
          1.0471975511965976,
          1.308996938995747,
          1.5707963267948966,
          1.832595714594046,
          2.0943951023931953,
          2.356194490192345,
          2.617993877991494,
          2.8797932657906435,
          3.141592653589793,
          3.665191429188092,
          3.926990816987241,
          4.1887902047863905,
          4.45058959258554,
          4.71238898038469,
          4.974188368183839,
          5.235987755982988,
          5.497787143782138,
          5.759586531581287,
          6.021385919380436,
          0,
          0.2617993877991494,
          0.5235987755982988,
          0.7853981633974483,
          1.0471975511965976,
          1.308996938995747,
          1.5707963267948966,
          1.832595714594046,
          2.0943951023931953,
          2.356194490192345,
          2.617993877991494,
          2.8797932657906435,
          3.141592653589793,
          3.4033920413889422,
          3.665191429188092,
          3.926990816987241,
          4.1887902047863905,
          4.45058959258554,
          4.71238898038469,
          4.974188368183839,
          5.235987755982988,
          5.497787143782138,
          5.759586531581287,
          6.021385919380436,
          0,
          0.2617993877991494,
          0.5235987755982988,
          0.7853981633974483,
          1.0471975511965976,
          1.308996938995747,
          1.5707963267948966,
          1.832595714594046,
          2.0943951023931953,
          2.356194490192345,
          2.617993877991494,
          2.8797932657906435,
          3.141592653589793,
          3.4033920413889422,
          3.665191429188092,
          4.1887902047863905,
          4.45058959258554,
          4.71238898038469,
          4.974188368183839,
          5.235987755982988,
          5.497787143782138,
          5.759586531581287,
          6.021385919380436,
          0,
          0.2617993877991494,
          0.5235987755982988,
          0.7853981633974483,
          1.0471975511965976,
          1.308996938995747,
          1.5707963267948966,
          1.832595714594046,
          2.0943951023931953,
          2.356194490192345,
          2.617993877991494,
          2.8797932657906435,
          3.141592653589793,
          3.4033920413889422,
          3.665191429188092,
          3.926990816987241,
          4.45058959258554,
          4.71238898038469,
          4.974188368183839,
          5.235987755982988,
          5.497787143782138,
          5.759586531581287,
          6.021385919380436,
          0,
          0.2617993877991494,
          0.5235987755982988,
          0.7853981633974483,
          1.0471975511965976,
          1.308996938995747,
          1.5707963267948966,
          1.832595714594046,
          2.0943951023931953,
          2.356194490192345,
          2.617993877991494,
          2.8797932657906435,
          3.141592653589793,
          3.4033920413889422,
          3.665191429188092,
          3.926990816987241,
          4.1887902047863905,
          4.45058959258554,
          4.71238898038469,
          4.974188368183839,
          5.235987755982988,
          5.497787143782138,
          5.759586531581287,
          6.021385919380436,
          0,
          0.2617993877991494,
          0.5235987755982988,
          0.7853981633974483,
          1.0471975511965976,
          1.308996938995747,
          1.5707963267948966,
          1.832595714594046,
          2.0943951023931953,
          2.356194490192345,
          2.617993877991494,
          2.8797932657906435,
          3.141592653589793,
          3.4033920413889422,
          3.665191429188092,
          3.926990816987241,
          4.1887902047863905,
          4.45058959258554,
          4.71238898038469,
          4.974188368183839,
          5.235987755982988,
          5.497787143782138,
          5.759586531581287,
          6.021385919380436,
          0,
          0.2617993877991494,
          0.5235987755982988,
          0.7853981633974483,
          1.0471975511965976,
          1.308996938995747,
          1.5707963267948966,
          1.832595714594046,
          2.0943951023931953,
          2.356194490192345,
          2.617993877991494,
          2.8797932657906435,
          3.141592653589793,
          3.4033920413889422,
          3.665191429188092,
          3.926990816987241,
          4.1887902047863905,
          4.45058959258554,
          4.71238898038469,
          4.974188368183839,
          5.235987755982988,
          5.497787143782138,
          5.759586531581287,
          6.021385919380436,
          0,
          0.2617993877991494,
          0.5235987755982988,
          0.7853981633974483,
          1.0471975511965976,
          1.308996938995747,
          1.5707963267948966,
          1.832595714594046,
          2.0943951023931953,
          2.356194490192345,
          2.617993877991494,
          2.8797932657906435,
          3.141592653589793,
          3.4033920413889422,
          3.665191429188092,
          3.926990816987241,
          4.1887902047863905,
          4.45058959258554,
          4.71238898038469,
          4.974188368183839,
          5.235987755982988,
          5.497787143782138,
          5.759586531581287,
          6.021385919380436,
          0,
          0.2617993877991494,
          0.5235987755982988,
          0.7853981633974483,
          1.0471975511965976,
          1.308996938995747,
          1.5707963267948966,
          1.832595714594046,
          2.0943951023931953,
          2.356194490192345,
          2.617993877991494,
          2.8797932657906435,
          3.141592653589793,
          3.4033920413889422,
          3.665191429188092,
          3.926990816987241,
          4.1887902047863905,
          4.45058959258554,
          4.71238898038469,
          4.974188368183839,
          5.235987755982988,
          5.497787143782138,
          5.759586531581287,
          6.021385919380436,
          0,
          0.2617993877991494,
          0.5235987755982988,
          0.7853981633974483,
          1.0471975511965976,
          1.308996938995747,
          1.5707963267948966,
          1.832595714594046,
          2.0943951023931953,
          2.356194490192345,
          2.617993877991494,
          2.8797932657906435,
          3.141592653589793,
          3.4033920413889422,
          3.665191429188092,
          3.926990816987241,
          4.1887902047863905,
          4.45058959258554,
          4.71238898038469,
          4.974188368183839,
          5.235987755982988,
          5.497787143782138,
          6.021385919380436,
          0,
          0.2617993877991494,
          0.5235987755982988,
          0.7853981633974483,
          1.0471975511965976,
          1.308996938995747,
          1.5707963267948966,
          1.832595714594046,
          2.0943951023931953,
          2.356194490192345,
          2.617993877991494,
          2.8797932657906435,
          3.141592653589793,
          3.4033920413889422,
          3.665191429188092,
          3.926990816987241,
          4.1887902047863905,
          4.45058959258554,
          4.71238898038469,
          4.974188368183839,
          5.235987755982988,
          5.497787143782138,
          5.759586531581287
         ]
        },
        {
         "marker": {
          "color": "red",
          "size": 10
         },
         "mode": "markers",
         "name": "Not Invertible",
         "type": "scatter",
         "x": [
          0,
          0.5235987755982988,
          0.7853981633974483,
          1.0471975511965976,
          1.5707963267948966,
          1.832595714594046,
          2.617993877991494,
          2.8797932657906435,
          3.141592653589793,
          3.4033920413889422,
          3.926990816987241,
          4.1887902047863905,
          5.759586531581287,
          6.021385919380436
         ],
         "y": [
          0,
          0.5235987755982988,
          0.7853981633974483,
          1.0471975511965976,
          1.5707963267948966,
          1.832595714594046,
          2.617993877991494,
          2.8797932657906435,
          3.141592653589793,
          3.4033920413889422,
          3.926990816987241,
          4.1887902047863905,
          5.759586531581287,
          6.021385919380436
         ]
        }
       ],
       "layout": {
        "showlegend": true,
        "template": {
         "data": {
          "bar": [
           {
            "error_x": {
             "color": "#2a3f5f"
            },
            "error_y": {
             "color": "#2a3f5f"
            },
            "marker": {
             "line": {
              "color": "#E5ECF6",
              "width": 0.5
             },
             "pattern": {
              "fillmode": "overlay",
              "size": 10,
              "solidity": 0.2
             }
            },
            "type": "bar"
           }
          ],
          "barpolar": [
           {
            "marker": {
             "line": {
              "color": "#E5ECF6",
              "width": 0.5
             },
             "pattern": {
              "fillmode": "overlay",
              "size": 10,
              "solidity": 0.2
             }
            },
            "type": "barpolar"
           }
          ],
          "carpet": [
           {
            "aaxis": {
             "endlinecolor": "#2a3f5f",
             "gridcolor": "white",
             "linecolor": "white",
             "minorgridcolor": "white",
             "startlinecolor": "#2a3f5f"
            },
            "baxis": {
             "endlinecolor": "#2a3f5f",
             "gridcolor": "white",
             "linecolor": "white",
             "minorgridcolor": "white",
             "startlinecolor": "#2a3f5f"
            },
            "type": "carpet"
           }
          ],
          "choropleth": [
           {
            "colorbar": {
             "outlinewidth": 0,
             "ticks": ""
            },
            "type": "choropleth"
           }
          ],
          "contour": [
           {
            "colorbar": {
             "outlinewidth": 0,
             "ticks": ""
            },
            "colorscale": [
             [
              0,
              "#0d0887"
             ],
             [
              0.1111111111111111,
              "#46039f"
             ],
             [
              0.2222222222222222,
              "#7201a8"
             ],
             [
              0.3333333333333333,
              "#9c179e"
             ],
             [
              0.4444444444444444,
              "#bd3786"
             ],
             [
              0.5555555555555556,
              "#d8576b"
             ],
             [
              0.6666666666666666,
              "#ed7953"
             ],
             [
              0.7777777777777778,
              "#fb9f3a"
             ],
             [
              0.8888888888888888,
              "#fdca26"
             ],
             [
              1,
              "#f0f921"
             ]
            ],
            "type": "contour"
           }
          ],
          "contourcarpet": [
           {
            "colorbar": {
             "outlinewidth": 0,
             "ticks": ""
            },
            "type": "contourcarpet"
           }
          ],
          "heatmap": [
           {
            "colorbar": {
             "outlinewidth": 0,
             "ticks": ""
            },
            "colorscale": [
             [
              0,
              "#0d0887"
             ],
             [
              0.1111111111111111,
              "#46039f"
             ],
             [
              0.2222222222222222,
              "#7201a8"
             ],
             [
              0.3333333333333333,
              "#9c179e"
             ],
             [
              0.4444444444444444,
              "#bd3786"
             ],
             [
              0.5555555555555556,
              "#d8576b"
             ],
             [
              0.6666666666666666,
              "#ed7953"
             ],
             [
              0.7777777777777778,
              "#fb9f3a"
             ],
             [
              0.8888888888888888,
              "#fdca26"
             ],
             [
              1,
              "#f0f921"
             ]
            ],
            "type": "heatmap"
           }
          ],
          "heatmapgl": [
           {
            "colorbar": {
             "outlinewidth": 0,
             "ticks": ""
            },
            "colorscale": [
             [
              0,
              "#0d0887"
             ],
             [
              0.1111111111111111,
              "#46039f"
             ],
             [
              0.2222222222222222,
              "#7201a8"
             ],
             [
              0.3333333333333333,
              "#9c179e"
             ],
             [
              0.4444444444444444,
              "#bd3786"
             ],
             [
              0.5555555555555556,
              "#d8576b"
             ],
             [
              0.6666666666666666,
              "#ed7953"
             ],
             [
              0.7777777777777778,
              "#fb9f3a"
             ],
             [
              0.8888888888888888,
              "#fdca26"
             ],
             [
              1,
              "#f0f921"
             ]
            ],
            "type": "heatmapgl"
           }
          ],
          "histogram": [
           {
            "marker": {
             "pattern": {
              "fillmode": "overlay",
              "size": 10,
              "solidity": 0.2
             }
            },
            "type": "histogram"
           }
          ],
          "histogram2d": [
           {
            "colorbar": {
             "outlinewidth": 0,
             "ticks": ""
            },
            "colorscale": [
             [
              0,
              "#0d0887"
             ],
             [
              0.1111111111111111,
              "#46039f"
             ],
             [
              0.2222222222222222,
              "#7201a8"
             ],
             [
              0.3333333333333333,
              "#9c179e"
             ],
             [
              0.4444444444444444,
              "#bd3786"
             ],
             [
              0.5555555555555556,
              "#d8576b"
             ],
             [
              0.6666666666666666,
              "#ed7953"
             ],
             [
              0.7777777777777778,
              "#fb9f3a"
             ],
             [
              0.8888888888888888,
              "#fdca26"
             ],
             [
              1,
              "#f0f921"
             ]
            ],
            "type": "histogram2d"
           }
          ],
          "histogram2dcontour": [
           {
            "colorbar": {
             "outlinewidth": 0,
             "ticks": ""
            },
            "colorscale": [
             [
              0,
              "#0d0887"
             ],
             [
              0.1111111111111111,
              "#46039f"
             ],
             [
              0.2222222222222222,
              "#7201a8"
             ],
             [
              0.3333333333333333,
              "#9c179e"
             ],
             [
              0.4444444444444444,
              "#bd3786"
             ],
             [
              0.5555555555555556,
              "#d8576b"
             ],
             [
              0.6666666666666666,
              "#ed7953"
             ],
             [
              0.7777777777777778,
              "#fb9f3a"
             ],
             [
              0.8888888888888888,
              "#fdca26"
             ],
             [
              1,
              "#f0f921"
             ]
            ],
            "type": "histogram2dcontour"
           }
          ],
          "mesh3d": [
           {
            "colorbar": {
             "outlinewidth": 0,
             "ticks": ""
            },
            "type": "mesh3d"
           }
          ],
          "parcoords": [
           {
            "line": {
             "colorbar": {
              "outlinewidth": 0,
              "ticks": ""
             }
            },
            "type": "parcoords"
           }
          ],
          "pie": [
           {
            "automargin": true,
            "type": "pie"
           }
          ],
          "scatter": [
           {
            "fillpattern": {
             "fillmode": "overlay",
             "size": 10,
             "solidity": 0.2
            },
            "type": "scatter"
           }
          ],
          "scatter3d": [
           {
            "line": {
             "colorbar": {
              "outlinewidth": 0,
              "ticks": ""
             }
            },
            "marker": {
             "colorbar": {
              "outlinewidth": 0,
              "ticks": ""
             }
            },
            "type": "scatter3d"
           }
          ],
          "scattercarpet": [
           {
            "marker": {
             "colorbar": {
              "outlinewidth": 0,
              "ticks": ""
             }
            },
            "type": "scattercarpet"
           }
          ],
          "scattergeo": [
           {
            "marker": {
             "colorbar": {
              "outlinewidth": 0,
              "ticks": ""
             }
            },
            "type": "scattergeo"
           }
          ],
          "scattergl": [
           {
            "marker": {
             "colorbar": {
              "outlinewidth": 0,
              "ticks": ""
             }
            },
            "type": "scattergl"
           }
          ],
          "scattermapbox": [
           {
            "marker": {
             "colorbar": {
              "outlinewidth": 0,
              "ticks": ""
             }
            },
            "type": "scattermapbox"
           }
          ],
          "scatterpolar": [
           {
            "marker": {
             "colorbar": {
              "outlinewidth": 0,
              "ticks": ""
             }
            },
            "type": "scatterpolar"
           }
          ],
          "scatterpolargl": [
           {
            "marker": {
             "colorbar": {
              "outlinewidth": 0,
              "ticks": ""
             }
            },
            "type": "scatterpolargl"
           }
          ],
          "scatterternary": [
           {
            "marker": {
             "colorbar": {
              "outlinewidth": 0,
              "ticks": ""
             }
            },
            "type": "scatterternary"
           }
          ],
          "surface": [
           {
            "colorbar": {
             "outlinewidth": 0,
             "ticks": ""
            },
            "colorscale": [
             [
              0,
              "#0d0887"
             ],
             [
              0.1111111111111111,
              "#46039f"
             ],
             [
              0.2222222222222222,
              "#7201a8"
             ],
             [
              0.3333333333333333,
              "#9c179e"
             ],
             [
              0.4444444444444444,
              "#bd3786"
             ],
             [
              0.5555555555555556,
              "#d8576b"
             ],
             [
              0.6666666666666666,
              "#ed7953"
             ],
             [
              0.7777777777777778,
              "#fb9f3a"
             ],
             [
              0.8888888888888888,
              "#fdca26"
             ],
             [
              1,
              "#f0f921"
             ]
            ],
            "type": "surface"
           }
          ],
          "table": [
           {
            "cells": {
             "fill": {
              "color": "#EBF0F8"
             },
             "line": {
              "color": "white"
             }
            },
            "header": {
             "fill": {
              "color": "#C8D4E3"
             },
             "line": {
              "color": "white"
             }
            },
            "type": "table"
           }
          ]
         },
         "layout": {
          "annotationdefaults": {
           "arrowcolor": "#2a3f5f",
           "arrowhead": 0,
           "arrowwidth": 1
          },
          "autotypenumbers": "strict",
          "coloraxis": {
           "colorbar": {
            "outlinewidth": 0,
            "ticks": ""
           }
          },
          "colorscale": {
           "diverging": [
            [
             0,
             "#8e0152"
            ],
            [
             0.1,
             "#c51b7d"
            ],
            [
             0.2,
             "#de77ae"
            ],
            [
             0.3,
             "#f1b6da"
            ],
            [
             0.4,
             "#fde0ef"
            ],
            [
             0.5,
             "#f7f7f7"
            ],
            [
             0.6,
             "#e6f5d0"
            ],
            [
             0.7,
             "#b8e186"
            ],
            [
             0.8,
             "#7fbc41"
            ],
            [
             0.9,
             "#4d9221"
            ],
            [
             1,
             "#276419"
            ]
           ],
           "sequential": [
            [
             0,
             "#0d0887"
            ],
            [
             0.1111111111111111,
             "#46039f"
            ],
            [
             0.2222222222222222,
             "#7201a8"
            ],
            [
             0.3333333333333333,
             "#9c179e"
            ],
            [
             0.4444444444444444,
             "#bd3786"
            ],
            [
             0.5555555555555556,
             "#d8576b"
            ],
            [
             0.6666666666666666,
             "#ed7953"
            ],
            [
             0.7777777777777778,
             "#fb9f3a"
            ],
            [
             0.8888888888888888,
             "#fdca26"
            ],
            [
             1,
             "#f0f921"
            ]
           ],
           "sequentialminus": [
            [
             0,
             "#0d0887"
            ],
            [
             0.1111111111111111,
             "#46039f"
            ],
            [
             0.2222222222222222,
             "#7201a8"
            ],
            [
             0.3333333333333333,
             "#9c179e"
            ],
            [
             0.4444444444444444,
             "#bd3786"
            ],
            [
             0.5555555555555556,
             "#d8576b"
            ],
            [
             0.6666666666666666,
             "#ed7953"
            ],
            [
             0.7777777777777778,
             "#fb9f3a"
            ],
            [
             0.8888888888888888,
             "#fdca26"
            ],
            [
             1,
             "#f0f921"
            ]
           ]
          },
          "colorway": [
           "#636efa",
           "#EF553B",
           "#00cc96",
           "#ab63fa",
           "#FFA15A",
           "#19d3f3",
           "#FF6692",
           "#B6E880",
           "#FF97FF",
           "#FECB52"
          ],
          "font": {
           "color": "#2a3f5f"
          },
          "geo": {
           "bgcolor": "white",
           "lakecolor": "white",
           "landcolor": "#E5ECF6",
           "showlakes": true,
           "showland": true,
           "subunitcolor": "white"
          },
          "hoverlabel": {
           "align": "left"
          },
          "hovermode": "closest",
          "mapbox": {
           "style": "light"
          },
          "paper_bgcolor": "white",
          "plot_bgcolor": "#E5ECF6",
          "polar": {
           "angularaxis": {
            "gridcolor": "white",
            "linecolor": "white",
            "ticks": ""
           },
           "bgcolor": "#E5ECF6",
           "radialaxis": {
            "gridcolor": "white",
            "linecolor": "white",
            "ticks": ""
           }
          },
          "scene": {
           "xaxis": {
            "backgroundcolor": "#E5ECF6",
            "gridcolor": "white",
            "gridwidth": 2,
            "linecolor": "white",
            "showbackground": true,
            "ticks": "",
            "zerolinecolor": "white"
           },
           "yaxis": {
            "backgroundcolor": "#E5ECF6",
            "gridcolor": "white",
            "gridwidth": 2,
            "linecolor": "white",
            "showbackground": true,
            "ticks": "",
            "zerolinecolor": "white"
           },
           "zaxis": {
            "backgroundcolor": "#E5ECF6",
            "gridcolor": "white",
            "gridwidth": 2,
            "linecolor": "white",
            "showbackground": true,
            "ticks": "",
            "zerolinecolor": "white"
           }
          },
          "shapedefaults": {
           "line": {
            "color": "#2a3f5f"
           }
          },
          "ternary": {
           "aaxis": {
            "gridcolor": "white",
            "linecolor": "white",
            "ticks": ""
           },
           "baxis": {
            "gridcolor": "white",
            "linecolor": "white",
            "ticks": ""
           },
           "bgcolor": "#E5ECF6",
           "caxis": {
            "gridcolor": "white",
            "linecolor": "white",
            "ticks": ""
           }
          },
          "title": {
           "x": 0.05
          },
          "xaxis": {
           "automargin": true,
           "gridcolor": "white",
           "linecolor": "white",
           "ticks": "",
           "title": {
            "standoff": 15
           },
           "zerolinecolor": "white",
           "zerolinewidth": 2
          },
          "yaxis": {
           "automargin": true,
           "gridcolor": "white",
           "linecolor": "white",
           "ticks": "",
           "title": {
            "standoff": 15
           },
           "zerolinecolor": "white",
           "zerolinewidth": 2
          }
         }
        },
        "title": {
         "text": "Invertibility of Jacobian for different values of θ3 and θ4"
        },
        "xaxis": {
         "ticktext": [
          "0",
          "π/12",
          "π/6",
          "π/4",
          "π/3",
          "5π/12",
          "π/2",
          "7π/12",
          "2π/3",
          "3π/4",
          "5π/6",
          "11π/12",
          "π",
          "13π/12",
          "7π/6",
          "5π/4",
          "4π/3",
          "17π/12",
          "3π/2",
          "19π/12",
          "5π/3",
          "7π/4",
          "11π/6",
          "23π/12",
          "2π"
         ],
         "tickvals": [
          0,
          0.2617993877991494,
          0.5235987755982988,
          0.7853981633974483,
          1.0471975511965976,
          1.308996938995747,
          1.5707963267948966,
          1.832595714594046,
          2.0943951023931953,
          2.356194490192345,
          2.617993877991494,
          2.8797932657906435,
          3.141592653589793,
          3.4033920413889422,
          3.665191429188092,
          3.926990816987241,
          4.1887902047863905,
          4.45058959258554,
          4.71238898038469,
          4.974188368183839,
          5.235987755982988,
          5.497787143782138,
          5.759586531581287,
          6.021385919380436
         ],
         "title": {
          "text": "θ3"
         }
        },
        "yaxis": {
         "ticktext": [
          "0",
          "π/12",
          "π/6",
          "π/4",
          "π/3",
          "5π/12",
          "π/2",
          "7π/12",
          "2π/3",
          "3π/4",
          "5π/6",
          "11π/12",
          "π",
          "13π/12",
          "7π/6",
          "5π/4",
          "4π/3",
          "17π/12",
          "3π/2",
          "19π/12",
          "5π/3",
          "7π/4",
          "11π/6",
          "23π/12",
          "2π"
         ],
         "tickvals": [
          0,
          0.2617993877991494,
          0.5235987755982988,
          0.7853981633974483,
          1.0471975511965976,
          1.308996938995747,
          1.5707963267948966,
          1.832595714594046,
          2.0943951023931953,
          2.356194490192345,
          2.617993877991494,
          2.8797932657906435,
          3.141592653589793,
          3.4033920413889422,
          3.665191429188092,
          3.926990816987241,
          4.1887902047863905,
          4.45058959258554,
          4.71238898038469,
          4.974188368183839,
          5.235987755982988,
          5.497787143782138,
          5.759586531581287,
          6.021385919380436
         ],
         "title": {
          "text": "θ4"
         }
        }
       }
      }
     },
     "metadata": {},
     "output_type": "display_data"
    }
   ],
   "source": [
    "import plotly.graph_objects as go\n",
    "import numpy as np\n",
    "\n",
    "# Assuming you have already computed the invertible_points and non_invertible_points\n",
    "\n",
    "# Extracting x and y coordinates\n",
    "x_invertible = [point[0] for point in invertible_points]\n",
    "y_invertible = [point[1] for point in invertible_points]\n",
    "\n",
    "x_non_invertible = [point[0] for point in non_invertible_points]\n",
    "y_non_invertible = [point[1] for point in non_invertible_points]\n",
    "\n",
    "# Create a scatter plot\n",
    "fig = go.Figure()\n",
    "\n",
    "# Add invertible points\n",
    "fig.add_trace(go.Scatter(x=x_invertible, y=y_invertible, mode='markers', \n",
    "                         marker=dict(color='blue', size=10), name='Invertible'))\n",
    "\n",
    "# Add non-invertible points\n",
    "fig.add_trace(go.Scatter(x=x_non_invertible, y=y_non_invertible, mode='markers', \n",
    "                         marker=dict(color='red', size=10), name='Not Invertible'))\n",
    "\n",
    "# Set plot title and axis labels\n",
    "fig.update_layout(title='Invertibility of Jacobian for different values of θ3 and θ4',\n",
    "                  xaxis_title='θ3', yaxis_title='θ4', \n",
    "                  xaxis=dict(tickvals=np.arange(0, 2*np.pi, np.pi/12), \n",
    "                             ticktext=['0', 'π/12', 'π/6', 'π/4', 'π/3', '5π/12', 'π/2', '7π/12', '2π/3', '3π/4', '5π/6', '11π/12', 'π', '13π/12', '7π/6', '5π/4', '4π/3', '17π/12', '3π/2', '19π/12', '5π/3', '7π/4', '11π/6', '23π/12', '2π']),\n",
    "                  yaxis=dict(tickvals=np.arange(0, 2*np.pi, np.pi/12), \n",
    "                             ticktext=['0', 'π/12', 'π/6', 'π/4', 'π/3', '5π/12', 'π/2', '7π/12', '2π/3', '3π/4', '5π/6', '11π/12', 'π', '13π/12', '7π/6', '5π/4', '4π/3', '17π/12', '3π/2', '19π/12', '5π/3', '7π/4', '11π/6', '23π/12', '2π']),\n",
    "                  showlegend=True)\n",
    "\n",
    "# Display the plot\n",
    "fig.show()\n"
   ]
  },
  {
   "cell_type": "code",
   "execution_count": null,
   "metadata": {},
   "outputs": [],
   "source": []
  },
  {
   "cell_type": "markdown",
   "metadata": {},
   "source": [
    "## 3D version (teta2,3,4)"
   ]
  },
  {
   "cell_type": "code",
   "execution_count": 28,
   "metadata": {},
   "outputs": [
    {
     "data": {
      "text/plain": [
       "[Eq(-r_x_2, 0),\n",
       " Eq(-r_y_2, 0),\n",
       " Eq(L2*cos(theta_2) + r_x_2 - r_x_3, 0),\n",
       " Eq(L2*sin(theta_2) + r_y_2 - r_y_3, 0),\n",
       " Eq(L3*cos(theta_3) + r_x_3 - r_x_4, 0),\n",
       " Eq(L3*sin(theta_3) + r_y_3 - r_y_4, 0),\n",
       " Eq(-L4*cos(theta_4) + Separation - r_x_4, 0),\n",
       " Eq(-L4*sin(theta_4) - r_y_4, 0)]"
      ]
     },
     "execution_count": 28,
     "metadata": {},
     "output_type": "execute_result"
    }
   ],
   "source": [
    "# equations_substituted = equations.subs({u_x_i: u_x_a, u_y_i: u_y_a, u_x_j: u_x_b, u_y_j: u_y_b})\n",
    "\n",
    "# # For this particular mechansim Topology\n",
    "# L2 = 2\n",
    "# L3 = 3\n",
    "# L4 = 5\n",
    "# Separation = 4\n",
    "\n",
    "four_bars_mechanism_example_symbolic_full()\n",
    "\n",
    "#four_bars_mechanism_example_symbolic_full().subs({L2: 2, L3: 3, L4:5, Separation:4})"
   ]
  },
  {
   "cell_type": "code",
   "execution_count": 29,
   "metadata": {},
   "outputs": [
    {
     "data": {
      "text/plain": [
       "[Eq(-r_x_2, 0),\n",
       " Eq(-r_y_2, 0),\n",
       " Eq(L2*cos(theta_2) + r_x_2 - r_x_3, 0),\n",
       " Eq(L2*sin(theta_2) + r_y_2 - r_y_3, 0),\n",
       " Eq(L3*cos(theta_3) + r_x_3 - r_x_4, 0),\n",
       " Eq(L3*sin(theta_3) + r_y_3 - r_y_4, 0),\n",
       " Eq(-L4*cos(theta_4) + Separation - r_x_4, 0),\n",
       " Eq(-L4*sin(theta_4) - r_y_4, 0)]"
      ]
     },
     "execution_count": 29,
     "metadata": {},
     "output_type": "execute_result"
    }
   ],
   "source": [
    "subs_dict = {L2: 2, L3: 3, L4:5, Separation:4}\n",
    "\n",
    "eq_list_substituted_topology = [eq.subs(subs_dict) for eq in four_bars_mechanism_example_symbolic_full()]\n",
    "\n",
    "eq_list_substituted_topology"
   ]
  },
  {
   "cell_type": "code",
   "execution_count": 30,
   "metadata": {},
   "outputs": [
    {
     "name": "stdout",
     "output_type": "stream",
     "text": [
      "Matrix([[-r_x_2], [-r_y_2], [L2*cos(theta_2) + r_x_2 - r_x_3], [L2*sin(theta_2) + r_y_2 - r_y_3], [L3*cos(theta_3) + r_x_3 - r_x_4], [L3*sin(theta_3) + r_y_3 - r_y_4], [-L4*cos(theta_4) + Separation - r_x_4], [-L4*sin(theta_4) - r_y_4], [1.57079632679490]])\n"
     ]
    }
   ],
   "source": [
    "from sympy import Matrix, Eq\n",
    "\n",
    "# Extract left-hand side of each equation\n",
    "exprs = [eq.lhs for eq in eq_list_substituted_topology]\n",
    "\n",
    "# Add the additional constraint\n",
    "exprs.append(theta_2)\n",
    "\n",
    "# Convert the list to a Matrix\n",
    "f = Matrix(exprs)\n",
    "\n",
    "print(f)\n"
   ]
  },
  {
   "cell_type": "code",
   "execution_count": 31,
   "metadata": {},
   "outputs": [
    {
     "data": {
      "text/latex": [
       "$\\displaystyle \\left[\\begin{matrix}-1 & 0 & 0 & 0 & 0 & 0 & 0 & 0 & 0\\\\0 & -1 & 0 & 0 & 0 & 0 & 0 & 0 & 0\\\\1 & 0 & - L_{2} \\sin{\\left(\\theta_{2} \\right)} & -1 & 0 & 0 & 0 & 0 & 0\\\\0 & 1 & L_{2} \\cos{\\left(\\theta_{2} \\right)} & 0 & -1 & 0 & 0 & 0 & 0\\\\0 & 0 & 0 & 1 & 0 & - L_{3} \\sin{\\left(\\theta_{3} \\right)} & -1 & 0 & 0\\\\0 & 0 & 0 & 0 & 1 & L_{3} \\cos{\\left(\\theta_{3} \\right)} & 0 & -1 & 0\\\\0 & 0 & 0 & 0 & 0 & 0 & -1 & 0 & L_{4} \\sin{\\left(\\theta_{4} \\right)}\\\\0 & 0 & 0 & 0 & 0 & 0 & 0 & -1 & - L_{4} \\cos{\\left(\\theta_{4} \\right)}\\\\0 & 0 & 0 & 0 & 0 & 0 & 0 & 0 & 0\\end{matrix}\\right]$"
      ],
      "text/plain": [
       "Matrix([\n",
       "[-1,  0,                0,  0,  0,                0,  0,  0,                0],\n",
       "[ 0, -1,                0,  0,  0,                0,  0,  0,                0],\n",
       "[ 1,  0, -L2*sin(theta_2), -1,  0,                0,  0,  0,                0],\n",
       "[ 0,  1,  L2*cos(theta_2),  0, -1,                0,  0,  0,                0],\n",
       "[ 0,  0,                0,  1,  0, -L3*sin(theta_3), -1,  0,                0],\n",
       "[ 0,  0,                0,  0,  1,  L3*cos(theta_3),  0, -1,                0],\n",
       "[ 0,  0,                0,  0,  0,                0, -1,  0,  L4*sin(theta_4)],\n",
       "[ 0,  0,                0,  0,  0,                0,  0, -1, -L4*cos(theta_4)],\n",
       "[ 0,  0,                0,  0,  0,                0,  0,  0,                0]])"
      ]
     },
     "execution_count": 31,
     "metadata": {},
     "output_type": "execute_result"
    }
   ],
   "source": [
    "from sympy import symbols, Eq, cos, sin, diff, Matrix\n",
    "\n",
    "# Define the symbols\n",
    "theta_2, theta_3, theta_4 = symbols('theta_2 theta_3 theta_4')\n",
    "r_x_2, r_y_2, r_x_3, r_y_3, r_x_4, r_y_4 = symbols('r_x_2 r_y_2 r_x_3 r_y_3 r_x_4 r_y_4')\n",
    "\n",
    "# Define the function components\n",
    "# f = Matrix([\n",
    "#     -r_x_2,\n",
    "#     -r_y_2,\n",
    "#     r_x_2 - r_x_3,\n",
    "#     r_y_2 - r_y_3 + 2.0,\n",
    "#     r_x_3 - r_x_4 + 5*cos(theta_3),\n",
    "#     r_y_3 - r_y_4 + 5*sin(theta_3),\n",
    "#     -r_x_4 + 5 - 5*cos(theta_4),\n",
    "#     -r_y_4 -5*sin(theta_4),\n",
    "#     theta_2  # Additional equation (mov constraint)\n",
    "# ])\n",
    "\n",
    "# Variables with respect to which we differentiate\n",
    "variables = [r_x_2, r_y_2, theta_2, r_x_3, r_y_3, theta_3, r_x_4, r_y_4, theta_4]\n",
    "\n",
    "# Compute the Jacobian\n",
    "jacobian_extended = f.jacobian(variables)\n",
    "jacobian_extended\n"
   ]
  },
  {
   "cell_type": "code",
   "execution_count": 32,
   "metadata": {},
   "outputs": [],
   "source": [
    "from sympy import symbols, Eq, cos, sin, diff, Matrix\n",
    "from sympy import Matrix, Eq\n",
    "\n",
    "\n",
    "def jacobian_topology(L2, L3, L4, Separation):\n",
    "\n",
    "    four_bars_mechanism_example_symbolic_full()\n",
    "\n",
    "\n",
    "    subs_dict = {L2: 2, L3: 3, L4:5, Separation:4}\n",
    "\n",
    "        # Define the symbols\n",
    "    theta_2, theta_3, theta_4 = symbols('theta_2 theta_3 theta_4')\n",
    "    r_x_2, r_y_2, r_x_3, r_y_3, r_x_4, r_y_4 = symbols('r_x_2 r_y_2 r_x_3 r_y_3 r_x_4 r_y_4')\n",
    "\n",
    "    eq_list_substituted_topology = [eq.subs(subs_dict) for eq in four_bars_mechanism_example_symbolic_full()]\n",
    "\n",
    "    eq_list_substituted_topology\n",
    "\n",
    "\n",
    "    # Extract left-hand side of each equation\n",
    "    exprs = [eq.lhs for eq in eq_list_substituted_topology]\n",
    "\n",
    "    # Add the additional constraint\n",
    "    exprs.append(theta_2)\n",
    "\n",
    "    # Convert the list to a Matrix\n",
    "    f = Matrix(exprs)\n",
    "\n",
    "\n",
    "\n",
    "\n",
    "\n",
    "\n",
    "\n",
    "\n",
    "    # Variables with respect to which we differentiate\n",
    "    variables = [r_x_2, r_y_2, theta_2, r_x_3, r_y_3, theta_3, r_x_4, r_y_4, theta_4]\n",
    "\n",
    "    # Compute the Jacobian\n",
    "    jacobian_extended = f.jacobian(variables)\n",
    "    return(jacobian_extended)\n",
    "\n"
   ]
  },
  {
   "cell_type": "code",
   "execution_count": 33,
   "metadata": {},
   "outputs": [
    {
     "data": {
      "text/latex": [
       "$\\displaystyle \\left[\\begin{matrix}-1 & 0 & 0 & 0 & 0 & 0 & 0 & 0 & 0\\\\0 & -1 & 0 & 0 & 0 & 0 & 0 & 0 & 0\\\\1 & 0 & - L_{2} \\sin{\\left(\\theta_{2} \\right)} & -1 & 0 & 0 & 0 & 0 & 0\\\\0 & 1 & L_{2} \\cos{\\left(\\theta_{2} \\right)} & 0 & -1 & 0 & 0 & 0 & 0\\\\0 & 0 & 0 & 1 & 0 & - L_{3} \\sin{\\left(\\theta_{3} \\right)} & -1 & 0 & 0\\\\0 & 0 & 0 & 0 & 1 & L_{3} \\cos{\\left(\\theta_{3} \\right)} & 0 & -1 & 0\\\\0 & 0 & 0 & 0 & 0 & 0 & -1 & 0 & L_{4} \\sin{\\left(\\theta_{4} \\right)}\\\\0 & 0 & 0 & 0 & 0 & 0 & 0 & -1 & - L_{4} \\cos{\\left(\\theta_{4} \\right)}\\\\0 & 0 & 1 & 0 & 0 & 0 & 0 & 0 & 0\\end{matrix}\\right]$"
      ],
      "text/plain": [
       "Matrix([\n",
       "[-1,  0,                0,  0,  0,                0,  0,  0,                0],\n",
       "[ 0, -1,                0,  0,  0,                0,  0,  0,                0],\n",
       "[ 1,  0, -L2*sin(theta_2), -1,  0,                0,  0,  0,                0],\n",
       "[ 0,  1,  L2*cos(theta_2),  0, -1,                0,  0,  0,                0],\n",
       "[ 0,  0,                0,  1,  0, -L3*sin(theta_3), -1,  0,                0],\n",
       "[ 0,  0,                0,  0,  1,  L3*cos(theta_3),  0, -1,                0],\n",
       "[ 0,  0,                0,  0,  0,                0, -1,  0,  L4*sin(theta_4)],\n",
       "[ 0,  0,                0,  0,  0,                0,  0, -1, -L4*cos(theta_4)],\n",
       "[ 0,  0,                1,  0,  0,                0,  0,  0,                0]])"
      ]
     },
     "execution_count": 33,
     "metadata": {},
     "output_type": "execute_result"
    }
   ],
   "source": [
    "jacobian_topology(2,3,5,4)"
   ]
  },
  {
   "cell_type": "code",
   "execution_count": 34,
   "metadata": {},
   "outputs": [
    {
     "ename": "NameError",
     "evalue": "name 'computed_matrices' is not defined",
     "output_type": "error",
     "traceback": [
      "\u001b[1;31m---------------------------------------------------------------------------\u001b[0m",
      "\u001b[1;31mNameError\u001b[0m                                 Traceback (most recent call last)",
      "Cell \u001b[1;32mIn[34], line 21\u001b[0m\n\u001b[0;32m     19\u001b[0m matrix_val \u001b[39m=\u001b[39m jacobian_extended\u001b[39m.\u001b[39msubs({theta_2: theta_2_val, theta_3: theta_3_val, theta_4: theta_4_val})\n\u001b[0;32m     20\u001b[0m matrix_str \u001b[39m=\u001b[39m \u001b[39mstr\u001b[39m(matrix_val)  \u001b[39m# Convert the matrix to string for hashing\u001b[39;00m\n\u001b[1;32m---> 21\u001b[0m \u001b[39mif\u001b[39;00m matrix_str \u001b[39mnot\u001b[39;00m \u001b[39min\u001b[39;00m computed_matrices:\n\u001b[0;32m     22\u001b[0m     computed_matrices\u001b[39m.\u001b[39madd(matrix_str)\n\u001b[0;32m     23\u001b[0m     \u001b[39mif\u001b[39;00m matrix_val\u001b[39m.\u001b[39mdet() \u001b[39m!=\u001b[39m \u001b[39m0\u001b[39m:\n",
      "\u001b[1;31mNameError\u001b[0m: name 'computed_matrices' is not defined"
     ]
    }
   ],
   "source": [
    "theta_values = np.arange(0, 2 * np.pi, np.deg2rad(15))\n",
    "\n",
    "\n",
    "# Redefine the Jacobian matrix and simplify it in-place\n",
    "#jacobian_extended.simplify()\n",
    "\n",
    "# Resetting the lists for storing theta combinations\n",
    "invertible_points_3d = []\n",
    "non_invertible_points_3d = []\n",
    "\n",
    "# Clearing the set of computed matrices\n",
    "#computed_matrices.clear()\n",
    "\n",
    "# Iterate over the theta values\n",
    "for theta_2_val in theta_values:\n",
    "    for theta_3_val in theta_values:\n",
    "        for theta_4_val in theta_values:\n",
    "            # Substitute the values into the Jacobian matrix\n",
    "            matrix_val = jacobian_extended.subs({theta_2: theta_2_val, theta_3: theta_3_val, theta_4: theta_4_val})\n",
    "            matrix_str = str(matrix_val)  # Convert the matrix to string for hashing\n",
    "            if matrix_str not in computed_matrices:\n",
    "                computed_matrices.add(matrix_str)\n",
    "                if matrix_val.det() != 0:\n",
    "                    invertible_points_3d.append((theta_2_val, theta_3_val, theta_4_val))\n",
    "                else:\n",
    "                    non_invertible_points_3d.append((theta_2_val, theta_3_val, theta_4_val))\n",
    "\n",
    "invertible_points_3d = np.array(invertible_points_3d)\n",
    "non_invertible_points_3d = np.array(non_invertible_points_3d)\n",
    "\n",
    "invertible_points_3d.shape, non_invertible_points_3d.shape\n"
   ]
  },
  {
   "cell_type": "code",
   "execution_count": 54,
   "metadata": {},
   "outputs": [
    {
     "name": "stdout",
     "output_type": "stream",
     "text": [
      "0.0\n",
      "0.2617993877991494\n",
      "0.5235987755982988\n",
      "0.7853981633974483\n",
      "1.0471975511965976\n",
      "1.308996938995747\n"
     ]
    },
    {
     "data": {
      "text/plain": [
       "(216, 216)"
      ]
     },
     "execution_count": 54,
     "metadata": {},
     "output_type": "execute_result"
    }
   ],
   "source": [
    "# Define the range for theta_2, theta_3, and theta_4 in 15 degree steps\n",
    "theta_values = np.arange(0, 2 * np.pi, np.deg2rad(15))\n",
    "\n",
    "theta_values2 = np.arange(0, np.pi/2, np.deg2rad(15))\n",
    "\n",
    "# Lists to store the results for visualization\n",
    "theta_combinations = []\n",
    "colors = []\n",
    "\n",
    "# Iterate over the theta values\n",
    "for theta_2_val in theta_values:\n",
    "    print(theta_2_val)\n",
    "    for theta_3_val in theta_values:\n",
    "        for theta_4_val in theta_values:\n",
    "            # Get the Jacobian matrix for the current combination of theta values\n",
    "            jacobian_matrix = jacobian_topology(2, 3, 5, 4).subs({theta_2: theta_2_val, theta_3: theta_3_val, theta_4: theta_4_val})\n",
    "            \n",
    "            # Check if the matrix is invertible by computing its determinant\n",
    "            color = 'green' if jacobian_matrix.det() != 0 else 'red'\n",
    "            \n",
    "            # Store the results for visualization\n",
    "            theta_combinations.append((theta_2_val, theta_3_val, theta_4_val))\n",
    "            colors.append(color)\n",
    "\n",
    "len(theta_combinations), len(colors)"
   ]
  },
  {
   "cell_type": "code",
   "execution_count": 35,
   "metadata": {},
   "outputs": [
    {
     "name": "stdout",
     "output_type": "stream",
     "text": [
      "[0.         0.26179939 0.52359878 0.78539816 1.04719755 1.30899694]\n"
     ]
    },
    {
     "ename": "KeyboardInterrupt",
     "evalue": "",
     "output_type": "error",
     "traceback": [
      "\u001b[1;31m---------------------------------------------------------------------------\u001b[0m",
      "\u001b[1;31mKeyboardInterrupt\u001b[0m                         Traceback (most recent call last)",
      "Cell \u001b[1;32mIn[35], line 42\u001b[0m\n\u001b[0;32m     40\u001b[0m \u001b[39mfor\u001b[39;00m theta_4_val \u001b[39min\u001b[39;00m theta_values:\n\u001b[0;32m     41\u001b[0m     jacobian_matrix \u001b[39m=\u001b[39m jacobian_topology(\u001b[39m2\u001b[39m, \u001b[39m3\u001b[39m, \u001b[39m5\u001b[39m, \u001b[39m4\u001b[39m)\u001b[39m.\u001b[39msubs({theta_2: theta_2_val, theta_3: theta_3_val, theta_4: theta_4_val})\n\u001b[1;32m---> 42\u001b[0m     color \u001b[39m=\u001b[39m \u001b[39m'\u001b[39m\u001b[39mgreen\u001b[39m\u001b[39m'\u001b[39m \u001b[39mif\u001b[39;00m jacobian_matrix\u001b[39m.\u001b[39;49mdet() \u001b[39m!=\u001b[39m \u001b[39m0\u001b[39m \u001b[39melse\u001b[39;00m \u001b[39m'\u001b[39m\u001b[39mred\u001b[39m\u001b[39m'\u001b[39m\n\u001b[0;32m     43\u001b[0m     theta_combinations\u001b[39m.\u001b[39mappend((theta_2_val, theta_3_val, theta_4_val))\n\u001b[0;32m     44\u001b[0m     colors\u001b[39m.\u001b[39mappend(color)\n",
      "File \u001b[1;32mc:\\Users\\Jesus Alcocer\\anaconda3\\lib\\site-packages\\sympy\\matrices\\matrices.py:128\u001b[0m, in \u001b[0;36mMatrixDeterminant.det\u001b[1;34m(self, method, iszerofunc)\u001b[0m\n\u001b[0;32m    127\u001b[0m \u001b[39mdef\u001b[39;00m \u001b[39mdet\u001b[39m(\u001b[39mself\u001b[39m, method\u001b[39m=\u001b[39m\u001b[39m\"\u001b[39m\u001b[39mbareiss\u001b[39m\u001b[39m\"\u001b[39m, iszerofunc\u001b[39m=\u001b[39m\u001b[39mNone\u001b[39;00m):\n\u001b[1;32m--> 128\u001b[0m     \u001b[39mreturn\u001b[39;00m _det(\u001b[39mself\u001b[39;49m, method\u001b[39m=\u001b[39;49mmethod, iszerofunc\u001b[39m=\u001b[39;49miszerofunc)\n",
      "File \u001b[1;32mc:\\Users\\Jesus Alcocer\\anaconda3\\lib\\site-packages\\sympy\\matrices\\determinant.py:670\u001b[0m, in \u001b[0;36m_det\u001b[1;34m(M, method, iszerofunc)\u001b[0m\n\u001b[0;32m    668\u001b[0m     det \u001b[39m=\u001b[39m _det_DOM(M[b, b])\n\u001b[0;32m    669\u001b[0m \u001b[39melif\u001b[39;00m method \u001b[39m==\u001b[39m \u001b[39m\"\u001b[39m\u001b[39mbareiss\u001b[39m\u001b[39m\"\u001b[39m:\n\u001b[1;32m--> 670\u001b[0m     det \u001b[39m=\u001b[39m M[b, b]\u001b[39m.\u001b[39;49m_eval_det_bareiss(iszerofunc\u001b[39m=\u001b[39;49miszerofunc)\n\u001b[0;32m    671\u001b[0m \u001b[39melif\u001b[39;00m method \u001b[39m==\u001b[39m \u001b[39m\"\u001b[39m\u001b[39mberkowitz\u001b[39m\u001b[39m\"\u001b[39m:\n\u001b[0;32m    672\u001b[0m     det \u001b[39m=\u001b[39m M[b, b]\u001b[39m.\u001b[39m_eval_det_berkowitz()\n",
      "File \u001b[1;32mc:\\Users\\Jesus Alcocer\\anaconda3\\lib\\site-packages\\sympy\\matrices\\matrices.py:104\u001b[0m, in \u001b[0;36mMatrixDeterminant._eval_det_bareiss\u001b[1;34m(self, iszerofunc)\u001b[0m\n\u001b[0;32m    103\u001b[0m \u001b[39mdef\u001b[39;00m \u001b[39m_eval_det_bareiss\u001b[39m(\u001b[39mself\u001b[39m, iszerofunc\u001b[39m=\u001b[39m_is_zero_after_expand_mul):\n\u001b[1;32m--> 104\u001b[0m     \u001b[39mreturn\u001b[39;00m _det_bareiss(\u001b[39mself\u001b[39;49m, iszerofunc\u001b[39m=\u001b[39;49miszerofunc)\n",
      "File \u001b[1;32mc:\\Users\\Jesus Alcocer\\anaconda3\\lib\\site-packages\\sympy\\matrices\\determinant.py:743\u001b[0m, in \u001b[0;36m_det_bareiss\u001b[1;34m(M, iszerofunc)\u001b[0m\n\u001b[0;32m    738\u001b[0m     \u001b[39mreturn\u001b[39;00m M\u001b[39m.\u001b[39mone\n\u001b[0;32m    739\u001b[0m     \u001b[39m# sympy/matrices/tests/test_matrices.py contains a test that\u001b[39;00m\n\u001b[0;32m    740\u001b[0m     \u001b[39m# suggests that the determinant of a 0 x 0 matrix is one, by\u001b[39;00m\n\u001b[0;32m    741\u001b[0m     \u001b[39m# convention.\u001b[39;00m\n\u001b[1;32m--> 743\u001b[0m \u001b[39mreturn\u001b[39;00m bareiss(M)\n",
      "File \u001b[1;32mc:\\Users\\Jesus Alcocer\\anaconda3\\lib\\site-packages\\sympy\\matrices\\determinant.py:732\u001b[0m, in \u001b[0;36m_det_bareiss.<locals>.bareiss\u001b[1;34m(mat, cumm)\u001b[0m\n\u001b[0;32m    729\u001b[0m         \u001b[39mreturn\u001b[39;00m cancel(ret)\n\u001b[0;32m    730\u001b[0m     \u001b[39mreturn\u001b[39;00m ret\n\u001b[1;32m--> 732\u001b[0m \u001b[39mreturn\u001b[39;00m sign\u001b[39m*\u001b[39mbareiss(M\u001b[39m.\u001b[39;49m_new(mat\u001b[39m.\u001b[39;49mrows \u001b[39m-\u001b[39;49m \u001b[39m1\u001b[39;49m, mat\u001b[39m.\u001b[39;49mcols \u001b[39m-\u001b[39;49m \u001b[39m1\u001b[39;49m, entry), pivot_val)\n",
      "File \u001b[1;32mc:\\Users\\Jesus Alcocer\\anaconda3\\lib\\site-packages\\sympy\\matrices\\determinant.py:732\u001b[0m, in \u001b[0;36m_det_bareiss.<locals>.bareiss\u001b[1;34m(mat, cumm)\u001b[0m\n\u001b[0;32m    729\u001b[0m         \u001b[39mreturn\u001b[39;00m cancel(ret)\n\u001b[0;32m    730\u001b[0m     \u001b[39mreturn\u001b[39;00m ret\n\u001b[1;32m--> 732\u001b[0m \u001b[39mreturn\u001b[39;00m sign\u001b[39m*\u001b[39mbareiss(M\u001b[39m.\u001b[39;49m_new(mat\u001b[39m.\u001b[39;49mrows \u001b[39m-\u001b[39;49m \u001b[39m1\u001b[39;49m, mat\u001b[39m.\u001b[39;49mcols \u001b[39m-\u001b[39;49m \u001b[39m1\u001b[39;49m, entry), pivot_val)\n",
      "File \u001b[1;32mc:\\Users\\Jesus Alcocer\\anaconda3\\lib\\site-packages\\sympy\\matrices\\determinant.py:732\u001b[0m, in \u001b[0;36m_det_bareiss.<locals>.bareiss\u001b[1;34m(mat, cumm)\u001b[0m\n\u001b[0;32m    729\u001b[0m         \u001b[39mreturn\u001b[39;00m cancel(ret)\n\u001b[0;32m    730\u001b[0m     \u001b[39mreturn\u001b[39;00m ret\n\u001b[1;32m--> 732\u001b[0m \u001b[39mreturn\u001b[39;00m sign\u001b[39m*\u001b[39mbareiss(M\u001b[39m.\u001b[39;49m_new(mat\u001b[39m.\u001b[39;49mrows \u001b[39m-\u001b[39;49m \u001b[39m1\u001b[39;49m, mat\u001b[39m.\u001b[39;49mcols \u001b[39m-\u001b[39;49m \u001b[39m1\u001b[39;49m, entry), pivot_val)\n",
      "File \u001b[1;32mc:\\Users\\Jesus Alcocer\\anaconda3\\lib\\site-packages\\sympy\\matrices\\repmatrix.py:328\u001b[0m, in \u001b[0;36mMutableRepMatrix._new\u001b[1;34m(cls, copy, *args, **kwargs)\u001b[0m\n\u001b[0;32m    326\u001b[0m     rows, cols, flat_list \u001b[39m=\u001b[39m args\n\u001b[0;32m    327\u001b[0m \u001b[39melse\u001b[39;00m:\n\u001b[1;32m--> 328\u001b[0m     rows, cols, flat_list \u001b[39m=\u001b[39m \u001b[39mcls\u001b[39m\u001b[39m.\u001b[39m_handle_creation_inputs(\u001b[39m*\u001b[39margs, \u001b[39m*\u001b[39m\u001b[39m*\u001b[39mkwargs)\n\u001b[0;32m    329\u001b[0m     flat_list \u001b[39m=\u001b[39m \u001b[39mlist\u001b[39m(flat_list) \u001b[39m# create a shallow copy\u001b[39;00m\n\u001b[0;32m    331\u001b[0m rep \u001b[39m=\u001b[39m \u001b[39mcls\u001b[39m\u001b[39m.\u001b[39m_flat_list_to_DomainMatrix(rows, cols, flat_list)\n",
      "File \u001b[1;32mc:\\Users\\Jesus Alcocer\\anaconda3\\lib\\site-packages\\sympy\\matrices\\matrices.py:1126\u001b[0m, in \u001b[0;36mMatrixBase._handle_creation_inputs\u001b[1;34m(cls, *args, **kwargs)\u001b[0m\n\u001b[0;32m   1123\u001b[0m     flat_list \u001b[39m=\u001b[39m []\n\u001b[0;32m   1124\u001b[0m     \u001b[39mfor\u001b[39;00m i \u001b[39min\u001b[39;00m \u001b[39mrange\u001b[39m(rows):\n\u001b[0;32m   1125\u001b[0m         flat_list\u001b[39m.\u001b[39mextend(\n\u001b[1;32m-> 1126\u001b[0m             [\u001b[39mcls\u001b[39m\u001b[39m.\u001b[39m_sympify(op(\u001b[39mcls\u001b[39m\u001b[39m.\u001b[39m_sympify(i), \u001b[39mcls\u001b[39m\u001b[39m.\u001b[39m_sympify(j)))\n\u001b[0;32m   1127\u001b[0m              \u001b[39mfor\u001b[39;00m j \u001b[39min\u001b[39;00m \u001b[39mrange\u001b[39m(cols)])\n\u001b[0;32m   1129\u001b[0m \u001b[39m# Matrix(2, 2, [1, 2, 3, 4])\u001b[39;00m\n\u001b[0;32m   1130\u001b[0m \u001b[39melif\u001b[39;00m \u001b[39mlen\u001b[39m(args) \u001b[39m==\u001b[39m \u001b[39m3\u001b[39m \u001b[39mand\u001b[39;00m is_sequence(args[\u001b[39m2\u001b[39m]):\n",
      "File \u001b[1;32mc:\\Users\\Jesus Alcocer\\anaconda3\\lib\\site-packages\\sympy\\matrices\\matrices.py:1126\u001b[0m, in \u001b[0;36m<listcomp>\u001b[1;34m(.0)\u001b[0m\n\u001b[0;32m   1123\u001b[0m     flat_list \u001b[39m=\u001b[39m []\n\u001b[0;32m   1124\u001b[0m     \u001b[39mfor\u001b[39;00m i \u001b[39min\u001b[39;00m \u001b[39mrange\u001b[39m(rows):\n\u001b[0;32m   1125\u001b[0m         flat_list\u001b[39m.\u001b[39mextend(\n\u001b[1;32m-> 1126\u001b[0m             [\u001b[39mcls\u001b[39m\u001b[39m.\u001b[39m_sympify(op(\u001b[39mcls\u001b[39m\u001b[39m.\u001b[39m_sympify(i), \u001b[39mcls\u001b[39m\u001b[39m.\u001b[39m_sympify(j)))\n\u001b[0;32m   1127\u001b[0m              \u001b[39mfor\u001b[39;00m j \u001b[39min\u001b[39;00m \u001b[39mrange\u001b[39m(cols)])\n\u001b[0;32m   1129\u001b[0m \u001b[39m# Matrix(2, 2, [1, 2, 3, 4])\u001b[39;00m\n\u001b[0;32m   1130\u001b[0m \u001b[39melif\u001b[39;00m \u001b[39mlen\u001b[39m(args) \u001b[39m==\u001b[39m \u001b[39m3\u001b[39m \u001b[39mand\u001b[39;00m is_sequence(args[\u001b[39m2\u001b[39m]):\n",
      "\u001b[1;31mKeyboardInterrupt\u001b[0m: "
     ]
    }
   ],
   "source": [
    "import plotly.graph_objects as go\n",
    "import numpy as np\n",
    "\n",
    "def create_3d_scatter(theta_points, colors):\n",
    "    \"\"\"Create a 3D scatter plot using Plotly.\"\"\"\n",
    "    fig = go.Figure(data=[go.Scatter3d(\n",
    "        x=[point[0] for point in theta_points],\n",
    "        y=[point[1] for point in theta_points],\n",
    "        z=[point[2] for point in theta_points],\n",
    "        mode='markers',\n",
    "        marker=dict(\n",
    "            size=6,\n",
    "            color=colors,                # set color to an array/list of desired values\n",
    "            opacity=0.8\n",
    "        )\n",
    "    )])\n",
    "\n",
    "    fig.update_layout(scene=dict(\n",
    "            xaxis_title='Theta 2',\n",
    "            yaxis_title='Theta 3',\n",
    "            zaxis_title='Theta 4'\n",
    "        ),\n",
    "        width=700,\n",
    "        margin=dict(r=20, b=10, l=10, t=10))\n",
    "    fig.show()\n",
    "\n",
    "# Example\n",
    "#theta_values = np.arange(0, 2*np.pi, np.deg2rad(15))\n",
    "\n",
    "theta_values = np.arange(0, 2 * np.pi, np.deg2rad(15))\n",
    "theta_values2 = np.arange(0, np.pi/2, np.deg2rad(15))\n",
    "\n",
    "\n",
    "theta_combinations = []\n",
    "colors = []\n",
    "\n",
    "for theta_2_val in theta_values2:\n",
    "    print(theta_values2)\n",
    "    for theta_3_val in theta_values:\n",
    "        for theta_4_val in theta_values:\n",
    "            jacobian_matrix = jacobian_topology(2, 3, 5, 4).subs({theta_2: theta_2_val, theta_3: theta_3_val, theta_4: theta_4_val})\n",
    "            color = 'green' if jacobian_matrix.det() != 0 else 'red'\n",
    "            theta_combinations.append((theta_2_val, theta_3_val, theta_4_val))\n",
    "            colors.append(color)\n",
    "\n",
    "create_3d_scatter(theta_combinations, colors)\n"
   ]
  }
 ],
 "metadata": {
  "kernelspec": {
   "display_name": "base",
   "language": "python",
   "name": "python3"
  },
  "language_info": {
   "codemirror_mode": {
    "name": "ipython",
    "version": 3
   },
   "file_extension": ".py",
   "mimetype": "text/x-python",
   "name": "python",
   "nbconvert_exporter": "python",
   "pygments_lexer": "ipython3",
   "version": "3.9.7"
  },
  "orig_nbformat": 4
 },
 "nbformat": 4,
 "nbformat_minor": 2
}

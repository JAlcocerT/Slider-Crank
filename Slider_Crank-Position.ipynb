{
 "cells": [
  {
   "cell_type": "code",
   "execution_count": 3,
   "metadata": {},
   "outputs": [],
   "source": [
    "import sympy as sp\n",
    "\n",
    "from scipy.optimize import fsolve\n",
    "\n",
    "import plotly.graph_objs as go\n",
    "\n",
    "from math import sin, cos, radians"
   ]
  },
  {
   "cell_type": "code",
   "execution_count": 61,
   "metadata": {},
   "outputs": [
    {
     "name": "stdout",
     "output_type": "stream",
     "text": [
      "1.9\n",
      "1.7.1\n",
      "1.22.4\n"
     ]
    }
   ],
   "source": [
    "#version of packages\n",
    "print(sp.__version__)\n",
    "\n",
    "import scipy as sc\n",
    "print(sc.__version__)\n",
    "\n",
    "\n",
    "print(np.__version__)\n"
   ]
  },
  {
   "attachments": {},
   "cell_type": "markdown",
   "metadata": {},
   "source": [
    "## Position Problem"
   ]
  },
  {
   "cell_type": "code",
   "execution_count": 4,
   "metadata": {},
   "outputs": [],
   "source": [
    "\n",
    "def symbolic_rotation_matrix(angle_degrees_symbol):\n",
    "    \"\"\"\n",
    "    Calculate the symbolic rotation matrix between two 2D coordinate systems given the symbolic angle between them.\n",
    "\n",
    "    Args:\n",
    "        angle_degrees_symbol (sympy.Symbol): The symbolic angle between the two coordinate systems in degrees.\n",
    "\n",
    "    Returns:\n",
    "        sympy.Matrix: The 2x2 symbolic rotation matrix.\n",
    "    \"\"\"\n",
    "    angle_radians_symbol = sp.rad(angle_degrees_symbol)\n",
    "\n",
    "    # Calculate the elements of the rotation matrix\n",
    "    c = sp.cos(angle_radians_symbol)\n",
    "    s = sp.sin(angle_radians_symbol)\n",
    "\n",
    "    # Create the symbolic rotation matrix\n",
    "    matrix = sp.Matrix([[c, -s],\n",
    "                        [s, c]])\n",
    "\n",
    "    return matrix"
   ]
  },
  {
   "cell_type": "code",
   "execution_count": 18,
   "metadata": {},
   "outputs": [],
   "source": [
    "# from scipy.optimize import fsolve\n",
    "# import sympy as sp\n",
    "# from math import sin, cos, radians\n",
    "\n",
    "def slider_crank_position(l2, l3, offset, angle_deg_2):\n",
    "\n",
    "\n",
    "    #Location of the joints\n",
    "    u1_c_pr12x = 0\n",
    "    u1_c_pr12y = 0\n",
    "    u2_c_pr12x = 0\n",
    "    u2_c_pr12y = 0\n",
    "\n",
    "    u2_c_pr23x = l2\n",
    "    u2_c_pr23y = 0\n",
    "    u3_c_pr23x = 0\n",
    "    u3_c_pr23y = 0\n",
    "\n",
    "    u3_c_pr34x = l3\n",
    "    u3_c_pr34y = 0\n",
    "    u4_c_pr34x = 0\n",
    "    u4_c_pr34y = 0\n",
    "\n",
    "    alfa = 0\n",
    "    h1x=0\n",
    "    h1y=0\n",
    "    u1_px = 0\n",
    "    u1_py = 0\n",
    "    u4_px = 0\n",
    "    u4_py = 0\n",
    "\n",
    "    # Define q - the symbolic angles and positions\n",
    "    #angle_deg_1 = 0\n",
    "    angle_deg_1 = sp.Symbol('theta_1')\n",
    "    angle_deg_3 = sp.Symbol('theta_3')\n",
    "    angle_deg_4 = sp.Symbol('theta_4')\n",
    "\n",
    "    #Rx_1 = 0\n",
    "    Rx_1 = sp.Symbol('Rx_1')\n",
    "    Rx_2 = sp.Symbol('Rx_2')\n",
    "    Rx_3 = sp.Symbol('Rx_3')\n",
    "    Rx_4 = sp.Symbol('Rx_4')\n",
    "\n",
    "    #Ry_1 = 0\n",
    "    Ry_1 = sp.Symbol('Ry_1')\n",
    "    Ry_2 = sp.Symbol('Ry_2')\n",
    "    Ry_3 = sp.Symbol('Ry_3')\n",
    "    Ry_4 = sp.Symbol('Ry_4')\n",
    "\n",
    "\n",
    "    # Create the symbolic rotation matrix\n",
    "    A1 = symbolic_rotation_matrix(angle_deg_1)\n",
    "    A2 = symbolic_rotation_matrix(angle_deg_2)\n",
    "    A3 = symbolic_rotation_matrix(angle_deg_3)\n",
    "    A4 = symbolic_rotation_matrix(angle_deg_4)\n",
    "\n",
    "    # Equations\n",
    "\n",
    "    #[Rx_1,Rx_2,Rx_3,Rx_4,Ry_1,Ry_2,Ry_3,Ry_4,angle_deg_2,angle_deg_2,angle_deg_3,angle_deg_4]\n",
    "\n",
    "    eq_fija1= Rx_1\n",
    "    eq_fija2= Ry_1\n",
    "    eq_fija3= angle_deg_1\n",
    " \n",
    "    equation_pr12_i = Rx_1 + sp.cos(sp.rad(angle_deg_1))*u1_c_pr12x - sp.sin(sp.rad(angle_deg_1))*u1_c_pr12y -Rx_2-sp.cos(sp.rad(angle_deg_2))*u2_c_pr12x+sp.sin(sp.rad(angle_deg_2))*u2_c_pr12y\n",
    "    equation_pr23_i = Rx_2 + sp.cos(sp.rad(angle_deg_2))*u2_c_pr23x - sp.sin(sp.rad(angle_deg_2))*u2_c_pr23y -Rx_3-sp.cos(sp.rad(angle_deg_3))*u3_c_pr23x+sp.sin(sp.rad(angle_deg_3))*u3_c_pr23y\n",
    "    equation_pr34_i = Rx_3 + sp.cos(sp.rad(angle_deg_3))*u3_c_pr34x - sp.sin(sp.rad(angle_deg_3))*u3_c_pr34y -Rx_4-sp.cos(sp.rad(angle_deg_4))*u4_c_pr34x+sp.sin(sp.rad(angle_deg_4))*u4_c_pr34y\n",
    "\n",
    "\n",
    "    equation_pr12_j = Ry_1 + sp.sin(sp.rad(angle_deg_1))*u1_c_pr12x + sp.sin(sp.rad(angle_deg_1))*u1_c_pr12y -Ry_2-sp.sin(sp.rad(angle_deg_2))*u2_c_pr12x-sp.cos(sp.rad(angle_deg_2))*u2_c_pr12y\n",
    "    equation_pr23_j = Ry_2 + sp.sin(sp.rad(angle_deg_2))*u2_c_pr23x + sp.cos(sp.rad(angle_deg_2))*u2_c_pr23y -Ry_3-sp.sin(sp.rad(angle_deg_3))*u3_c_pr23x-sp.cos(sp.rad(angle_deg_3))*u3_c_pr23y\n",
    "    equation_pr34_j = Ry_3 + sp.sin(sp.rad(angle_deg_3))*u3_c_pr34x + sp.cos(sp.rad(angle_deg_3))*u3_c_pr34y -Ry_4-sp.sin(sp.rad(angle_deg_4))*u4_c_pr34x-sp.cos(sp.rad(angle_deg_4))*u4_c_pr34y\n",
    "\n",
    "    equation_ppr_a = angle_deg_3-angle_deg_4 - alfa\n",
    "    equation_ppr_b = Ry_4-offset #Rx_4 - offset #Ry_4 \n",
    "\n",
    "    C_q = [eq_fija1,eq_fija2,eq_fija3,\n",
    "           equation_pr12_i,equation_pr12_j,\n",
    "            equation_pr23_i,equation_pr23_j,\n",
    "            equation_pr34_i,equation_pr34_j,\n",
    "            equation_ppr_a,equation_ppr_b]\n",
    "\n",
    "    # Use fsolve to find the solution with the initial estimates\n",
    "    initial_estimates = [0,0,0, 0, 0, 0, 0, 0, 1, 1, 0]\n",
    "\n",
    "   # f = sp.lambdify([(Ry_2, Ry_3, Ry_4, Rx_2, Rx_3, Rx_4, angle_deg_3, angle_deg_4)], C_q)\n",
    "   # f = sp.lambdify([(Rx_1,Rx_2,Rx_3,Rx_4,Ry_1,Ry_2,Ry_3,Ry_4,angle_deg_1,angle_deg_3,angle_deg_4)], C_q)\n",
    "    f = sp.lambdify([(Rx_1,Ry_1,angle_deg_1,Rx_2,Ry_2,Rx_3,Ry_3,angle_deg_3,Rx_4,Ry_4,angle_deg_4)], C_q)\n",
    "    solution = fsolve(f, initial_estimates)\n",
    "\n",
    "    return solution\n"
   ]
  },
  {
   "cell_type": "code",
   "execution_count": 19,
   "metadata": {},
   "outputs": [],
   "source": [
    "#import plotly.graph_objs as go\n",
    "\n",
    "def plot_slider_crank_simplified(Ry_2, Ry_3, Ry_4, Rx_2, Rx_3, Rx_4):\n",
    "    fig = go.Figure()\n",
    "\n",
    "    # Add the crank and connecting rod lines\n",
    "    fig.add_trace(go.Scatter(x=[Rx_2, Rx_3, Rx_4], y=[Ry_2, Ry_3, Ry_4],\n",
    "                             mode=\"lines+markers\",\n",
    "                             name=\"Slider-crank\",\n",
    "                             line=dict(color=\"royalblue\", width=4),\n",
    "                             marker=dict(size=10, color=\"red\")))\n",
    "\n",
    "    # Set axis properties\n",
    "    axis_range = [-20, 20]\n",
    "    fig.update_xaxes(range=axis_range, zeroline=True, zerolinecolor=\"black\")\n",
    "    fig.update_yaxes(range=axis_range, zeroline=True, zerolinecolor=\"black\")\n",
    "\n",
    "    # Set plot title and aspect ratio\n",
    "    fig.update_layout(title=\"Simplified Slider-crank Mechanism Visualization\",\n",
    "                      showlegend=False,\n",
    "                      autosize=False,\n",
    "                      width=800,\n",
    "                      height=800,\n",
    "                      margin=dict(l=50, r=50, b=100, t=100),\n",
    "                      plot_bgcolor=\"white\",\n",
    "                      xaxis=dict(constrain=\"domain\"),\n",
    "                      yaxis=dict(scaleanchor=\"x\", scaleratio=1))\n",
    "\n",
    "    fig.show()\n",
    "\n",
    "\n"
   ]
  },
  {
   "cell_type": "code",
   "execution_count": 20,
   "metadata": {},
   "outputs": [
    {
     "name": "stdout",
     "output_type": "stream",
     "text": [
      "[9.75827816e-26 9.23853477e-27 0.00000000e+00 1.95165563e-25\n",
      " 1.84770695e-26 5.00000000e+00 2.77156043e-26 8.21321070e+00\n",
      " 1.19282032e+01 1.00000000e+00 8.21321070e+00]\n"
     ]
    }
   ],
   "source": [
    "\n",
    "# Example usage:\n",
    "l2 = 5\n",
    "l3 = 7\n",
    "offset = 1\n",
    "angle_deg_2 = 0\n",
    "\n",
    "solution = slider_crank_position(l2, l3,offset, angle_deg_2)\n",
    "print(solution)\n"
   ]
  },
  {
   "cell_type": "code",
   "execution_count": 9,
   "metadata": {},
   "outputs": [],
   "source": [
    "# print(Rx_2, Ry_2, Rx_3, Ry_3, Rx_4, Ry_4)"
   ]
  },
  {
   "cell_type": "code",
   "execution_count": 21,
   "metadata": {},
   "outputs": [
    {
     "data": {
      "application/vnd.plotly.v1+json": {
       "config": {
        "plotlyServerURL": "https://plot.ly"
       },
       "data": [
        {
         "line": {
          "color": "royalblue",
          "width": 4
         },
         "marker": {
          "color": "red",
          "size": 10
         },
         "mode": "lines+markers",
         "name": "Slider-crank",
         "type": "scatter",
         "x": [
          1.951655632977012e-25,
          5,
          11.928203230275482
         ],
         "y": [
          1.8477069541672212e-26,
          2.7715604312511257e-26,
          1
         ]
        }
       ],
       "layout": {
        "autosize": false,
        "height": 800,
        "margin": {
         "b": 100,
         "l": 50,
         "r": 50,
         "t": 100
        },
        "plot_bgcolor": "white",
        "showlegend": false,
        "template": {
         "data": {
          "bar": [
           {
            "error_x": {
             "color": "#2a3f5f"
            },
            "error_y": {
             "color": "#2a3f5f"
            },
            "marker": {
             "line": {
              "color": "#E5ECF6",
              "width": 0.5
             },
             "pattern": {
              "fillmode": "overlay",
              "size": 10,
              "solidity": 0.2
             }
            },
            "type": "bar"
           }
          ],
          "barpolar": [
           {
            "marker": {
             "line": {
              "color": "#E5ECF6",
              "width": 0.5
             },
             "pattern": {
              "fillmode": "overlay",
              "size": 10,
              "solidity": 0.2
             }
            },
            "type": "barpolar"
           }
          ],
          "carpet": [
           {
            "aaxis": {
             "endlinecolor": "#2a3f5f",
             "gridcolor": "white",
             "linecolor": "white",
             "minorgridcolor": "white",
             "startlinecolor": "#2a3f5f"
            },
            "baxis": {
             "endlinecolor": "#2a3f5f",
             "gridcolor": "white",
             "linecolor": "white",
             "minorgridcolor": "white",
             "startlinecolor": "#2a3f5f"
            },
            "type": "carpet"
           }
          ],
          "choropleth": [
           {
            "colorbar": {
             "outlinewidth": 0,
             "ticks": ""
            },
            "type": "choropleth"
           }
          ],
          "contour": [
           {
            "colorbar": {
             "outlinewidth": 0,
             "ticks": ""
            },
            "colorscale": [
             [
              0,
              "#0d0887"
             ],
             [
              0.1111111111111111,
              "#46039f"
             ],
             [
              0.2222222222222222,
              "#7201a8"
             ],
             [
              0.3333333333333333,
              "#9c179e"
             ],
             [
              0.4444444444444444,
              "#bd3786"
             ],
             [
              0.5555555555555556,
              "#d8576b"
             ],
             [
              0.6666666666666666,
              "#ed7953"
             ],
             [
              0.7777777777777778,
              "#fb9f3a"
             ],
             [
              0.8888888888888888,
              "#fdca26"
             ],
             [
              1,
              "#f0f921"
             ]
            ],
            "type": "contour"
           }
          ],
          "contourcarpet": [
           {
            "colorbar": {
             "outlinewidth": 0,
             "ticks": ""
            },
            "type": "contourcarpet"
           }
          ],
          "heatmap": [
           {
            "colorbar": {
             "outlinewidth": 0,
             "ticks": ""
            },
            "colorscale": [
             [
              0,
              "#0d0887"
             ],
             [
              0.1111111111111111,
              "#46039f"
             ],
             [
              0.2222222222222222,
              "#7201a8"
             ],
             [
              0.3333333333333333,
              "#9c179e"
             ],
             [
              0.4444444444444444,
              "#bd3786"
             ],
             [
              0.5555555555555556,
              "#d8576b"
             ],
             [
              0.6666666666666666,
              "#ed7953"
             ],
             [
              0.7777777777777778,
              "#fb9f3a"
             ],
             [
              0.8888888888888888,
              "#fdca26"
             ],
             [
              1,
              "#f0f921"
             ]
            ],
            "type": "heatmap"
           }
          ],
          "heatmapgl": [
           {
            "colorbar": {
             "outlinewidth": 0,
             "ticks": ""
            },
            "colorscale": [
             [
              0,
              "#0d0887"
             ],
             [
              0.1111111111111111,
              "#46039f"
             ],
             [
              0.2222222222222222,
              "#7201a8"
             ],
             [
              0.3333333333333333,
              "#9c179e"
             ],
             [
              0.4444444444444444,
              "#bd3786"
             ],
             [
              0.5555555555555556,
              "#d8576b"
             ],
             [
              0.6666666666666666,
              "#ed7953"
             ],
             [
              0.7777777777777778,
              "#fb9f3a"
             ],
             [
              0.8888888888888888,
              "#fdca26"
             ],
             [
              1,
              "#f0f921"
             ]
            ],
            "type": "heatmapgl"
           }
          ],
          "histogram": [
           {
            "marker": {
             "pattern": {
              "fillmode": "overlay",
              "size": 10,
              "solidity": 0.2
             }
            },
            "type": "histogram"
           }
          ],
          "histogram2d": [
           {
            "colorbar": {
             "outlinewidth": 0,
             "ticks": ""
            },
            "colorscale": [
             [
              0,
              "#0d0887"
             ],
             [
              0.1111111111111111,
              "#46039f"
             ],
             [
              0.2222222222222222,
              "#7201a8"
             ],
             [
              0.3333333333333333,
              "#9c179e"
             ],
             [
              0.4444444444444444,
              "#bd3786"
             ],
             [
              0.5555555555555556,
              "#d8576b"
             ],
             [
              0.6666666666666666,
              "#ed7953"
             ],
             [
              0.7777777777777778,
              "#fb9f3a"
             ],
             [
              0.8888888888888888,
              "#fdca26"
             ],
             [
              1,
              "#f0f921"
             ]
            ],
            "type": "histogram2d"
           }
          ],
          "histogram2dcontour": [
           {
            "colorbar": {
             "outlinewidth": 0,
             "ticks": ""
            },
            "colorscale": [
             [
              0,
              "#0d0887"
             ],
             [
              0.1111111111111111,
              "#46039f"
             ],
             [
              0.2222222222222222,
              "#7201a8"
             ],
             [
              0.3333333333333333,
              "#9c179e"
             ],
             [
              0.4444444444444444,
              "#bd3786"
             ],
             [
              0.5555555555555556,
              "#d8576b"
             ],
             [
              0.6666666666666666,
              "#ed7953"
             ],
             [
              0.7777777777777778,
              "#fb9f3a"
             ],
             [
              0.8888888888888888,
              "#fdca26"
             ],
             [
              1,
              "#f0f921"
             ]
            ],
            "type": "histogram2dcontour"
           }
          ],
          "mesh3d": [
           {
            "colorbar": {
             "outlinewidth": 0,
             "ticks": ""
            },
            "type": "mesh3d"
           }
          ],
          "parcoords": [
           {
            "line": {
             "colorbar": {
              "outlinewidth": 0,
              "ticks": ""
             }
            },
            "type": "parcoords"
           }
          ],
          "pie": [
           {
            "automargin": true,
            "type": "pie"
           }
          ],
          "scatter": [
           {
            "fillpattern": {
             "fillmode": "overlay",
             "size": 10,
             "solidity": 0.2
            },
            "type": "scatter"
           }
          ],
          "scatter3d": [
           {
            "line": {
             "colorbar": {
              "outlinewidth": 0,
              "ticks": ""
             }
            },
            "marker": {
             "colorbar": {
              "outlinewidth": 0,
              "ticks": ""
             }
            },
            "type": "scatter3d"
           }
          ],
          "scattercarpet": [
           {
            "marker": {
             "colorbar": {
              "outlinewidth": 0,
              "ticks": ""
             }
            },
            "type": "scattercarpet"
           }
          ],
          "scattergeo": [
           {
            "marker": {
             "colorbar": {
              "outlinewidth": 0,
              "ticks": ""
             }
            },
            "type": "scattergeo"
           }
          ],
          "scattergl": [
           {
            "marker": {
             "colorbar": {
              "outlinewidth": 0,
              "ticks": ""
             }
            },
            "type": "scattergl"
           }
          ],
          "scattermapbox": [
           {
            "marker": {
             "colorbar": {
              "outlinewidth": 0,
              "ticks": ""
             }
            },
            "type": "scattermapbox"
           }
          ],
          "scatterpolar": [
           {
            "marker": {
             "colorbar": {
              "outlinewidth": 0,
              "ticks": ""
             }
            },
            "type": "scatterpolar"
           }
          ],
          "scatterpolargl": [
           {
            "marker": {
             "colorbar": {
              "outlinewidth": 0,
              "ticks": ""
             }
            },
            "type": "scatterpolargl"
           }
          ],
          "scatterternary": [
           {
            "marker": {
             "colorbar": {
              "outlinewidth": 0,
              "ticks": ""
             }
            },
            "type": "scatterternary"
           }
          ],
          "surface": [
           {
            "colorbar": {
             "outlinewidth": 0,
             "ticks": ""
            },
            "colorscale": [
             [
              0,
              "#0d0887"
             ],
             [
              0.1111111111111111,
              "#46039f"
             ],
             [
              0.2222222222222222,
              "#7201a8"
             ],
             [
              0.3333333333333333,
              "#9c179e"
             ],
             [
              0.4444444444444444,
              "#bd3786"
             ],
             [
              0.5555555555555556,
              "#d8576b"
             ],
             [
              0.6666666666666666,
              "#ed7953"
             ],
             [
              0.7777777777777778,
              "#fb9f3a"
             ],
             [
              0.8888888888888888,
              "#fdca26"
             ],
             [
              1,
              "#f0f921"
             ]
            ],
            "type": "surface"
           }
          ],
          "table": [
           {
            "cells": {
             "fill": {
              "color": "#EBF0F8"
             },
             "line": {
              "color": "white"
             }
            },
            "header": {
             "fill": {
              "color": "#C8D4E3"
             },
             "line": {
              "color": "white"
             }
            },
            "type": "table"
           }
          ]
         },
         "layout": {
          "annotationdefaults": {
           "arrowcolor": "#2a3f5f",
           "arrowhead": 0,
           "arrowwidth": 1
          },
          "autotypenumbers": "strict",
          "coloraxis": {
           "colorbar": {
            "outlinewidth": 0,
            "ticks": ""
           }
          },
          "colorscale": {
           "diverging": [
            [
             0,
             "#8e0152"
            ],
            [
             0.1,
             "#c51b7d"
            ],
            [
             0.2,
             "#de77ae"
            ],
            [
             0.3,
             "#f1b6da"
            ],
            [
             0.4,
             "#fde0ef"
            ],
            [
             0.5,
             "#f7f7f7"
            ],
            [
             0.6,
             "#e6f5d0"
            ],
            [
             0.7,
             "#b8e186"
            ],
            [
             0.8,
             "#7fbc41"
            ],
            [
             0.9,
             "#4d9221"
            ],
            [
             1,
             "#276419"
            ]
           ],
           "sequential": [
            [
             0,
             "#0d0887"
            ],
            [
             0.1111111111111111,
             "#46039f"
            ],
            [
             0.2222222222222222,
             "#7201a8"
            ],
            [
             0.3333333333333333,
             "#9c179e"
            ],
            [
             0.4444444444444444,
             "#bd3786"
            ],
            [
             0.5555555555555556,
             "#d8576b"
            ],
            [
             0.6666666666666666,
             "#ed7953"
            ],
            [
             0.7777777777777778,
             "#fb9f3a"
            ],
            [
             0.8888888888888888,
             "#fdca26"
            ],
            [
             1,
             "#f0f921"
            ]
           ],
           "sequentialminus": [
            [
             0,
             "#0d0887"
            ],
            [
             0.1111111111111111,
             "#46039f"
            ],
            [
             0.2222222222222222,
             "#7201a8"
            ],
            [
             0.3333333333333333,
             "#9c179e"
            ],
            [
             0.4444444444444444,
             "#bd3786"
            ],
            [
             0.5555555555555556,
             "#d8576b"
            ],
            [
             0.6666666666666666,
             "#ed7953"
            ],
            [
             0.7777777777777778,
             "#fb9f3a"
            ],
            [
             0.8888888888888888,
             "#fdca26"
            ],
            [
             1,
             "#f0f921"
            ]
           ]
          },
          "colorway": [
           "#636efa",
           "#EF553B",
           "#00cc96",
           "#ab63fa",
           "#FFA15A",
           "#19d3f3",
           "#FF6692",
           "#B6E880",
           "#FF97FF",
           "#FECB52"
          ],
          "font": {
           "color": "#2a3f5f"
          },
          "geo": {
           "bgcolor": "white",
           "lakecolor": "white",
           "landcolor": "#E5ECF6",
           "showlakes": true,
           "showland": true,
           "subunitcolor": "white"
          },
          "hoverlabel": {
           "align": "left"
          },
          "hovermode": "closest",
          "mapbox": {
           "style": "light"
          },
          "paper_bgcolor": "white",
          "plot_bgcolor": "#E5ECF6",
          "polar": {
           "angularaxis": {
            "gridcolor": "white",
            "linecolor": "white",
            "ticks": ""
           },
           "bgcolor": "#E5ECF6",
           "radialaxis": {
            "gridcolor": "white",
            "linecolor": "white",
            "ticks": ""
           }
          },
          "scene": {
           "xaxis": {
            "backgroundcolor": "#E5ECF6",
            "gridcolor": "white",
            "gridwidth": 2,
            "linecolor": "white",
            "showbackground": true,
            "ticks": "",
            "zerolinecolor": "white"
           },
           "yaxis": {
            "backgroundcolor": "#E5ECF6",
            "gridcolor": "white",
            "gridwidth": 2,
            "linecolor": "white",
            "showbackground": true,
            "ticks": "",
            "zerolinecolor": "white"
           },
           "zaxis": {
            "backgroundcolor": "#E5ECF6",
            "gridcolor": "white",
            "gridwidth": 2,
            "linecolor": "white",
            "showbackground": true,
            "ticks": "",
            "zerolinecolor": "white"
           }
          },
          "shapedefaults": {
           "line": {
            "color": "#2a3f5f"
           }
          },
          "ternary": {
           "aaxis": {
            "gridcolor": "white",
            "linecolor": "white",
            "ticks": ""
           },
           "baxis": {
            "gridcolor": "white",
            "linecolor": "white",
            "ticks": ""
           },
           "bgcolor": "#E5ECF6",
           "caxis": {
            "gridcolor": "white",
            "linecolor": "white",
            "ticks": ""
           }
          },
          "title": {
           "x": 0.05
          },
          "xaxis": {
           "automargin": true,
           "gridcolor": "white",
           "linecolor": "white",
           "ticks": "",
           "title": {
            "standoff": 15
           },
           "zerolinecolor": "white",
           "zerolinewidth": 2
          },
          "yaxis": {
           "automargin": true,
           "gridcolor": "white",
           "linecolor": "white",
           "ticks": "",
           "title": {
            "standoff": 15
           },
           "zerolinecolor": "white",
           "zerolinewidth": 2
          }
         }
        },
        "title": {
         "text": "Simplified Slider-crank Mechanism Visualization"
        },
        "width": 800,
        "xaxis": {
         "constrain": "domain",
         "range": [
          -20,
          20
         ],
         "zeroline": true,
         "zerolinecolor": "black"
        },
        "yaxis": {
         "range": [
          -20,
          20
         ],
         "scaleanchor": "x",
         "scaleratio": 1,
         "zeroline": true,
         "zerolinecolor": "black"
        }
       }
      }
     },
     "metadata": {},
     "output_type": "display_data"
    }
   ],
   "source": [
    "Rx_1, Ry_1 = solution[0], solution[1]\n",
    "angle_deg_1 = solution[2]\n",
    "\n",
    "Rx_2, Ry_2 = solution[3], solution[4]\n",
    "\n",
    "Rx_3, Ry_3 = solution[5], solution[6]\n",
    "angle_deg_3 = solution[7]\n",
    "\n",
    "Rx_4, Ry_4 = solution[8], solution[9]\n",
    "angle_deg_4 = solution[10]\n",
    "\n",
    "plot_slider_crank_simplified(Ry_2, Ry_3, Ry_4, Rx_2, Rx_3, Rx_4)"
   ]
  },
  {
   "cell_type": "code",
   "execution_count": 77,
   "metadata": {},
   "outputs": [],
   "source": [
    "import numpy as np\n",
    "import plotly.graph_objs as go\n",
    "\n",
    "def create_animation(l2, l3,offset):\n",
    "    \n",
    "\n",
    "    # Create a subplot with play button\n",
    "    fig = make_subplots(rows=1, cols=1, specs=[[{'type': 'scatter'}]])\n",
    "\n",
    "    # Set the range for axes\n",
    "    # fig.update_xaxes(range=[-10, 15], constrain=\"domain\", scaleanchor=\"y\")\n",
    "    # fig.update_yaxes(range=[-10, 15], scaleanchor=\"x\")\n",
    "    max_range = l2 + l3 +1\n",
    "    fig.update_xaxes(range=[-max_range, max_range], constrain=\"domain\", scaleanchor=\"y\")\n",
    "    fig.update_yaxes(range=[-l2*1.1, l2*1.1], scaleanchor=\"x\")\n",
    "\n",
    "    # Animation settings\n",
    "    animation_settings = dict(frame=dict(duration=100, redraw=True), fromcurrent=True)\n",
    "\n",
    "    # Add frames for the animation\n",
    "    frames = []\n",
    "\n",
    "    for angle_deg_2 in range(0, 361, 10):\n",
    "        solution = slider_crank_position(l2, l3,offset, angle_deg_2)\n",
    "        #Rx_2, Ry_2, Rx_3, Ry_3, Rx_4, Ry_4 = solution\n",
    "        Rx_1, Ry_1 = solution[0], solution[1]\n",
    "        angle_deg_1 = solution[2]\n",
    "\n",
    "        Rx_2, Ry_2 = solution[3], solution[4]\n",
    "\n",
    "        Rx_3, Ry_3 = solution[5], solution[6]\n",
    "        angle_deg_3 = solution[7]\n",
    "\n",
    "        Rx_4, Ry_4 = solution[8], solution[9]\n",
    "        angle_deg_4 = solution[10]\n",
    "        \n",
    "        frame = go.Frame(data=[\n",
    "            go.Scatter(x=[Rx_2, Rx_3], y=[Ry_2, Ry_3], mode='markers+lines', name='Crank'),\n",
    "            go.Scatter(x=[Rx_3, Rx_4], y=[Ry_3, Ry_4], mode='markers+lines', name='Connecting Rod')\n",
    "        ])\n",
    "        \n",
    "        frames.append(frame)\n",
    "\n",
    "    fig.frames = frames\n",
    "\n",
    "    # Set initial data\n",
    "    solution = slider_crank_position(l2, l3,offset, 0)\n",
    "    #Rx_2, Ry_2, Rx_3, Ry_3, Rx_4, Ry_4 = solution\n",
    "    Rx_1, Ry_1 = solution[0], solution[1]\n",
    "    angle_deg_1 = solution[2]\n",
    "\n",
    "    Rx_2, Ry_2 = solution[3], solution[4]\n",
    "\n",
    "    Rx_3, Ry_3 = solution[5], solution[6]\n",
    "    angle_deg_3 = solution[7]\n",
    "\n",
    "    Rx_4, Ry_4 = solution[8], solution[9]\n",
    "    angle_deg_4 = solution[10]\n",
    "\n",
    "    fig.add_trace(go.Scatter(x=[Rx_2, Rx_3], y=[Ry_2, Ry_3], mode='markers+lines', name='Crank'))\n",
    "    fig.add_trace(go.Scatter(x=[Rx_3, Rx_4], y=[Ry_3, Ry_4], mode='markers+lines', name='Connecting Rod'))\n",
    "\n",
    "    #add a title to the animation (centered)\n",
    "    fig.update_layout(title_text=\"Slider-Crank Mechanism Animation\", title_x=0.5)\n",
    "\n",
    "    #add the name of the axis\n",
    "    fig.update_xaxes(title_text=\"X (m)\")\n",
    "    fig.update_yaxes(title_text=\"Y (m)\")\n",
    "\n",
    "    # Set the layout for the animation\n",
    "    fig.update_layout(updatemenus=[dict(type='buttons', showactive=False, buttons=[dict(label='Play', method='animate', args=[None, animation_settings])])])\n",
    "\n",
    "    # Show the animation\n",
    "    #fig.show()\n",
    "    return fig\n"
   ]
  },
  {
   "cell_type": "code",
   "execution_count": 78,
   "metadata": {},
   "outputs": [
    {
     "data": {
      "application/vnd.plotly.v1+json": {
       "config": {
        "plotlyServerURL": "https://plot.ly"
       },
       "data": [
        {
         "mode": "markers+lines",
         "name": "Crank",
         "type": "scatter",
         "x": [
          1.951655632977012e-25,
          5
         ],
         "y": [
          1.8477069541672212e-26,
          2.7715604312511257e-26
         ]
        },
        {
         "mode": "markers+lines",
         "name": "Connecting Rod",
         "type": "scatter",
         "x": [
          5,
          11.928203230275482
         ],
         "y": [
          2.7715604312511257e-26,
          1
         ]
        }
       ],
       "frames": [
        {
         "data": [
          {
           "mode": "markers+lines",
           "name": "Crank",
           "type": "scatter",
           "x": [
            1.951655632977012e-25,
            5
           ],
           "y": [
            1.8477069541672212e-26,
            2.7715604312511257e-26
           ]
          },
          {
           "mode": "markers+lines",
           "name": "Connecting Rod",
           "type": "scatter",
           "x": [
            5,
            11.928203230275482
           ],
           "y": [
            2.7715604312511257e-26,
            1
           ]
          }
         ]
        },
        {
         "data": [
          {
           "mode": "markers+lines",
           "name": "Crank",
           "type": "scatter",
           "x": [
            3.421766599650255e-28,
            4.92403876506104
           ],
           "y": [
            5.662912347432092e-30,
            0.8682408883346516
           ]
          },
          {
           "mode": "markers+lines",
           "name": "Connecting Rod",
           "type": "scatter",
           "x": [
            4.92403876506104,
            11.922798622099512
           ],
           "y": [
            0.8682408883346516,
            1
           ]
          }
         ]
        },
        {
         "data": [
          {
           "mode": "markers+lines",
           "name": "Crank",
           "type": "scatter",
           "x": [
            6.354252614395318e-27,
            4.698463103929543
           ],
           "y": [
            5.249750747303792e-29,
            1.7101007166283435
           ]
          },
          {
           "mode": "markers+lines",
           "name": "Connecting Rod",
           "type": "scatter",
           "x": [
            4.698463103929543,
            11.662352604219155
           ],
           "y": [
            1.7101007166283435,
            1
           ]
          }
         ]
        },
        {
         "data": [
          {
           "mode": "markers+lines",
           "name": "Crank",
           "type": "scatter",
           "x": [
            -2.2681650618753943e-24,
            4.330127018922193
           ],
           "y": [
            8.699701748246426e-25,
            2.5
           ]
          },
          {
           "mode": "markers+lines",
           "name": "Connecting Rod",
           "type": "scatter",
           "x": [
            4.330127018922193,
            11.167524184509983
           ],
           "y": [
            2.5,
            1
           ]
          }
         ]
        },
        {
         "data": [
          {
           "mode": "markers+lines",
           "name": "Crank",
           "type": "scatter",
           "x": [
            -2.4133055120217988e-27,
            3.83022221559489
           ],
           "y": [
            8.940323761638921e-29,
            3.2139380484326963
           ]
          },
          {
           "mode": "markers+lines",
           "name": "Connecting Rod",
           "type": "scatter",
           "x": [
            3.83022221559489,
            10.470890729961651
           ],
           "y": [
            3.2139380484326963,
            1
           ]
          }
         ]
        },
        {
         "data": [
          {
           "mode": "markers+lines",
           "name": "Crank",
           "type": "scatter",
           "x": [
            -1.7296312089211114e-27,
            3.2139380484326967
           ],
           "y": [
            -6.912741098302434e-27,
            3.83022221559489
           ]
          },
          {
           "mode": "markers+lines",
           "name": "Connecting Rod",
           "type": "scatter",
           "x": [
            3.2139380484326967,
            9.616269046620255
           ],
           "y": [
            3.83022221559489,
            1
           ]
          }
         ]
        },
        {
         "data": [
          {
           "mode": "markers+lines",
           "name": "Crank",
           "type": "scatter",
           "x": [
            8.33072031633023e-26,
            2.5
           ],
           "y": [
            -3.0729763042354593e-26,
            4.330127018922193
           ]
          },
          {
           "mode": "markers+lines",
           "name": "Connecting Rod",
           "type": "scatter",
           "x": [
            2.5,
            8.657130341144786
           ],
           "y": [
            4.330127018922193,
            1
           ]
          }
         ]
        },
        {
         "data": [
          {
           "mode": "markers+lines",
           "name": "Crank",
           "type": "scatter",
           "x": [
            2.0036543125274898e-26,
            1.7101007166283442
           ],
           "y": [
            -2.367344875317521e-25,
            4.698463103929542
           ]
          },
          {
           "mode": "markers+lines",
           "name": "Connecting Rod",
           "type": "scatter",
           "x": [
            1.7101007166283442,
            7.65327921545185
           ],
           "y": [
            4.698463103929542,
            1
           ]
          }
         ]
        },
        {
         "data": [
          {
           "mode": "markers+lines",
           "name": "Crank",
           "type": "scatter",
           "x": [
            3.9589695477392815e-25,
            0.8682408883346521
           ],
           "y": [
            -3.7488549136194008e-25,
            4.92403876506104
           ]
          },
          {
           "mode": "markers+lines",
           "name": "Connecting Rod",
           "type": "scatter",
           "x": [
            0.8682408883346521,
            6.664957180367074
           ],
           "y": [
            4.92403876506104,
            1
           ]
          }
         ]
        },
        {
         "data": [
          {
           "mode": "markers+lines",
           "name": "Crank",
           "type": "scatter",
           "x": [
            -2.387873445654235e-25,
            -3.5818101684832333e-25
           ],
           "y": [
            -1.0273675293618292e-25,
            5
           ]
          },
          {
           "mode": "markers+lines",
           "name": "Connecting Rod",
           "type": "scatter",
           "x": [
            -3.5818101684832333e-25,
            5.744562646540116
           ],
           "y": [
            5,
            1
           ]
          }
         ]
        },
        {
         "data": [
          {
           "mode": "markers+lines",
           "name": "Crank",
           "type": "scatter",
           "x": [
            2.374481345817752e-25,
            -0.8682408883346521
           ],
           "y": [
            -1.550148535996275e-25,
            4.92403876506104
           ]
          },
          {
           "mode": "markers+lines",
           "name": "Connecting Rod",
           "type": "scatter",
           "x": [
            -0.8682408883346521,
            4.92847540369828
           ],
           "y": [
            4.92403876506104,
            1
           ]
          }
         ]
        },
        {
         "data": [
          {
           "mode": "markers+lines",
           "name": "Crank",
           "type": "scatter",
           "x": [
            2.6865823787887467e-25,
            -1.7101007166283442
           ],
           "y": [
            -2.150551017771032e-25,
            4.698463103929542
           ]
          },
          {
           "mode": "markers+lines",
           "name": "Connecting Rod",
           "type": "scatter",
           "x": [
            -1.7101007166283442,
            4.233077782195602
           ],
           "y": [
            4.698463103929542,
            1
           ]
          }
         ]
        },
        {
         "data": [
          {
           "mode": "markers+lines",
           "name": "Crank",
           "type": "scatter",
           "x": [
            -1.0661687055944128e-25,
            -2.5
           ],
           "y": [
            1.8396440135396292e-26,
            4.330127018922193
           ]
          },
          {
           "mode": "markers+lines",
           "name": "Connecting Rod",
           "type": "scatter",
           "x": [
            -2.5,
            3.6571303411449247
           ],
           "y": [
            4.330127018922193,
            1
           ]
          }
         ]
        },
        {
         "data": [
          {
           "mode": "markers+lines",
           "name": "Crank",
           "type": "scatter",
           "x": [
            -1.3896562026867186e-26,
            -3.2139380484326967
           ],
           "y": [
            -7.204139169734206e-28,
            3.83022221559489
           ]
          },
          {
           "mode": "markers+lines",
           "name": "Connecting Rod",
           "type": "scatter",
           "x": [
            -3.2139380484326967,
            3.188392949754876
           ],
           "y": [
            3.83022221559489,
            1
           ]
          }
         ]
        },
        {
         "data": [
          {
           "mode": "markers+lines",
           "name": "Crank",
           "type": "scatter",
           "x": [
            -9.63323643992972e-24,
            -3.83022221559489
           ],
           "y": [
            -1.9455274423842726e-24,
            3.2139380484326963
           ]
          },
          {
           "mode": "markers+lines",
           "name": "Connecting Rod",
           "type": "scatter",
           "x": [
            -3.83022221559489,
            2.8104462987636305
           ],
           "y": [
            3.2139380484326963,
            1
           ]
          }
         ]
        },
        {
         "data": [
          {
           "mode": "markers+lines",
           "name": "Crank",
           "type": "scatter",
           "x": [
            -3.3969762111003835e-25,
            -4.330127018922193
           ],
           "y": [
            -1.0091886271494285e-25,
            2.5
           ]
          },
          {
           "mode": "markers+lines",
           "name": "Connecting Rod",
           "type": "scatter",
           "x": [
            -4.330127018922193,
            2.507270146666273
           ],
           "y": [
            2.5,
            1
           ]
          }
         ]
        },
        {
         "data": [
          {
           "mode": "markers+lines",
           "name": "Crank",
           "type": "scatter",
           "x": [
            -2.4070126013914265e-27,
            -4.698463103929543
           ],
           "y": [
            6.39632078080012e-28,
            1.7101007166283435
           ]
          },
          {
           "mode": "markers+lines",
           "name": "Connecting Rod",
           "type": "scatter",
           "x": [
            -4.698463103929543,
            2.26542639636007
           ],
           "y": [
            1.7101007166283435,
            1
           ]
          }
         ]
        },
        {
         "data": [
          {
           "mode": "markers+lines",
           "name": "Crank",
           "type": "scatter",
           "x": [
            -3.068267140620254e-27,
            -4.92403876506104
           ],
           "y": [
            -3.245085740683511e-30,
            0.8682408883346516
           ]
          },
          {
           "mode": "markers+lines",
           "name": "Connecting Rod",
           "type": "scatter",
           "x": [
            -4.92403876506104,
            2.074721091977432
           ],
           "y": [
            0.8682408883346516,
            1
           ]
          }
         ]
        },
        {
         "data": [
          {
           "mode": "markers+lines",
           "name": "Crank",
           "type": "scatter",
           "x": [
            -9.996184801511956e-26,
            -5
           ],
           "y": [
            -1.7608502387657234e-27,
            -2.641275358146381e-27
           ]
          },
          {
           "mode": "markers+lines",
           "name": "Connecting Rod",
           "type": "scatter",
           "x": [
            -5,
            1.9282032302755059
           ],
           "y": [
            -2.641275358146381e-27,
            1
           ]
          }
         ]
        },
        {
         "data": [
          {
           "mode": "markers+lines",
           "name": "Crank",
           "type": "scatter",
           "x": [
            5.288785728154558e-24,
            -4.92403876506104
           ],
           "y": [
            -2.145748168130869e-25,
            -0.8682408883346516
           ]
          },
          {
           "mode": "markers+lines",
           "name": "Connecting Rod",
           "type": "scatter",
           "x": [
            -4.92403876506104,
            1.8220472100167409
           ],
           "y": [
            -0.8682408883346516,
            1
           ]
          }
         ]
        },
        {
         "data": [
          {
           "mode": "markers+lines",
           "name": "Crank",
           "type": "scatter",
           "x": [
            4.911604579711646e-27,
            -4.698463103929543
           ],
           "y": [
            -1.1172727520924938e-27,
            -1.7101007166283435
           ]
          },
          {
           "mode": "markers+lines",
           "name": "Connecting Rod",
           "type": "scatter",
           "x": [
            -4.698463103929543,
            1.7556328130622947
           ],
           "y": [
            -1.7101007166283435,
            1
           ]
          }
         ]
        },
        {
         "data": [
          {
           "mode": "markers+lines",
           "name": "Crank",
           "type": "scatter",
           "x": [
            -1.4365377996984924e-25,
            -4.330127018922193
           ],
           "y": [
            -2.429356616325843e-26,
            -2.5
           ]
          },
          {
           "mode": "markers+lines",
           "name": "Connecting Rod",
           "type": "scatter",
           "x": [
            -4.330127018922193,
            1.7320508075694074
           ],
           "y": [
            -2.5,
            1
           ]
          }
         ]
        },
        {
         "data": [
          {
           "mode": "markers+lines",
           "name": "Crank",
           "type": "scatter",
           "x": [
            2.73046325162736e-25,
            -3.83022221559489
           ],
           "y": [
            3.7520886633122718e-25,
            -3.2139380484326963
           ]
          },
          {
           "mode": "markers+lines",
           "name": "Connecting Rod",
           "type": "scatter",
           "x": [
            -3.83022221559489,
            1.7592970950468887
           ],
           "y": [
            -3.2139380484326963,
            1
           ]
          }
         ]
        },
        {
         "data": [
          {
           "mode": "markers+lines",
           "name": "Crank",
           "type": "scatter",
           "x": [
            1.888928495416883e-24,
            -3.2139380484326967
           ],
           "y": [
            8.006773068761884e-25,
            -3.83022221559489
           ]
          },
          {
           "mode": "markers+lines",
           "name": "Connecting Rod",
           "type": "scatter",
           "x": [
            -3.2139380484326967,
            1.8525156766257769
           ],
           "y": [
            -3.83022221559489,
            1
           ]
          }
         ]
        },
        {
         "data": [
          {
           "mode": "markers+lines",
           "name": "Crank",
           "type": "scatter",
           "x": [
            1.7132634370015806e-27,
            -2.5
           ],
           "y": [
            7.275842924459378e-28,
            -4.330127018922193
           ]
          },
          {
           "mode": "markers+lines",
           "name": "Connecting Rod",
           "type": "scatter",
           "x": [
            -2.5,
            2.037592529321656
           ],
           "y": [
            -4.330127018922193,
            1
           ]
          }
         ]
        },
        {
         "data": [
          {
           "mode": "markers+lines",
           "name": "Crank",
           "type": "scatter",
           "x": [
            -1.0424625439684293e-25,
            -1.7101007166283442
           ],
           "y": [
            1.661677662359786e-25,
            -4.698463103929542
           ]
          },
          {
           "mode": "markers+lines",
           "name": "Connecting Rod",
           "type": "scatter",
           "x": [
            -1.7101007166283442,
            2.3553043373788958
           ],
           "y": [
            -4.698463103929542,
            1
           ]
          }
         ]
        },
        {
         "data": [
          {
           "mode": "markers+lines",
           "name": "Crank",
           "type": "scatter",
           "x": [
            -5.117044140067597e-25,
            -0.8682408883346521
           ],
           "y": [
            1.4878427757216087e-24,
            -4.92403876506104
           ]
          },
          {
           "mode": "markers+lines",
           "name": "Connecting Rod",
           "type": "scatter",
           "x": [
            -0.8682408883346521,
            2.860802515810812
           ],
           "y": [
            -4.92403876506104,
            1
           ]
          }
         ]
        },
        {
         "data": [
          {
           "mode": "markers+lines",
           "name": "Crank",
           "type": "scatter",
           "x": [
            2.387843541096758e-25,
            3.58176531165266e-25
           ],
           "y": [
            -1.5854014253373766e-24,
            -5
           ]
          },
          {
           "mode": "markers+lines",
           "name": "Connecting Rod",
           "type": "scatter",
           "x": [
            3.58176531165266e-25,
            3.6055512754508365
           ],
           "y": [
            -5,
            1
           ]
          }
         ]
        },
        {
         "data": [
          {
           "mode": "markers+lines",
           "name": "Crank",
           "type": "scatter",
           "x": [
            -8.12035121190869e-26,
            0.8682408883346521
           ],
           "y": [
            -1.9653472340931006e-25,
            -4.92403876506104
           ]
          },
          {
           "mode": "markers+lines",
           "name": "Connecting Rod",
           "type": "scatter",
           "x": [
            0.8682408883346521,
            4.597284292480782
           ],
           "y": [
            -4.92403876506104,
            1
           ]
          }
         ]
        },
        {
         "data": [
          {
           "mode": "markers+lines",
           "name": "Crank",
           "type": "scatter",
           "x": [
            4.360345210710068e-26,
            1.7101007166283442
           ],
           "y": [
            1.4222087492879171e-25,
            -4.698463103929542
           ]
          },
          {
           "mode": "markers+lines",
           "name": "Connecting Rod",
           "type": "scatter",
           "x": [
            1.7101007166283442,
            5.775505770635331
           ],
           "y": [
            -4.698463103929542,
            1
           ]
          }
         ]
        },
        {
         "data": [
          {
           "mode": "markers+lines",
           "name": "Crank",
           "type": "scatter",
           "x": [
            1.70727966963347e-27,
            2.5
           ],
           "y": [
            -1.1647322576508512e-26,
            -4.330127018922193
           ]
          },
          {
           "mode": "markers+lines",
           "name": "Connecting Rod",
           "type": "scatter",
           "x": [
            2.5,
            7.037592529321562
           ],
           "y": [
            -4.330127018922193,
            1
           ]
          }
         ]
        },
        {
         "data": [
          {
           "mode": "markers+lines",
           "name": "Crank",
           "type": "scatter",
           "x": [
            4.3359705208590855e-24,
            3.2139380484326967
           ],
           "y": [
            -1.6289655492652328e-24,
            -3.83022221559489
           ]
          },
          {
           "mode": "markers+lines",
           "name": "Connecting Rod",
           "type": "scatter",
           "x": [
            3.2139380484326967,
            8.280391773482757
           ],
           "y": [
            -3.83022221559489,
            1
           ]
          }
         ]
        },
        {
         "data": [
          {
           "mode": "markers+lines",
           "name": "Crank",
           "type": "scatter",
           "x": [
            1.262417298592638e-25,
            3.83022221559489
           ],
           "y": [
            2.010086137393421e-26,
            -3.2139380484326963
           ]
          },
          {
           "mode": "markers+lines",
           "name": "Connecting Rod",
           "type": "scatter",
           "x": [
            3.83022221559489,
            9.41974152623226
           ],
           "y": [
            -3.2139380484326963,
            1
           ]
          }
         ]
        },
        {
         "data": [
          {
           "mode": "markers+lines",
           "name": "Crank",
           "type": "scatter",
           "x": [
            5.954782694390962e-26,
            4.330127018922193
           ],
           "y": [
            3.924201449638598e-26,
            -2.5
           ]
          },
          {
           "mode": "markers+lines",
           "name": "Connecting Rod",
           "type": "scatter",
           "x": [
            4.330127018922193,
            10.392304845413388
           ],
           "y": [
            -2.5,
            1
           ]
          }
         ]
        },
        {
         "data": [
          {
           "mode": "markers+lines",
           "name": "Crank",
           "type": "scatter",
           "x": [
            -1.2786441703989075e-27,
            4.698463103929543
           ],
           "y": [
            -7.043768648485072e-30,
            -1.7101007166283435
           ]
          },
          {
           "mode": "markers+lines",
           "name": "Connecting Rod",
           "type": "scatter",
           "x": [
            4.698463103929543,
            11.152559020921371
           ],
           "y": [
            -1.7101007166283435,
            1
           ]
          }
         ]
        },
        {
         "data": [
          {
           "mode": "markers+lines",
           "name": "Crank",
           "type": "scatter",
           "x": [
            -2.927633462457322e-24,
            4.92403876506104
           ],
           "y": [
            -3.057572458775263e-25,
            -0.8682408883346516
           ]
          },
          {
           "mode": "markers+lines",
           "name": "Connecting Rod",
           "type": "scatter",
           "x": [
            4.92403876506104,
            11.670124740134575
           ],
           "y": [
            -0.8682408883346516,
            1
           ]
          }
         ]
        },
        {
         "data": [
          {
           "mode": "markers+lines",
           "name": "Crank",
           "type": "scatter",
           "x": [
            1.951655632977012e-25,
            5
           ],
           "y": [
            1.8477069541672212e-26,
            2.7715604312511257e-26
           ]
          },
          {
           "mode": "markers+lines",
           "name": "Connecting Rod",
           "type": "scatter",
           "x": [
            5,
            11.928203230275482
           ],
           "y": [
            2.7715604312511257e-26,
            1
           ]
          }
         ]
        }
       ],
       "layout": {
        "template": {
         "data": {
          "bar": [
           {
            "error_x": {
             "color": "#2a3f5f"
            },
            "error_y": {
             "color": "#2a3f5f"
            },
            "marker": {
             "line": {
              "color": "#E5ECF6",
              "width": 0.5
             },
             "pattern": {
              "fillmode": "overlay",
              "size": 10,
              "solidity": 0.2
             }
            },
            "type": "bar"
           }
          ],
          "barpolar": [
           {
            "marker": {
             "line": {
              "color": "#E5ECF6",
              "width": 0.5
             },
             "pattern": {
              "fillmode": "overlay",
              "size": 10,
              "solidity": 0.2
             }
            },
            "type": "barpolar"
           }
          ],
          "carpet": [
           {
            "aaxis": {
             "endlinecolor": "#2a3f5f",
             "gridcolor": "white",
             "linecolor": "white",
             "minorgridcolor": "white",
             "startlinecolor": "#2a3f5f"
            },
            "baxis": {
             "endlinecolor": "#2a3f5f",
             "gridcolor": "white",
             "linecolor": "white",
             "minorgridcolor": "white",
             "startlinecolor": "#2a3f5f"
            },
            "type": "carpet"
           }
          ],
          "choropleth": [
           {
            "colorbar": {
             "outlinewidth": 0,
             "ticks": ""
            },
            "type": "choropleth"
           }
          ],
          "contour": [
           {
            "colorbar": {
             "outlinewidth": 0,
             "ticks": ""
            },
            "colorscale": [
             [
              0,
              "#0d0887"
             ],
             [
              0.1111111111111111,
              "#46039f"
             ],
             [
              0.2222222222222222,
              "#7201a8"
             ],
             [
              0.3333333333333333,
              "#9c179e"
             ],
             [
              0.4444444444444444,
              "#bd3786"
             ],
             [
              0.5555555555555556,
              "#d8576b"
             ],
             [
              0.6666666666666666,
              "#ed7953"
             ],
             [
              0.7777777777777778,
              "#fb9f3a"
             ],
             [
              0.8888888888888888,
              "#fdca26"
             ],
             [
              1,
              "#f0f921"
             ]
            ],
            "type": "contour"
           }
          ],
          "contourcarpet": [
           {
            "colorbar": {
             "outlinewidth": 0,
             "ticks": ""
            },
            "type": "contourcarpet"
           }
          ],
          "heatmap": [
           {
            "colorbar": {
             "outlinewidth": 0,
             "ticks": ""
            },
            "colorscale": [
             [
              0,
              "#0d0887"
             ],
             [
              0.1111111111111111,
              "#46039f"
             ],
             [
              0.2222222222222222,
              "#7201a8"
             ],
             [
              0.3333333333333333,
              "#9c179e"
             ],
             [
              0.4444444444444444,
              "#bd3786"
             ],
             [
              0.5555555555555556,
              "#d8576b"
             ],
             [
              0.6666666666666666,
              "#ed7953"
             ],
             [
              0.7777777777777778,
              "#fb9f3a"
             ],
             [
              0.8888888888888888,
              "#fdca26"
             ],
             [
              1,
              "#f0f921"
             ]
            ],
            "type": "heatmap"
           }
          ],
          "heatmapgl": [
           {
            "colorbar": {
             "outlinewidth": 0,
             "ticks": ""
            },
            "colorscale": [
             [
              0,
              "#0d0887"
             ],
             [
              0.1111111111111111,
              "#46039f"
             ],
             [
              0.2222222222222222,
              "#7201a8"
             ],
             [
              0.3333333333333333,
              "#9c179e"
             ],
             [
              0.4444444444444444,
              "#bd3786"
             ],
             [
              0.5555555555555556,
              "#d8576b"
             ],
             [
              0.6666666666666666,
              "#ed7953"
             ],
             [
              0.7777777777777778,
              "#fb9f3a"
             ],
             [
              0.8888888888888888,
              "#fdca26"
             ],
             [
              1,
              "#f0f921"
             ]
            ],
            "type": "heatmapgl"
           }
          ],
          "histogram": [
           {
            "marker": {
             "pattern": {
              "fillmode": "overlay",
              "size": 10,
              "solidity": 0.2
             }
            },
            "type": "histogram"
           }
          ],
          "histogram2d": [
           {
            "colorbar": {
             "outlinewidth": 0,
             "ticks": ""
            },
            "colorscale": [
             [
              0,
              "#0d0887"
             ],
             [
              0.1111111111111111,
              "#46039f"
             ],
             [
              0.2222222222222222,
              "#7201a8"
             ],
             [
              0.3333333333333333,
              "#9c179e"
             ],
             [
              0.4444444444444444,
              "#bd3786"
             ],
             [
              0.5555555555555556,
              "#d8576b"
             ],
             [
              0.6666666666666666,
              "#ed7953"
             ],
             [
              0.7777777777777778,
              "#fb9f3a"
             ],
             [
              0.8888888888888888,
              "#fdca26"
             ],
             [
              1,
              "#f0f921"
             ]
            ],
            "type": "histogram2d"
           }
          ],
          "histogram2dcontour": [
           {
            "colorbar": {
             "outlinewidth": 0,
             "ticks": ""
            },
            "colorscale": [
             [
              0,
              "#0d0887"
             ],
             [
              0.1111111111111111,
              "#46039f"
             ],
             [
              0.2222222222222222,
              "#7201a8"
             ],
             [
              0.3333333333333333,
              "#9c179e"
             ],
             [
              0.4444444444444444,
              "#bd3786"
             ],
             [
              0.5555555555555556,
              "#d8576b"
             ],
             [
              0.6666666666666666,
              "#ed7953"
             ],
             [
              0.7777777777777778,
              "#fb9f3a"
             ],
             [
              0.8888888888888888,
              "#fdca26"
             ],
             [
              1,
              "#f0f921"
             ]
            ],
            "type": "histogram2dcontour"
           }
          ],
          "mesh3d": [
           {
            "colorbar": {
             "outlinewidth": 0,
             "ticks": ""
            },
            "type": "mesh3d"
           }
          ],
          "parcoords": [
           {
            "line": {
             "colorbar": {
              "outlinewidth": 0,
              "ticks": ""
             }
            },
            "type": "parcoords"
           }
          ],
          "pie": [
           {
            "automargin": true,
            "type": "pie"
           }
          ],
          "scatter": [
           {
            "fillpattern": {
             "fillmode": "overlay",
             "size": 10,
             "solidity": 0.2
            },
            "type": "scatter"
           }
          ],
          "scatter3d": [
           {
            "line": {
             "colorbar": {
              "outlinewidth": 0,
              "ticks": ""
             }
            },
            "marker": {
             "colorbar": {
              "outlinewidth": 0,
              "ticks": ""
             }
            },
            "type": "scatter3d"
           }
          ],
          "scattercarpet": [
           {
            "marker": {
             "colorbar": {
              "outlinewidth": 0,
              "ticks": ""
             }
            },
            "type": "scattercarpet"
           }
          ],
          "scattergeo": [
           {
            "marker": {
             "colorbar": {
              "outlinewidth": 0,
              "ticks": ""
             }
            },
            "type": "scattergeo"
           }
          ],
          "scattergl": [
           {
            "marker": {
             "colorbar": {
              "outlinewidth": 0,
              "ticks": ""
             }
            },
            "type": "scattergl"
           }
          ],
          "scattermapbox": [
           {
            "marker": {
             "colorbar": {
              "outlinewidth": 0,
              "ticks": ""
             }
            },
            "type": "scattermapbox"
           }
          ],
          "scatterpolar": [
           {
            "marker": {
             "colorbar": {
              "outlinewidth": 0,
              "ticks": ""
             }
            },
            "type": "scatterpolar"
           }
          ],
          "scatterpolargl": [
           {
            "marker": {
             "colorbar": {
              "outlinewidth": 0,
              "ticks": ""
             }
            },
            "type": "scatterpolargl"
           }
          ],
          "scatterternary": [
           {
            "marker": {
             "colorbar": {
              "outlinewidth": 0,
              "ticks": ""
             }
            },
            "type": "scatterternary"
           }
          ],
          "surface": [
           {
            "colorbar": {
             "outlinewidth": 0,
             "ticks": ""
            },
            "colorscale": [
             [
              0,
              "#0d0887"
             ],
             [
              0.1111111111111111,
              "#46039f"
             ],
             [
              0.2222222222222222,
              "#7201a8"
             ],
             [
              0.3333333333333333,
              "#9c179e"
             ],
             [
              0.4444444444444444,
              "#bd3786"
             ],
             [
              0.5555555555555556,
              "#d8576b"
             ],
             [
              0.6666666666666666,
              "#ed7953"
             ],
             [
              0.7777777777777778,
              "#fb9f3a"
             ],
             [
              0.8888888888888888,
              "#fdca26"
             ],
             [
              1,
              "#f0f921"
             ]
            ],
            "type": "surface"
           }
          ],
          "table": [
           {
            "cells": {
             "fill": {
              "color": "#EBF0F8"
             },
             "line": {
              "color": "white"
             }
            },
            "header": {
             "fill": {
              "color": "#C8D4E3"
             },
             "line": {
              "color": "white"
             }
            },
            "type": "table"
           }
          ]
         },
         "layout": {
          "annotationdefaults": {
           "arrowcolor": "#2a3f5f",
           "arrowhead": 0,
           "arrowwidth": 1
          },
          "autotypenumbers": "strict",
          "coloraxis": {
           "colorbar": {
            "outlinewidth": 0,
            "ticks": ""
           }
          },
          "colorscale": {
           "diverging": [
            [
             0,
             "#8e0152"
            ],
            [
             0.1,
             "#c51b7d"
            ],
            [
             0.2,
             "#de77ae"
            ],
            [
             0.3,
             "#f1b6da"
            ],
            [
             0.4,
             "#fde0ef"
            ],
            [
             0.5,
             "#f7f7f7"
            ],
            [
             0.6,
             "#e6f5d0"
            ],
            [
             0.7,
             "#b8e186"
            ],
            [
             0.8,
             "#7fbc41"
            ],
            [
             0.9,
             "#4d9221"
            ],
            [
             1,
             "#276419"
            ]
           ],
           "sequential": [
            [
             0,
             "#0d0887"
            ],
            [
             0.1111111111111111,
             "#46039f"
            ],
            [
             0.2222222222222222,
             "#7201a8"
            ],
            [
             0.3333333333333333,
             "#9c179e"
            ],
            [
             0.4444444444444444,
             "#bd3786"
            ],
            [
             0.5555555555555556,
             "#d8576b"
            ],
            [
             0.6666666666666666,
             "#ed7953"
            ],
            [
             0.7777777777777778,
             "#fb9f3a"
            ],
            [
             0.8888888888888888,
             "#fdca26"
            ],
            [
             1,
             "#f0f921"
            ]
           ],
           "sequentialminus": [
            [
             0,
             "#0d0887"
            ],
            [
             0.1111111111111111,
             "#46039f"
            ],
            [
             0.2222222222222222,
             "#7201a8"
            ],
            [
             0.3333333333333333,
             "#9c179e"
            ],
            [
             0.4444444444444444,
             "#bd3786"
            ],
            [
             0.5555555555555556,
             "#d8576b"
            ],
            [
             0.6666666666666666,
             "#ed7953"
            ],
            [
             0.7777777777777778,
             "#fb9f3a"
            ],
            [
             0.8888888888888888,
             "#fdca26"
            ],
            [
             1,
             "#f0f921"
            ]
           ]
          },
          "colorway": [
           "#636efa",
           "#EF553B",
           "#00cc96",
           "#ab63fa",
           "#FFA15A",
           "#19d3f3",
           "#FF6692",
           "#B6E880",
           "#FF97FF",
           "#FECB52"
          ],
          "font": {
           "color": "#2a3f5f"
          },
          "geo": {
           "bgcolor": "white",
           "lakecolor": "white",
           "landcolor": "#E5ECF6",
           "showlakes": true,
           "showland": true,
           "subunitcolor": "white"
          },
          "hoverlabel": {
           "align": "left"
          },
          "hovermode": "closest",
          "mapbox": {
           "style": "light"
          },
          "paper_bgcolor": "white",
          "plot_bgcolor": "#E5ECF6",
          "polar": {
           "angularaxis": {
            "gridcolor": "white",
            "linecolor": "white",
            "ticks": ""
           },
           "bgcolor": "#E5ECF6",
           "radialaxis": {
            "gridcolor": "white",
            "linecolor": "white",
            "ticks": ""
           }
          },
          "scene": {
           "xaxis": {
            "backgroundcolor": "#E5ECF6",
            "gridcolor": "white",
            "gridwidth": 2,
            "linecolor": "white",
            "showbackground": true,
            "ticks": "",
            "zerolinecolor": "white"
           },
           "yaxis": {
            "backgroundcolor": "#E5ECF6",
            "gridcolor": "white",
            "gridwidth": 2,
            "linecolor": "white",
            "showbackground": true,
            "ticks": "",
            "zerolinecolor": "white"
           },
           "zaxis": {
            "backgroundcolor": "#E5ECF6",
            "gridcolor": "white",
            "gridwidth": 2,
            "linecolor": "white",
            "showbackground": true,
            "ticks": "",
            "zerolinecolor": "white"
           }
          },
          "shapedefaults": {
           "line": {
            "color": "#2a3f5f"
           }
          },
          "ternary": {
           "aaxis": {
            "gridcolor": "white",
            "linecolor": "white",
            "ticks": ""
           },
           "baxis": {
            "gridcolor": "white",
            "linecolor": "white",
            "ticks": ""
           },
           "bgcolor": "#E5ECF6",
           "caxis": {
            "gridcolor": "white",
            "linecolor": "white",
            "ticks": ""
           }
          },
          "title": {
           "x": 0.05
          },
          "xaxis": {
           "automargin": true,
           "gridcolor": "white",
           "linecolor": "white",
           "ticks": "",
           "title": {
            "standoff": 15
           },
           "zerolinecolor": "white",
           "zerolinewidth": 2
          },
          "yaxis": {
           "automargin": true,
           "gridcolor": "white",
           "linecolor": "white",
           "ticks": "",
           "title": {
            "standoff": 15
           },
           "zerolinecolor": "white",
           "zerolinewidth": 2
          }
         }
        },
        "title": {
         "text": "Slider-Crank Mechanism Animation",
         "x": 0.5
        },
        "updatemenus": [
         {
          "buttons": [
           {
            "args": [
             null,
             {
              "frame": {
               "duration": 100,
               "redraw": true
              },
              "fromcurrent": true
             }
            ],
            "label": "Play",
            "method": "animate"
           }
          ],
          "showactive": false,
          "type": "buttons"
         }
        ],
        "xaxis": {
         "anchor": "y",
         "constrain": "domain",
         "domain": [
          0,
          1
         ],
         "range": [
          -13,
          13
         ],
         "scaleanchor": "y",
         "title": {
          "text": "X (m)"
         }
        },
        "yaxis": {
         "anchor": "x",
         "domain": [
          0,
          1
         ],
         "range": [
          -5.5,
          5.5
         ],
         "scaleanchor": "x",
         "title": {
          "text": "Y (m)"
         }
        }
       }
      }
     },
     "metadata": {},
     "output_type": "display_data"
    }
   ],
   "source": [
    "# Example usage\n",
    "l2 = 5\n",
    "l3 = 7\n",
    "offset = 1\n",
    "\n",
    "animated_figure = create_animation(l2, l3, offset)\n",
    "animated_figure.show()"
   ]
  },
  {
   "cell_type": "code",
   "execution_count": 79,
   "metadata": {},
   "outputs": [
    {
     "name": "stdout",
     "output_type": "stream",
     "text": [
      "Range of motion: 10.196152422706074, instead of 10\n"
     ]
    },
    {
     "data": {
      "application/vnd.plotly.v1+json": {
       "config": {
        "plotlyServerURL": "https://plot.ly"
       },
       "data": [
        {
         "mode": "lines+markers",
         "type": "scatter",
         "x": [
          0,
          10,
          20,
          30,
          40,
          50,
          60,
          70,
          80,
          90,
          100,
          110,
          120,
          130,
          140,
          150,
          160,
          170,
          180,
          190,
          200,
          210,
          220,
          230,
          240,
          250,
          260,
          270,
          280,
          290,
          300,
          310,
          320,
          330,
          340,
          350,
          360
         ],
         "y": [
          11.928203230275482,
          11.922798622099512,
          11.662352604219155,
          11.167524184509983,
          10.470890729961651,
          9.616269046620255,
          8.657130341144786,
          7.65327921545185,
          6.664957180367074,
          5.744562646540116,
          4.92847540369828,
          4.233077782195602,
          3.6571303411449247,
          3.188392949754876,
          2.8104462987636305,
          2.507270146666273,
          2.26542639636007,
          2.074721091977432,
          1.9282032302755059,
          1.8220472100167409,
          1.7556328130622947,
          1.7320508075694074,
          1.7592970950468887,
          1.8525156766257769,
          2.037592529321656,
          2.3553043373788958,
          2.860802515810812,
          3.6055512754508365,
          4.597284292480782,
          5.775505770635331,
          7.037592529321562,
          8.280391773482757,
          9.41974152623226,
          10.392304845413388,
          11.152559020921371,
          11.670124740134575,
          11.928203230275482
         ]
        }
       ],
       "layout": {
        "template": {
         "data": {
          "bar": [
           {
            "error_x": {
             "color": "#2a3f5f"
            },
            "error_y": {
             "color": "#2a3f5f"
            },
            "marker": {
             "line": {
              "color": "#E5ECF6",
              "width": 0.5
             },
             "pattern": {
              "fillmode": "overlay",
              "size": 10,
              "solidity": 0.2
             }
            },
            "type": "bar"
           }
          ],
          "barpolar": [
           {
            "marker": {
             "line": {
              "color": "#E5ECF6",
              "width": 0.5
             },
             "pattern": {
              "fillmode": "overlay",
              "size": 10,
              "solidity": 0.2
             }
            },
            "type": "barpolar"
           }
          ],
          "carpet": [
           {
            "aaxis": {
             "endlinecolor": "#2a3f5f",
             "gridcolor": "white",
             "linecolor": "white",
             "minorgridcolor": "white",
             "startlinecolor": "#2a3f5f"
            },
            "baxis": {
             "endlinecolor": "#2a3f5f",
             "gridcolor": "white",
             "linecolor": "white",
             "minorgridcolor": "white",
             "startlinecolor": "#2a3f5f"
            },
            "type": "carpet"
           }
          ],
          "choropleth": [
           {
            "colorbar": {
             "outlinewidth": 0,
             "ticks": ""
            },
            "type": "choropleth"
           }
          ],
          "contour": [
           {
            "colorbar": {
             "outlinewidth": 0,
             "ticks": ""
            },
            "colorscale": [
             [
              0,
              "#0d0887"
             ],
             [
              0.1111111111111111,
              "#46039f"
             ],
             [
              0.2222222222222222,
              "#7201a8"
             ],
             [
              0.3333333333333333,
              "#9c179e"
             ],
             [
              0.4444444444444444,
              "#bd3786"
             ],
             [
              0.5555555555555556,
              "#d8576b"
             ],
             [
              0.6666666666666666,
              "#ed7953"
             ],
             [
              0.7777777777777778,
              "#fb9f3a"
             ],
             [
              0.8888888888888888,
              "#fdca26"
             ],
             [
              1,
              "#f0f921"
             ]
            ],
            "type": "contour"
           }
          ],
          "contourcarpet": [
           {
            "colorbar": {
             "outlinewidth": 0,
             "ticks": ""
            },
            "type": "contourcarpet"
           }
          ],
          "heatmap": [
           {
            "colorbar": {
             "outlinewidth": 0,
             "ticks": ""
            },
            "colorscale": [
             [
              0,
              "#0d0887"
             ],
             [
              0.1111111111111111,
              "#46039f"
             ],
             [
              0.2222222222222222,
              "#7201a8"
             ],
             [
              0.3333333333333333,
              "#9c179e"
             ],
             [
              0.4444444444444444,
              "#bd3786"
             ],
             [
              0.5555555555555556,
              "#d8576b"
             ],
             [
              0.6666666666666666,
              "#ed7953"
             ],
             [
              0.7777777777777778,
              "#fb9f3a"
             ],
             [
              0.8888888888888888,
              "#fdca26"
             ],
             [
              1,
              "#f0f921"
             ]
            ],
            "type": "heatmap"
           }
          ],
          "heatmapgl": [
           {
            "colorbar": {
             "outlinewidth": 0,
             "ticks": ""
            },
            "colorscale": [
             [
              0,
              "#0d0887"
             ],
             [
              0.1111111111111111,
              "#46039f"
             ],
             [
              0.2222222222222222,
              "#7201a8"
             ],
             [
              0.3333333333333333,
              "#9c179e"
             ],
             [
              0.4444444444444444,
              "#bd3786"
             ],
             [
              0.5555555555555556,
              "#d8576b"
             ],
             [
              0.6666666666666666,
              "#ed7953"
             ],
             [
              0.7777777777777778,
              "#fb9f3a"
             ],
             [
              0.8888888888888888,
              "#fdca26"
             ],
             [
              1,
              "#f0f921"
             ]
            ],
            "type": "heatmapgl"
           }
          ],
          "histogram": [
           {
            "marker": {
             "pattern": {
              "fillmode": "overlay",
              "size": 10,
              "solidity": 0.2
             }
            },
            "type": "histogram"
           }
          ],
          "histogram2d": [
           {
            "colorbar": {
             "outlinewidth": 0,
             "ticks": ""
            },
            "colorscale": [
             [
              0,
              "#0d0887"
             ],
             [
              0.1111111111111111,
              "#46039f"
             ],
             [
              0.2222222222222222,
              "#7201a8"
             ],
             [
              0.3333333333333333,
              "#9c179e"
             ],
             [
              0.4444444444444444,
              "#bd3786"
             ],
             [
              0.5555555555555556,
              "#d8576b"
             ],
             [
              0.6666666666666666,
              "#ed7953"
             ],
             [
              0.7777777777777778,
              "#fb9f3a"
             ],
             [
              0.8888888888888888,
              "#fdca26"
             ],
             [
              1,
              "#f0f921"
             ]
            ],
            "type": "histogram2d"
           }
          ],
          "histogram2dcontour": [
           {
            "colorbar": {
             "outlinewidth": 0,
             "ticks": ""
            },
            "colorscale": [
             [
              0,
              "#0d0887"
             ],
             [
              0.1111111111111111,
              "#46039f"
             ],
             [
              0.2222222222222222,
              "#7201a8"
             ],
             [
              0.3333333333333333,
              "#9c179e"
             ],
             [
              0.4444444444444444,
              "#bd3786"
             ],
             [
              0.5555555555555556,
              "#d8576b"
             ],
             [
              0.6666666666666666,
              "#ed7953"
             ],
             [
              0.7777777777777778,
              "#fb9f3a"
             ],
             [
              0.8888888888888888,
              "#fdca26"
             ],
             [
              1,
              "#f0f921"
             ]
            ],
            "type": "histogram2dcontour"
           }
          ],
          "mesh3d": [
           {
            "colorbar": {
             "outlinewidth": 0,
             "ticks": ""
            },
            "type": "mesh3d"
           }
          ],
          "parcoords": [
           {
            "line": {
             "colorbar": {
              "outlinewidth": 0,
              "ticks": ""
             }
            },
            "type": "parcoords"
           }
          ],
          "pie": [
           {
            "automargin": true,
            "type": "pie"
           }
          ],
          "scatter": [
           {
            "fillpattern": {
             "fillmode": "overlay",
             "size": 10,
             "solidity": 0.2
            },
            "type": "scatter"
           }
          ],
          "scatter3d": [
           {
            "line": {
             "colorbar": {
              "outlinewidth": 0,
              "ticks": ""
             }
            },
            "marker": {
             "colorbar": {
              "outlinewidth": 0,
              "ticks": ""
             }
            },
            "type": "scatter3d"
           }
          ],
          "scattercarpet": [
           {
            "marker": {
             "colorbar": {
              "outlinewidth": 0,
              "ticks": ""
             }
            },
            "type": "scattercarpet"
           }
          ],
          "scattergeo": [
           {
            "marker": {
             "colorbar": {
              "outlinewidth": 0,
              "ticks": ""
             }
            },
            "type": "scattergeo"
           }
          ],
          "scattergl": [
           {
            "marker": {
             "colorbar": {
              "outlinewidth": 0,
              "ticks": ""
             }
            },
            "type": "scattergl"
           }
          ],
          "scattermapbox": [
           {
            "marker": {
             "colorbar": {
              "outlinewidth": 0,
              "ticks": ""
             }
            },
            "type": "scattermapbox"
           }
          ],
          "scatterpolar": [
           {
            "marker": {
             "colorbar": {
              "outlinewidth": 0,
              "ticks": ""
             }
            },
            "type": "scatterpolar"
           }
          ],
          "scatterpolargl": [
           {
            "marker": {
             "colorbar": {
              "outlinewidth": 0,
              "ticks": ""
             }
            },
            "type": "scatterpolargl"
           }
          ],
          "scatterternary": [
           {
            "marker": {
             "colorbar": {
              "outlinewidth": 0,
              "ticks": ""
             }
            },
            "type": "scatterternary"
           }
          ],
          "surface": [
           {
            "colorbar": {
             "outlinewidth": 0,
             "ticks": ""
            },
            "colorscale": [
             [
              0,
              "#0d0887"
             ],
             [
              0.1111111111111111,
              "#46039f"
             ],
             [
              0.2222222222222222,
              "#7201a8"
             ],
             [
              0.3333333333333333,
              "#9c179e"
             ],
             [
              0.4444444444444444,
              "#bd3786"
             ],
             [
              0.5555555555555556,
              "#d8576b"
             ],
             [
              0.6666666666666666,
              "#ed7953"
             ],
             [
              0.7777777777777778,
              "#fb9f3a"
             ],
             [
              0.8888888888888888,
              "#fdca26"
             ],
             [
              1,
              "#f0f921"
             ]
            ],
            "type": "surface"
           }
          ],
          "table": [
           {
            "cells": {
             "fill": {
              "color": "#EBF0F8"
             },
             "line": {
              "color": "white"
             }
            },
            "header": {
             "fill": {
              "color": "#C8D4E3"
             },
             "line": {
              "color": "white"
             }
            },
            "type": "table"
           }
          ]
         },
         "layout": {
          "annotationdefaults": {
           "arrowcolor": "#2a3f5f",
           "arrowhead": 0,
           "arrowwidth": 1
          },
          "autotypenumbers": "strict",
          "coloraxis": {
           "colorbar": {
            "outlinewidth": 0,
            "ticks": ""
           }
          },
          "colorscale": {
           "diverging": [
            [
             0,
             "#8e0152"
            ],
            [
             0.1,
             "#c51b7d"
            ],
            [
             0.2,
             "#de77ae"
            ],
            [
             0.3,
             "#f1b6da"
            ],
            [
             0.4,
             "#fde0ef"
            ],
            [
             0.5,
             "#f7f7f7"
            ],
            [
             0.6,
             "#e6f5d0"
            ],
            [
             0.7,
             "#b8e186"
            ],
            [
             0.8,
             "#7fbc41"
            ],
            [
             0.9,
             "#4d9221"
            ],
            [
             1,
             "#276419"
            ]
           ],
           "sequential": [
            [
             0,
             "#0d0887"
            ],
            [
             0.1111111111111111,
             "#46039f"
            ],
            [
             0.2222222222222222,
             "#7201a8"
            ],
            [
             0.3333333333333333,
             "#9c179e"
            ],
            [
             0.4444444444444444,
             "#bd3786"
            ],
            [
             0.5555555555555556,
             "#d8576b"
            ],
            [
             0.6666666666666666,
             "#ed7953"
            ],
            [
             0.7777777777777778,
             "#fb9f3a"
            ],
            [
             0.8888888888888888,
             "#fdca26"
            ],
            [
             1,
             "#f0f921"
            ]
           ],
           "sequentialminus": [
            [
             0,
             "#0d0887"
            ],
            [
             0.1111111111111111,
             "#46039f"
            ],
            [
             0.2222222222222222,
             "#7201a8"
            ],
            [
             0.3333333333333333,
             "#9c179e"
            ],
            [
             0.4444444444444444,
             "#bd3786"
            ],
            [
             0.5555555555555556,
             "#d8576b"
            ],
            [
             0.6666666666666666,
             "#ed7953"
            ],
            [
             0.7777777777777778,
             "#fb9f3a"
            ],
            [
             0.8888888888888888,
             "#fdca26"
            ],
            [
             1,
             "#f0f921"
            ]
           ]
          },
          "colorway": [
           "#636efa",
           "#EF553B",
           "#00cc96",
           "#ab63fa",
           "#FFA15A",
           "#19d3f3",
           "#FF6692",
           "#B6E880",
           "#FF97FF",
           "#FECB52"
          ],
          "font": {
           "color": "#2a3f5f"
          },
          "geo": {
           "bgcolor": "white",
           "lakecolor": "white",
           "landcolor": "#E5ECF6",
           "showlakes": true,
           "showland": true,
           "subunitcolor": "white"
          },
          "hoverlabel": {
           "align": "left"
          },
          "hovermode": "closest",
          "mapbox": {
           "style": "light"
          },
          "paper_bgcolor": "white",
          "plot_bgcolor": "#E5ECF6",
          "polar": {
           "angularaxis": {
            "gridcolor": "white",
            "linecolor": "white",
            "ticks": ""
           },
           "bgcolor": "#E5ECF6",
           "radialaxis": {
            "gridcolor": "white",
            "linecolor": "white",
            "ticks": ""
           }
          },
          "scene": {
           "xaxis": {
            "backgroundcolor": "#E5ECF6",
            "gridcolor": "white",
            "gridwidth": 2,
            "linecolor": "white",
            "showbackground": true,
            "ticks": "",
            "zerolinecolor": "white"
           },
           "yaxis": {
            "backgroundcolor": "#E5ECF6",
            "gridcolor": "white",
            "gridwidth": 2,
            "linecolor": "white",
            "showbackground": true,
            "ticks": "",
            "zerolinecolor": "white"
           },
           "zaxis": {
            "backgroundcolor": "#E5ECF6",
            "gridcolor": "white",
            "gridwidth": 2,
            "linecolor": "white",
            "showbackground": true,
            "ticks": "",
            "zerolinecolor": "white"
           }
          },
          "shapedefaults": {
           "line": {
            "color": "#2a3f5f"
           }
          },
          "ternary": {
           "aaxis": {
            "gridcolor": "white",
            "linecolor": "white",
            "ticks": ""
           },
           "baxis": {
            "gridcolor": "white",
            "linecolor": "white",
            "ticks": ""
           },
           "bgcolor": "#E5ECF6",
           "caxis": {
            "gridcolor": "white",
            "linecolor": "white",
            "ticks": ""
           }
          },
          "title": {
           "x": 0.05
          },
          "xaxis": {
           "automargin": true,
           "gridcolor": "white",
           "linecolor": "white",
           "ticks": "",
           "title": {
            "standoff": 15
           },
           "zerolinecolor": "white",
           "zerolinewidth": 2
          },
          "yaxis": {
           "automargin": true,
           "gridcolor": "white",
           "linecolor": "white",
           "ticks": "",
           "title": {
            "standoff": 15
           },
           "zerolinecolor": "white",
           "zerolinewidth": 2
          }
         }
        },
        "title": {
         "text": "Piston Position Evolution vs Crankshaft Angle",
         "x": 0.5
        },
        "xaxis": {
         "title": {
          "text": "Crankshaft Angle (Degrees)"
         }
        },
        "yaxis": {
         "title": {
          "text": "Piston Position"
         }
        }
       }
      }
     },
     "metadata": {},
     "output_type": "display_data"
    }
   ],
   "source": [
    "import plotly.graph_objs as go\n",
    "\n",
    "l2 = 5\n",
    "l3 = 7\n",
    "offset= 1\n",
    "\n",
    "# Prepare data\n",
    "angle_deg_2_values = list(range(0, 361, 10))\n",
    "Rx_4_values = []\n",
    "\n",
    "for angle_deg_2 in angle_deg_2_values:\n",
    "    solution = slider_crank_position(l2, l3,offset, angle_deg_2)\n",
    "\n",
    "    Rx_4 = solution[8]\n",
    "    \n",
    "    Rx_4_values.append(Rx_4)\n",
    "\n",
    "\n",
    "range_of_motion = max(Rx_4_values) - min(Rx_4_values)\n",
    "print(f\"Range of motion: {range_of_motion}, instead of {2*l2}\")\n",
    "\n",
    "# Create a scatter plot\n",
    "fig = go.Figure(go.Scatter(x=angle_deg_2_values, y=Rx_4_values, mode='lines+markers'))\n",
    "\n",
    "# Set the layout\n",
    "fig.update_layout(title=\"Piston Position Evolution vs Crankshaft Angle\", title_x=0.5,\n",
    "                  xaxis_title=\"Crankshaft Angle (Degrees)\",\n",
    "                  yaxis_title=\"Piston Position\")\n",
    "\n",
    "# Show the plot\n",
    "fig.show()\n"
   ]
  },
  {
   "cell_type": "code",
   "execution_count": 80,
   "metadata": {},
   "outputs": [
    {
     "name": "stdout",
     "output_type": "stream",
     "text": [
      "Range of motion: 10.041181228978111\n",
      "Minimum value reached at angle: 190 degrees\n",
      "Maximum value reached at angle: 0 degrees\n"
     ]
    },
    {
     "data": {
      "application/vnd.plotly.v1+json": {
       "config": {
        "plotlyServerURL": "https://plot.ly"
       },
       "data": [
        {
         "mode": "lines+markers",
         "type": "scatter",
         "x": [
          0,
          10,
          20,
          30,
          40,
          50,
          60,
          70,
          80,
          90,
          100,
          110,
          120,
          130,
          140,
          150,
          160,
          170,
          180,
          190,
          200,
          210,
          220,
          230,
          240,
          250,
          260,
          270,
          280,
          290,
          300,
          310,
          320,
          330,
          340,
          350,
          360
         ],
         "y": [
          11.982120021891197,
          11.914346243861074,
          11.593073771372161,
          11.03833095141306,
          10.282705479367793,
          9.37101690083985,
          8.359191669413976,
          7.311253059224688,
          6.292987979702513,
          5.36190264739059,
          4.556506203035299,
          3.89105162597027,
          3.35919166941497,
          2.9431408039746256,
          2.6222610481780206,
          2.378076913574494,
          2.1961475635131977,
          2.0662687137385816,
          1.9821200218865775,
          1.9409387929130846,
          1.9434835099996097,
          1.994428301414627,
          2.1032981705180744,
          2.285987002298071,
          2.566544481328215,
          2.9777539480431976,
          3.5566662830209284,
          4.330127018921956,
          5.293148059690189,
          6.39795538129988,
          7.56654448132034,
          8.71386309915812,
          9.763742601706968,
          10.65468233925897,
          11.340409717864262,
          11.789016323034794,
          11.982120021891197
         ]
        }
       ],
       "layout": {
        "template": {
         "data": {
          "bar": [
           {
            "error_x": {
             "color": "#2a3f5f"
            },
            "error_y": {
             "color": "#2a3f5f"
            },
            "marker": {
             "line": {
              "color": "#E5ECF6",
              "width": 0.5
             },
             "pattern": {
              "fillmode": "overlay",
              "size": 10,
              "solidity": 0.2
             }
            },
            "type": "bar"
           }
          ],
          "barpolar": [
           {
            "marker": {
             "line": {
              "color": "#E5ECF6",
              "width": 0.5
             },
             "pattern": {
              "fillmode": "overlay",
              "size": 10,
              "solidity": 0.2
             }
            },
            "type": "barpolar"
           }
          ],
          "carpet": [
           {
            "aaxis": {
             "endlinecolor": "#2a3f5f",
             "gridcolor": "white",
             "linecolor": "white",
             "minorgridcolor": "white",
             "startlinecolor": "#2a3f5f"
            },
            "baxis": {
             "endlinecolor": "#2a3f5f",
             "gridcolor": "white",
             "linecolor": "white",
             "minorgridcolor": "white",
             "startlinecolor": "#2a3f5f"
            },
            "type": "carpet"
           }
          ],
          "choropleth": [
           {
            "colorbar": {
             "outlinewidth": 0,
             "ticks": ""
            },
            "type": "choropleth"
           }
          ],
          "contour": [
           {
            "colorbar": {
             "outlinewidth": 0,
             "ticks": ""
            },
            "colorscale": [
             [
              0,
              "#0d0887"
             ],
             [
              0.1111111111111111,
              "#46039f"
             ],
             [
              0.2222222222222222,
              "#7201a8"
             ],
             [
              0.3333333333333333,
              "#9c179e"
             ],
             [
              0.4444444444444444,
              "#bd3786"
             ],
             [
              0.5555555555555556,
              "#d8576b"
             ],
             [
              0.6666666666666666,
              "#ed7953"
             ],
             [
              0.7777777777777778,
              "#fb9f3a"
             ],
             [
              0.8888888888888888,
              "#fdca26"
             ],
             [
              1,
              "#f0f921"
             ]
            ],
            "type": "contour"
           }
          ],
          "contourcarpet": [
           {
            "colorbar": {
             "outlinewidth": 0,
             "ticks": ""
            },
            "type": "contourcarpet"
           }
          ],
          "heatmap": [
           {
            "colorbar": {
             "outlinewidth": 0,
             "ticks": ""
            },
            "colorscale": [
             [
              0,
              "#0d0887"
             ],
             [
              0.1111111111111111,
              "#46039f"
             ],
             [
              0.2222222222222222,
              "#7201a8"
             ],
             [
              0.3333333333333333,
              "#9c179e"
             ],
             [
              0.4444444444444444,
              "#bd3786"
             ],
             [
              0.5555555555555556,
              "#d8576b"
             ],
             [
              0.6666666666666666,
              "#ed7953"
             ],
             [
              0.7777777777777778,
              "#fb9f3a"
             ],
             [
              0.8888888888888888,
              "#fdca26"
             ],
             [
              1,
              "#f0f921"
             ]
            ],
            "type": "heatmap"
           }
          ],
          "heatmapgl": [
           {
            "colorbar": {
             "outlinewidth": 0,
             "ticks": ""
            },
            "colorscale": [
             [
              0,
              "#0d0887"
             ],
             [
              0.1111111111111111,
              "#46039f"
             ],
             [
              0.2222222222222222,
              "#7201a8"
             ],
             [
              0.3333333333333333,
              "#9c179e"
             ],
             [
              0.4444444444444444,
              "#bd3786"
             ],
             [
              0.5555555555555556,
              "#d8576b"
             ],
             [
              0.6666666666666666,
              "#ed7953"
             ],
             [
              0.7777777777777778,
              "#fb9f3a"
             ],
             [
              0.8888888888888888,
              "#fdca26"
             ],
             [
              1,
              "#f0f921"
             ]
            ],
            "type": "heatmapgl"
           }
          ],
          "histogram": [
           {
            "marker": {
             "pattern": {
              "fillmode": "overlay",
              "size": 10,
              "solidity": 0.2
             }
            },
            "type": "histogram"
           }
          ],
          "histogram2d": [
           {
            "colorbar": {
             "outlinewidth": 0,
             "ticks": ""
            },
            "colorscale": [
             [
              0,
              "#0d0887"
             ],
             [
              0.1111111111111111,
              "#46039f"
             ],
             [
              0.2222222222222222,
              "#7201a8"
             ],
             [
              0.3333333333333333,
              "#9c179e"
             ],
             [
              0.4444444444444444,
              "#bd3786"
             ],
             [
              0.5555555555555556,
              "#d8576b"
             ],
             [
              0.6666666666666666,
              "#ed7953"
             ],
             [
              0.7777777777777778,
              "#fb9f3a"
             ],
             [
              0.8888888888888888,
              "#fdca26"
             ],
             [
              1,
              "#f0f921"
             ]
            ],
            "type": "histogram2d"
           }
          ],
          "histogram2dcontour": [
           {
            "colorbar": {
             "outlinewidth": 0,
             "ticks": ""
            },
            "colorscale": [
             [
              0,
              "#0d0887"
             ],
             [
              0.1111111111111111,
              "#46039f"
             ],
             [
              0.2222222222222222,
              "#7201a8"
             ],
             [
              0.3333333333333333,
              "#9c179e"
             ],
             [
              0.4444444444444444,
              "#bd3786"
             ],
             [
              0.5555555555555556,
              "#d8576b"
             ],
             [
              0.6666666666666666,
              "#ed7953"
             ],
             [
              0.7777777777777778,
              "#fb9f3a"
             ],
             [
              0.8888888888888888,
              "#fdca26"
             ],
             [
              1,
              "#f0f921"
             ]
            ],
            "type": "histogram2dcontour"
           }
          ],
          "mesh3d": [
           {
            "colorbar": {
             "outlinewidth": 0,
             "ticks": ""
            },
            "type": "mesh3d"
           }
          ],
          "parcoords": [
           {
            "line": {
             "colorbar": {
              "outlinewidth": 0,
              "ticks": ""
             }
            },
            "type": "parcoords"
           }
          ],
          "pie": [
           {
            "automargin": true,
            "type": "pie"
           }
          ],
          "scatter": [
           {
            "fillpattern": {
             "fillmode": "overlay",
             "size": 10,
             "solidity": 0.2
            },
            "type": "scatter"
           }
          ],
          "scatter3d": [
           {
            "line": {
             "colorbar": {
              "outlinewidth": 0,
              "ticks": ""
             }
            },
            "marker": {
             "colorbar": {
              "outlinewidth": 0,
              "ticks": ""
             }
            },
            "type": "scatter3d"
           }
          ],
          "scattercarpet": [
           {
            "marker": {
             "colorbar": {
              "outlinewidth": 0,
              "ticks": ""
             }
            },
            "type": "scattercarpet"
           }
          ],
          "scattergeo": [
           {
            "marker": {
             "colorbar": {
              "outlinewidth": 0,
              "ticks": ""
             }
            },
            "type": "scattergeo"
           }
          ],
          "scattergl": [
           {
            "marker": {
             "colorbar": {
              "outlinewidth": 0,
              "ticks": ""
             }
            },
            "type": "scattergl"
           }
          ],
          "scattermapbox": [
           {
            "marker": {
             "colorbar": {
              "outlinewidth": 0,
              "ticks": ""
             }
            },
            "type": "scattermapbox"
           }
          ],
          "scatterpolar": [
           {
            "marker": {
             "colorbar": {
              "outlinewidth": 0,
              "ticks": ""
             }
            },
            "type": "scatterpolar"
           }
          ],
          "scatterpolargl": [
           {
            "marker": {
             "colorbar": {
              "outlinewidth": 0,
              "ticks": ""
             }
            },
            "type": "scatterpolargl"
           }
          ],
          "scatterternary": [
           {
            "marker": {
             "colorbar": {
              "outlinewidth": 0,
              "ticks": ""
             }
            },
            "type": "scatterternary"
           }
          ],
          "surface": [
           {
            "colorbar": {
             "outlinewidth": 0,
             "ticks": ""
            },
            "colorscale": [
             [
              0,
              "#0d0887"
             ],
             [
              0.1111111111111111,
              "#46039f"
             ],
             [
              0.2222222222222222,
              "#7201a8"
             ],
             [
              0.3333333333333333,
              "#9c179e"
             ],
             [
              0.4444444444444444,
              "#bd3786"
             ],
             [
              0.5555555555555556,
              "#d8576b"
             ],
             [
              0.6666666666666666,
              "#ed7953"
             ],
             [
              0.7777777777777778,
              "#fb9f3a"
             ],
             [
              0.8888888888888888,
              "#fdca26"
             ],
             [
              1,
              "#f0f921"
             ]
            ],
            "type": "surface"
           }
          ],
          "table": [
           {
            "cells": {
             "fill": {
              "color": "#EBF0F8"
             },
             "line": {
              "color": "white"
             }
            },
            "header": {
             "fill": {
              "color": "#C8D4E3"
             },
             "line": {
              "color": "white"
             }
            },
            "type": "table"
           }
          ]
         },
         "layout": {
          "annotationdefaults": {
           "arrowcolor": "#2a3f5f",
           "arrowhead": 0,
           "arrowwidth": 1
          },
          "autotypenumbers": "strict",
          "coloraxis": {
           "colorbar": {
            "outlinewidth": 0,
            "ticks": ""
           }
          },
          "colorscale": {
           "diverging": [
            [
             0,
             "#8e0152"
            ],
            [
             0.1,
             "#c51b7d"
            ],
            [
             0.2,
             "#de77ae"
            ],
            [
             0.3,
             "#f1b6da"
            ],
            [
             0.4,
             "#fde0ef"
            ],
            [
             0.5,
             "#f7f7f7"
            ],
            [
             0.6,
             "#e6f5d0"
            ],
            [
             0.7,
             "#b8e186"
            ],
            [
             0.8,
             "#7fbc41"
            ],
            [
             0.9,
             "#4d9221"
            ],
            [
             1,
             "#276419"
            ]
           ],
           "sequential": [
            [
             0,
             "#0d0887"
            ],
            [
             0.1111111111111111,
             "#46039f"
            ],
            [
             0.2222222222222222,
             "#7201a8"
            ],
            [
             0.3333333333333333,
             "#9c179e"
            ],
            [
             0.4444444444444444,
             "#bd3786"
            ],
            [
             0.5555555555555556,
             "#d8576b"
            ],
            [
             0.6666666666666666,
             "#ed7953"
            ],
            [
             0.7777777777777778,
             "#fb9f3a"
            ],
            [
             0.8888888888888888,
             "#fdca26"
            ],
            [
             1,
             "#f0f921"
            ]
           ],
           "sequentialminus": [
            [
             0,
             "#0d0887"
            ],
            [
             0.1111111111111111,
             "#46039f"
            ],
            [
             0.2222222222222222,
             "#7201a8"
            ],
            [
             0.3333333333333333,
             "#9c179e"
            ],
            [
             0.4444444444444444,
             "#bd3786"
            ],
            [
             0.5555555555555556,
             "#d8576b"
            ],
            [
             0.6666666666666666,
             "#ed7953"
            ],
            [
             0.7777777777777778,
             "#fb9f3a"
            ],
            [
             0.8888888888888888,
             "#fdca26"
            ],
            [
             1,
             "#f0f921"
            ]
           ]
          },
          "colorway": [
           "#636efa",
           "#EF553B",
           "#00cc96",
           "#ab63fa",
           "#FFA15A",
           "#19d3f3",
           "#FF6692",
           "#B6E880",
           "#FF97FF",
           "#FECB52"
          ],
          "font": {
           "color": "#2a3f5f"
          },
          "geo": {
           "bgcolor": "white",
           "lakecolor": "white",
           "landcolor": "#E5ECF6",
           "showlakes": true,
           "showland": true,
           "subunitcolor": "white"
          },
          "hoverlabel": {
           "align": "left"
          },
          "hovermode": "closest",
          "mapbox": {
           "style": "light"
          },
          "paper_bgcolor": "white",
          "plot_bgcolor": "#E5ECF6",
          "polar": {
           "angularaxis": {
            "gridcolor": "white",
            "linecolor": "white",
            "ticks": ""
           },
           "bgcolor": "#E5ECF6",
           "radialaxis": {
            "gridcolor": "white",
            "linecolor": "white",
            "ticks": ""
           }
          },
          "scene": {
           "xaxis": {
            "backgroundcolor": "#E5ECF6",
            "gridcolor": "white",
            "gridwidth": 2,
            "linecolor": "white",
            "showbackground": true,
            "ticks": "",
            "zerolinecolor": "white"
           },
           "yaxis": {
            "backgroundcolor": "#E5ECF6",
            "gridcolor": "white",
            "gridwidth": 2,
            "linecolor": "white",
            "showbackground": true,
            "ticks": "",
            "zerolinecolor": "white"
           },
           "zaxis": {
            "backgroundcolor": "#E5ECF6",
            "gridcolor": "white",
            "gridwidth": 2,
            "linecolor": "white",
            "showbackground": true,
            "ticks": "",
            "zerolinecolor": "white"
           }
          },
          "shapedefaults": {
           "line": {
            "color": "#2a3f5f"
           }
          },
          "ternary": {
           "aaxis": {
            "gridcolor": "white",
            "linecolor": "white",
            "ticks": ""
           },
           "baxis": {
            "gridcolor": "white",
            "linecolor": "white",
            "ticks": ""
           },
           "bgcolor": "#E5ECF6",
           "caxis": {
            "gridcolor": "white",
            "linecolor": "white",
            "ticks": ""
           }
          },
          "title": {
           "x": 0.05
          },
          "xaxis": {
           "automargin": true,
           "gridcolor": "white",
           "linecolor": "white",
           "ticks": "",
           "title": {
            "standoff": 15
           },
           "zerolinecolor": "white",
           "zerolinewidth": 2
          },
          "yaxis": {
           "automargin": true,
           "gridcolor": "white",
           "linecolor": "white",
           "ticks": "",
           "title": {
            "standoff": 15
           },
           "zerolinecolor": "white",
           "zerolinewidth": 2
          }
         }
        },
        "title": {
         "text": "Piston Position Evolution vs Crankshaft Angle",
         "x": 0.5
        },
        "xaxis": {
         "title": {
          "text": "Crankshaft Angle (Degrees)"
         }
        },
        "yaxis": {
         "title": {
          "text": "Piston Position"
         }
        }
       }
      }
     },
     "metadata": {},
     "output_type": "display_data"
    }
   ],
   "source": [
    "import plotly.graph_objs as go\n",
    "import numpy as np\n",
    "\n",
    "l2 = 5\n",
    "l3 = 7\n",
    "offset = 0.5\n",
    "\n",
    "# Prepare data\n",
    "angle_deg_2_values = list(range(0, 361, 10))\n",
    "Rx_4_values = []\n",
    "\n",
    "for angle_deg_2 in angle_deg_2_values:\n",
    "    solution = slider_crank_position(l2, l3, offset, angle_deg_2)\n",
    "\n",
    "    Rx_4 = solution[8]\n",
    "\n",
    "    Rx_4_values.append(Rx_4)\n",
    "\n",
    "# Calculate the difference between max and min values\n",
    "range_of_motion = max(Rx_4_values) - min(Rx_4_values)\n",
    "print(f\"Range of motion: {range_of_motion}\")\n",
    "\n",
    "# Find the index of the min and max values and the corresponding angles\n",
    "min_index = np.argmin(Rx_4_values)\n",
    "max_index = np.argmax(Rx_4_values)\n",
    "min_angle = angle_deg_2_values[min_index]\n",
    "max_angle = angle_deg_2_values[max_index]\n",
    "\n",
    "print(f\"Minimum value reached at angle: {min_angle} degrees\")\n",
    "print(f\"Maximum value reached at angle: {max_angle} degrees\")\n",
    "\n",
    "# Create a scatter plot\n",
    "fig = go.Figure(go.Scatter(x=angle_deg_2_values, y=Rx_4_values, mode='lines+markers'))\n",
    "\n",
    "# Set the layout\n",
    "fig.update_layout(title=\"Piston Position Evolution vs Crankshaft Angle\", title_x=0.5,\n",
    "                  xaxis_title=\"Crankshaft Angle (Degrees)\",\n",
    "                  yaxis_title=\"Piston Position\")\n",
    "\n",
    "# Show the plot\n",
    "fig.show()\n"
   ]
  },
  {
   "cell_type": "code",
   "execution_count": 85,
   "metadata": {},
   "outputs": [
    {
     "name": "stdout",
     "output_type": "stream",
     "text": [
      "Range of motion: 93.84718544524071\n",
      "Minimum value reached at angle: 90 degrees\n",
      "Maximum value reached at angle: 270 degrees\n"
     ]
    },
    {
     "data": {
      "application/vnd.plotly.v1+json": {
       "config": {
        "plotlyServerURL": "https://plot.ly"
       },
       "data": [
        {
         "mode": "lines+markers",
         "type": "scatter",
         "x": [
          0,
          10,
          20,
          30,
          40,
          50,
          60,
          70,
          80,
          90,
          100,
          110,
          120,
          130,
          140,
          150,
          160,
          170,
          180,
          190,
          200,
          210,
          220,
          230,
          240,
          250,
          260,
          270,
          280,
          290,
          300,
          310,
          320,
          330,
          340,
          350,
          360
         ],
         "y": [
          8.213210701738207,
          1.0785266940732718,
          -5.822268557015047,
          -12.373625116189586,
          -18.437914127604632,
          -23.84836270460625,
          -28.407049271739602,
          -31.894164949522594,
          -34.09570821162442,
          -34.84990457903886,
          -34.09570821162283,
          -31.8941649495213,
          -28.407049271739243,
          -23.848362704606217,
          -18.43791412761916,
          -12.373625116188792,
          -5.822268557015046,
          1.0785266940732716,
          8.213210701738191,
          15.479379682847927,
          22.777730140493116,
          29.999999999998476,
          37.01263674205046,
          43.6326218186972,
          49.59190378781914,
          54.49513006000732,
          57.81054792095663,
          58.99728086620185,
          57.81054792095394,
          54.49513006000897,
          49.59190378781963,
          43.632621818726484,
          37.01263674206514,
          29.999999999999563,
          22.77773014049313,
          15.479379682854706,
          8.213210701738207
         ]
        }
       ],
       "layout": {
        "template": {
         "data": {
          "bar": [
           {
            "error_x": {
             "color": "#2a3f5f"
            },
            "error_y": {
             "color": "#2a3f5f"
            },
            "marker": {
             "line": {
              "color": "#E5ECF6",
              "width": 0.5
             },
             "pattern": {
              "fillmode": "overlay",
              "size": 10,
              "solidity": 0.2
             }
            },
            "type": "bar"
           }
          ],
          "barpolar": [
           {
            "marker": {
             "line": {
              "color": "#E5ECF6",
              "width": 0.5
             },
             "pattern": {
              "fillmode": "overlay",
              "size": 10,
              "solidity": 0.2
             }
            },
            "type": "barpolar"
           }
          ],
          "carpet": [
           {
            "aaxis": {
             "endlinecolor": "#2a3f5f",
             "gridcolor": "white",
             "linecolor": "white",
             "minorgridcolor": "white",
             "startlinecolor": "#2a3f5f"
            },
            "baxis": {
             "endlinecolor": "#2a3f5f",
             "gridcolor": "white",
             "linecolor": "white",
             "minorgridcolor": "white",
             "startlinecolor": "#2a3f5f"
            },
            "type": "carpet"
           }
          ],
          "choropleth": [
           {
            "colorbar": {
             "outlinewidth": 0,
             "ticks": ""
            },
            "type": "choropleth"
           }
          ],
          "contour": [
           {
            "colorbar": {
             "outlinewidth": 0,
             "ticks": ""
            },
            "colorscale": [
             [
              0,
              "#0d0887"
             ],
             [
              0.1111111111111111,
              "#46039f"
             ],
             [
              0.2222222222222222,
              "#7201a8"
             ],
             [
              0.3333333333333333,
              "#9c179e"
             ],
             [
              0.4444444444444444,
              "#bd3786"
             ],
             [
              0.5555555555555556,
              "#d8576b"
             ],
             [
              0.6666666666666666,
              "#ed7953"
             ],
             [
              0.7777777777777778,
              "#fb9f3a"
             ],
             [
              0.8888888888888888,
              "#fdca26"
             ],
             [
              1,
              "#f0f921"
             ]
            ],
            "type": "contour"
           }
          ],
          "contourcarpet": [
           {
            "colorbar": {
             "outlinewidth": 0,
             "ticks": ""
            },
            "type": "contourcarpet"
           }
          ],
          "heatmap": [
           {
            "colorbar": {
             "outlinewidth": 0,
             "ticks": ""
            },
            "colorscale": [
             [
              0,
              "#0d0887"
             ],
             [
              0.1111111111111111,
              "#46039f"
             ],
             [
              0.2222222222222222,
              "#7201a8"
             ],
             [
              0.3333333333333333,
              "#9c179e"
             ],
             [
              0.4444444444444444,
              "#bd3786"
             ],
             [
              0.5555555555555556,
              "#d8576b"
             ],
             [
              0.6666666666666666,
              "#ed7953"
             ],
             [
              0.7777777777777778,
              "#fb9f3a"
             ],
             [
              0.8888888888888888,
              "#fdca26"
             ],
             [
              1,
              "#f0f921"
             ]
            ],
            "type": "heatmap"
           }
          ],
          "heatmapgl": [
           {
            "colorbar": {
             "outlinewidth": 0,
             "ticks": ""
            },
            "colorscale": [
             [
              0,
              "#0d0887"
             ],
             [
              0.1111111111111111,
              "#46039f"
             ],
             [
              0.2222222222222222,
              "#7201a8"
             ],
             [
              0.3333333333333333,
              "#9c179e"
             ],
             [
              0.4444444444444444,
              "#bd3786"
             ],
             [
              0.5555555555555556,
              "#d8576b"
             ],
             [
              0.6666666666666666,
              "#ed7953"
             ],
             [
              0.7777777777777778,
              "#fb9f3a"
             ],
             [
              0.8888888888888888,
              "#fdca26"
             ],
             [
              1,
              "#f0f921"
             ]
            ],
            "type": "heatmapgl"
           }
          ],
          "histogram": [
           {
            "marker": {
             "pattern": {
              "fillmode": "overlay",
              "size": 10,
              "solidity": 0.2
             }
            },
            "type": "histogram"
           }
          ],
          "histogram2d": [
           {
            "colorbar": {
             "outlinewidth": 0,
             "ticks": ""
            },
            "colorscale": [
             [
              0,
              "#0d0887"
             ],
             [
              0.1111111111111111,
              "#46039f"
             ],
             [
              0.2222222222222222,
              "#7201a8"
             ],
             [
              0.3333333333333333,
              "#9c179e"
             ],
             [
              0.4444444444444444,
              "#bd3786"
             ],
             [
              0.5555555555555556,
              "#d8576b"
             ],
             [
              0.6666666666666666,
              "#ed7953"
             ],
             [
              0.7777777777777778,
              "#fb9f3a"
             ],
             [
              0.8888888888888888,
              "#fdca26"
             ],
             [
              1,
              "#f0f921"
             ]
            ],
            "type": "histogram2d"
           }
          ],
          "histogram2dcontour": [
           {
            "colorbar": {
             "outlinewidth": 0,
             "ticks": ""
            },
            "colorscale": [
             [
              0,
              "#0d0887"
             ],
             [
              0.1111111111111111,
              "#46039f"
             ],
             [
              0.2222222222222222,
              "#7201a8"
             ],
             [
              0.3333333333333333,
              "#9c179e"
             ],
             [
              0.4444444444444444,
              "#bd3786"
             ],
             [
              0.5555555555555556,
              "#d8576b"
             ],
             [
              0.6666666666666666,
              "#ed7953"
             ],
             [
              0.7777777777777778,
              "#fb9f3a"
             ],
             [
              0.8888888888888888,
              "#fdca26"
             ],
             [
              1,
              "#f0f921"
             ]
            ],
            "type": "histogram2dcontour"
           }
          ],
          "mesh3d": [
           {
            "colorbar": {
             "outlinewidth": 0,
             "ticks": ""
            },
            "type": "mesh3d"
           }
          ],
          "parcoords": [
           {
            "line": {
             "colorbar": {
              "outlinewidth": 0,
              "ticks": ""
             }
            },
            "type": "parcoords"
           }
          ],
          "pie": [
           {
            "automargin": true,
            "type": "pie"
           }
          ],
          "scatter": [
           {
            "fillpattern": {
             "fillmode": "overlay",
             "size": 10,
             "solidity": 0.2
            },
            "type": "scatter"
           }
          ],
          "scatter3d": [
           {
            "line": {
             "colorbar": {
              "outlinewidth": 0,
              "ticks": ""
             }
            },
            "marker": {
             "colorbar": {
              "outlinewidth": 0,
              "ticks": ""
             }
            },
            "type": "scatter3d"
           }
          ],
          "scattercarpet": [
           {
            "marker": {
             "colorbar": {
              "outlinewidth": 0,
              "ticks": ""
             }
            },
            "type": "scattercarpet"
           }
          ],
          "scattergeo": [
           {
            "marker": {
             "colorbar": {
              "outlinewidth": 0,
              "ticks": ""
             }
            },
            "type": "scattergeo"
           }
          ],
          "scattergl": [
           {
            "marker": {
             "colorbar": {
              "outlinewidth": 0,
              "ticks": ""
             }
            },
            "type": "scattergl"
           }
          ],
          "scattermapbox": [
           {
            "marker": {
             "colorbar": {
              "outlinewidth": 0,
              "ticks": ""
             }
            },
            "type": "scattermapbox"
           }
          ],
          "scatterpolar": [
           {
            "marker": {
             "colorbar": {
              "outlinewidth": 0,
              "ticks": ""
             }
            },
            "type": "scatterpolar"
           }
          ],
          "scatterpolargl": [
           {
            "marker": {
             "colorbar": {
              "outlinewidth": 0,
              "ticks": ""
             }
            },
            "type": "scatterpolargl"
           }
          ],
          "scatterternary": [
           {
            "marker": {
             "colorbar": {
              "outlinewidth": 0,
              "ticks": ""
             }
            },
            "type": "scatterternary"
           }
          ],
          "surface": [
           {
            "colorbar": {
             "outlinewidth": 0,
             "ticks": ""
            },
            "colorscale": [
             [
              0,
              "#0d0887"
             ],
             [
              0.1111111111111111,
              "#46039f"
             ],
             [
              0.2222222222222222,
              "#7201a8"
             ],
             [
              0.3333333333333333,
              "#9c179e"
             ],
             [
              0.4444444444444444,
              "#bd3786"
             ],
             [
              0.5555555555555556,
              "#d8576b"
             ],
             [
              0.6666666666666666,
              "#ed7953"
             ],
             [
              0.7777777777777778,
              "#fb9f3a"
             ],
             [
              0.8888888888888888,
              "#fdca26"
             ],
             [
              1,
              "#f0f921"
             ]
            ],
            "type": "surface"
           }
          ],
          "table": [
           {
            "cells": {
             "fill": {
              "color": "#EBF0F8"
             },
             "line": {
              "color": "white"
             }
            },
            "header": {
             "fill": {
              "color": "#C8D4E3"
             },
             "line": {
              "color": "white"
             }
            },
            "type": "table"
           }
          ]
         },
         "layout": {
          "annotationdefaults": {
           "arrowcolor": "#2a3f5f",
           "arrowhead": 0,
           "arrowwidth": 1
          },
          "autotypenumbers": "strict",
          "coloraxis": {
           "colorbar": {
            "outlinewidth": 0,
            "ticks": ""
           }
          },
          "colorscale": {
           "diverging": [
            [
             0,
             "#8e0152"
            ],
            [
             0.1,
             "#c51b7d"
            ],
            [
             0.2,
             "#de77ae"
            ],
            [
             0.3,
             "#f1b6da"
            ],
            [
             0.4,
             "#fde0ef"
            ],
            [
             0.5,
             "#f7f7f7"
            ],
            [
             0.6,
             "#e6f5d0"
            ],
            [
             0.7,
             "#b8e186"
            ],
            [
             0.8,
             "#7fbc41"
            ],
            [
             0.9,
             "#4d9221"
            ],
            [
             1,
             "#276419"
            ]
           ],
           "sequential": [
            [
             0,
             "#0d0887"
            ],
            [
             0.1111111111111111,
             "#46039f"
            ],
            [
             0.2222222222222222,
             "#7201a8"
            ],
            [
             0.3333333333333333,
             "#9c179e"
            ],
            [
             0.4444444444444444,
             "#bd3786"
            ],
            [
             0.5555555555555556,
             "#d8576b"
            ],
            [
             0.6666666666666666,
             "#ed7953"
            ],
            [
             0.7777777777777778,
             "#fb9f3a"
            ],
            [
             0.8888888888888888,
             "#fdca26"
            ],
            [
             1,
             "#f0f921"
            ]
           ],
           "sequentialminus": [
            [
             0,
             "#0d0887"
            ],
            [
             0.1111111111111111,
             "#46039f"
            ],
            [
             0.2222222222222222,
             "#7201a8"
            ],
            [
             0.3333333333333333,
             "#9c179e"
            ],
            [
             0.4444444444444444,
             "#bd3786"
            ],
            [
             0.5555555555555556,
             "#d8576b"
            ],
            [
             0.6666666666666666,
             "#ed7953"
            ],
            [
             0.7777777777777778,
             "#fb9f3a"
            ],
            [
             0.8888888888888888,
             "#fdca26"
            ],
            [
             1,
             "#f0f921"
            ]
           ]
          },
          "colorway": [
           "#636efa",
           "#EF553B",
           "#00cc96",
           "#ab63fa",
           "#FFA15A",
           "#19d3f3",
           "#FF6692",
           "#B6E880",
           "#FF97FF",
           "#FECB52"
          ],
          "font": {
           "color": "#2a3f5f"
          },
          "geo": {
           "bgcolor": "white",
           "lakecolor": "white",
           "landcolor": "#E5ECF6",
           "showlakes": true,
           "showland": true,
           "subunitcolor": "white"
          },
          "hoverlabel": {
           "align": "left"
          },
          "hovermode": "closest",
          "mapbox": {
           "style": "light"
          },
          "paper_bgcolor": "white",
          "plot_bgcolor": "#E5ECF6",
          "polar": {
           "angularaxis": {
            "gridcolor": "white",
            "linecolor": "white",
            "ticks": ""
           },
           "bgcolor": "#E5ECF6",
           "radialaxis": {
            "gridcolor": "white",
            "linecolor": "white",
            "ticks": ""
           }
          },
          "scene": {
           "xaxis": {
            "backgroundcolor": "#E5ECF6",
            "gridcolor": "white",
            "gridwidth": 2,
            "linecolor": "white",
            "showbackground": true,
            "ticks": "",
            "zerolinecolor": "white"
           },
           "yaxis": {
            "backgroundcolor": "#E5ECF6",
            "gridcolor": "white",
            "gridwidth": 2,
            "linecolor": "white",
            "showbackground": true,
            "ticks": "",
            "zerolinecolor": "white"
           },
           "zaxis": {
            "backgroundcolor": "#E5ECF6",
            "gridcolor": "white",
            "gridwidth": 2,
            "linecolor": "white",
            "showbackground": true,
            "ticks": "",
            "zerolinecolor": "white"
           }
          },
          "shapedefaults": {
           "line": {
            "color": "#2a3f5f"
           }
          },
          "ternary": {
           "aaxis": {
            "gridcolor": "white",
            "linecolor": "white",
            "ticks": ""
           },
           "baxis": {
            "gridcolor": "white",
            "linecolor": "white",
            "ticks": ""
           },
           "bgcolor": "#E5ECF6",
           "caxis": {
            "gridcolor": "white",
            "linecolor": "white",
            "ticks": ""
           }
          },
          "title": {
           "x": 0.05
          },
          "xaxis": {
           "automargin": true,
           "gridcolor": "white",
           "linecolor": "white",
           "ticks": "",
           "title": {
            "standoff": 15
           },
           "zerolinecolor": "white",
           "zerolinewidth": 2
          },
          "yaxis": {
           "automargin": true,
           "gridcolor": "white",
           "linecolor": "white",
           "ticks": "",
           "title": {
            "standoff": 15
           },
           "zerolinecolor": "white",
           "zerolinewidth": 2
          }
         }
        },
        "title": {
         "text": "Connecting Rod Angle Evolution vs Crankshaft Angle",
         "x": 0.5
        },
        "xaxis": {
         "title": {
          "text": "Crankshaft Angle (Degrees)"
         }
        },
        "yaxis": {
         "title": {
          "text": "Connecting Rod Angle (Degrees)"
         }
        }
       }
      }
     },
     "metadata": {},
     "output_type": "display_data"
    }
   ],
   "source": [
    "import plotly.graph_objs as go\n",
    "import numpy as np\n",
    "\n",
    "l2 = 5\n",
    "l3 = 7\n",
    "offset = 1\n",
    "\n",
    "# Prepare data\n",
    "angle_deg_2_values = list(range(0, 361, 10))\n",
    "angle_deg_3_values = []\n",
    "\n",
    "for angle_deg_2 in angle_deg_2_values:\n",
    "    solution = slider_crank_position(l2, l3, offset, angle_deg_2)\n",
    "\n",
    "    angle_3 = solution[7]\n",
    "\n",
    "    angle_deg_3_values.append(angle_3)\n",
    "\n",
    "# Calculate the difference between max and min values\n",
    "range_of_motion = max(angle_deg_3_values) - min(angle_deg_3_values)\n",
    "print(f\"Range of motion: {range_of_motion}\")\n",
    "\n",
    "# Find the index of the min and max values and the corresponding angles\n",
    "min_index = np.argmin(angle_deg_3_values)\n",
    "max_index = np.argmax(angle_deg_3_values)\n",
    "min_angle = angle_deg_2_values[min_index]\n",
    "max_angle = angle_deg_2_values[max_index]\n",
    "\n",
    "print(f\"Minimum value reached at angle: {min_angle} degrees\")\n",
    "print(f\"Maximum value reached at angle: {max_angle} degrees\")\n",
    "\n",
    "# Create a scatter plot\n",
    "fig = go.Figure(go.Scatter(x=angle_deg_2_values, y=angle_deg_3_values, mode='lines+markers'))\n",
    "\n",
    "# Set the layout\n",
    "fig.update_layout(title=\"Connecting Rod Angle Evolution vs Crankshaft Angle\", title_x=0.5,\n",
    "                  xaxis_title=\"Crankshaft Angle (Degrees)\",\n",
    "                  yaxis_title=\"Connecting Rod Angle (Degrees)\")\n",
    "\n",
    "# Show the plot\n",
    "fig.show()\n"
   ]
  },
  {
   "attachments": {},
   "cell_type": "markdown",
   "metadata": {},
   "source": [
    "## DASH"
   ]
  },
  {
   "attachments": {},
   "cell_type": "markdown",
   "metadata": {},
   "source": [
    "### Piston Position"
   ]
  },
  {
   "cell_type": "code",
   "execution_count": 51,
   "metadata": {},
   "outputs": [
    {
     "data": {
      "text/html": [
       "\n",
       "        <iframe\n",
       "            width=\"100%\"\n",
       "            height=\"650\"\n",
       "            src=\"http://127.0.0.1:8055/\"\n",
       "            frameborder=\"0\"\n",
       "            allowfullscreen\n",
       "            \n",
       "        ></iframe>\n",
       "        "
      ],
      "text/plain": [
       "<IPython.lib.display.IFrame at 0x12cf8817190>"
      ]
     },
     "metadata": {},
     "output_type": "display_data"
    }
   ],
   "source": [
    "import dash\n",
    "from dash import dcc\n",
    "from dash import html\n",
    "from dash.dependencies import Input, Output\n",
    "import plotly.graph_objs as go\n",
    "import numpy as np\n",
    "\n",
    "from jupyter_dash import JupyterDash\n",
    "\n",
    "\n",
    "#app = dash.Dash(__name__)\n",
    "app = JupyterDash(__name__, external_stylesheets=['https://maxcdn.bootstrapcdn.com/bootstrap/4.5.2/css/bootstrap.min.css'])\n",
    "\n",
    "\n",
    "app.layout = html.Div([\n",
    "    html.Label(\"Crank:\"),\n",
    "    dcc.Input(id=\"l2-input\", type=\"number\", value=5),\n",
    "    html.Label(\"Connecting Rod:\"),\n",
    "    dcc.Input(id=\"l3-input\", type=\"number\", value=7),\n",
    "    html.Label(\"Offset:\"),\n",
    "    dcc.Input(id=\"offset-input\", type=\"number\", value=1),\n",
    "    html.Button(\"Update\", id=\"update-button\"),\n",
    "    html.Div(id=\"range-info\"),\n",
    "    dcc.Graph(id=\"piston-graph\"),\n",
    "    \n",
    "])\n",
    "\n",
    "@app.callback(\n",
    "    [Output(\"piston-graph\", \"figure\"), Output(\"range-info\", \"children\")],\n",
    "    [Input(\"update-button\", \"n_clicks\")],\n",
    "    [dash.dependencies.State(\"l2-input\", \"value\"),\n",
    "     dash.dependencies.State(\"l3-input\", \"value\"),\n",
    "     dash.dependencies.State(\"offset-input\", \"value\")]\n",
    ")\n",
    "def update_graph(n_clicks, l2, l3, offset):\n",
    "    angle_deg_2_values = list(range(0, 361, 5))\n",
    "    Rx_4_values = []\n",
    "\n",
    "    for angle_deg_2 in angle_deg_2_values:\n",
    "        solution = slider_crank_position(l2, l3, offset, angle_deg_2)\n",
    "        Rx_4 = solution[8]\n",
    "        Rx_4_values.append(Rx_4)\n",
    "\n",
    "    fig = go.Figure(go.Scatter(x=angle_deg_2_values, y=Rx_4_values, mode='lines+markers'))\n",
    "    fig.update_layout(title=\"Piston Position Evolution vs Crankshaft Angle\", title_x=0.5,\n",
    "                      xaxis_title=\"Crankshaft Angle (Degrees)\",\n",
    "                      yaxis_title=\"Piston Position\")\n",
    "\n",
    "    range_of_motion = max(Rx_4_values) - min(Rx_4_values)\n",
    "    #min_value = min(Rx_4_values)\n",
    "    min_index = np.argmin(Rx_4_values)\n",
    "    min_angle = angle_deg_2_values[min_index]\n",
    "\n",
    "    \n",
    "    range_info = f\"Range of Motion: {range_of_motion:.2f}, Intake/Combustion: {min_angle:.2f}°, Compression/Exhaust:{360-min_angle:.2f}°\"\n",
    "\n",
    "    return fig, range_info\n",
    "\n",
    "# if __name__ == \"__main__\":\n",
    "#     app.run_server(debug=True)\n",
    "# Start of the application\n",
    "if __name__ == '__main__':\n",
    "    app.run_server(mode=\"inline\", port=8055)\n"
   ]
  },
  {
   "cell_type": "code",
   "execution_count": 86,
   "metadata": {},
   "outputs": [
    {
     "data": {
      "text/html": [
       "\n",
       "        <iframe\n",
       "            width=\"100%\"\n",
       "            height=\"650\"\n",
       "            src=\"http://127.0.0.1:8055/\"\n",
       "            frameborder=\"0\"\n",
       "            allowfullscreen\n",
       "            \n",
       "        ></iframe>\n",
       "        "
      ],
      "text/plain": [
       "<IPython.lib.display.IFrame at 0x12cf8976ee0>"
      ]
     },
     "metadata": {},
     "output_type": "display_data"
    }
   ],
   "source": [
    "import dash\n",
    "from dash import dcc\n",
    "from dash import html\n",
    "from dash.dependencies import Input, Output\n",
    "import plotly.graph_objs as go\n",
    "import numpy as np\n",
    "\n",
    "from jupyter_dash import JupyterDash\n",
    "\n",
    "\n",
    "#app = dash.Dash(__name__)\n",
    "app = JupyterDash(__name__, external_stylesheets=['https://maxcdn.bootstrapcdn.com/bootstrap/4.5.2/css/bootstrap.min.css'])\n",
    "\n",
    "app.layout = html.Div([\n",
    "    html.Label(\"Crank:\"),\n",
    "    dcc.Input(id=\"l2-input\", type=\"number\", value=5),\n",
    "    html.Label(\"Connecting Rod:\"),\n",
    "    dcc.Input(id=\"l3-input\", type=\"number\", value=7),\n",
    "    html.Label(\"offset:\"),\n",
    "    dcc.Input(id=\"offset-input\", type=\"number\", value=1),\n",
    "    html.Button(\"Update\", id=\"update-button\"),\n",
    "    html.Div(id=\"range-info\"),\n",
    "    dcc.Graph(id=\"animation-graph\"),\n",
    "    dcc.Graph(id=\"piston-graph\"),\n",
    "    html.Div([\n",
    "        html.H4(\"About\"),\n",
    "        html.A(\"My Blog - FossEngineer\", href=\"https://fossengineer.com\", target=\"_blank\"),\n",
    "        html.Br(),\n",
    "        html.A(\"Source Code\", href=\"https://github.com/JAlcocerT/Slider-Crank\", target=\"_blank\"),\n",
    "    ], style={'float': 'right'})\n",
    "])\n",
    "\n",
    "@app.callback(\n",
    "    [Output(\"piston-graph\", \"figure\"), Output(\"range-info\", \"children\"), Output(\"animation-graph\", \"figure\")],\n",
    "    [Input(\"update-button\", \"n_clicks\")],\n",
    "    [dash.dependencies.State(\"l2-input\", \"value\"),\n",
    "     dash.dependencies.State(\"l3-input\", \"value\"),\n",
    "     dash.dependencies.State(\"offset-input\", \"value\")]\n",
    ")\n",
    "def update_graph(n_clicks, l2, l3, offset):\n",
    "    # Update piston graph\n",
    "    angle_deg_2_values = list(range(0, 361, 10))\n",
    "    Rx_4_values = []\n",
    "\n",
    "    for angle_deg_2 in angle_deg_2_values:\n",
    "        solution = slider_crank_position(l2, l3, offset, angle_deg_2)\n",
    "        Rx_4 = solution[8]\n",
    "        Rx_4_values.append(Rx_4)\n",
    "\n",
    "    fig = go.Figure(go.Scatter(x=angle_deg_2_values, y=Rx_4_values, mode='lines+markers'))\n",
    "    fig.update_layout(title=\"Piston Position Evolution vs Crankshaft Angle\", title_x=0.5,\n",
    "                      xaxis_title=\"Crankshaft Angle (Degrees)\",\n",
    "                      yaxis_title=\"Piston Position\")\n",
    "\n",
    "    range_of_motion = max(Rx_4_values) - min(Rx_4_values)\n",
    "    #min_value = min(Rx_4_values)\n",
    "    min_index = np.argmin(Rx_4_values)\n",
    "    min_angle = angle_deg_2_values[min_index]\n",
    "\n",
    "    \n",
    "    range_info = f\"Range of Motion: {range_of_motion:.2f}, Intake/Combustion: {min_angle:.2f}°, Compression/Exhaust:{360-min_angle:.2f}°\"\n",
    "\n",
    "    # Update animation graph\n",
    "    animation_fig = create_animation(l2, l3, offset)\n",
    "\n",
    "    return fig, range_info, animation_fig\n",
    "\n",
    "# if __name__ == \"__main__\":\n",
    "#     app.run_server(debug=True)\n",
    "# Start of the application\n",
    "if __name__ == '__main__':\n",
    "    app.run_server(mode=\"inline\", port=8055)\n"
   ]
  }
 ],
 "metadata": {
  "kernelspec": {
   "display_name": "base",
   "language": "python",
   "name": "python3"
  },
  "language_info": {
   "codemirror_mode": {
    "name": "ipython",
    "version": 3
   },
   "file_extension": ".py",
   "mimetype": "text/x-python",
   "name": "python",
   "nbconvert_exporter": "python",
   "pygments_lexer": "ipython3",
   "version": "3.9.7"
  },
  "orig_nbformat": 4
 },
 "nbformat": 4,
 "nbformat_minor": 2
}

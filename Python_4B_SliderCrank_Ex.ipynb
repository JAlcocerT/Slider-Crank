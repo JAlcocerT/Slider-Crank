{
 "cells": [
  {
   "cell_type": "markdown",
   "metadata": {},
   "source": [
    "# Slider-Crank\n",
    "\n",
    "* <https://gitlab.com/FOSSEngineer/pythonslidercrank>"
   ]
  },
  {
   "cell_type": "code",
   "execution_count": 6,
   "metadata": {},
   "outputs": [],
   "source": [
    "from sympy import Eq, solve, pi\n",
    "from sympy import lambdify\n",
    "import numpy as np\n",
    "from scipy.optimize import fsolve\n",
    "\n",
    "\n",
    "from sympy import Matrix, cos, sin, symbols\n",
    "\n",
    "def rotation_matrix_2d(theta):\n",
    "    \"\"\"Generate a 2D rotation matrix for a given angle.\"\"\"\n",
    "    return Matrix([\n",
    "        [cos(theta), -sin(theta)],\n",
    "        [sin(theta), cos(theta)]\n",
    "    ])\n",
    "\n",
    "def generate_constraint_equations_pr(theta_i, theta_j, r_x_i, r_y_i, r_x_j, r_y_j, u_x_i, u_y_i, u_x_j, u_y_j):\n",
    "    \"\"\"Generate the position restraint equations for the PR.\"\"\"\n",
    "    R_i = Matrix([r_x_i, r_y_i])\n",
    "    R_j = Matrix([r_x_j, r_y_j])\n",
    "    local_vector_i = Matrix([u_x_i, u_y_i])\n",
    "    local_vector_j = Matrix([u_x_j, u_y_j])\n",
    "    \n",
    "    transformed_vector_i = rotation_matrix_2d(theta_i) * local_vector_i\n",
    "    transformed_vector_j = rotation_matrix_2d(theta_j) * local_vector_j\n",
    "\n",
    "    constraint_equations = R_i + transformed_vector_i - R_j - transformed_vector_j\n",
    "    return constraint_equations\n",
    "\n",
    "\n",
    "def generate_equations_included_topology_pr(theta_i, theta_j, r_x_i, r_y_i, r_x_j, r_y_j, u_x_a, u_y_a, u_x_b, u_y_b):\n",
    "\n",
    "    u_x_i, u_y_i, u_x_j, u_y_j = symbols('u_x_i u_y_i u_x_j u_y_j')\n",
    "\n",
    "\n",
    "    # Generate the constraint equations\n",
    "    equations = generate_constraint_equations_pr(theta_i, theta_j, r_x_i, r_y_i, r_x_j, r_y_j, u_x_i, u_y_i, u_x_j, u_y_j)\n",
    "    \n",
    "    # Substitute the symbolic variables with the provided values\n",
    "    equations_substituted = equations.subs({u_x_i: u_x_a, u_y_i: u_y_a, u_x_j: u_x_b, u_y_j: u_y_b})\n",
    "    \n",
    "    \n",
    "    # Return the equation and the symbols\n",
    "    #return (equations)\n",
    "    return equations_substituted\n",
    "\n",
    "\n",
    "# theta_1, theta_2, theta_3, theta_4 = symbols('theta_1 theta_2 theta_3 theta_4')\n",
    "# r_x_1, r_y_1, r_x_2, r_y_2, r_x_3, r_y_3, r_x_4, r_y_4 = symbols('r_x_1 r_y_1 r_x_2 r_y_2 r_x_3 r_y_3 r_x_4 r_y_4')\n",
    "\n",
    "# #L2, L3, L4, Separation = symbols('L2 L3 L4 Separation')\n",
    "# L2, L3, L4, alfa, offset = symbols('L2 L3 L4 alfa, offset')\n",
    "\n",
    "\n",
    "# u_x_1_12 = 0\n",
    "# u_y_1_12 = 0\n",
    "# u_x_2_12 = 0\n",
    "# u_y_2_12 = 0\n",
    "\n",
    "# type(generate_equations_included_topology_pr(theta_1, theta_2, r_x_1, r_y_1, r_x_2, r_y_2, u_x_1_12, u_y_1_12, u_x_2_12, u_y_2_12))\n",
    "# generate_equations_included_topology_pr(theta_1, theta_2, r_x_1, r_y_1, r_x_2, r_y_2, u_x_1_12, u_y_1_12, u_x_2_12, u_y_2_12)"
   ]
  },
  {
   "cell_type": "code",
   "execution_count": 7,
   "metadata": {},
   "outputs": [],
   "source": [
    "from sympy import symbols, Eq, tan, Matrix\n",
    "\n",
    "def generate_constraint_equations_ppl(theta_i, theta_j, r_x_i, r_y_i, r_x_j, r_y_j, alfa, offset):\n",
    "    \"\"\"Generate the position restraint equations for the PPL.\"\"\"\n",
    "\n",
    "    expr1 = theta_j - theta_i - alfa\n",
    "    expr2 = r_y_j - tan(alfa) * r_x_j - offset\n",
    "    \n",
    "    return Matrix([[expr1], [expr2]])\n",
    "\n",
    "\n",
    "# theta_1, theta_2, theta_3, theta_4 = symbols('theta_1 theta_2 theta_3 theta_4')\n",
    "# r_x_1, r_y_1, r_x_2, r_y_2, r_x_3, r_y_3, r_x_4, r_y_4 = symbols('r_x_1 r_y_1 r_x_2 r_y_2 r_x_3 r_y_3 r_x_4 r_y_4')\n",
    "# L2, L3, L4, alfa, offset = symbols('L2 L3 L4 alfa, offset')\n",
    "# generate_constraint_equations_ppl(theta_1, theta_4, r_x_1, r_y_1, r_x_4, r_y_4, alfa, offset)"
   ]
  },
  {
   "cell_type": "code",
   "execution_count": 8,
   "metadata": {},
   "outputs": [],
   "source": [
    "def four_bars_slidercrank_example_symbolic_full():\n",
    "\n",
    "    theta_1, theta_2, theta_3, theta_4 = symbols('theta_1 theta_2 theta_3 theta_4')\n",
    "    r_x_1, r_y_1, r_x_2, r_y_2, r_x_3, r_y_3, r_x_4, r_y_4 = symbols('r_x_1 r_y_1 r_x_2 r_y_2 r_x_3 r_y_3 r_x_4 r_y_4')\n",
    "\n",
    "    #L2, L3, L4, Separation = symbols('L2 L3 L4 Separation')\n",
    "    L2, L3, L4, alfa, offset = symbols('L2 L3 L4 alfa, offset')\n",
    "\n",
    "\n",
    "    u_x_1_12 = 0\n",
    "    u_y_1_12 = 0\n",
    "    u_x_2_12 = 0\n",
    "    u_y_2_12 = 0\n",
    "    restrictions_pr12 = generate_equations_included_topology_pr(theta_1, theta_2, r_x_1, r_y_1, r_x_2, r_y_2, u_x_1_12, u_y_1_12, u_x_2_12, u_y_2_12)\n",
    "\n",
    "    u_x_2_23 = L2\n",
    "    u_y_2_23 = 0\n",
    "    u_x_3_23 = 0\n",
    "    u_y_3_23 = 0\n",
    "    restrictions_pr23 = generate_equations_included_topology_pr(theta_2, theta_3, r_x_2, r_y_2, r_x_3, r_y_3, u_x_2_23, u_y_2_23, u_x_3_23, u_y_3_23)\n",
    "\n",
    "    u_x_3_34 = L3\n",
    "    u_y_3_34 = 0\n",
    "    u_x_4_34 = 0\n",
    "    u_y_4_34 = 0\n",
    "    restrictions_pr34 = generate_equations_included_topology_pr(theta_3, theta_4, r_x_3, r_y_3, r_x_4, r_y_4, u_x_3_34, u_y_3_34, u_x_4_34, u_y_4_34)\n",
    "    #print(restrictions_pr34)\n",
    "\n",
    "    # alfa=0\n",
    "    # offset=0\n",
    "    restrictions_ppl14 = generate_constraint_equations_ppl(theta_1, theta_4, r_x_1, r_y_1, r_x_4, r_y_4, alfa, offset)\n",
    "    #print(restrictions_ppl14)\n",
    "    #restrictions_pr14 = generate_equations_included_topology_pr(theta_1, theta_4, r_x_1, r_y_1, r_x_4, r_y_4, u_x_1_14, u_y_1_14, u_x_4_14, u_y_4_14)\n",
    "\n",
    "    # Stacking the matrices vertically to form a single large matrix\n",
    "    restrictions_to_solve = restrictions_pr12.col_join(restrictions_pr23).col_join(restrictions_pr34).col_join(restrictions_ppl14)\n",
    "\n",
    "    # Substituting the known values into the equations\n",
    "    restrictions_substituted = restrictions_to_solve.subs({\n",
    "        r_x_1: 0,\n",
    "        r_y_1: 0,\n",
    "        theta_1: 0 })\n",
    "\n",
    "    # Create a list of equations from the matrix\n",
    "    equation_list = [Eq(restrictions_substituted[i, 0], 0) for i in range(restrictions_substituted.shape[0])]\n",
    "\n",
    "    #print(equation_list) \n",
    "\n",
    "    return(equation_list)\n",
    "\n",
    "#four_bars_slidercrank_example_symbolic_full()\n",
    "#[eq.subs({L2: 8, L3: 8, offset: 0, alfa: 0}) for eq in four_bars_slidercrank_example_symbolic_full()]\n",
    "\n",
    "#[eq.subs({theta_2: np.pi/2, L2: 1, L3: 2, offset: 0, alfa: 0}) for eq in four_bars_slidercrank_example_symbolic_full()]\n",
    "# import sympy as sp\n",
    "# import numpy as np\n",
    "\n",
    "# sp.solve( [eq.subs({theta_2: np.pi/2, L2: 1, L3: 2, offset: 0, alfa: 0}) for eq in four_bars_slidercrank_example_symbolic_full()] )"
   ]
  },
  {
   "cell_type": "code",
   "execution_count": 99,
   "metadata": {},
   "outputs": [],
   "source": [
    "# sp.solve( [eq.subs({theta_2: np.pi/2, L2: 1, L3: 2, offset: 0, alfa: 0}) for eq in four_bars_slidercrank_example_symbolic_full()] )\n",
    "\n",
    "# [eq.subs({theta_2: np.pi/2, L2: 1, L3: 2, offset: 0, alfa: 0}) for eq in four_bars_slidercrank_example_symbolic_full()] "
   ]
  },
  {
   "cell_type": "code",
   "execution_count": 9,
   "metadata": {},
   "outputs": [],
   "source": [
    "def convert_floats(solution_dict):\n",
    "    \"\"\"Convert all values in the dictionary to float.\"\"\"\n",
    "    return {key: float(value.evalf()) if isinstance(value, (sp.Number, sp.Symbol)) else value \n",
    "            for key, value in solution_dict.items()}\n"
   ]
  },
  {
   "cell_type": "code",
   "execution_count": 10,
   "metadata": {},
   "outputs": [],
   "source": [
    "import plotly.graph_objs as go\n",
    "\n",
    "def plot_slidercrank_position_json(new_input):\n",
    "    # Extract values from the input dictionary using string keys\n",
    "    r_x_2_value = new_input['r_x_2']\n",
    "    r_y_2_value = new_input['r_y_2']\n",
    "    r_x_3_value = new_input['r_x_3']\n",
    "    r_y_3_value = new_input['r_y_3']\n",
    "    r_x_4_value = new_input['r_x_4']\n",
    "    r_y_4_value = new_input['r_y_4']\n",
    "\n",
    "    #print(r_x_2_value)\n",
    "    \n",
    "    # Create traces for each line\n",
    "    trace1 = go.Scatter(x=[r_x_2_value, r_x_3_value], y=[r_y_2_value, r_y_3_value], mode='lines+markers', name='Link 2-3')\n",
    "    trace2 = go.Scatter(x=[r_x_3_value, r_x_4_value], y=[r_y_3_value, r_y_4_value], mode='lines+markers', name='Link 3-4')\n",
    "    #trace3 = go.Scatter(x=[r_x_4_value, Separation], y=[r_y_4_value, 0], mode='lines+markers', name='Link 4-Base')\n",
    "    \n",
    "    # Define layout with equal aspect ratio and specified axis ranges\n",
    "    layout = go.Layout(title='Four Bars Mechanism Visualization',\n",
    "                       xaxis=dict(title='X Coordinate', scaleanchor=\"y\", scaleratio=1, range=[-15, 15]),\n",
    "                       yaxis=dict(title='Y Coordinate', scaleanchor=\"x\", scaleratio=1, range=[-15, 15]),\n",
    "                       showlegend=True,\n",
    "                       autosize=False,  # Disable automatic sizing to maintain aspect ratio\n",
    "                       width=500,  # Set width of the plot\n",
    "                       height=500)  # Set height of the plot\n",
    "    \n",
    "    # Create figure and plot\n",
    "    fig = go.Figure(data=[trace1, trace2], layout=layout)\n",
    "    fig.show()\n",
    "\n",
    "# test_results2 = {\n",
    "#     'r_x_2': 0.0,\n",
    "#     'r_x_3': 1.22464679914735e-16,\n",
    "#     'r_y_2': 0.0,\n",
    "#     'r_y_3': 2.00000000000000,\n",
    "#     'r_x_4': 3.06161699786838e-16,\n",
    "#     'r_y_4': 5.00000000000000\n",
    "# }\n",
    "\n",
    "#plot_mechanism_updated_json(test_results2,Separation)\n",
    "#plot_mechanism_updated_json(new_dict,Separation)\n"
   ]
  },
  {
   "cell_type": "code",
   "execution_count": 11,
   "metadata": {},
   "outputs": [],
   "source": [
    "def solve_and_plot_slidercrank(theta_2_value, L2_value, L3_value, offset_value, alfa_value):\n",
    "\n",
    "        \n",
    "    # Solve the equations\n",
    "    #solutions = sp.solve( [eq.subs({theta_2: np.pi/2, L2: 8, L3: 8, offset: 0, alfa: 0}) for eq in four_bars_slidercrank_example_symbolic_full()] )\n",
    "    solutions = sp.solve( [eq.subs({theta_2: theta_2_value, L2: L2_value, L3: L3_value, offset: offset_value, alfa: alfa_value}) for eq in four_bars_slidercrank_example_symbolic_full()] )\n",
    "\n",
    "    solutions_theta_3_1 = solutions[1]\n",
    "\n",
    "    solution_json = {str(key): value for key, value in solutions_theta_3_1.items()}\n",
    "\n",
    "    solution_json_converted = convert_floats(solution_json)\n",
    "    print(solution_json_converted)\n",
    "    plot_slidercrank_position_json(solution_json_converted)\n",
    "\n",
    "    \n",
    "#solve_and_plot_slidercrank(theta_2_value=np.pi/4, L2_value=1, L3_value=2, offset_value=0, alfa_value=0)"
   ]
  },
  {
   "cell_type": "code",
   "execution_count": 12,
   "metadata": {},
   "outputs": [
    {
     "name": "stdout",
     "output_type": "stream",
     "text": [
      "[0.         0.17951958 0.35903916 0.53855874 0.71807832 0.8975979\n",
      " 1.07711748 1.25663706 1.43615664 1.61567622 1.7951958  1.97471538\n",
      " 2.15423496 2.33375454 2.51327412 2.6927937  2.87231328 3.05183286\n",
      " 3.23135244 3.41087202 3.5903916  3.76991118 3.94943076 4.12895034\n",
      " 4.30846992 4.48798951 4.66750909 4.84702867 5.02654825 5.20606783\n",
      " 5.38558741 5.56510699 5.74462657 5.92414615 6.10366573 6.28318531]\n"
     ]
    },
    {
     "data": {
      "application/vnd.plotly.v1+json": {
       "config": {
        "plotlyServerURL": "https://plot.ly"
       },
       "data": [
        {
         "mode": "lines+markers",
         "name": "Link 2-3",
         "type": "scatter",
         "x": [
          0,
          1
         ],
         "y": [
          0,
          0
         ]
        },
        {
         "mode": "lines+markers",
         "name": "Link 3-4",
         "type": "scatter",
         "x": [
          1,
          3
         ],
         "y": [
          0,
          0
         ]
        },
        {
         "mode": "lines+markers",
         "name": "Link 2-3",
         "type": "scatter",
         "x": [
          0,
          0.98392958859863
         ],
         "y": [
          0,
          0.178556894798637
         ]
        },
        {
         "mode": "lines+markers",
         "name": "Link 3-4",
         "type": "scatter",
         "x": [
          0.98392958859863,
          2.9759430010333627
         ],
         "y": [
          0.178556894798637,
          0
         ]
        },
        {
         "mode": "lines+markers",
         "name": "Link 2-3",
         "type": "scatter",
         "x": [
          0,
          0.936234870639737
         ],
         "y": [
          0,
          0.351374824081343
         ]
        },
        {
         "mode": "lines+markers",
         "name": "Link 3-4",
         "type": "scatter",
         "x": [
          0.936234870639737,
          2.905126877074271
         ],
         "y": [
          0.351374824081343,
          0
         ]
        },
        {
         "mode": "lines+markers",
         "name": "Link 2-3",
         "type": "scatter",
         "x": [
          0,
          0.858448793601866
         ],
         "y": [
          0,
          0.512899277405906
         ]
        },
        {
         "mode": "lines+markers",
         "name": "Link 3-4",
         "type": "scatter",
         "x": [
          0.858448793601866,
          2.791563981901958
         ],
         "y": [
          0.512899277405906,
          0
         ]
        },
        {
         "mode": "lines+markers",
         "name": "Link 2-3",
         "type": "scatter",
         "x": [
          0,
          0.753071466003611
         ],
         "y": [
          0,
          0.657938725939713
         ]
        },
        {
         "mode": "lines+markers",
         "name": "Link 3-4",
         "type": "scatter",
         "x": [
          0.753071466003611,
          2.641752654798805
         ],
         "y": [
          0.657938725939713,
          0
         ]
        },
        {
         "mode": "lines+markers",
         "name": "Link 2-3",
         "type": "scatter",
         "x": [
          0,
          0.623489801858734
         ],
         "y": [
          0,
          0.78183148246803
         ]
        },
        {
         "mode": "lines+markers",
         "name": "Link 3-4",
         "type": "scatter",
         "x": [
          0.623489801858734,
          2.464342738141761
         ],
         "y": [
          0.78183148246803,
          0
         ]
        },
        {
         "mode": "lines+markers",
         "name": "Link 2-3",
         "type": "scatter",
         "x": [
          0,
          0.473868662472999
         ],
         "y": [
          0,
          0.880595531856738
         ]
        },
        {
         "mode": "lines+markers",
         "name": "Link 3-4",
         "type": "scatter",
         "x": [
          0.473868662472999,
          2.2695722875943463
         ],
         "y": [
          0.880595531856738,
          0
         ]
        },
        {
         "mode": "lines+markers",
         "name": "Link 2-3",
         "type": "scatter",
         "x": [
          0,
          0.309016994374947
         ],
         "y": [
          0,
          0.951056516295154
         ]
        },
        {
         "mode": "lines+markers",
         "name": "Link 3-4",
         "type": "scatter",
         "x": [
          0.309016994374947,
          2.0684178875236703
         ],
         "y": [
          0.951056516295154,
          0
         ]
        },
        {
         "mode": "lines+markers",
         "name": "Link 2-3",
         "type": "scatter",
         "x": [
          0,
          0.134233265817656
         ],
         "y": [
          0,
          0.990949761767935
         ]
        },
        {
         "mode": "lines+markers",
         "name": "Link 3-4",
         "type": "scatter",
         "x": [
          0.134233265817656,
          1.8714777994547813
         ],
         "y": [
          0.990949761767935,
          0
         ]
        },
        {
         "mode": "lines+markers",
         "name": "Link 2-3",
         "type": "scatter",
         "x": [
          0,
          -0.0448648303505149
         ],
         "y": [
          0,
          0.998993066541315
         ]
        },
        {
         "mode": "lines+markers",
         "name": "Link 3-4",
         "type": "scatter",
         "x": [
          -0.0448648303505149,
          1.687766940396628
         ],
         "y": [
          0.998993066541315,
          0
         ]
        },
        {
         "mode": "lines+markers",
         "name": "Link 2-3",
         "type": "scatter",
         "x": [
          0,
          -0.222520933956314
         ],
         "y": [
          0,
          0.974927912181824
         ]
        },
        {
         "mode": "lines+markers",
         "name": "Link 3-4",
         "type": "scatter",
         "x": [
          -0.222520933956314,
          1.523765287156591
         ],
         "y": [
          0.974927912181824,
          0
         ]
        },
        {
         "mode": "lines+markers",
         "name": "Link 2-3",
         "type": "scatter",
         "x": [
          0,
          -0.393025031653924
         ],
         "y": [
          0,
          0.919527772551451
         ]
        },
        {
         "mode": "lines+markers",
         "name": "Link 3-4",
         "type": "scatter",
         "x": [
          -0.393025031653924,
          1.38305736381836
         ],
         "y": [
          0.919527772551451,
          0
         ]
        },
        {
         "mode": "lines+markers",
         "name": "Link 2-3",
         "type": "scatter",
         "x": [
          0,
          -0.550896981452102
         ],
         "y": [
          0,
          0.834573253721303
         ]
        },
        {
         "mode": "lines+markers",
         "name": "Link 3-4",
         "type": "scatter",
         "x": [
          -0.550896981452102,
          1.266652875958428
         ],
         "y": [
          0.834573253721303,
          0
         ]
        },
        {
         "mode": "lines+markers",
         "name": "Link 2-3",
         "type": "scatter",
         "x": [
          0,
          -0.691062648986865
         ],
         "y": [
          0,
          0.722794863827392
         ]
        },
        {
         "mode": "lines+markers",
         "name": "Link 3-4",
         "type": "scatter",
         "x": [
          -0.691062648986865,
          1.1737610919668857
         ],
         "y": [
          0.722794863827392,
          0
         ]
        },
        {
         "mode": "lines+markers",
         "name": "Link 2-3",
         "type": "scatter",
         "x": [
          0,
          -0.809016994374947
         ],
         "y": [
          0,
          0.587785252292473
         ]
        },
        {
         "mode": "lines+markers",
         "name": "Link 3-4",
         "type": "scatter",
         "x": [
          -0.809016994374947,
          1.1026598865825734
         ],
         "y": [
          0.587785252292473,
          0
         ]
        },
        {
         "mode": "lines+markers",
         "name": "Link 2-3",
         "type": "scatter",
         "x": [
          0,
          -0.900968867902419
         ],
         "y": [
          0,
          0.433883739117558
         ]
        },
        {
         "mode": "lines+markers",
         "name": "Link 3-4",
         "type": "scatter",
         "x": [
          -0.900968867902419,
          1.0514001804409947
         ],
         "y": [
          0.433883739117558,
          0
         ]
        },
        {
         "mode": "lines+markers",
         "name": "Link 2-3",
         "type": "scatter",
         "x": [
          0,
          -0.963962860695853
         ],
         "y": [
          0,
          0.266036845566675
         ]
        },
        {
         "mode": "lines+markers",
         "name": "Link 3-4",
         "type": "scatter",
         "x": [
          -0.963962860695853,
          1.018264269781614
         ],
         "y": [
          0.266036845566675,
          0
         ]
        },
        {
         "mode": "lines+markers",
         "name": "Link 2-3",
         "type": "scatter",
         "x": [
          0,
          -0.995974293995239
         ],
         "y": [
          0,
          0.0896393089034336
         ]
        },
        {
         "mode": "lines+markers",
         "name": "Link 3-4",
         "type": "scatter",
         "x": [
          -0.995974293995239,
          1.0020158947442641
         ],
         "y": [
          0.0896393089034336,
          0
         ]
        },
        {
         "mode": "lines+markers",
         "name": "Link 2-3",
         "type": "scatter",
         "x": [
          0,
          -0.995974293995239
         ],
         "y": [
          0,
          -0.0896393089034334
         ]
        },
        {
         "mode": "lines+markers",
         "name": "Link 3-4",
         "type": "scatter",
         "x": [
          -0.995974293995239,
          1.0020158947442641
         ],
         "y": [
          -0.0896393089034334,
          0
         ]
        },
        {
         "mode": "lines+markers",
         "name": "Link 2-3",
         "type": "scatter",
         "x": [
          0,
          -0.963962860695853
         ],
         "y": [
          0,
          -0.266036845566675
         ]
        },
        {
         "mode": "lines+markers",
         "name": "Link 3-4",
         "type": "scatter",
         "x": [
          -0.963962860695853,
          1.018264269781614
         ],
         "y": [
          -0.266036845566675,
          0
         ]
        },
        {
         "mode": "lines+markers",
         "name": "Link 2-3",
         "type": "scatter",
         "x": [
          0,
          -0.900968867902419
         ],
         "y": [
          0,
          -0.433883739117558
         ]
        },
        {
         "mode": "lines+markers",
         "name": "Link 3-4",
         "type": "scatter",
         "x": [
          -0.900968867902419,
          1.0514001804409947
         ],
         "y": [
          -0.433883739117558,
          0
         ]
        },
        {
         "mode": "lines+markers",
         "name": "Link 2-3",
         "type": "scatter",
         "x": [
          0,
          -0.809016994374948
         ],
         "y": [
          0,
          -0.587785252292473
         ]
        },
        {
         "mode": "lines+markers",
         "name": "Link 3-4",
         "type": "scatter",
         "x": [
          -0.809016994374948,
          1.1026598865825725
         ],
         "y": [
          -0.587785252292473,
          0
         ]
        },
        {
         "mode": "lines+markers",
         "name": "Link 2-3",
         "type": "scatter",
         "x": [
          0,
          -0.691062648986865
         ],
         "y": [
          0,
          -0.722794863827391
         ]
        },
        {
         "mode": "lines+markers",
         "name": "Link 3-4",
         "type": "scatter",
         "x": [
          -0.691062648986865,
          1.1737610919668862
         ],
         "y": [
          -0.722794863827391,
          0
         ]
        },
        {
         "mode": "lines+markers",
         "name": "Link 2-3",
         "type": "scatter",
         "x": [
          0,
          -0.550896981452103
         ],
         "y": [
          0,
          -0.834573253721303
         ]
        },
        {
         "mode": "lines+markers",
         "name": "Link 3-4",
         "type": "scatter",
         "x": [
          -0.550896981452103,
          1.2666528759584268
         ],
         "y": [
          -0.834573253721303,
          0
         ]
        },
        {
         "mode": "lines+markers",
         "name": "Link 2-3",
         "type": "scatter",
         "x": [
          0,
          -0.393025031653924
         ],
         "y": [
          0,
          -0.919527772551451
         ]
        },
        {
         "mode": "lines+markers",
         "name": "Link 3-4",
         "type": "scatter",
         "x": [
          -0.393025031653924,
          1.38305736381836
         ],
         "y": [
          -0.919527772551451,
          0
         ]
        },
        {
         "mode": "lines+markers",
         "name": "Link 2-3",
         "type": "scatter",
         "x": [
          0,
          -0.222520933956315
         ],
         "y": [
          0,
          -0.974927912181824
         ]
        },
        {
         "mode": "lines+markers",
         "name": "Link 3-4",
         "type": "scatter",
         "x": [
          -0.222520933956315,
          1.52376528715659
         ],
         "y": [
          -0.974927912181824,
          0
         ]
        },
        {
         "mode": "lines+markers",
         "name": "Link 2-3",
         "type": "scatter",
         "x": [
          0,
          -0.0448648303505151
         ],
         "y": [
          0,
          -0.998993066541315
         ]
        },
        {
         "mode": "lines+markers",
         "name": "Link 3-4",
         "type": "scatter",
         "x": [
          -0.0448648303505151,
          1.6877669403966278
         ],
         "y": [
          -0.998993066541315,
          0
         ]
        },
        {
         "mode": "lines+markers",
         "name": "Link 2-3",
         "type": "scatter",
         "x": [
          0,
          0.134233265817655
         ],
         "y": [
          0,
          -0.990949761767935
         ]
        },
        {
         "mode": "lines+markers",
         "name": "Link 3-4",
         "type": "scatter",
         "x": [
          0.134233265817655,
          1.8714777994547802
         ],
         "y": [
          -0.990949761767935,
          0
         ]
        },
        {
         "mode": "lines+markers",
         "name": "Link 2-3",
         "type": "scatter",
         "x": [
          0,
          0.309016994374947
         ],
         "y": [
          0,
          -0.951056516295154
         ]
        },
        {
         "mode": "lines+markers",
         "name": "Link 3-4",
         "type": "scatter",
         "x": [
          0.309016994374947,
          2.0684178875236703
         ],
         "y": [
          -0.951056516295154,
          0
         ]
        },
        {
         "mode": "lines+markers",
         "name": "Link 2-3",
         "type": "scatter",
         "x": [
          0,
          0.473868662472998
         ],
         "y": [
          0,
          -0.880595531856738
         ]
        },
        {
         "mode": "lines+markers",
         "name": "Link 3-4",
         "type": "scatter",
         "x": [
          0.473868662472998,
          2.2695722875943454
         ],
         "y": [
          -0.880595531856738,
          0
         ]
        },
        {
         "mode": "lines+markers",
         "name": "Link 2-3",
         "type": "scatter",
         "x": [
          0,
          0.623489801858733
         ],
         "y": [
          0,
          -0.78183148246803
         ]
        },
        {
         "mode": "lines+markers",
         "name": "Link 3-4",
         "type": "scatter",
         "x": [
          0.623489801858733,
          2.46434273814176
         ],
         "y": [
          -0.78183148246803,
          0
         ]
        },
        {
         "mode": "lines+markers",
         "name": "Link 2-3",
         "type": "scatter",
         "x": [
          0,
          0.753071466003611
         ],
         "y": [
          0,
          -0.657938725939713
         ]
        },
        {
         "mode": "lines+markers",
         "name": "Link 3-4",
         "type": "scatter",
         "x": [
          0.753071466003611,
          2.641752654798805
         ],
         "y": [
          -0.657938725939713,
          0
         ]
        },
        {
         "mode": "lines+markers",
         "name": "Link 2-3",
         "type": "scatter",
         "x": [
          0,
          0.858448793601866
         ],
         "y": [
          0,
          -0.512899277405906
         ]
        },
        {
         "mode": "lines+markers",
         "name": "Link 3-4",
         "type": "scatter",
         "x": [
          0.858448793601866,
          2.791563981901958
         ],
         "y": [
          -0.512899277405906,
          0
         ]
        },
        {
         "mode": "lines+markers",
         "name": "Link 2-3",
         "type": "scatter",
         "x": [
          0,
          0.936234870639737
         ],
         "y": [
          0,
          -0.351374824081343
         ]
        },
        {
         "mode": "lines+markers",
         "name": "Link 3-4",
         "type": "scatter",
         "x": [
          0.936234870639737,
          2.905126877074271
         ],
         "y": [
          -0.351374824081343,
          0
         ]
        },
        {
         "mode": "lines+markers",
         "name": "Link 2-3",
         "type": "scatter",
         "x": [
          0,
          0.98392958859863
         ],
         "y": [
          0,
          -0.178556894798637
         ]
        },
        {
         "mode": "lines+markers",
         "name": "Link 3-4",
         "type": "scatter",
         "x": [
          0.98392958859863,
          2.9759430010333627
         ],
         "y": [
          -0.178556894798637,
          0
         ]
        },
        {
         "mode": "lines+markers",
         "name": "Link 2-3",
         "type": "scatter",
         "x": [
          0,
          1
         ],
         "y": [
          0,
          -2.44929359829471e-16
         ]
        },
        {
         "mode": "lines+markers",
         "name": "Link 3-4",
         "type": "scatter",
         "x": [
          1,
          3
         ],
         "y": [
          -2.44929359829471e-16,
          0
         ]
        }
       ],
       "layout": {
        "autosize": false,
        "height": 600,
        "showlegend": true,
        "sliders": [
         {
          "active": 10,
          "steps": [
           {
            "args": [
             {
              "visible": [
               true,
               true,
               false,
               false,
               false,
               false,
               false,
               false,
               false,
               false,
               false,
               false,
               false,
               false,
               false,
               false,
               false,
               false,
               false,
               false,
               false,
               false,
               false,
               false,
               false,
               false,
               false,
               false,
               false,
               false,
               false,
               false,
               false,
               false,
               false,
               false,
               false,
               false,
               false,
               false,
               false,
               false,
               false,
               false,
               false,
               false,
               false,
               false,
               false,
               false,
               false,
               false,
               false,
               false,
               false,
               false,
               false,
               false,
               false,
               false,
               false,
               false,
               false,
               false,
               false,
               false,
               false,
               false,
               false,
               false,
               false,
               false
              ]
             }
            ],
            "label": "0.00",
            "method": "restyle"
           },
           {
            "args": [
             {
              "visible": [
               false,
               false,
               true,
               true,
               false,
               false,
               false,
               false,
               false,
               false,
               false,
               false,
               false,
               false,
               false,
               false,
               false,
               false,
               false,
               false,
               false,
               false,
               false,
               false,
               false,
               false,
               false,
               false,
               false,
               false,
               false,
               false,
               false,
               false,
               false,
               false,
               false,
               false,
               false,
               false,
               false,
               false,
               false,
               false,
               false,
               false,
               false,
               false,
               false,
               false,
               false,
               false,
               false,
               false,
               false,
               false,
               false,
               false,
               false,
               false,
               false,
               false,
               false,
               false,
               false,
               false,
               false,
               false,
               false,
               false,
               false,
               false
              ]
             }
            ],
            "label": "0.18",
            "method": "restyle"
           },
           {
            "args": [
             {
              "visible": [
               false,
               false,
               false,
               false,
               true,
               true,
               false,
               false,
               false,
               false,
               false,
               false,
               false,
               false,
               false,
               false,
               false,
               false,
               false,
               false,
               false,
               false,
               false,
               false,
               false,
               false,
               false,
               false,
               false,
               false,
               false,
               false,
               false,
               false,
               false,
               false,
               false,
               false,
               false,
               false,
               false,
               false,
               false,
               false,
               false,
               false,
               false,
               false,
               false,
               false,
               false,
               false,
               false,
               false,
               false,
               false,
               false,
               false,
               false,
               false,
               false,
               false,
               false,
               false,
               false,
               false,
               false,
               false,
               false,
               false,
               false,
               false
              ]
             }
            ],
            "label": "0.36",
            "method": "restyle"
           },
           {
            "args": [
             {
              "visible": [
               false,
               false,
               false,
               false,
               false,
               false,
               true,
               true,
               false,
               false,
               false,
               false,
               false,
               false,
               false,
               false,
               false,
               false,
               false,
               false,
               false,
               false,
               false,
               false,
               false,
               false,
               false,
               false,
               false,
               false,
               false,
               false,
               false,
               false,
               false,
               false,
               false,
               false,
               false,
               false,
               false,
               false,
               false,
               false,
               false,
               false,
               false,
               false,
               false,
               false,
               false,
               false,
               false,
               false,
               false,
               false,
               false,
               false,
               false,
               false,
               false,
               false,
               false,
               false,
               false,
               false,
               false,
               false,
               false,
               false,
               false,
               false
              ]
             }
            ],
            "label": "0.54",
            "method": "restyle"
           },
           {
            "args": [
             {
              "visible": [
               false,
               false,
               false,
               false,
               false,
               false,
               false,
               false,
               true,
               true,
               false,
               false,
               false,
               false,
               false,
               false,
               false,
               false,
               false,
               false,
               false,
               false,
               false,
               false,
               false,
               false,
               false,
               false,
               false,
               false,
               false,
               false,
               false,
               false,
               false,
               false,
               false,
               false,
               false,
               false,
               false,
               false,
               false,
               false,
               false,
               false,
               false,
               false,
               false,
               false,
               false,
               false,
               false,
               false,
               false,
               false,
               false,
               false,
               false,
               false,
               false,
               false,
               false,
               false,
               false,
               false,
               false,
               false,
               false,
               false,
               false,
               false
              ]
             }
            ],
            "label": "0.72",
            "method": "restyle"
           },
           {
            "args": [
             {
              "visible": [
               false,
               false,
               false,
               false,
               false,
               false,
               false,
               false,
               false,
               false,
               true,
               true,
               false,
               false,
               false,
               false,
               false,
               false,
               false,
               false,
               false,
               false,
               false,
               false,
               false,
               false,
               false,
               false,
               false,
               false,
               false,
               false,
               false,
               false,
               false,
               false,
               false,
               false,
               false,
               false,
               false,
               false,
               false,
               false,
               false,
               false,
               false,
               false,
               false,
               false,
               false,
               false,
               false,
               false,
               false,
               false,
               false,
               false,
               false,
               false,
               false,
               false,
               false,
               false,
               false,
               false,
               false,
               false,
               false,
               false,
               false,
               false
              ]
             }
            ],
            "label": "0.90",
            "method": "restyle"
           },
           {
            "args": [
             {
              "visible": [
               false,
               false,
               false,
               false,
               false,
               false,
               false,
               false,
               false,
               false,
               false,
               false,
               true,
               true,
               false,
               false,
               false,
               false,
               false,
               false,
               false,
               false,
               false,
               false,
               false,
               false,
               false,
               false,
               false,
               false,
               false,
               false,
               false,
               false,
               false,
               false,
               false,
               false,
               false,
               false,
               false,
               false,
               false,
               false,
               false,
               false,
               false,
               false,
               false,
               false,
               false,
               false,
               false,
               false,
               false,
               false,
               false,
               false,
               false,
               false,
               false,
               false,
               false,
               false,
               false,
               false,
               false,
               false,
               false,
               false,
               false,
               false
              ]
             }
            ],
            "label": "1.08",
            "method": "restyle"
           },
           {
            "args": [
             {
              "visible": [
               false,
               false,
               false,
               false,
               false,
               false,
               false,
               false,
               false,
               false,
               false,
               false,
               false,
               false,
               true,
               true,
               false,
               false,
               false,
               false,
               false,
               false,
               false,
               false,
               false,
               false,
               false,
               false,
               false,
               false,
               false,
               false,
               false,
               false,
               false,
               false,
               false,
               false,
               false,
               false,
               false,
               false,
               false,
               false,
               false,
               false,
               false,
               false,
               false,
               false,
               false,
               false,
               false,
               false,
               false,
               false,
               false,
               false,
               false,
               false,
               false,
               false,
               false,
               false,
               false,
               false,
               false,
               false,
               false,
               false,
               false,
               false
              ]
             }
            ],
            "label": "1.26",
            "method": "restyle"
           },
           {
            "args": [
             {
              "visible": [
               false,
               false,
               false,
               false,
               false,
               false,
               false,
               false,
               false,
               false,
               false,
               false,
               false,
               false,
               false,
               false,
               true,
               true,
               false,
               false,
               false,
               false,
               false,
               false,
               false,
               false,
               false,
               false,
               false,
               false,
               false,
               false,
               false,
               false,
               false,
               false,
               false,
               false,
               false,
               false,
               false,
               false,
               false,
               false,
               false,
               false,
               false,
               false,
               false,
               false,
               false,
               false,
               false,
               false,
               false,
               false,
               false,
               false,
               false,
               false,
               false,
               false,
               false,
               false,
               false,
               false,
               false,
               false,
               false,
               false,
               false,
               false
              ]
             }
            ],
            "label": "1.44",
            "method": "restyle"
           },
           {
            "args": [
             {
              "visible": [
               false,
               false,
               false,
               false,
               false,
               false,
               false,
               false,
               false,
               false,
               false,
               false,
               false,
               false,
               false,
               false,
               false,
               false,
               true,
               true,
               false,
               false,
               false,
               false,
               false,
               false,
               false,
               false,
               false,
               false,
               false,
               false,
               false,
               false,
               false,
               false,
               false,
               false,
               false,
               false,
               false,
               false,
               false,
               false,
               false,
               false,
               false,
               false,
               false,
               false,
               false,
               false,
               false,
               false,
               false,
               false,
               false,
               false,
               false,
               false,
               false,
               false,
               false,
               false,
               false,
               false,
               false,
               false,
               false,
               false,
               false,
               false
              ]
             }
            ],
            "label": "1.62",
            "method": "restyle"
           },
           {
            "args": [
             {
              "visible": [
               false,
               false,
               false,
               false,
               false,
               false,
               false,
               false,
               false,
               false,
               false,
               false,
               false,
               false,
               false,
               false,
               false,
               false,
               false,
               false,
               true,
               true,
               false,
               false,
               false,
               false,
               false,
               false,
               false,
               false,
               false,
               false,
               false,
               false,
               false,
               false,
               false,
               false,
               false,
               false,
               false,
               false,
               false,
               false,
               false,
               false,
               false,
               false,
               false,
               false,
               false,
               false,
               false,
               false,
               false,
               false,
               false,
               false,
               false,
               false,
               false,
               false,
               false,
               false,
               false,
               false,
               false,
               false,
               false,
               false,
               false,
               false
              ]
             }
            ],
            "label": "1.80",
            "method": "restyle"
           },
           {
            "args": [
             {
              "visible": [
               false,
               false,
               false,
               false,
               false,
               false,
               false,
               false,
               false,
               false,
               false,
               false,
               false,
               false,
               false,
               false,
               false,
               false,
               false,
               false,
               false,
               false,
               true,
               true,
               false,
               false,
               false,
               false,
               false,
               false,
               false,
               false,
               false,
               false,
               false,
               false,
               false,
               false,
               false,
               false,
               false,
               false,
               false,
               false,
               false,
               false,
               false,
               false,
               false,
               false,
               false,
               false,
               false,
               false,
               false,
               false,
               false,
               false,
               false,
               false,
               false,
               false,
               false,
               false,
               false,
               false,
               false,
               false,
               false,
               false,
               false,
               false
              ]
             }
            ],
            "label": "1.97",
            "method": "restyle"
           },
           {
            "args": [
             {
              "visible": [
               false,
               false,
               false,
               false,
               false,
               false,
               false,
               false,
               false,
               false,
               false,
               false,
               false,
               false,
               false,
               false,
               false,
               false,
               false,
               false,
               false,
               false,
               false,
               false,
               true,
               true,
               false,
               false,
               false,
               false,
               false,
               false,
               false,
               false,
               false,
               false,
               false,
               false,
               false,
               false,
               false,
               false,
               false,
               false,
               false,
               false,
               false,
               false,
               false,
               false,
               false,
               false,
               false,
               false,
               false,
               false,
               false,
               false,
               false,
               false,
               false,
               false,
               false,
               false,
               false,
               false,
               false,
               false,
               false,
               false,
               false,
               false
              ]
             }
            ],
            "label": "2.15",
            "method": "restyle"
           },
           {
            "args": [
             {
              "visible": [
               false,
               false,
               false,
               false,
               false,
               false,
               false,
               false,
               false,
               false,
               false,
               false,
               false,
               false,
               false,
               false,
               false,
               false,
               false,
               false,
               false,
               false,
               false,
               false,
               false,
               false,
               true,
               true,
               false,
               false,
               false,
               false,
               false,
               false,
               false,
               false,
               false,
               false,
               false,
               false,
               false,
               false,
               false,
               false,
               false,
               false,
               false,
               false,
               false,
               false,
               false,
               false,
               false,
               false,
               false,
               false,
               false,
               false,
               false,
               false,
               false,
               false,
               false,
               false,
               false,
               false,
               false,
               false,
               false,
               false,
               false,
               false
              ]
             }
            ],
            "label": "2.33",
            "method": "restyle"
           },
           {
            "args": [
             {
              "visible": [
               false,
               false,
               false,
               false,
               false,
               false,
               false,
               false,
               false,
               false,
               false,
               false,
               false,
               false,
               false,
               false,
               false,
               false,
               false,
               false,
               false,
               false,
               false,
               false,
               false,
               false,
               false,
               false,
               true,
               true,
               false,
               false,
               false,
               false,
               false,
               false,
               false,
               false,
               false,
               false,
               false,
               false,
               false,
               false,
               false,
               false,
               false,
               false,
               false,
               false,
               false,
               false,
               false,
               false,
               false,
               false,
               false,
               false,
               false,
               false,
               false,
               false,
               false,
               false,
               false,
               false,
               false,
               false,
               false,
               false,
               false,
               false
              ]
             }
            ],
            "label": "2.51",
            "method": "restyle"
           },
           {
            "args": [
             {
              "visible": [
               false,
               false,
               false,
               false,
               false,
               false,
               false,
               false,
               false,
               false,
               false,
               false,
               false,
               false,
               false,
               false,
               false,
               false,
               false,
               false,
               false,
               false,
               false,
               false,
               false,
               false,
               false,
               false,
               false,
               false,
               true,
               true,
               false,
               false,
               false,
               false,
               false,
               false,
               false,
               false,
               false,
               false,
               false,
               false,
               false,
               false,
               false,
               false,
               false,
               false,
               false,
               false,
               false,
               false,
               false,
               false,
               false,
               false,
               false,
               false,
               false,
               false,
               false,
               false,
               false,
               false,
               false,
               false,
               false,
               false,
               false,
               false
              ]
             }
            ],
            "label": "2.69",
            "method": "restyle"
           },
           {
            "args": [
             {
              "visible": [
               false,
               false,
               false,
               false,
               false,
               false,
               false,
               false,
               false,
               false,
               false,
               false,
               false,
               false,
               false,
               false,
               false,
               false,
               false,
               false,
               false,
               false,
               false,
               false,
               false,
               false,
               false,
               false,
               false,
               false,
               false,
               false,
               true,
               true,
               false,
               false,
               false,
               false,
               false,
               false,
               false,
               false,
               false,
               false,
               false,
               false,
               false,
               false,
               false,
               false,
               false,
               false,
               false,
               false,
               false,
               false,
               false,
               false,
               false,
               false,
               false,
               false,
               false,
               false,
               false,
               false,
               false,
               false,
               false,
               false,
               false,
               false
              ]
             }
            ],
            "label": "2.87",
            "method": "restyle"
           },
           {
            "args": [
             {
              "visible": [
               false,
               false,
               false,
               false,
               false,
               false,
               false,
               false,
               false,
               false,
               false,
               false,
               false,
               false,
               false,
               false,
               false,
               false,
               false,
               false,
               false,
               false,
               false,
               false,
               false,
               false,
               false,
               false,
               false,
               false,
               false,
               false,
               false,
               false,
               true,
               true,
               false,
               false,
               false,
               false,
               false,
               false,
               false,
               false,
               false,
               false,
               false,
               false,
               false,
               false,
               false,
               false,
               false,
               false,
               false,
               false,
               false,
               false,
               false,
               false,
               false,
               false,
               false,
               false,
               false,
               false,
               false,
               false,
               false,
               false,
               false,
               false
              ]
             }
            ],
            "label": "3.05",
            "method": "restyle"
           },
           {
            "args": [
             {
              "visible": [
               false,
               false,
               false,
               false,
               false,
               false,
               false,
               false,
               false,
               false,
               false,
               false,
               false,
               false,
               false,
               false,
               false,
               false,
               false,
               false,
               false,
               false,
               false,
               false,
               false,
               false,
               false,
               false,
               false,
               false,
               false,
               false,
               false,
               false,
               false,
               false,
               true,
               true,
               false,
               false,
               false,
               false,
               false,
               false,
               false,
               false,
               false,
               false,
               false,
               false,
               false,
               false,
               false,
               false,
               false,
               false,
               false,
               false,
               false,
               false,
               false,
               false,
               false,
               false,
               false,
               false,
               false,
               false,
               false,
               false,
               false,
               false
              ]
             }
            ],
            "label": "3.23",
            "method": "restyle"
           },
           {
            "args": [
             {
              "visible": [
               false,
               false,
               false,
               false,
               false,
               false,
               false,
               false,
               false,
               false,
               false,
               false,
               false,
               false,
               false,
               false,
               false,
               false,
               false,
               false,
               false,
               false,
               false,
               false,
               false,
               false,
               false,
               false,
               false,
               false,
               false,
               false,
               false,
               false,
               false,
               false,
               false,
               false,
               true,
               true,
               false,
               false,
               false,
               false,
               false,
               false,
               false,
               false,
               false,
               false,
               false,
               false,
               false,
               false,
               false,
               false,
               false,
               false,
               false,
               false,
               false,
               false,
               false,
               false,
               false,
               false,
               false,
               false,
               false,
               false,
               false,
               false
              ]
             }
            ],
            "label": "3.41",
            "method": "restyle"
           },
           {
            "args": [
             {
              "visible": [
               false,
               false,
               false,
               false,
               false,
               false,
               false,
               false,
               false,
               false,
               false,
               false,
               false,
               false,
               false,
               false,
               false,
               false,
               false,
               false,
               false,
               false,
               false,
               false,
               false,
               false,
               false,
               false,
               false,
               false,
               false,
               false,
               false,
               false,
               false,
               false,
               false,
               false,
               false,
               false,
               true,
               true,
               false,
               false,
               false,
               false,
               false,
               false,
               false,
               false,
               false,
               false,
               false,
               false,
               false,
               false,
               false,
               false,
               false,
               false,
               false,
               false,
               false,
               false,
               false,
               false,
               false,
               false,
               false,
               false,
               false,
               false
              ]
             }
            ],
            "label": "3.59",
            "method": "restyle"
           },
           {
            "args": [
             {
              "visible": [
               false,
               false,
               false,
               false,
               false,
               false,
               false,
               false,
               false,
               false,
               false,
               false,
               false,
               false,
               false,
               false,
               false,
               false,
               false,
               false,
               false,
               false,
               false,
               false,
               false,
               false,
               false,
               false,
               false,
               false,
               false,
               false,
               false,
               false,
               false,
               false,
               false,
               false,
               false,
               false,
               false,
               false,
               true,
               true,
               false,
               false,
               false,
               false,
               false,
               false,
               false,
               false,
               false,
               false,
               false,
               false,
               false,
               false,
               false,
               false,
               false,
               false,
               false,
               false,
               false,
               false,
               false,
               false,
               false,
               false,
               false,
               false
              ]
             }
            ],
            "label": "3.77",
            "method": "restyle"
           },
           {
            "args": [
             {
              "visible": [
               false,
               false,
               false,
               false,
               false,
               false,
               false,
               false,
               false,
               false,
               false,
               false,
               false,
               false,
               false,
               false,
               false,
               false,
               false,
               false,
               false,
               false,
               false,
               false,
               false,
               false,
               false,
               false,
               false,
               false,
               false,
               false,
               false,
               false,
               false,
               false,
               false,
               false,
               false,
               false,
               false,
               false,
               false,
               false,
               true,
               true,
               false,
               false,
               false,
               false,
               false,
               false,
               false,
               false,
               false,
               false,
               false,
               false,
               false,
               false,
               false,
               false,
               false,
               false,
               false,
               false,
               false,
               false,
               false,
               false,
               false,
               false
              ]
             }
            ],
            "label": "3.95",
            "method": "restyle"
           },
           {
            "args": [
             {
              "visible": [
               false,
               false,
               false,
               false,
               false,
               false,
               false,
               false,
               false,
               false,
               false,
               false,
               false,
               false,
               false,
               false,
               false,
               false,
               false,
               false,
               false,
               false,
               false,
               false,
               false,
               false,
               false,
               false,
               false,
               false,
               false,
               false,
               false,
               false,
               false,
               false,
               false,
               false,
               false,
               false,
               false,
               false,
               false,
               false,
               false,
               false,
               true,
               true,
               false,
               false,
               false,
               false,
               false,
               false,
               false,
               false,
               false,
               false,
               false,
               false,
               false,
               false,
               false,
               false,
               false,
               false,
               false,
               false,
               false,
               false,
               false,
               false
              ]
             }
            ],
            "label": "4.13",
            "method": "restyle"
           },
           {
            "args": [
             {
              "visible": [
               false,
               false,
               false,
               false,
               false,
               false,
               false,
               false,
               false,
               false,
               false,
               false,
               false,
               false,
               false,
               false,
               false,
               false,
               false,
               false,
               false,
               false,
               false,
               false,
               false,
               false,
               false,
               false,
               false,
               false,
               false,
               false,
               false,
               false,
               false,
               false,
               false,
               false,
               false,
               false,
               false,
               false,
               false,
               false,
               false,
               false,
               false,
               false,
               true,
               true,
               false,
               false,
               false,
               false,
               false,
               false,
               false,
               false,
               false,
               false,
               false,
               false,
               false,
               false,
               false,
               false,
               false,
               false,
               false,
               false,
               false,
               false
              ]
             }
            ],
            "label": "4.31",
            "method": "restyle"
           },
           {
            "args": [
             {
              "visible": [
               false,
               false,
               false,
               false,
               false,
               false,
               false,
               false,
               false,
               false,
               false,
               false,
               false,
               false,
               false,
               false,
               false,
               false,
               false,
               false,
               false,
               false,
               false,
               false,
               false,
               false,
               false,
               false,
               false,
               false,
               false,
               false,
               false,
               false,
               false,
               false,
               false,
               false,
               false,
               false,
               false,
               false,
               false,
               false,
               false,
               false,
               false,
               false,
               false,
               false,
               true,
               true,
               false,
               false,
               false,
               false,
               false,
               false,
               false,
               false,
               false,
               false,
               false,
               false,
               false,
               false,
               false,
               false,
               false,
               false,
               false,
               false
              ]
             }
            ],
            "label": "4.49",
            "method": "restyle"
           },
           {
            "args": [
             {
              "visible": [
               false,
               false,
               false,
               false,
               false,
               false,
               false,
               false,
               false,
               false,
               false,
               false,
               false,
               false,
               false,
               false,
               false,
               false,
               false,
               false,
               false,
               false,
               false,
               false,
               false,
               false,
               false,
               false,
               false,
               false,
               false,
               false,
               false,
               false,
               false,
               false,
               false,
               false,
               false,
               false,
               false,
               false,
               false,
               false,
               false,
               false,
               false,
               false,
               false,
               false,
               false,
               false,
               true,
               true,
               false,
               false,
               false,
               false,
               false,
               false,
               false,
               false,
               false,
               false,
               false,
               false,
               false,
               false,
               false,
               false,
               false,
               false
              ]
             }
            ],
            "label": "4.67",
            "method": "restyle"
           },
           {
            "args": [
             {
              "visible": [
               false,
               false,
               false,
               false,
               false,
               false,
               false,
               false,
               false,
               false,
               false,
               false,
               false,
               false,
               false,
               false,
               false,
               false,
               false,
               false,
               false,
               false,
               false,
               false,
               false,
               false,
               false,
               false,
               false,
               false,
               false,
               false,
               false,
               false,
               false,
               false,
               false,
               false,
               false,
               false,
               false,
               false,
               false,
               false,
               false,
               false,
               false,
               false,
               false,
               false,
               false,
               false,
               false,
               false,
               true,
               true,
               false,
               false,
               false,
               false,
               false,
               false,
               false,
               false,
               false,
               false,
               false,
               false,
               false,
               false,
               false,
               false
              ]
             }
            ],
            "label": "4.85",
            "method": "restyle"
           },
           {
            "args": [
             {
              "visible": [
               false,
               false,
               false,
               false,
               false,
               false,
               false,
               false,
               false,
               false,
               false,
               false,
               false,
               false,
               false,
               false,
               false,
               false,
               false,
               false,
               false,
               false,
               false,
               false,
               false,
               false,
               false,
               false,
               false,
               false,
               false,
               false,
               false,
               false,
               false,
               false,
               false,
               false,
               false,
               false,
               false,
               false,
               false,
               false,
               false,
               false,
               false,
               false,
               false,
               false,
               false,
               false,
               false,
               false,
               false,
               false,
               true,
               true,
               false,
               false,
               false,
               false,
               false,
               false,
               false,
               false,
               false,
               false,
               false,
               false,
               false,
               false
              ]
             }
            ],
            "label": "5.03",
            "method": "restyle"
           },
           {
            "args": [
             {
              "visible": [
               false,
               false,
               false,
               false,
               false,
               false,
               false,
               false,
               false,
               false,
               false,
               false,
               false,
               false,
               false,
               false,
               false,
               false,
               false,
               false,
               false,
               false,
               false,
               false,
               false,
               false,
               false,
               false,
               false,
               false,
               false,
               false,
               false,
               false,
               false,
               false,
               false,
               false,
               false,
               false,
               false,
               false,
               false,
               false,
               false,
               false,
               false,
               false,
               false,
               false,
               false,
               false,
               false,
               false,
               false,
               false,
               false,
               false,
               true,
               true,
               false,
               false,
               false,
               false,
               false,
               false,
               false,
               false,
               false,
               false,
               false,
               false
              ]
             }
            ],
            "label": "5.21",
            "method": "restyle"
           },
           {
            "args": [
             {
              "visible": [
               false,
               false,
               false,
               false,
               false,
               false,
               false,
               false,
               false,
               false,
               false,
               false,
               false,
               false,
               false,
               false,
               false,
               false,
               false,
               false,
               false,
               false,
               false,
               false,
               false,
               false,
               false,
               false,
               false,
               false,
               false,
               false,
               false,
               false,
               false,
               false,
               false,
               false,
               false,
               false,
               false,
               false,
               false,
               false,
               false,
               false,
               false,
               false,
               false,
               false,
               false,
               false,
               false,
               false,
               false,
               false,
               false,
               false,
               false,
               false,
               true,
               true,
               false,
               false,
               false,
               false,
               false,
               false,
               false,
               false,
               false,
               false
              ]
             }
            ],
            "label": "5.39",
            "method": "restyle"
           },
           {
            "args": [
             {
              "visible": [
               false,
               false,
               false,
               false,
               false,
               false,
               false,
               false,
               false,
               false,
               false,
               false,
               false,
               false,
               false,
               false,
               false,
               false,
               false,
               false,
               false,
               false,
               false,
               false,
               false,
               false,
               false,
               false,
               false,
               false,
               false,
               false,
               false,
               false,
               false,
               false,
               false,
               false,
               false,
               false,
               false,
               false,
               false,
               false,
               false,
               false,
               false,
               false,
               false,
               false,
               false,
               false,
               false,
               false,
               false,
               false,
               false,
               false,
               false,
               false,
               false,
               false,
               true,
               true,
               false,
               false,
               false,
               false,
               false,
               false,
               false,
               false
              ]
             }
            ],
            "label": "5.57",
            "method": "restyle"
           },
           {
            "args": [
             {
              "visible": [
               false,
               false,
               false,
               false,
               false,
               false,
               false,
               false,
               false,
               false,
               false,
               false,
               false,
               false,
               false,
               false,
               false,
               false,
               false,
               false,
               false,
               false,
               false,
               false,
               false,
               false,
               false,
               false,
               false,
               false,
               false,
               false,
               false,
               false,
               false,
               false,
               false,
               false,
               false,
               false,
               false,
               false,
               false,
               false,
               false,
               false,
               false,
               false,
               false,
               false,
               false,
               false,
               false,
               false,
               false,
               false,
               false,
               false,
               false,
               false,
               false,
               false,
               false,
               false,
               true,
               true,
               false,
               false,
               false,
               false,
               false,
               false
              ]
             }
            ],
            "label": "5.74",
            "method": "restyle"
           },
           {
            "args": [
             {
              "visible": [
               false,
               false,
               false,
               false,
               false,
               false,
               false,
               false,
               false,
               false,
               false,
               false,
               false,
               false,
               false,
               false,
               false,
               false,
               false,
               false,
               false,
               false,
               false,
               false,
               false,
               false,
               false,
               false,
               false,
               false,
               false,
               false,
               false,
               false,
               false,
               false,
               false,
               false,
               false,
               false,
               false,
               false,
               false,
               false,
               false,
               false,
               false,
               false,
               false,
               false,
               false,
               false,
               false,
               false,
               false,
               false,
               false,
               false,
               false,
               false,
               false,
               false,
               false,
               false,
               false,
               false,
               true,
               true,
               false,
               false,
               false,
               false
              ]
             }
            ],
            "label": "5.92",
            "method": "restyle"
           },
           {
            "args": [
             {
              "visible": [
               false,
               false,
               false,
               false,
               false,
               false,
               false,
               false,
               false,
               false,
               false,
               false,
               false,
               false,
               false,
               false,
               false,
               false,
               false,
               false,
               false,
               false,
               false,
               false,
               false,
               false,
               false,
               false,
               false,
               false,
               false,
               false,
               false,
               false,
               false,
               false,
               false,
               false,
               false,
               false,
               false,
               false,
               false,
               false,
               false,
               false,
               false,
               false,
               false,
               false,
               false,
               false,
               false,
               false,
               false,
               false,
               false,
               false,
               false,
               false,
               false,
               false,
               false,
               false,
               false,
               false,
               false,
               false,
               true,
               true,
               false,
               false
              ]
             }
            ],
            "label": "6.10",
            "method": "restyle"
           },
           {
            "args": [
             {
              "visible": [
               false,
               false,
               false,
               false,
               false,
               false,
               false,
               false,
               false,
               false,
               false,
               false,
               false,
               false,
               false,
               false,
               false,
               false,
               false,
               false,
               false,
               false,
               false,
               false,
               false,
               false,
               false,
               false,
               false,
               false,
               false,
               false,
               false,
               false,
               false,
               false,
               false,
               false,
               false,
               false,
               false,
               false,
               false,
               false,
               false,
               false,
               false,
               false,
               false,
               false,
               false,
               false,
               false,
               false,
               false,
               false,
               false,
               false,
               false,
               false,
               false,
               false,
               false,
               false,
               false,
               false,
               false,
               false,
               false,
               false,
               true,
               true
              ]
             }
            ],
            "label": "6.28",
            "method": "restyle"
           }
          ],
          "yanchor": "top"
         }
        ],
        "template": {
         "data": {
          "bar": [
           {
            "error_x": {
             "color": "#2a3f5f"
            },
            "error_y": {
             "color": "#2a3f5f"
            },
            "marker": {
             "line": {
              "color": "#E5ECF6",
              "width": 0.5
             },
             "pattern": {
              "fillmode": "overlay",
              "size": 10,
              "solidity": 0.2
             }
            },
            "type": "bar"
           }
          ],
          "barpolar": [
           {
            "marker": {
             "line": {
              "color": "#E5ECF6",
              "width": 0.5
             },
             "pattern": {
              "fillmode": "overlay",
              "size": 10,
              "solidity": 0.2
             }
            },
            "type": "barpolar"
           }
          ],
          "carpet": [
           {
            "aaxis": {
             "endlinecolor": "#2a3f5f",
             "gridcolor": "white",
             "linecolor": "white",
             "minorgridcolor": "white",
             "startlinecolor": "#2a3f5f"
            },
            "baxis": {
             "endlinecolor": "#2a3f5f",
             "gridcolor": "white",
             "linecolor": "white",
             "minorgridcolor": "white",
             "startlinecolor": "#2a3f5f"
            },
            "type": "carpet"
           }
          ],
          "choropleth": [
           {
            "colorbar": {
             "outlinewidth": 0,
             "ticks": ""
            },
            "type": "choropleth"
           }
          ],
          "contour": [
           {
            "colorbar": {
             "outlinewidth": 0,
             "ticks": ""
            },
            "colorscale": [
             [
              0,
              "#0d0887"
             ],
             [
              0.1111111111111111,
              "#46039f"
             ],
             [
              0.2222222222222222,
              "#7201a8"
             ],
             [
              0.3333333333333333,
              "#9c179e"
             ],
             [
              0.4444444444444444,
              "#bd3786"
             ],
             [
              0.5555555555555556,
              "#d8576b"
             ],
             [
              0.6666666666666666,
              "#ed7953"
             ],
             [
              0.7777777777777778,
              "#fb9f3a"
             ],
             [
              0.8888888888888888,
              "#fdca26"
             ],
             [
              1,
              "#f0f921"
             ]
            ],
            "type": "contour"
           }
          ],
          "contourcarpet": [
           {
            "colorbar": {
             "outlinewidth": 0,
             "ticks": ""
            },
            "type": "contourcarpet"
           }
          ],
          "heatmap": [
           {
            "colorbar": {
             "outlinewidth": 0,
             "ticks": ""
            },
            "colorscale": [
             [
              0,
              "#0d0887"
             ],
             [
              0.1111111111111111,
              "#46039f"
             ],
             [
              0.2222222222222222,
              "#7201a8"
             ],
             [
              0.3333333333333333,
              "#9c179e"
             ],
             [
              0.4444444444444444,
              "#bd3786"
             ],
             [
              0.5555555555555556,
              "#d8576b"
             ],
             [
              0.6666666666666666,
              "#ed7953"
             ],
             [
              0.7777777777777778,
              "#fb9f3a"
             ],
             [
              0.8888888888888888,
              "#fdca26"
             ],
             [
              1,
              "#f0f921"
             ]
            ],
            "type": "heatmap"
           }
          ],
          "heatmapgl": [
           {
            "colorbar": {
             "outlinewidth": 0,
             "ticks": ""
            },
            "colorscale": [
             [
              0,
              "#0d0887"
             ],
             [
              0.1111111111111111,
              "#46039f"
             ],
             [
              0.2222222222222222,
              "#7201a8"
             ],
             [
              0.3333333333333333,
              "#9c179e"
             ],
             [
              0.4444444444444444,
              "#bd3786"
             ],
             [
              0.5555555555555556,
              "#d8576b"
             ],
             [
              0.6666666666666666,
              "#ed7953"
             ],
             [
              0.7777777777777778,
              "#fb9f3a"
             ],
             [
              0.8888888888888888,
              "#fdca26"
             ],
             [
              1,
              "#f0f921"
             ]
            ],
            "type": "heatmapgl"
           }
          ],
          "histogram": [
           {
            "marker": {
             "pattern": {
              "fillmode": "overlay",
              "size": 10,
              "solidity": 0.2
             }
            },
            "type": "histogram"
           }
          ],
          "histogram2d": [
           {
            "colorbar": {
             "outlinewidth": 0,
             "ticks": ""
            },
            "colorscale": [
             [
              0,
              "#0d0887"
             ],
             [
              0.1111111111111111,
              "#46039f"
             ],
             [
              0.2222222222222222,
              "#7201a8"
             ],
             [
              0.3333333333333333,
              "#9c179e"
             ],
             [
              0.4444444444444444,
              "#bd3786"
             ],
             [
              0.5555555555555556,
              "#d8576b"
             ],
             [
              0.6666666666666666,
              "#ed7953"
             ],
             [
              0.7777777777777778,
              "#fb9f3a"
             ],
             [
              0.8888888888888888,
              "#fdca26"
             ],
             [
              1,
              "#f0f921"
             ]
            ],
            "type": "histogram2d"
           }
          ],
          "histogram2dcontour": [
           {
            "colorbar": {
             "outlinewidth": 0,
             "ticks": ""
            },
            "colorscale": [
             [
              0,
              "#0d0887"
             ],
             [
              0.1111111111111111,
              "#46039f"
             ],
             [
              0.2222222222222222,
              "#7201a8"
             ],
             [
              0.3333333333333333,
              "#9c179e"
             ],
             [
              0.4444444444444444,
              "#bd3786"
             ],
             [
              0.5555555555555556,
              "#d8576b"
             ],
             [
              0.6666666666666666,
              "#ed7953"
             ],
             [
              0.7777777777777778,
              "#fb9f3a"
             ],
             [
              0.8888888888888888,
              "#fdca26"
             ],
             [
              1,
              "#f0f921"
             ]
            ],
            "type": "histogram2dcontour"
           }
          ],
          "mesh3d": [
           {
            "colorbar": {
             "outlinewidth": 0,
             "ticks": ""
            },
            "type": "mesh3d"
           }
          ],
          "parcoords": [
           {
            "line": {
             "colorbar": {
              "outlinewidth": 0,
              "ticks": ""
             }
            },
            "type": "parcoords"
           }
          ],
          "pie": [
           {
            "automargin": true,
            "type": "pie"
           }
          ],
          "scatter": [
           {
            "fillpattern": {
             "fillmode": "overlay",
             "size": 10,
             "solidity": 0.2
            },
            "type": "scatter"
           }
          ],
          "scatter3d": [
           {
            "line": {
             "colorbar": {
              "outlinewidth": 0,
              "ticks": ""
             }
            },
            "marker": {
             "colorbar": {
              "outlinewidth": 0,
              "ticks": ""
             }
            },
            "type": "scatter3d"
           }
          ],
          "scattercarpet": [
           {
            "marker": {
             "colorbar": {
              "outlinewidth": 0,
              "ticks": ""
             }
            },
            "type": "scattercarpet"
           }
          ],
          "scattergeo": [
           {
            "marker": {
             "colorbar": {
              "outlinewidth": 0,
              "ticks": ""
             }
            },
            "type": "scattergeo"
           }
          ],
          "scattergl": [
           {
            "marker": {
             "colorbar": {
              "outlinewidth": 0,
              "ticks": ""
             }
            },
            "type": "scattergl"
           }
          ],
          "scattermapbox": [
           {
            "marker": {
             "colorbar": {
              "outlinewidth": 0,
              "ticks": ""
             }
            },
            "type": "scattermapbox"
           }
          ],
          "scatterpolar": [
           {
            "marker": {
             "colorbar": {
              "outlinewidth": 0,
              "ticks": ""
             }
            },
            "type": "scatterpolar"
           }
          ],
          "scatterpolargl": [
           {
            "marker": {
             "colorbar": {
              "outlinewidth": 0,
              "ticks": ""
             }
            },
            "type": "scatterpolargl"
           }
          ],
          "scatterternary": [
           {
            "marker": {
             "colorbar": {
              "outlinewidth": 0,
              "ticks": ""
             }
            },
            "type": "scatterternary"
           }
          ],
          "surface": [
           {
            "colorbar": {
             "outlinewidth": 0,
             "ticks": ""
            },
            "colorscale": [
             [
              0,
              "#0d0887"
             ],
             [
              0.1111111111111111,
              "#46039f"
             ],
             [
              0.2222222222222222,
              "#7201a8"
             ],
             [
              0.3333333333333333,
              "#9c179e"
             ],
             [
              0.4444444444444444,
              "#bd3786"
             ],
             [
              0.5555555555555556,
              "#d8576b"
             ],
             [
              0.6666666666666666,
              "#ed7953"
             ],
             [
              0.7777777777777778,
              "#fb9f3a"
             ],
             [
              0.8888888888888888,
              "#fdca26"
             ],
             [
              1,
              "#f0f921"
             ]
            ],
            "type": "surface"
           }
          ],
          "table": [
           {
            "cells": {
             "fill": {
              "color": "#EBF0F8"
             },
             "line": {
              "color": "white"
             }
            },
            "header": {
             "fill": {
              "color": "#C8D4E3"
             },
             "line": {
              "color": "white"
             }
            },
            "type": "table"
           }
          ]
         },
         "layout": {
          "annotationdefaults": {
           "arrowcolor": "#2a3f5f",
           "arrowhead": 0,
           "arrowwidth": 1
          },
          "autotypenumbers": "strict",
          "coloraxis": {
           "colorbar": {
            "outlinewidth": 0,
            "ticks": ""
           }
          },
          "colorscale": {
           "diverging": [
            [
             0,
             "#8e0152"
            ],
            [
             0.1,
             "#c51b7d"
            ],
            [
             0.2,
             "#de77ae"
            ],
            [
             0.3,
             "#f1b6da"
            ],
            [
             0.4,
             "#fde0ef"
            ],
            [
             0.5,
             "#f7f7f7"
            ],
            [
             0.6,
             "#e6f5d0"
            ],
            [
             0.7,
             "#b8e186"
            ],
            [
             0.8,
             "#7fbc41"
            ],
            [
             0.9,
             "#4d9221"
            ],
            [
             1,
             "#276419"
            ]
           ],
           "sequential": [
            [
             0,
             "#0d0887"
            ],
            [
             0.1111111111111111,
             "#46039f"
            ],
            [
             0.2222222222222222,
             "#7201a8"
            ],
            [
             0.3333333333333333,
             "#9c179e"
            ],
            [
             0.4444444444444444,
             "#bd3786"
            ],
            [
             0.5555555555555556,
             "#d8576b"
            ],
            [
             0.6666666666666666,
             "#ed7953"
            ],
            [
             0.7777777777777778,
             "#fb9f3a"
            ],
            [
             0.8888888888888888,
             "#fdca26"
            ],
            [
             1,
             "#f0f921"
            ]
           ],
           "sequentialminus": [
            [
             0,
             "#0d0887"
            ],
            [
             0.1111111111111111,
             "#46039f"
            ],
            [
             0.2222222222222222,
             "#7201a8"
            ],
            [
             0.3333333333333333,
             "#9c179e"
            ],
            [
             0.4444444444444444,
             "#bd3786"
            ],
            [
             0.5555555555555556,
             "#d8576b"
            ],
            [
             0.6666666666666666,
             "#ed7953"
            ],
            [
             0.7777777777777778,
             "#fb9f3a"
            ],
            [
             0.8888888888888888,
             "#fdca26"
            ],
            [
             1,
             "#f0f921"
            ]
           ]
          },
          "colorway": [
           "#636efa",
           "#EF553B",
           "#00cc96",
           "#ab63fa",
           "#FFA15A",
           "#19d3f3",
           "#FF6692",
           "#B6E880",
           "#FF97FF",
           "#FECB52"
          ],
          "font": {
           "color": "#2a3f5f"
          },
          "geo": {
           "bgcolor": "white",
           "lakecolor": "white",
           "landcolor": "#E5ECF6",
           "showlakes": true,
           "showland": true,
           "subunitcolor": "white"
          },
          "hoverlabel": {
           "align": "left"
          },
          "hovermode": "closest",
          "mapbox": {
           "style": "light"
          },
          "paper_bgcolor": "white",
          "plot_bgcolor": "#E5ECF6",
          "polar": {
           "angularaxis": {
            "gridcolor": "white",
            "linecolor": "white",
            "ticks": ""
           },
           "bgcolor": "#E5ECF6",
           "radialaxis": {
            "gridcolor": "white",
            "linecolor": "white",
            "ticks": ""
           }
          },
          "scene": {
           "xaxis": {
            "backgroundcolor": "#E5ECF6",
            "gridcolor": "white",
            "gridwidth": 2,
            "linecolor": "white",
            "showbackground": true,
            "ticks": "",
            "zerolinecolor": "white"
           },
           "yaxis": {
            "backgroundcolor": "#E5ECF6",
            "gridcolor": "white",
            "gridwidth": 2,
            "linecolor": "white",
            "showbackground": true,
            "ticks": "",
            "zerolinecolor": "white"
           },
           "zaxis": {
            "backgroundcolor": "#E5ECF6",
            "gridcolor": "white",
            "gridwidth": 2,
            "linecolor": "white",
            "showbackground": true,
            "ticks": "",
            "zerolinecolor": "white"
           }
          },
          "shapedefaults": {
           "line": {
            "color": "#2a3f5f"
           }
          },
          "ternary": {
           "aaxis": {
            "gridcolor": "white",
            "linecolor": "white",
            "ticks": ""
           },
           "baxis": {
            "gridcolor": "white",
            "linecolor": "white",
            "ticks": ""
           },
           "bgcolor": "#E5ECF6",
           "caxis": {
            "gridcolor": "white",
            "linecolor": "white",
            "ticks": ""
           }
          },
          "title": {
           "x": 0.05
          },
          "xaxis": {
           "automargin": true,
           "gridcolor": "white",
           "linecolor": "white",
           "ticks": "",
           "title": {
            "standoff": 15
           },
           "zerolinecolor": "white",
           "zerolinewidth": 2
          },
          "yaxis": {
           "automargin": true,
           "gridcolor": "white",
           "linecolor": "white",
           "ticks": "",
           "title": {
            "standoff": 15
           },
           "zerolinecolor": "white",
           "zerolinewidth": 2
          }
         }
        },
        "title": {
         "text": "Four Bars Mechanism Visualization"
        },
        "width": 600,
        "xaxis": {
         "range": [
          -15,
          15
         ],
         "scaleanchor": "y",
         "scaleratio": 1,
         "title": {
          "text": "X Coordinate"
         }
        },
        "yaxis": {
         "range": [
          -15,
          15
         ],
         "scaleanchor": "x",
         "scaleratio": 1,
         "title": {
          "text": "Y Coordinate"
         }
        }
       }
      }
     },
     "metadata": {},
     "output_type": "display_data"
    }
   ],
   "source": [
    "import numpy as np\n",
    "import plotly.graph_objs as go\n",
    "import sympy as sp\n",
    "\n",
    "def plot_slidercrank_with_slider(theta_2_range, L2_value, L3_value, offset_value, alfa_value):\n",
    "\n",
    "    theta_2, L2, L3, offset, alfa = sp.symbols('theta_2 L2 L3 offset alfa')\n",
    "\n",
    "\n",
    "    # Generate solutions for a range of theta_2 values\n",
    "    solutions_list = []\n",
    "    print(theta_2_range)\n",
    "    for theta_2_loop in theta_2_range:\n",
    "        #print(theta_2_loop)\n",
    "        solutions = sp.solve( [eq.subs({theta_2: theta_2_loop, L2: L2_value, L3: L3_value, offset: offset_value, alfa: alfa_value}) for eq in four_bars_slidercrank_example_symbolic_full()] )\n",
    "        #print(solutions)\n",
    "        selected_solution = solutions[1]\n",
    "        # Check if theta_2 is between 0 and pi\n",
    "        # if 0 <= theta_2_loop <= np.pi:\n",
    "        #     selected_solution = solutions[1]\n",
    "        # else:\n",
    "        #     selected_solution = solutions[0]\n",
    "        \n",
    "        solution_json = {str(key): value for key, value in selected_solution.items()}\n",
    "        solution_json_converted = convert_floats(solution_json)\n",
    "        solutions_list.append(solution_json_converted)\n",
    "\n",
    "     # Generate traces for the plot\n",
    "    traces = []\n",
    "    for solution in solutions_list:\n",
    "        trace1 = go.Scatter(x=[solution['r_x_2'], solution['r_x_3']],\n",
    "                            y=[solution['r_y_2'], solution['r_y_3']],\n",
    "                            mode='lines+markers', name='Link 2-3')\n",
    "        trace2 = go.Scatter(x=[solution['r_x_3'], solution['r_x_4']],\n",
    "                            y=[solution['r_y_3'], solution['r_y_4']],\n",
    "                            mode='lines+markers', name='Link 3-4')\n",
    "        traces.extend([trace1, trace2])\n",
    "\n",
    "    # Create the slider steps\n",
    "    steps = []\n",
    "    for i, theta_2 in enumerate(theta_2_range):\n",
    "        step = dict(args=[{\"visible\": [False] * len(traces)}],  # Set all traces to invisible\n",
    "                    method=\"restyle\",\n",
    "                    label=f\"{theta_2:.2f}\")\n",
    "        step[\"args\"][0][\"visible\"][i*2:i*2+2] = [True, True]  # Toggle i'th trace to \"visible\"\n",
    "        steps.append(step)\n",
    "\n",
    "    sliders = [dict(active=10, yanchor=\"top\", steps=steps)]\n",
    "\n",
    "    # Define layout\n",
    "    layout = go.Layout(title='Four Bars Mechanism Visualization',\n",
    "                       xaxis=dict(title='X Coordinate', scaleanchor=\"y\", scaleratio=1, range=[-15, 15]),\n",
    "                       yaxis=dict(title='Y Coordinate', scaleanchor=\"x\", scaleratio=1, range=[-15, 15]),\n",
    "                       showlegend=True,\n",
    "                       autosize=False,\n",
    "                       width=600,\n",
    "                       height=600,\n",
    "                       sliders=sliders)\n",
    "\n",
    "    fig = go.Figure(data=traces, layout=layout)\n",
    "    fig.show()\n",
    "\n",
    "\n",
    "# Define your theta_2 range and call the function\n",
    "#theta_2_range = np.linspace(np.pi/6, np.pi/4, 5)\n",
    "plot_slidercrank_with_slider(theta_2_range = np.linspace(0, 2*np.pi, 36), L2_value=1, L3_value=2, offset_value=0, alfa_value=0)    "
   ]
  },
  {
   "cell_type": "code",
   "execution_count": 15,
   "metadata": {},
   "outputs": [],
   "source": [
    "# #sp.solve( [eq.subs({theta_2: 0, L2: 1, L3: 2, offset: 0, alfa: 0}) for eq in four_bars_slidercrank_example_symbolic_full()] )[1].keys()\n",
    "\n",
    "# sp.solve( [eq.subs({theta_2: 0, L2: 1, L3: 2, offset: 0, alfa: 0}) for eq in four_bars_slidercrank_example_symbolic_full()] )[1][r_x_4]"
   ]
  },
  {
   "cell_type": "code",
   "execution_count": 14,
   "metadata": {},
   "outputs": [
    {
     "data": {
      "application/vnd.plotly.v1+json": {
       "config": {
        "plotlyServerURL": "https://plot.ly"
       },
       "data": [
        {
         "mode": "lines+markers",
         "name": "Theta_2 vs r_x_4",
         "type": "scatter",
         "x": [
          0,
          0.06346651825433926,
          0.12693303650867852,
          0.1903995547630178,
          0.25386607301735703,
          0.3173325912716963,
          0.3807991095260356,
          0.4442656277803748,
          0.5077321460347141,
          0.5711986642890533,
          0.6346651825433925,
          0.6981317007977318,
          0.7615982190520711,
          0.8250647373064104,
          0.8885312555607496,
          0.9519977738150889,
          1.0154642920694281,
          1.0789308103237674,
          1.1423973285781066,
          1.2058638468324459,
          1.269330365086785,
          1.3327968833411243,
          1.3962634015954636,
          1.4597299198498028,
          1.5231964381041423,
          1.5866629563584815,
          1.6501294746128208,
          1.71359599286716,
          1.7770625111214993,
          1.8405290293758385,
          1.9039955476301778,
          1.967462065884517,
          2.0309285841388562,
          2.0943951023931957,
          2.1578616206475347,
          2.221328138901874,
          2.284794657156213,
          2.3482611754105527,
          2.4117276936648917,
          2.475194211919231,
          2.53866073017357,
          2.6021272484279097,
          2.6655937666822487,
          2.729060284936588,
          2.792526803190927,
          2.8559933214452666,
          2.9194598396996057,
          2.982926357953945,
          3.0463928762082846,
          3.1098593944626236,
          3.173325912716963,
          3.236792430971302,
          3.3002589492256416,
          3.3637254674799806,
          3.42719198573432,
          3.490658503988659,
          3.5541250222429985,
          3.6175915404973376,
          3.681058058751677,
          3.744524577006016,
          3.8079910952603555,
          3.8714576135146945,
          3.934924131769034,
          3.998390650023373,
          4.0618571682777125,
          4.1253236865320515,
          4.188790204786391,
          4.25225672304073,
          4.3157232412950695,
          4.3791897595494085,
          4.442656277803748,
          4.506122796058087,
          4.569589314312426,
          4.6330558325667655,
          4.696522350821105,
          4.759988869075444,
          4.823455387329783,
          4.886921905584122,
          4.950388423838462,
          5.013854942092801,
          5.07732146034714,
          5.14078797860148,
          5.204254496855819,
          5.267721015110158,
          5.331187533364497,
          5.394654051618837,
          5.458120569873176,
          5.521587088127515,
          5.585053606381854,
          5.648520124636194,
          5.711986642890533,
          5.775453161144872,
          5.838919679399211,
          5.902386197653551,
          5.96585271590789,
          6.029319234162229,
          6.092785752416569,
          6.156252270670908,
          6.219718788925247,
          6.283185307179586
         ],
         "y": [
          3,
          2.996980775116349,
          2.9879443796116885,
          2.9729545550827496,
          2.952117214536027,
          2.925579945553549,
          2.8935312898524796,
          2.8561997740481364,
          2.813852658975579,
          2.766794367636027,
          2.7153645451682262,
          2.659935698928948,
          2.600910363843244,
          2.538717739022528,
          2.4738097478975614,
          2.406656487568874,
          2.337741055418879,
          2.267553773421268,
          2.1965858731462347,
          2.125322755698234,
          2.0542369971369583,
          1.9837813254325474,
          1.9143818418462168,
          1.8464317890103097,
          1.7802861718101635,
          1.7162575100573991,
          1.6546129430467198,
          1.5955728201191528,
          1.5393108082774907,
          1.4859554411965956,
          1.4355929378852474,
          1.388271045806173,
          1.3440036199161944,
          1.3027756377319946,
          1.2645483678514813,
          1.229264448369993,
          1.196852683639455,
          1.1672324243365777,
          1.1403174498848303,
          1.1160193191665022,
          1.0942501926665962,
          1.0749251560942454,
          1.0579640928453309,
          1.0432931618840329,
          1.0308459405113555,
          1.020564289803809,
          1.012398995767493,
          1.0063102326702393,
          1.0022678874700932,
          1.0002517763399343,
          1.0002517763399343,
          1.0022678874700932,
          1.0063102326702393,
          1.012398995767493,
          1.020564289803809,
          1.0308459405113555,
          1.0432931618840329,
          1.057964092845331,
          1.0749251560942454,
          1.0942501926665962,
          1.116019319166503,
          1.1403174498848303,
          1.1672324243365777,
          1.196852683639455,
          1.229264448369993,
          1.2645483678514813,
          1.3027756377319946,
          1.3440036199161944,
          1.388271045806173,
          1.4355929378852474,
          1.4859554411965956,
          1.5393108082774907,
          1.5955728201191528,
          1.6546129430467196,
          1.7162575100573996,
          1.7802861718101637,
          1.8464317890103097,
          1.9143818418462168,
          1.9837813254325474,
          2.0542369971369583,
          2.125322755698234,
          2.1965858731462355,
          2.267553773421268,
          2.337741055418879,
          2.406656487568874,
          2.4738097478975614,
          2.538717739022528,
          2.600910363843244,
          2.6599356989289475,
          2.7153645451682262,
          2.7667943676360274,
          2.813852658975579,
          2.8561997740481364,
          2.89353128985248,
          2.925579945553549,
          2.952117214536027,
          2.9729545550827496,
          2.9879443796116885,
          2.996980775116349,
          3
         ]
        }
       ],
       "layout": {
        "autosize": false,
        "height": 600,
        "showlegend": true,
        "template": {
         "data": {
          "bar": [
           {
            "error_x": {
             "color": "#2a3f5f"
            },
            "error_y": {
             "color": "#2a3f5f"
            },
            "marker": {
             "line": {
              "color": "#E5ECF6",
              "width": 0.5
             },
             "pattern": {
              "fillmode": "overlay",
              "size": 10,
              "solidity": 0.2
             }
            },
            "type": "bar"
           }
          ],
          "barpolar": [
           {
            "marker": {
             "line": {
              "color": "#E5ECF6",
              "width": 0.5
             },
             "pattern": {
              "fillmode": "overlay",
              "size": 10,
              "solidity": 0.2
             }
            },
            "type": "barpolar"
           }
          ],
          "carpet": [
           {
            "aaxis": {
             "endlinecolor": "#2a3f5f",
             "gridcolor": "white",
             "linecolor": "white",
             "minorgridcolor": "white",
             "startlinecolor": "#2a3f5f"
            },
            "baxis": {
             "endlinecolor": "#2a3f5f",
             "gridcolor": "white",
             "linecolor": "white",
             "minorgridcolor": "white",
             "startlinecolor": "#2a3f5f"
            },
            "type": "carpet"
           }
          ],
          "choropleth": [
           {
            "colorbar": {
             "outlinewidth": 0,
             "ticks": ""
            },
            "type": "choropleth"
           }
          ],
          "contour": [
           {
            "colorbar": {
             "outlinewidth": 0,
             "ticks": ""
            },
            "colorscale": [
             [
              0,
              "#0d0887"
             ],
             [
              0.1111111111111111,
              "#46039f"
             ],
             [
              0.2222222222222222,
              "#7201a8"
             ],
             [
              0.3333333333333333,
              "#9c179e"
             ],
             [
              0.4444444444444444,
              "#bd3786"
             ],
             [
              0.5555555555555556,
              "#d8576b"
             ],
             [
              0.6666666666666666,
              "#ed7953"
             ],
             [
              0.7777777777777778,
              "#fb9f3a"
             ],
             [
              0.8888888888888888,
              "#fdca26"
             ],
             [
              1,
              "#f0f921"
             ]
            ],
            "type": "contour"
           }
          ],
          "contourcarpet": [
           {
            "colorbar": {
             "outlinewidth": 0,
             "ticks": ""
            },
            "type": "contourcarpet"
           }
          ],
          "heatmap": [
           {
            "colorbar": {
             "outlinewidth": 0,
             "ticks": ""
            },
            "colorscale": [
             [
              0,
              "#0d0887"
             ],
             [
              0.1111111111111111,
              "#46039f"
             ],
             [
              0.2222222222222222,
              "#7201a8"
             ],
             [
              0.3333333333333333,
              "#9c179e"
             ],
             [
              0.4444444444444444,
              "#bd3786"
             ],
             [
              0.5555555555555556,
              "#d8576b"
             ],
             [
              0.6666666666666666,
              "#ed7953"
             ],
             [
              0.7777777777777778,
              "#fb9f3a"
             ],
             [
              0.8888888888888888,
              "#fdca26"
             ],
             [
              1,
              "#f0f921"
             ]
            ],
            "type": "heatmap"
           }
          ],
          "heatmapgl": [
           {
            "colorbar": {
             "outlinewidth": 0,
             "ticks": ""
            },
            "colorscale": [
             [
              0,
              "#0d0887"
             ],
             [
              0.1111111111111111,
              "#46039f"
             ],
             [
              0.2222222222222222,
              "#7201a8"
             ],
             [
              0.3333333333333333,
              "#9c179e"
             ],
             [
              0.4444444444444444,
              "#bd3786"
             ],
             [
              0.5555555555555556,
              "#d8576b"
             ],
             [
              0.6666666666666666,
              "#ed7953"
             ],
             [
              0.7777777777777778,
              "#fb9f3a"
             ],
             [
              0.8888888888888888,
              "#fdca26"
             ],
             [
              1,
              "#f0f921"
             ]
            ],
            "type": "heatmapgl"
           }
          ],
          "histogram": [
           {
            "marker": {
             "pattern": {
              "fillmode": "overlay",
              "size": 10,
              "solidity": 0.2
             }
            },
            "type": "histogram"
           }
          ],
          "histogram2d": [
           {
            "colorbar": {
             "outlinewidth": 0,
             "ticks": ""
            },
            "colorscale": [
             [
              0,
              "#0d0887"
             ],
             [
              0.1111111111111111,
              "#46039f"
             ],
             [
              0.2222222222222222,
              "#7201a8"
             ],
             [
              0.3333333333333333,
              "#9c179e"
             ],
             [
              0.4444444444444444,
              "#bd3786"
             ],
             [
              0.5555555555555556,
              "#d8576b"
             ],
             [
              0.6666666666666666,
              "#ed7953"
             ],
             [
              0.7777777777777778,
              "#fb9f3a"
             ],
             [
              0.8888888888888888,
              "#fdca26"
             ],
             [
              1,
              "#f0f921"
             ]
            ],
            "type": "histogram2d"
           }
          ],
          "histogram2dcontour": [
           {
            "colorbar": {
             "outlinewidth": 0,
             "ticks": ""
            },
            "colorscale": [
             [
              0,
              "#0d0887"
             ],
             [
              0.1111111111111111,
              "#46039f"
             ],
             [
              0.2222222222222222,
              "#7201a8"
             ],
             [
              0.3333333333333333,
              "#9c179e"
             ],
             [
              0.4444444444444444,
              "#bd3786"
             ],
             [
              0.5555555555555556,
              "#d8576b"
             ],
             [
              0.6666666666666666,
              "#ed7953"
             ],
             [
              0.7777777777777778,
              "#fb9f3a"
             ],
             [
              0.8888888888888888,
              "#fdca26"
             ],
             [
              1,
              "#f0f921"
             ]
            ],
            "type": "histogram2dcontour"
           }
          ],
          "mesh3d": [
           {
            "colorbar": {
             "outlinewidth": 0,
             "ticks": ""
            },
            "type": "mesh3d"
           }
          ],
          "parcoords": [
           {
            "line": {
             "colorbar": {
              "outlinewidth": 0,
              "ticks": ""
             }
            },
            "type": "parcoords"
           }
          ],
          "pie": [
           {
            "automargin": true,
            "type": "pie"
           }
          ],
          "scatter": [
           {
            "fillpattern": {
             "fillmode": "overlay",
             "size": 10,
             "solidity": 0.2
            },
            "type": "scatter"
           }
          ],
          "scatter3d": [
           {
            "line": {
             "colorbar": {
              "outlinewidth": 0,
              "ticks": ""
             }
            },
            "marker": {
             "colorbar": {
              "outlinewidth": 0,
              "ticks": ""
             }
            },
            "type": "scatter3d"
           }
          ],
          "scattercarpet": [
           {
            "marker": {
             "colorbar": {
              "outlinewidth": 0,
              "ticks": ""
             }
            },
            "type": "scattercarpet"
           }
          ],
          "scattergeo": [
           {
            "marker": {
             "colorbar": {
              "outlinewidth": 0,
              "ticks": ""
             }
            },
            "type": "scattergeo"
           }
          ],
          "scattergl": [
           {
            "marker": {
             "colorbar": {
              "outlinewidth": 0,
              "ticks": ""
             }
            },
            "type": "scattergl"
           }
          ],
          "scattermapbox": [
           {
            "marker": {
             "colorbar": {
              "outlinewidth": 0,
              "ticks": ""
             }
            },
            "type": "scattermapbox"
           }
          ],
          "scatterpolar": [
           {
            "marker": {
             "colorbar": {
              "outlinewidth": 0,
              "ticks": ""
             }
            },
            "type": "scatterpolar"
           }
          ],
          "scatterpolargl": [
           {
            "marker": {
             "colorbar": {
              "outlinewidth": 0,
              "ticks": ""
             }
            },
            "type": "scatterpolargl"
           }
          ],
          "scatterternary": [
           {
            "marker": {
             "colorbar": {
              "outlinewidth": 0,
              "ticks": ""
             }
            },
            "type": "scatterternary"
           }
          ],
          "surface": [
           {
            "colorbar": {
             "outlinewidth": 0,
             "ticks": ""
            },
            "colorscale": [
             [
              0,
              "#0d0887"
             ],
             [
              0.1111111111111111,
              "#46039f"
             ],
             [
              0.2222222222222222,
              "#7201a8"
             ],
             [
              0.3333333333333333,
              "#9c179e"
             ],
             [
              0.4444444444444444,
              "#bd3786"
             ],
             [
              0.5555555555555556,
              "#d8576b"
             ],
             [
              0.6666666666666666,
              "#ed7953"
             ],
             [
              0.7777777777777778,
              "#fb9f3a"
             ],
             [
              0.8888888888888888,
              "#fdca26"
             ],
             [
              1,
              "#f0f921"
             ]
            ],
            "type": "surface"
           }
          ],
          "table": [
           {
            "cells": {
             "fill": {
              "color": "#EBF0F8"
             },
             "line": {
              "color": "white"
             }
            },
            "header": {
             "fill": {
              "color": "#C8D4E3"
             },
             "line": {
              "color": "white"
             }
            },
            "type": "table"
           }
          ]
         },
         "layout": {
          "annotationdefaults": {
           "arrowcolor": "#2a3f5f",
           "arrowhead": 0,
           "arrowwidth": 1
          },
          "autotypenumbers": "strict",
          "coloraxis": {
           "colorbar": {
            "outlinewidth": 0,
            "ticks": ""
           }
          },
          "colorscale": {
           "diverging": [
            [
             0,
             "#8e0152"
            ],
            [
             0.1,
             "#c51b7d"
            ],
            [
             0.2,
             "#de77ae"
            ],
            [
             0.3,
             "#f1b6da"
            ],
            [
             0.4,
             "#fde0ef"
            ],
            [
             0.5,
             "#f7f7f7"
            ],
            [
             0.6,
             "#e6f5d0"
            ],
            [
             0.7,
             "#b8e186"
            ],
            [
             0.8,
             "#7fbc41"
            ],
            [
             0.9,
             "#4d9221"
            ],
            [
             1,
             "#276419"
            ]
           ],
           "sequential": [
            [
             0,
             "#0d0887"
            ],
            [
             0.1111111111111111,
             "#46039f"
            ],
            [
             0.2222222222222222,
             "#7201a8"
            ],
            [
             0.3333333333333333,
             "#9c179e"
            ],
            [
             0.4444444444444444,
             "#bd3786"
            ],
            [
             0.5555555555555556,
             "#d8576b"
            ],
            [
             0.6666666666666666,
             "#ed7953"
            ],
            [
             0.7777777777777778,
             "#fb9f3a"
            ],
            [
             0.8888888888888888,
             "#fdca26"
            ],
            [
             1,
             "#f0f921"
            ]
           ],
           "sequentialminus": [
            [
             0,
             "#0d0887"
            ],
            [
             0.1111111111111111,
             "#46039f"
            ],
            [
             0.2222222222222222,
             "#7201a8"
            ],
            [
             0.3333333333333333,
             "#9c179e"
            ],
            [
             0.4444444444444444,
             "#bd3786"
            ],
            [
             0.5555555555555556,
             "#d8576b"
            ],
            [
             0.6666666666666666,
             "#ed7953"
            ],
            [
             0.7777777777777778,
             "#fb9f3a"
            ],
            [
             0.8888888888888888,
             "#fdca26"
            ],
            [
             1,
             "#f0f921"
            ]
           ]
          },
          "colorway": [
           "#636efa",
           "#EF553B",
           "#00cc96",
           "#ab63fa",
           "#FFA15A",
           "#19d3f3",
           "#FF6692",
           "#B6E880",
           "#FF97FF",
           "#FECB52"
          ],
          "font": {
           "color": "#2a3f5f"
          },
          "geo": {
           "bgcolor": "white",
           "lakecolor": "white",
           "landcolor": "#E5ECF6",
           "showlakes": true,
           "showland": true,
           "subunitcolor": "white"
          },
          "hoverlabel": {
           "align": "left"
          },
          "hovermode": "closest",
          "mapbox": {
           "style": "light"
          },
          "paper_bgcolor": "white",
          "plot_bgcolor": "#E5ECF6",
          "polar": {
           "angularaxis": {
            "gridcolor": "white",
            "linecolor": "white",
            "ticks": ""
           },
           "bgcolor": "#E5ECF6",
           "radialaxis": {
            "gridcolor": "white",
            "linecolor": "white",
            "ticks": ""
           }
          },
          "scene": {
           "xaxis": {
            "backgroundcolor": "#E5ECF6",
            "gridcolor": "white",
            "gridwidth": 2,
            "linecolor": "white",
            "showbackground": true,
            "ticks": "",
            "zerolinecolor": "white"
           },
           "yaxis": {
            "backgroundcolor": "#E5ECF6",
            "gridcolor": "white",
            "gridwidth": 2,
            "linecolor": "white",
            "showbackground": true,
            "ticks": "",
            "zerolinecolor": "white"
           },
           "zaxis": {
            "backgroundcolor": "#E5ECF6",
            "gridcolor": "white",
            "gridwidth": 2,
            "linecolor": "white",
            "showbackground": true,
            "ticks": "",
            "zerolinecolor": "white"
           }
          },
          "shapedefaults": {
           "line": {
            "color": "#2a3f5f"
           }
          },
          "ternary": {
           "aaxis": {
            "gridcolor": "white",
            "linecolor": "white",
            "ticks": ""
           },
           "baxis": {
            "gridcolor": "white",
            "linecolor": "white",
            "ticks": ""
           },
           "bgcolor": "#E5ECF6",
           "caxis": {
            "gridcolor": "white",
            "linecolor": "white",
            "ticks": ""
           }
          },
          "title": {
           "x": 0.05
          },
          "xaxis": {
           "automargin": true,
           "gridcolor": "white",
           "linecolor": "white",
           "ticks": "",
           "title": {
            "standoff": 15
           },
           "zerolinecolor": "white",
           "zerolinewidth": 2
          },
          "yaxis": {
           "automargin": true,
           "gridcolor": "white",
           "linecolor": "white",
           "ticks": "",
           "title": {
            "standoff": 15
           },
           "zerolinecolor": "white",
           "zerolinewidth": 2
          }
         }
        },
        "title": {
         "text": "Theta_2 vs r_x_4 Plot"
        },
        "width": 600,
        "xaxis": {
         "title": {
          "text": "Theta_2"
         }
        },
        "yaxis": {
         "title": {
          "text": "r_x_4"
         }
        }
       }
      }
     },
     "metadata": {},
     "output_type": "display_data"
    }
   ],
   "source": [
    "import numpy as np\n",
    "import plotly.graph_objs as go\n",
    "import sympy as sp\n",
    "\n",
    "def plot_theta2_vs_rx4(theta_2_range, L2_value, L3_value, offset_value, alfa_value):\n",
    "    # Generate solutions for a range of theta_2 values\n",
    "    #solutions_list = []\n",
    "    \n",
    "    theta_2 = symbols('theta_2')\n",
    "    L2, L3, alfa, offset = symbols('L2 L3 alfa, offset')\n",
    "\n",
    "    r_x_4 = symbols('r_x_4')\n",
    "\n",
    "    theta_2_values = []\n",
    "    r_x_4_values = []\n",
    "    for theta_2_loop in theta_2_range:\n",
    "        solutions = sp.solve( [eq.subs({theta_2: theta_2_loop, L2: L2_value, L3: L3_value, offset: offset_value, alfa: alfa_value}) for eq in four_bars_slidercrank_example_symbolic_full()] )\n",
    "        \n",
    "        selected_solution = solutions[1]\n",
    "\n",
    "        r_x_4_values.append(float(selected_solution[r_x_4]))\n",
    "        theta_2_values.append(theta_2_loop)\n",
    "\n",
    "\n",
    "    # Extract theta_2 and r_x_4 values for plotting\n",
    "    # theta_2_values = [theta_2 for theta_2 in theta_2_range]\n",
    "    # r_x_4_values = [solution['r_x_4'] for solution in solutions_list]\n",
    "\n",
    "    # Create trace\n",
    "    trace = go.Scatter(x=theta_2_values, y=r_x_4_values, mode='lines+markers', name='Theta_2 vs r_x_4')\n",
    "\n",
    "    # Define layout\n",
    "    layout = go.Layout(title='Theta_2 vs r_x_4 Plot',\n",
    "                       xaxis=dict(title='Theta_2'),\n",
    "                       yaxis=dict(title='r_x_4'),\n",
    "                       showlegend=True,\n",
    "                       autosize=False,\n",
    "                       width=600,\n",
    "                       height=600)\n",
    "\n",
    "    fig = go.Figure(data=[trace], layout=layout)\n",
    "    fig.show()\n",
    "\n",
    "\n",
    "plot_theta2_vs_rx4(theta_2_range = np.linspace(0, 2*np.pi, 100), L2_value=1, L3_value=2, offset_value=0, alfa_value=0) "
   ]
  },
  {
   "cell_type": "code",
   "execution_count": 69,
   "metadata": {},
   "outputs": [
    {
     "data": {
      "application/vnd.plotly.v1+json": {
       "config": {
        "plotlyServerURL": "https://plot.ly"
       },
       "data": [
        {
         "mode": "lines+markers",
         "name": "Theta_2 vs r_x_4",
         "type": "scatter",
         "x": [
          0,
          0.06346651825433926,
          0.12693303650867852,
          0.1903995547630178,
          0.25386607301735703,
          0.3173325912716963,
          0.3807991095260356,
          0.4442656277803748,
          0.5077321460347141,
          0.5711986642890533,
          0.6346651825433925,
          0.6981317007977318,
          0.7615982190520711,
          0.8250647373064104,
          0.8885312555607496,
          0.9519977738150889,
          1.0154642920694281,
          1.0789308103237674,
          1.1423973285781066,
          1.2058638468324459,
          1.269330365086785,
          1.3327968833411243,
          1.3962634015954636,
          1.4597299198498028,
          1.5231964381041423,
          1.5866629563584815,
          1.6501294746128208,
          1.71359599286716,
          1.7770625111214993,
          1.8405290293758385,
          1.9039955476301778,
          1.967462065884517,
          2.0309285841388562,
          2.0943951023931957,
          2.1578616206475347,
          2.221328138901874,
          2.284794657156213,
          2.3482611754105527,
          2.4117276936648917,
          2.475194211919231,
          2.53866073017357,
          2.6021272484279097,
          2.6655937666822487,
          2.729060284936588,
          2.792526803190927,
          2.8559933214452666,
          2.9194598396996057,
          2.982926357953945,
          3.0463928762082846,
          3.1098593944626236,
          3.173325912716963,
          3.236792430971302,
          3.3002589492256416,
          3.3637254674799806,
          3.42719198573432,
          3.490658503988659,
          3.5541250222429985,
          3.6175915404973376,
          3.681058058751677,
          3.744524577006016,
          3.8079910952603555,
          3.8714576135146945,
          3.934924131769034,
          3.998390650023373,
          4.0618571682777125,
          4.1253236865320515,
          4.188790204786391,
          4.25225672304073,
          4.3157232412950695,
          4.3791897595494085,
          4.442656277803748,
          4.506122796058087,
          4.569589314312426,
          4.6330558325667655,
          4.696522350821105,
          4.759988869075444,
          4.823455387329783,
          4.886921905584122,
          4.950388423838462,
          5.013854942092801,
          5.07732146034714,
          5.14078797860148,
          5.204254496855819,
          5.267721015110158,
          5.331187533364497,
          5.394654051618837,
          5.458120569873176,
          5.521587088127515,
          5.585053606381854,
          5.648520124636194,
          5.711986642890533,
          5.775453161144872,
          5.838919679399211,
          5.902386197653551,
          5.96585271590789,
          6.029319234162229,
          6.092785752416569,
          6.156252270670908,
          6.219718788925247,
          6.283185307179586
         ],
         "y": [
          3,
          2.996980775116349,
          2.9879443796116885,
          2.9729545550827496,
          2.952117214536027,
          2.925579945553549,
          2.8935312898524796,
          2.8561997740481364,
          2.813852658975579,
          2.766794367636027,
          2.7153645451682262,
          2.659935698928948,
          2.600910363843244,
          2.538717739022528,
          2.4738097478975614,
          2.406656487568874,
          2.337741055418879,
          2.267553773421268,
          2.1965858731462347,
          2.125322755698234,
          2.0542369971369583,
          1.9837813254325474,
          1.9143818418462168,
          1.8464317890103097,
          1.7802861718101635,
          1.7162575100573991,
          1.6546129430467198,
          1.5955728201191528,
          1.5393108082774907,
          1.4859554411965956,
          1.4355929378852474,
          1.388271045806173,
          1.3440036199161944,
          1.3027756377319946,
          1.2645483678514813,
          1.229264448369993,
          1.196852683639455,
          1.1672324243365777,
          1.1403174498848303,
          1.1160193191665022,
          1.0942501926665962,
          1.0749251560942454,
          1.0579640928453309,
          1.0432931618840329,
          1.0308459405113555,
          1.020564289803809,
          1.012398995767493,
          1.0063102326702393,
          1.0022678874700932,
          1.0002517763399343,
          1.0002517763399343,
          1.0022678874700932,
          1.0063102326702393,
          1.012398995767493,
          1.020564289803809,
          1.0308459405113555,
          1.0432931618840329,
          1.057964092845331,
          1.0749251560942454,
          1.0942501926665962,
          1.116019319166503,
          1.1403174498848303,
          1.1672324243365777,
          1.196852683639455,
          1.229264448369993,
          1.2645483678514813,
          1.3027756377319946,
          1.3440036199161944,
          1.388271045806173,
          1.4355929378852474,
          1.4859554411965956,
          1.5393108082774907,
          1.5955728201191528,
          1.6546129430467196,
          1.7162575100573996,
          1.7802861718101637,
          1.8464317890103097,
          1.9143818418462168,
          1.9837813254325474,
          2.0542369971369583,
          2.125322755698234,
          2.1965858731462355,
          2.267553773421268,
          2.337741055418879,
          2.406656487568874,
          2.4738097478975614,
          2.538717739022528,
          2.600910363843244,
          2.6599356989289475,
          2.7153645451682262,
          2.7667943676360274,
          2.813852658975579,
          2.8561997740481364,
          2.89353128985248,
          2.925579945553549,
          2.952117214536027,
          2.9729545550827496,
          2.9879443796116885,
          2.996980775116349,
          3
         ]
        }
       ],
       "layout": {
        "autosize": false,
        "height": 600,
        "showlegend": true,
        "template": {
         "data": {
          "bar": [
           {
            "error_x": {
             "color": "#2a3f5f"
            },
            "error_y": {
             "color": "#2a3f5f"
            },
            "marker": {
             "line": {
              "color": "#E5ECF6",
              "width": 0.5
             },
             "pattern": {
              "fillmode": "overlay",
              "size": 10,
              "solidity": 0.2
             }
            },
            "type": "bar"
           }
          ],
          "barpolar": [
           {
            "marker": {
             "line": {
              "color": "#E5ECF6",
              "width": 0.5
             },
             "pattern": {
              "fillmode": "overlay",
              "size": 10,
              "solidity": 0.2
             }
            },
            "type": "barpolar"
           }
          ],
          "carpet": [
           {
            "aaxis": {
             "endlinecolor": "#2a3f5f",
             "gridcolor": "white",
             "linecolor": "white",
             "minorgridcolor": "white",
             "startlinecolor": "#2a3f5f"
            },
            "baxis": {
             "endlinecolor": "#2a3f5f",
             "gridcolor": "white",
             "linecolor": "white",
             "minorgridcolor": "white",
             "startlinecolor": "#2a3f5f"
            },
            "type": "carpet"
           }
          ],
          "choropleth": [
           {
            "colorbar": {
             "outlinewidth": 0,
             "ticks": ""
            },
            "type": "choropleth"
           }
          ],
          "contour": [
           {
            "colorbar": {
             "outlinewidth": 0,
             "ticks": ""
            },
            "colorscale": [
             [
              0,
              "#0d0887"
             ],
             [
              0.1111111111111111,
              "#46039f"
             ],
             [
              0.2222222222222222,
              "#7201a8"
             ],
             [
              0.3333333333333333,
              "#9c179e"
             ],
             [
              0.4444444444444444,
              "#bd3786"
             ],
             [
              0.5555555555555556,
              "#d8576b"
             ],
             [
              0.6666666666666666,
              "#ed7953"
             ],
             [
              0.7777777777777778,
              "#fb9f3a"
             ],
             [
              0.8888888888888888,
              "#fdca26"
             ],
             [
              1,
              "#f0f921"
             ]
            ],
            "type": "contour"
           }
          ],
          "contourcarpet": [
           {
            "colorbar": {
             "outlinewidth": 0,
             "ticks": ""
            },
            "type": "contourcarpet"
           }
          ],
          "heatmap": [
           {
            "colorbar": {
             "outlinewidth": 0,
             "ticks": ""
            },
            "colorscale": [
             [
              0,
              "#0d0887"
             ],
             [
              0.1111111111111111,
              "#46039f"
             ],
             [
              0.2222222222222222,
              "#7201a8"
             ],
             [
              0.3333333333333333,
              "#9c179e"
             ],
             [
              0.4444444444444444,
              "#bd3786"
             ],
             [
              0.5555555555555556,
              "#d8576b"
             ],
             [
              0.6666666666666666,
              "#ed7953"
             ],
             [
              0.7777777777777778,
              "#fb9f3a"
             ],
             [
              0.8888888888888888,
              "#fdca26"
             ],
             [
              1,
              "#f0f921"
             ]
            ],
            "type": "heatmap"
           }
          ],
          "heatmapgl": [
           {
            "colorbar": {
             "outlinewidth": 0,
             "ticks": ""
            },
            "colorscale": [
             [
              0,
              "#0d0887"
             ],
             [
              0.1111111111111111,
              "#46039f"
             ],
             [
              0.2222222222222222,
              "#7201a8"
             ],
             [
              0.3333333333333333,
              "#9c179e"
             ],
             [
              0.4444444444444444,
              "#bd3786"
             ],
             [
              0.5555555555555556,
              "#d8576b"
             ],
             [
              0.6666666666666666,
              "#ed7953"
             ],
             [
              0.7777777777777778,
              "#fb9f3a"
             ],
             [
              0.8888888888888888,
              "#fdca26"
             ],
             [
              1,
              "#f0f921"
             ]
            ],
            "type": "heatmapgl"
           }
          ],
          "histogram": [
           {
            "marker": {
             "pattern": {
              "fillmode": "overlay",
              "size": 10,
              "solidity": 0.2
             }
            },
            "type": "histogram"
           }
          ],
          "histogram2d": [
           {
            "colorbar": {
             "outlinewidth": 0,
             "ticks": ""
            },
            "colorscale": [
             [
              0,
              "#0d0887"
             ],
             [
              0.1111111111111111,
              "#46039f"
             ],
             [
              0.2222222222222222,
              "#7201a8"
             ],
             [
              0.3333333333333333,
              "#9c179e"
             ],
             [
              0.4444444444444444,
              "#bd3786"
             ],
             [
              0.5555555555555556,
              "#d8576b"
             ],
             [
              0.6666666666666666,
              "#ed7953"
             ],
             [
              0.7777777777777778,
              "#fb9f3a"
             ],
             [
              0.8888888888888888,
              "#fdca26"
             ],
             [
              1,
              "#f0f921"
             ]
            ],
            "type": "histogram2d"
           }
          ],
          "histogram2dcontour": [
           {
            "colorbar": {
             "outlinewidth": 0,
             "ticks": ""
            },
            "colorscale": [
             [
              0,
              "#0d0887"
             ],
             [
              0.1111111111111111,
              "#46039f"
             ],
             [
              0.2222222222222222,
              "#7201a8"
             ],
             [
              0.3333333333333333,
              "#9c179e"
             ],
             [
              0.4444444444444444,
              "#bd3786"
             ],
             [
              0.5555555555555556,
              "#d8576b"
             ],
             [
              0.6666666666666666,
              "#ed7953"
             ],
             [
              0.7777777777777778,
              "#fb9f3a"
             ],
             [
              0.8888888888888888,
              "#fdca26"
             ],
             [
              1,
              "#f0f921"
             ]
            ],
            "type": "histogram2dcontour"
           }
          ],
          "mesh3d": [
           {
            "colorbar": {
             "outlinewidth": 0,
             "ticks": ""
            },
            "type": "mesh3d"
           }
          ],
          "parcoords": [
           {
            "line": {
             "colorbar": {
              "outlinewidth": 0,
              "ticks": ""
             }
            },
            "type": "parcoords"
           }
          ],
          "pie": [
           {
            "automargin": true,
            "type": "pie"
           }
          ],
          "scatter": [
           {
            "fillpattern": {
             "fillmode": "overlay",
             "size": 10,
             "solidity": 0.2
            },
            "type": "scatter"
           }
          ],
          "scatter3d": [
           {
            "line": {
             "colorbar": {
              "outlinewidth": 0,
              "ticks": ""
             }
            },
            "marker": {
             "colorbar": {
              "outlinewidth": 0,
              "ticks": ""
             }
            },
            "type": "scatter3d"
           }
          ],
          "scattercarpet": [
           {
            "marker": {
             "colorbar": {
              "outlinewidth": 0,
              "ticks": ""
             }
            },
            "type": "scattercarpet"
           }
          ],
          "scattergeo": [
           {
            "marker": {
             "colorbar": {
              "outlinewidth": 0,
              "ticks": ""
             }
            },
            "type": "scattergeo"
           }
          ],
          "scattergl": [
           {
            "marker": {
             "colorbar": {
              "outlinewidth": 0,
              "ticks": ""
             }
            },
            "type": "scattergl"
           }
          ],
          "scattermapbox": [
           {
            "marker": {
             "colorbar": {
              "outlinewidth": 0,
              "ticks": ""
             }
            },
            "type": "scattermapbox"
           }
          ],
          "scatterpolar": [
           {
            "marker": {
             "colorbar": {
              "outlinewidth": 0,
              "ticks": ""
             }
            },
            "type": "scatterpolar"
           }
          ],
          "scatterpolargl": [
           {
            "marker": {
             "colorbar": {
              "outlinewidth": 0,
              "ticks": ""
             }
            },
            "type": "scatterpolargl"
           }
          ],
          "scatterternary": [
           {
            "marker": {
             "colorbar": {
              "outlinewidth": 0,
              "ticks": ""
             }
            },
            "type": "scatterternary"
           }
          ],
          "surface": [
           {
            "colorbar": {
             "outlinewidth": 0,
             "ticks": ""
            },
            "colorscale": [
             [
              0,
              "#0d0887"
             ],
             [
              0.1111111111111111,
              "#46039f"
             ],
             [
              0.2222222222222222,
              "#7201a8"
             ],
             [
              0.3333333333333333,
              "#9c179e"
             ],
             [
              0.4444444444444444,
              "#bd3786"
             ],
             [
              0.5555555555555556,
              "#d8576b"
             ],
             [
              0.6666666666666666,
              "#ed7953"
             ],
             [
              0.7777777777777778,
              "#fb9f3a"
             ],
             [
              0.8888888888888888,
              "#fdca26"
             ],
             [
              1,
              "#f0f921"
             ]
            ],
            "type": "surface"
           }
          ],
          "table": [
           {
            "cells": {
             "fill": {
              "color": "#EBF0F8"
             },
             "line": {
              "color": "white"
             }
            },
            "header": {
             "fill": {
              "color": "#C8D4E3"
             },
             "line": {
              "color": "white"
             }
            },
            "type": "table"
           }
          ]
         },
         "layout": {
          "annotationdefaults": {
           "arrowcolor": "#2a3f5f",
           "arrowhead": 0,
           "arrowwidth": 1
          },
          "autotypenumbers": "strict",
          "coloraxis": {
           "colorbar": {
            "outlinewidth": 0,
            "ticks": ""
           }
          },
          "colorscale": {
           "diverging": [
            [
             0,
             "#8e0152"
            ],
            [
             0.1,
             "#c51b7d"
            ],
            [
             0.2,
             "#de77ae"
            ],
            [
             0.3,
             "#f1b6da"
            ],
            [
             0.4,
             "#fde0ef"
            ],
            [
             0.5,
             "#f7f7f7"
            ],
            [
             0.6,
             "#e6f5d0"
            ],
            [
             0.7,
             "#b8e186"
            ],
            [
             0.8,
             "#7fbc41"
            ],
            [
             0.9,
             "#4d9221"
            ],
            [
             1,
             "#276419"
            ]
           ],
           "sequential": [
            [
             0,
             "#0d0887"
            ],
            [
             0.1111111111111111,
             "#46039f"
            ],
            [
             0.2222222222222222,
             "#7201a8"
            ],
            [
             0.3333333333333333,
             "#9c179e"
            ],
            [
             0.4444444444444444,
             "#bd3786"
            ],
            [
             0.5555555555555556,
             "#d8576b"
            ],
            [
             0.6666666666666666,
             "#ed7953"
            ],
            [
             0.7777777777777778,
             "#fb9f3a"
            ],
            [
             0.8888888888888888,
             "#fdca26"
            ],
            [
             1,
             "#f0f921"
            ]
           ],
           "sequentialminus": [
            [
             0,
             "#0d0887"
            ],
            [
             0.1111111111111111,
             "#46039f"
            ],
            [
             0.2222222222222222,
             "#7201a8"
            ],
            [
             0.3333333333333333,
             "#9c179e"
            ],
            [
             0.4444444444444444,
             "#bd3786"
            ],
            [
             0.5555555555555556,
             "#d8576b"
            ],
            [
             0.6666666666666666,
             "#ed7953"
            ],
            [
             0.7777777777777778,
             "#fb9f3a"
            ],
            [
             0.8888888888888888,
             "#fdca26"
            ],
            [
             1,
             "#f0f921"
            ]
           ]
          },
          "colorway": [
           "#636efa",
           "#EF553B",
           "#00cc96",
           "#ab63fa",
           "#FFA15A",
           "#19d3f3",
           "#FF6692",
           "#B6E880",
           "#FF97FF",
           "#FECB52"
          ],
          "font": {
           "color": "#2a3f5f"
          },
          "geo": {
           "bgcolor": "white",
           "lakecolor": "white",
           "landcolor": "#E5ECF6",
           "showlakes": true,
           "showland": true,
           "subunitcolor": "white"
          },
          "hoverlabel": {
           "align": "left"
          },
          "hovermode": "closest",
          "mapbox": {
           "style": "light"
          },
          "paper_bgcolor": "white",
          "plot_bgcolor": "#E5ECF6",
          "polar": {
           "angularaxis": {
            "gridcolor": "white",
            "linecolor": "white",
            "ticks": ""
           },
           "bgcolor": "#E5ECF6",
           "radialaxis": {
            "gridcolor": "white",
            "linecolor": "white",
            "ticks": ""
           }
          },
          "scene": {
           "xaxis": {
            "backgroundcolor": "#E5ECF6",
            "gridcolor": "white",
            "gridwidth": 2,
            "linecolor": "white",
            "showbackground": true,
            "ticks": "",
            "zerolinecolor": "white"
           },
           "yaxis": {
            "backgroundcolor": "#E5ECF6",
            "gridcolor": "white",
            "gridwidth": 2,
            "linecolor": "white",
            "showbackground": true,
            "ticks": "",
            "zerolinecolor": "white"
           },
           "zaxis": {
            "backgroundcolor": "#E5ECF6",
            "gridcolor": "white",
            "gridwidth": 2,
            "linecolor": "white",
            "showbackground": true,
            "ticks": "",
            "zerolinecolor": "white"
           }
          },
          "shapedefaults": {
           "line": {
            "color": "#2a3f5f"
           }
          },
          "ternary": {
           "aaxis": {
            "gridcolor": "white",
            "linecolor": "white",
            "ticks": ""
           },
           "baxis": {
            "gridcolor": "white",
            "linecolor": "white",
            "ticks": ""
           },
           "bgcolor": "#E5ECF6",
           "caxis": {
            "gridcolor": "white",
            "linecolor": "white",
            "ticks": ""
           }
          },
          "title": {
           "x": 0.05
          },
          "xaxis": {
           "automargin": true,
           "gridcolor": "white",
           "linecolor": "white",
           "ticks": "",
           "title": {
            "standoff": 15
           },
           "zerolinecolor": "white",
           "zerolinewidth": 2
          },
          "yaxis": {
           "automargin": true,
           "gridcolor": "white",
           "linecolor": "white",
           "ticks": "",
           "title": {
            "standoff": 15
           },
           "zerolinecolor": "white",
           "zerolinewidth": 2
          }
         }
        },
        "title": {
         "text": "Theta_2 vs r_x_4 Plot"
        },
        "width": 600,
        "xaxis": {
         "title": {
          "text": "Theta_2"
         }
        },
        "yaxis": {
         "title": {
          "text": "r_x_4"
         }
        }
       }
      }
     },
     "metadata": {},
     "output_type": "display_data"
    }
   ],
   "source": [
    "plot_theta2_vs_rx4(theta_2_range = np.linspace(0, 2*np.pi, 100), L2_value=1, L3_value=2, offset_value=0, alfa_value=0) "
   ]
  },
  {
   "cell_type": "markdown",
   "metadata": {},
   "source": [
    "## jacobian"
   ]
  },
  {
   "cell_type": "code",
   "execution_count": 15,
   "metadata": {},
   "outputs": [
    {
     "data": {
      "text/latex": [
       "$\\displaystyle \\left[\\begin{matrix}-1 & 0 & 0 & 0 & 0 & 0 & 0 & 0 & 0\\\\0 & -1 & 0 & 0 & 0 & 0 & 0 & 0 & 0\\\\1 & 0 & - L_{2} \\sin{\\left(\\theta_{2} \\right)} & -1 & 0 & 0 & 0 & 0 & 0\\\\0 & 1 & L_{2} \\cos{\\left(\\theta_{2} \\right)} & 0 & -1 & 0 & 0 & 0 & 0\\\\0 & 0 & 0 & 1 & 0 & - L_{3} \\sin{\\left(\\theta_{3} \\right)} & -1 & 0 & 0\\\\0 & 0 & 0 & 0 & 1 & L_{3} \\cos{\\left(\\theta_{3} \\right)} & 0 & -1 & 0\\\\0 & 0 & 0 & 0 & 0 & 0 & 0 & 0 & 1\\\\0 & 0 & 0 & 0 & 0 & 0 & - \\tan{\\left(alfa \\right)} & 1 & 0\\\\0 & 0 & 1 & 0 & 0 & 0 & 0 & 0 & 0\\end{matrix}\\right]$"
      ],
      "text/plain": [
       "Matrix([\n",
       "[-1,  0,                0,  0,  0,                0,          0,  0, 0],\n",
       "[ 0, -1,                0,  0,  0,                0,          0,  0, 0],\n",
       "[ 1,  0, -L2*sin(theta_2), -1,  0,                0,          0,  0, 0],\n",
       "[ 0,  1,  L2*cos(theta_2),  0, -1,                0,          0,  0, 0],\n",
       "[ 0,  0,                0,  1,  0, -L3*sin(theta_3),         -1,  0, 0],\n",
       "[ 0,  0,                0,  0,  1,  L3*cos(theta_3),          0, -1, 0],\n",
       "[ 0,  0,                0,  0,  0,                0,          0,  0, 1],\n",
       "[ 0,  0,                0,  0,  0,                0, -tan(alfa),  1, 0],\n",
       "[ 0,  0,                1,  0,  0,                0,          0,  0, 0]])"
      ]
     },
     "execution_count": 15,
     "metadata": {},
     "output_type": "execute_result"
    }
   ],
   "source": [
    "from sympy import symbols, Eq, cos, sin, diff, Matrix\n",
    "from sympy import Matrix, Eq\n",
    "\n",
    "\n",
    "def jacobian_slider_crank(): #ADAPT IT TO CONSIDER ANY MOVEMENT CONSTRAINT!!!\n",
    "\n",
    "    #     # Define the symbols\n",
    "    theta_2, theta_3, theta_4 = symbols('theta_2 theta_3 theta_4')\n",
    "    r_x_2, r_y_2, r_x_3, r_y_3, r_x_4, r_y_4 = symbols('r_x_2 r_y_2 r_x_3 r_y_3 r_x_4 r_y_4')\n",
    "\n",
    "    # Extract left-hand side of each equation\n",
    "    exprs = [eq.lhs for eq in four_bars_slidercrank_example_symbolic_full()]\n",
    "\n",
    "    # Add the additional constraint\n",
    "    exprs.append(theta_2)\n",
    "\n",
    "    # Convert the list to a Matrix\n",
    "    f = Matrix(exprs)\n",
    "\n",
    "\n",
    "    # Variables with respect to which we differentiate\n",
    "    variables = [r_x_2, r_y_2, theta_2, r_x_3, r_y_3, theta_3, r_x_4, r_y_4, theta_4]\n",
    "\n",
    "    # Compute the Jacobian\n",
    "    jacobian_extended = f.jacobian(variables)\n",
    "    return(jacobian_extended)\n",
    "\n",
    "jacobian_slider_crank()"
   ]
  },
  {
   "cell_type": "code",
   "execution_count": 16,
   "metadata": {},
   "outputs": [
    {
     "data": {
      "text/latex": [
       "$\\displaystyle \\left[\\begin{matrix}0\\\\0\\\\0\\\\0\\\\0\\\\0\\\\0\\\\0\\\\-0.785398163397448\\end{matrix}\\right]$"
      ],
      "text/plain": [
       "Matrix([\n",
       "[                 0],\n",
       "[                 0],\n",
       "[                 0],\n",
       "[                 0],\n",
       "[                 0],\n",
       "[                 0],\n",
       "[                 0],\n",
       "[                 0],\n",
       "[-0.785398163397448]])"
      ]
     },
     "execution_count": 16,
     "metadata": {},
     "output_type": "execute_result"
    }
   ],
   "source": [
    "from sympy import symbols, Eq, cos, sin, diff, Matrix\n",
    "from sympy import Matrix, Eq\n",
    "\n",
    "\n",
    "def C_t_slider_crank(): #ADAPT IT TO CONSIDER ANY MOVEMENT CONSTRAINT!!!\n",
    "\n",
    "    #     # Define the symbols\n",
    "    theta_2, theta_3, theta_4 ,time= symbols('theta_2 theta_3 theta_4 time')\n",
    "    r_x_2, r_y_2, r_x_3, r_y_3, r_x_4, r_y_4 = symbols('r_x_2 r_y_2 r_x_3 r_y_3 r_x_4 r_y_4')\n",
    "\n",
    "    # Extract left-hand side of each equation\n",
    "    exprs = [eq.lhs for eq in four_bars_slidercrank_example_symbolic_full()]\n",
    "\n",
    "    # Add the additional constraint\n",
    "    exprs.append(theta_2-np.pi/4*time)\n",
    "\n",
    "    # Convert the list to a Matrix\n",
    "    f = Matrix(exprs)\n",
    "\n",
    "\n",
    "    # Variables with respect to which we differentiate\n",
    "    variables = [time]\n",
    "\n",
    "    # Compute the Jacobian\n",
    "    C_t = f.jacobian(variables)\n",
    "    return(C_t)\n",
    "\n",
    "C_t_slider_crank()"
   ]
  },
  {
   "cell_type": "code",
   "execution_count": 17,
   "metadata": {},
   "outputs": [
    {
     "name": "stdout",
     "output_type": "stream",
     "text": [
      "Matrix([[-r_x_2], [-r_y_2], [L2*cos(theta_2) + r_x_2 - r_x_3], [L2*sin(theta_2) + r_y_2 - r_y_3], [L3*cos(theta_3) + r_x_3 - r_x_4], [L3*sin(theta_3) + r_y_3 - r_y_4], [-alfa + theta_4], [-offset - r_x_4*tan(alfa) + r_y_4], [theta_2 - 0.785398163397448*time]])\n"
     ]
    }
   ],
   "source": [
    "## Define the symbols\n",
    "# theta_2, theta_3, theta_4 = symbols('theta_2 theta_3 theta_4')\n",
    "\n",
    "theta_2, time, = symbols('theta_2 time')\n",
    "\n",
    "# Extract left-hand side of each equation\n",
    "exprs = [eq.lhs for eq in four_bars_slidercrank_example_symbolic_full()]\n",
    "\n",
    "# Add the additional constraint (Movement restriction)\n",
    "exprs.append(theta_2-np.pi/4*time)\n",
    "\n",
    "# Convert the list to a Matrix\n",
    "print(Matrix(exprs))"
   ]
  },
  {
   "cell_type": "code",
   "execution_count": 19,
   "metadata": {},
   "outputs": [
    {
     "data": {
      "text/plain": [
       "sympy.matrices.dense.MutableDenseMatrix"
      ]
     },
     "execution_count": 19,
     "metadata": {},
     "output_type": "execute_result"
    }
   ],
   "source": [
    "theta_2, theta_3, theta_4 ,time= symbols('theta_2 theta_3 theta_4 time')\n",
    "r_x_2, r_y_2, r_x_3, r_y_3, r_x_4, r_y_4 = symbols('r_x_2 r_y_2 r_x_3 r_y_3 r_x_4 r_y_4')\n",
    "\n",
    "# Variables with respect to which we differentiate\n",
    "variables = [r_x_2, r_y_2, theta_2, r_x_3, r_y_3, theta_3, r_x_4, r_y_4, theta_4]\n",
    "\n",
    "f = Matrix(exprs)\n",
    "\n",
    "\n",
    "jacobian_extended = f.jacobian(variables)\n",
    "\n",
    "type(jacobian_extended)\n"
   ]
  },
  {
   "cell_type": "code",
   "execution_count": 20,
   "metadata": {},
   "outputs": [
    {
     "data": {
      "text/latex": [
       "$\\displaystyle \\left[\\begin{matrix}-1 & 0 & 0 & 0 & 0 & 0 & 0 & 0 & 0\\\\0 & -1 & 0 & 0 & 0 & 0 & 0 & 0 & 0\\\\1 & 0 & - L_{2} \\sin{\\left(\\theta_{2} \\right)} & -1 & 0 & 0 & 0 & 0 & 0\\\\0 & 1 & L_{2} \\cos{\\left(\\theta_{2} \\right)} & 0 & -1 & 0 & 0 & 0 & 0\\\\0 & 0 & 0 & 1 & 0 & - L_{3} \\sin{\\left(\\theta_{3} \\right)} & -1 & 0 & 0\\\\0 & 0 & 0 & 0 & 1 & L_{3} \\cos{\\left(\\theta_{3} \\right)} & 0 & -1 & 0\\\\0 & 0 & 0 & 0 & 0 & 0 & 0 & 0 & 1\\\\0 & 0 & 0 & 0 & 0 & 0 & - \\tan{\\left(alfa \\right)} & 1 & 0\\\\0 & 0 & 1 & 0 & 0 & 0 & 0 & 0 & 0\\end{matrix}\\right]$"
      ],
      "text/plain": [
       "Matrix([\n",
       "[-1,  0,                0,  0,  0,                0,          0,  0, 0],\n",
       "[ 0, -1,                0,  0,  0,                0,          0,  0, 0],\n",
       "[ 1,  0, -L2*sin(theta_2), -1,  0,                0,          0,  0, 0],\n",
       "[ 0,  1,  L2*cos(theta_2),  0, -1,                0,          0,  0, 0],\n",
       "[ 0,  0,                0,  1,  0, -L3*sin(theta_3),         -1,  0, 0],\n",
       "[ 0,  0,                0,  0,  1,  L3*cos(theta_3),          0, -1, 0],\n",
       "[ 0,  0,                0,  0,  0,                0,          0,  0, 1],\n",
       "[ 0,  0,                0,  0,  0,                0, -tan(alfa),  1, 0],\n",
       "[ 0,  0,                1,  0,  0,                0,          0,  0, 0]])"
      ]
     },
     "execution_count": 20,
     "metadata": {},
     "output_type": "execute_result"
    }
   ],
   "source": [
    "jacobian_extended"
   ]
  },
  {
   "cell_type": "code",
   "execution_count": 21,
   "metadata": {},
   "outputs": [
    {
     "data": {
      "text/latex": [
       "$\\displaystyle \\left[\\begin{matrix}-1 & 0 & 0 & 0 & 0 & 0 & 0 & 0 & 0\\\\0 & -1 & 0 & 0 & 0 & 0 & 0 & 0 & 0\\\\0 & 0 & 0 & 0 & 0 & 0 & 0 & 0 & 1\\\\-1 & 0 & -1 & 0 & 0 & 0 & 0 & 0 & - L_{2} \\sin{\\left(\\theta_{2} \\right)}\\\\0 & -1 & 0 & -1 & 0 & 0 & 0 & 0 & L_{2} \\cos{\\left(\\theta_{2} \\right)}\\\\- \\frac{\\tan{\\left(alfa \\right)}}{L_{3} \\sin{\\left(\\theta_{3} \\right)} \\tan{\\left(alfa \\right)} + L_{3} \\cos{\\left(\\theta_{3} \\right)}} & \\frac{1}{L_{3} \\sin{\\left(\\theta_{3} \\right)} \\tan{\\left(alfa \\right)} + L_{3} \\cos{\\left(\\theta_{3} \\right)}} & - \\frac{\\tan{\\left(alfa \\right)}}{L_{3} \\sin{\\left(\\theta_{3} \\right)} \\tan{\\left(alfa \\right)} + L_{3} \\cos{\\left(\\theta_{3} \\right)}} & \\frac{1}{L_{3} \\sin{\\left(\\theta_{3} \\right)} \\tan{\\left(alfa \\right)} + L_{3} \\cos{\\left(\\theta_{3} \\right)}} & - \\frac{\\tan{\\left(alfa \\right)}}{L_{3} \\sin{\\left(\\theta_{3} \\right)} \\tan{\\left(alfa \\right)} + L_{3} \\cos{\\left(\\theta_{3} \\right)}} & \\frac{1}{L_{3} \\sin{\\left(\\theta_{3} \\right)} \\tan{\\left(alfa \\right)} + L_{3} \\cos{\\left(\\theta_{3} \\right)}} & 0 & \\frac{1}{L_{3} \\sin{\\left(\\theta_{3} \\right)} \\tan{\\left(alfa \\right)} + L_{3} \\cos{\\left(\\theta_{3} \\right)}} & \\frac{- L_{2} \\sin{\\left(\\theta_{2} \\right)} \\tan{\\left(alfa \\right)} - L_{2} \\cos{\\left(\\theta_{2} \\right)}}{L_{3} \\sin{\\left(\\theta_{3} \\right)} \\tan{\\left(alfa \\right)} + L_{3} \\cos{\\left(\\theta_{3} \\right)}}\\\\- \\frac{\\cos{\\left(\\theta_{3} \\right)}}{\\sin{\\left(\\theta_{3} \\right)} \\tan{\\left(alfa \\right)} + \\cos{\\left(\\theta_{3} \\right)}} & - \\frac{\\sin{\\left(\\theta_{3} \\right)}}{\\sin{\\left(\\theta_{3} \\right)} \\tan{\\left(alfa \\right)} + \\cos{\\left(\\theta_{3} \\right)}} & - \\frac{\\cos{\\left(\\theta_{3} \\right)}}{\\sin{\\left(\\theta_{3} \\right)} \\tan{\\left(alfa \\right)} + \\cos{\\left(\\theta_{3} \\right)}} & - \\frac{\\sin{\\left(\\theta_{3} \\right)}}{\\sin{\\left(\\theta_{3} \\right)} \\tan{\\left(alfa \\right)} + \\cos{\\left(\\theta_{3} \\right)}} & - \\frac{\\cos{\\left(\\theta_{3} \\right)}}{\\sin{\\left(\\theta_{3} \\right)} \\tan{\\left(alfa \\right)} + \\cos{\\left(\\theta_{3} \\right)}} & - \\frac{\\sin{\\left(\\theta_{3} \\right)}}{\\sin{\\left(\\theta_{3} \\right)} \\tan{\\left(alfa \\right)} + \\cos{\\left(\\theta_{3} \\right)}} & 0 & - \\frac{\\sin{\\left(\\theta_{3} \\right)}}{\\sin{\\left(\\theta_{3} \\right)} \\tan{\\left(alfa \\right)} + \\cos{\\left(\\theta_{3} \\right)}} & \\frac{- L_{2} \\sin{\\left(\\theta_{2} \\right)} \\cos{\\left(\\theta_{3} \\right)} + L_{2} \\sin{\\left(\\theta_{3} \\right)} \\cos{\\left(\\theta_{2} \\right)}}{\\sin{\\left(\\theta_{3} \\right)} \\tan{\\left(alfa \\right)} + \\cos{\\left(\\theta_{3} \\right)}}\\\\- \\frac{\\cos{\\left(\\theta_{3} \\right)} \\tan{\\left(alfa \\right)}}{\\sin{\\left(\\theta_{3} \\right)} \\tan{\\left(alfa \\right)} + \\cos{\\left(\\theta_{3} \\right)}} & - \\frac{\\sin{\\left(\\theta_{3} \\right)} \\tan{\\left(alfa \\right)}}{\\sin{\\left(\\theta_{3} \\right)} \\tan{\\left(alfa \\right)} + \\cos{\\left(\\theta_{3} \\right)}} & - \\frac{\\cos{\\left(\\theta_{3} \\right)} \\tan{\\left(alfa \\right)}}{\\sin{\\left(\\theta_{3} \\right)} \\tan{\\left(alfa \\right)} + \\cos{\\left(\\theta_{3} \\right)}} & - \\frac{\\sin{\\left(\\theta_{3} \\right)} \\tan{\\left(alfa \\right)}}{\\sin{\\left(\\theta_{3} \\right)} \\tan{\\left(alfa \\right)} + \\cos{\\left(\\theta_{3} \\right)}} & - \\frac{\\cos{\\left(\\theta_{3} \\right)} \\tan{\\left(alfa \\right)}}{\\sin{\\left(\\theta_{3} \\right)} \\tan{\\left(alfa \\right)} + \\cos{\\left(\\theta_{3} \\right)}} & - \\frac{\\sin{\\left(\\theta_{3} \\right)} \\tan{\\left(alfa \\right)}}{\\sin{\\left(\\theta_{3} \\right)} \\tan{\\left(alfa \\right)} + \\cos{\\left(\\theta_{3} \\right)}} & 0 & \\frac{\\cos{\\left(\\theta_{3} \\right)}}{\\sin{\\left(\\theta_{3} \\right)} \\tan{\\left(alfa \\right)} + \\cos{\\left(\\theta_{3} \\right)}} & \\frac{- L_{2} \\sin{\\left(\\theta_{2} \\right)} \\cos{\\left(\\theta_{3} \\right)} \\tan{\\left(alfa \\right)} + L_{2} \\sin{\\left(\\theta_{3} \\right)} \\cos{\\left(\\theta_{2} \\right)} \\tan{\\left(alfa \\right)}}{\\sin{\\left(\\theta_{3} \\right)} \\tan{\\left(alfa \\right)} + \\cos{\\left(\\theta_{3} \\right)}}\\\\0 & 0 & 0 & 0 & 0 & 0 & 1 & 0 & 0\\end{matrix}\\right]$"
      ],
      "text/plain": [
       "Matrix([\n",
       "[                                                             -1,                                                               0,                                                               0,                                                               0,                                                               0,                                                               0, 0,                                                     0,                                                                                                                          0],\n",
       "[                                                              0,                                                              -1,                                                               0,                                                               0,                                                               0,                                                               0, 0,                                                     0,                                                                                                                          0],\n",
       "[                                                              0,                                                               0,                                                               0,                                                               0,                                                               0,                                                               0, 0,                                                     0,                                                                                                                          1],\n",
       "[                                                             -1,                                                               0,                                                              -1,                                                               0,                                                               0,                                                               0, 0,                                                     0,                                                                                                           -L2*sin(theta_2)],\n",
       "[                                                              0,                                                              -1,                                                               0,                                                              -1,                                                               0,                                                               0, 0,                                                     0,                                                                                                            L2*cos(theta_2)],\n",
       "[       -tan(alfa)/(L3*sin(theta_3)*tan(alfa) + L3*cos(theta_3)),                 1/(L3*sin(theta_3)*tan(alfa) + L3*cos(theta_3)),        -tan(alfa)/(L3*sin(theta_3)*tan(alfa) + L3*cos(theta_3)),                 1/(L3*sin(theta_3)*tan(alfa) + L3*cos(theta_3)),        -tan(alfa)/(L3*sin(theta_3)*tan(alfa) + L3*cos(theta_3)),                 1/(L3*sin(theta_3)*tan(alfa) + L3*cos(theta_3)), 0,       1/(L3*sin(theta_3)*tan(alfa) + L3*cos(theta_3)),                               (-L2*sin(theta_2)*tan(alfa) - L2*cos(theta_2))/(L3*sin(theta_3)*tan(alfa) + L3*cos(theta_3))],\n",
       "[          -cos(theta_3)/(sin(theta_3)*tan(alfa) + cos(theta_3)),           -sin(theta_3)/(sin(theta_3)*tan(alfa) + cos(theta_3)),           -cos(theta_3)/(sin(theta_3)*tan(alfa) + cos(theta_3)),           -sin(theta_3)/(sin(theta_3)*tan(alfa) + cos(theta_3)),           -cos(theta_3)/(sin(theta_3)*tan(alfa) + cos(theta_3)),           -sin(theta_3)/(sin(theta_3)*tan(alfa) + cos(theta_3)), 0, -sin(theta_3)/(sin(theta_3)*tan(alfa) + cos(theta_3)),                     (-L2*sin(theta_2)*cos(theta_3) + L2*sin(theta_3)*cos(theta_2))/(sin(theta_3)*tan(alfa) + cos(theta_3))],\n",
       "[-cos(theta_3)*tan(alfa)/(sin(theta_3)*tan(alfa) + cos(theta_3)), -sin(theta_3)*tan(alfa)/(sin(theta_3)*tan(alfa) + cos(theta_3)), -cos(theta_3)*tan(alfa)/(sin(theta_3)*tan(alfa) + cos(theta_3)), -sin(theta_3)*tan(alfa)/(sin(theta_3)*tan(alfa) + cos(theta_3)), -cos(theta_3)*tan(alfa)/(sin(theta_3)*tan(alfa) + cos(theta_3)), -sin(theta_3)*tan(alfa)/(sin(theta_3)*tan(alfa) + cos(theta_3)), 0,  cos(theta_3)/(sin(theta_3)*tan(alfa) + cos(theta_3)), (-L2*sin(theta_2)*cos(theta_3)*tan(alfa) + L2*sin(theta_3)*cos(theta_2)*tan(alfa))/(sin(theta_3)*tan(alfa) + cos(theta_3))],\n",
       "[                                                              0,                                                               0,                                                               0,                                                               0,                                                               0,                                                               0, 1,                                                     0,                                                                                                                          0]])"
      ]
     },
     "execution_count": 21,
     "metadata": {},
     "output_type": "execute_result"
    }
   ],
   "source": [
    "jacobian_extended.inv()"
   ]
  },
  {
   "cell_type": "code",
   "execution_count": 23,
   "metadata": {},
   "outputs": [
    {
     "data": {
      "text/latex": [
       "$\\displaystyle \\left[\\begin{matrix}- r_{x 2}\\\\- r_{y 2}\\\\L_{2} \\cos{\\left(\\theta_{2} \\right)} + r_{x 2} - r_{x 3}\\\\L_{2} \\sin{\\left(\\theta_{2} \\right)} + r_{y 2} - r_{y 3}\\\\L_{3} \\cos{\\left(\\theta_{3} \\right)} + r_{x 3} - r_{x 4}\\\\L_{3} \\sin{\\left(\\theta_{3} \\right)} + r_{y 3} - r_{y 4}\\\\- alfa + \\theta_{4}\\\\- offset - r_{x 4} \\tan{\\left(alfa \\right)} + r_{y 4}\\\\\\theta_{2} - 0.785398163397448 time\\end{matrix}\\right]$"
      ],
      "text/plain": [
       "Matrix([\n",
       "[                           -r_x_2],\n",
       "[                           -r_y_2],\n",
       "[  L2*cos(theta_2) + r_x_2 - r_x_3],\n",
       "[  L2*sin(theta_2) + r_y_2 - r_y_3],\n",
       "[  L3*cos(theta_3) + r_x_3 - r_x_4],\n",
       "[  L3*sin(theta_3) + r_y_3 - r_y_4],\n",
       "[                  -alfa + theta_4],\n",
       "[-offset - r_x_4*tan(alfa) + r_y_4],\n",
       "[ theta_2 - 0.785398163397448*time]])"
      ]
     },
     "execution_count": 23,
     "metadata": {},
     "output_type": "execute_result"
    }
   ],
   "source": [
    "f"
   ]
  },
  {
   "cell_type": "code",
   "execution_count": 22,
   "metadata": {},
   "outputs": [
    {
     "data": {
      "text/latex": [
       "$\\displaystyle \\left[\\begin{matrix}0\\\\0\\\\0\\\\0\\\\0\\\\0\\\\0\\\\0\\\\-0.785398163397448\\end{matrix}\\right]$"
      ],
      "text/plain": [
       "Matrix([\n",
       "[                 0],\n",
       "[                 0],\n",
       "[                 0],\n",
       "[                 0],\n",
       "[                 0],\n",
       "[                 0],\n",
       "[                 0],\n",
       "[                 0],\n",
       "[-0.785398163397448]])"
      ]
     },
     "execution_count": 22,
     "metadata": {},
     "output_type": "execute_result"
    }
   ],
   "source": [
    "# Variables with respect to which we differentiate\n",
    "variables = [time]\n",
    "\n",
    "# Compute the Jacobian\n",
    "C_t = f.jacobian(variables) #f are the contrains (including mov)\n",
    "\n",
    "C_t"
   ]
  },
  {
   "cell_type": "code",
   "execution_count": 29,
   "metadata": {},
   "outputs": [
    {
     "data": {
      "text/latex": [
       "$\\displaystyle \\left[\\begin{matrix}0\\\\0\\\\-0.785398163397448\\\\0.785398163397448 L_{2} \\sin{\\left(\\theta_{2} \\right)}\\\\- 0.785398163397448 L_{2} \\cos{\\left(\\theta_{2} \\right)}\\\\- \\frac{0.785398163397448 \\left(- L_{2} \\sin{\\left(\\theta_{2} \\right)} \\tan{\\left(alfa \\right)} - L_{2} \\cos{\\left(\\theta_{2} \\right)}\\right)}{L_{3} \\sin{\\left(\\theta_{3} \\right)} \\tan{\\left(alfa \\right)} + L_{3} \\cos{\\left(\\theta_{3} \\right)}}\\\\- \\frac{0.785398163397448 \\left(- L_{2} \\sin{\\left(\\theta_{2} \\right)} \\cos{\\left(\\theta_{3} \\right)} + L_{2} \\sin{\\left(\\theta_{3} \\right)} \\cos{\\left(\\theta_{2} \\right)}\\right)}{\\sin{\\left(\\theta_{3} \\right)} \\tan{\\left(alfa \\right)} + \\cos{\\left(\\theta_{3} \\right)}}\\\\- \\frac{0.785398163397448 \\left(- L_{2} \\sin{\\left(\\theta_{2} \\right)} \\cos{\\left(\\theta_{3} \\right)} \\tan{\\left(alfa \\right)} + L_{2} \\sin{\\left(\\theta_{3} \\right)} \\cos{\\left(\\theta_{2} \\right)} \\tan{\\left(alfa \\right)}\\right)}{\\sin{\\left(\\theta_{3} \\right)} \\tan{\\left(alfa \\right)} + \\cos{\\left(\\theta_{3} \\right)}}\\\\0\\end{matrix}\\right]$"
      ],
      "text/plain": [
       "Matrix([\n",
       "[                                                                                                                                            0],\n",
       "[                                                                                                                                            0],\n",
       "[                                                                                                                           -0.785398163397448],\n",
       "[                                                                                                            0.785398163397448*L2*sin(theta_2)],\n",
       "[                                                                                                           -0.785398163397448*L2*cos(theta_2)],\n",
       "[                              -0.785398163397448*(-L2*sin(theta_2)*tan(alfa) - L2*cos(theta_2))/(L3*sin(theta_3)*tan(alfa) + L3*cos(theta_3))],\n",
       "[                    -0.785398163397448*(-L2*sin(theta_2)*cos(theta_3) + L2*sin(theta_3)*cos(theta_2))/(sin(theta_3)*tan(alfa) + cos(theta_3))],\n",
       "[-0.785398163397448*(-L2*sin(theta_2)*cos(theta_3)*tan(alfa) + L2*sin(theta_3)*cos(theta_2)*tan(alfa))/(sin(theta_3)*tan(alfa) + cos(theta_3))],\n",
       "[                                                                                                                                            0]])"
      ]
     },
     "execution_count": 29,
     "metadata": {},
     "output_type": "execute_result"
    }
   ],
   "source": [
    "jacobian_extended.inv()*C_t"
   ]
  },
  {
   "cell_type": "code",
   "execution_count": 24,
   "metadata": {},
   "outputs": [],
   "source": [
    "q_dot = jacobian_extended.inv()*C_t"
   ]
  },
  {
   "cell_type": "code",
   "execution_count": 34,
   "metadata": {},
   "outputs": [
    {
     "data": {
      "text/plain": [
       "sympy.matrices.dense.MutableDenseMatrix"
      ]
     },
     "execution_count": 34,
     "metadata": {},
     "output_type": "execute_result"
    }
   ],
   "source": [
    "type(q_dot)"
   ]
  },
  {
   "cell_type": "code",
   "execution_count": 26,
   "metadata": {},
   "outputs": [
    {
     "data": {
      "text/latex": [
       "$\\displaystyle \\left[\\begin{matrix}0\\\\0\\\\-0.785398163397448\\\\0.785398163397448 \\sin{\\left(\\theta_{2} \\right)}\\\\- 0.785398163397448 \\cos{\\left(\\theta_{2} \\right)}\\\\\\frac{0.392699081698724 \\cos{\\left(\\theta_{2} \\right)}}{\\cos{\\left(\\theta_{3} \\right)}}\\\\- \\frac{0.785398163397448 \\left(- \\sin{\\left(\\theta_{2} \\right)} \\cos{\\left(\\theta_{3} \\right)} + \\sin{\\left(\\theta_{3} \\right)} \\cos{\\left(\\theta_{2} \\right)}\\right)}{\\cos{\\left(\\theta_{3} \\right)}}\\\\0\\\\0\\end{matrix}\\right]$"
      ],
      "text/plain": [
       "Matrix([\n",
       "[                                                                                       0],\n",
       "[                                                                                       0],\n",
       "[                                                                      -0.785398163397448],\n",
       "[                                                          0.785398163397448*sin(theta_2)],\n",
       "[                                                         -0.785398163397448*cos(theta_2)],\n",
       "[                                             0.392699081698724*cos(theta_2)/cos(theta_3)],\n",
       "[-0.785398163397448*(-sin(theta_2)*cos(theta_3) + sin(theta_3)*cos(theta_2))/cos(theta_3)],\n",
       "[                                                                                       0],\n",
       "[                                                                                       0]])"
      ]
     },
     "execution_count": 26,
     "metadata": {},
     "output_type": "execute_result"
    }
   ],
   "source": [
    "L2,L3, alfa, offset = symbols('L2,L3, alfa, offset')\n",
    "\n",
    "\n",
    "q_dot.subs({L2: 1, L3: 2, offset: 0, alfa: 0}) #theta 2 as per the solution solver (later on time will mark the ritmo!)"
   ]
  },
  {
   "cell_type": "code",
   "execution_count": 27,
   "metadata": {},
   "outputs": [
    {
     "data": {
      "text/plain": [
       "{r_x_2: 0,\n",
       " r_x_3: 1,\n",
       " r_y_2: 0,\n",
       " r_y_3: 0,\n",
       " r_y_4: 0,\n",
       " theta_3: 0,\n",
       " r_x_4: 3,\n",
       " theta_4: 0}"
      ]
     },
     "execution_count": 27,
     "metadata": {},
     "output_type": "execute_result"
    }
   ],
   "source": [
    "# sp.solve( [eq.subs({theta_2: 0, L2: 1, L3: 2, offset: 0, alfa: 0}) for eq in four_bars_slidercrank_example_symbolic_full()] )[1][r_x_4]\n",
    "\n",
    "sp.solve( [eq.subs({theta_2: 0, L2: 1, L3: 2, offset: 0, alfa: 0}) for eq in four_bars_slidercrank_example_symbolic_full()] )[1]"
   ]
  },
  {
   "cell_type": "code",
   "execution_count": 28,
   "metadata": {},
   "outputs": [
    {
     "data": {
      "text/latex": [
       "$\\displaystyle 3$"
      ],
      "text/plain": [
       "3"
      ]
     },
     "execution_count": 28,
     "metadata": {},
     "output_type": "execute_result"
    }
   ],
   "source": [
    "q = sp.solve( [eq.subs({theta_2: 0, L2: 1, L3: 2, offset: 0, alfa: 0}) for eq in four_bars_slidercrank_example_symbolic_full()] )[1]\n",
    "\n",
    "q[r_x_4]"
   ]
  },
  {
   "cell_type": "code",
   "execution_count": 29,
   "metadata": {},
   "outputs": [
    {
     "data": {
      "text/latex": [
       "$\\displaystyle \\left[\\begin{matrix}0\\\\0\\\\-0.785398163397448\\\\0\\\\-0.785398163397448\\\\0.392699081698724\\\\0\\\\0\\\\0\\end{matrix}\\right]$"
      ],
      "text/plain": [
       "Matrix([\n",
       "[                 0],\n",
       "[                 0],\n",
       "[-0.785398163397448],\n",
       "[                 0],\n",
       "[-0.785398163397448],\n",
       "[ 0.392699081698724],\n",
       "[                 0],\n",
       "[                 0],\n",
       "[                 0]])"
      ]
     },
     "execution_count": 29,
     "metadata": {},
     "output_type": "execute_result"
    }
   ],
   "source": [
    "q_dot.subs({theta_2: 0, theta_3: q[theta_3], L2: 1, L3: 2, offset: 0, alfa: 0}) #theta 2 as per the solution solver (later on time will mark the ritmo!)"
   ]
  },
  {
   "cell_type": "code",
   "execution_count": 67,
   "metadata": {},
   "outputs": [
    {
     "data": {
      "application/vnd.plotly.v1+json": {
       "config": {
        "plotlyServerURL": "https://plot.ly"
       },
       "data": [
        {
         "mode": "lines+markers",
         "name": "Theta_2 vs v_x_4 ????",
         "type": "scatter",
         "x": [
          0,
          0.06346651825433926,
          0.12693303650867852,
          0.1903995547630178,
          0.25386607301735703,
          0.3173325912716963,
          0.3807991095260356,
          0.4442656277803748,
          0.5077321460347141,
          0.5711986642890533,
          0.6346651825433925,
          0.6981317007977318,
          0.7615982190520711,
          0.8250647373064104,
          0.8885312555607496,
          0.9519977738150889,
          1.0154642920694281,
          1.0789308103237674,
          1.1423973285781066,
          1.2058638468324459,
          1.269330365086785,
          1.3327968833411243,
          1.3962634015954636,
          1.4597299198498028,
          1.5231964381041423,
          1.5866629563584815,
          1.6501294746128208,
          1.71359599286716,
          1.7770625111214993,
          1.8405290293758385,
          1.9039955476301778,
          1.967462065884517,
          2.0309285841388562,
          2.0943951023931957,
          2.1578616206475347,
          2.221328138901874,
          2.284794657156213,
          2.3482611754105527,
          2.4117276936648917,
          2.475194211919231,
          2.53866073017357,
          2.6021272484279097,
          2.6655937666822487,
          2.729060284936588,
          2.792526803190927,
          2.8559933214452666,
          2.9194598396996057,
          2.982926357953945,
          3.0463928762082846,
          3.1098593944626236,
          3.173325912716963,
          3.236792430971302,
          3.3002589492256416,
          3.3637254674799806,
          3.42719198573432,
          3.490658503988659,
          3.5541250222429985,
          3.6175915404973376,
          3.681058058751677,
          3.744524577006016,
          3.8079910952603555,
          3.8714576135146945,
          3.934924131769034,
          3.998390650023373,
          4.0618571682777125,
          4.1253236865320515,
          4.188790204786391,
          4.25225672304073,
          4.3157232412950695,
          4.3791897595494085,
          4.442656277803748,
          4.506122796058087,
          4.569589314312426,
          4.6330558325667655,
          4.696522350821105,
          4.759988869075444,
          4.823455387329783,
          4.886921905584122,
          4.950388423838462,
          5.013854942092801,
          5.07732146034714,
          5.14078797860148,
          5.204254496855819,
          5.267721015110158,
          5.331187533364497,
          5.394654051618837,
          5.458120569873176,
          5.521587088127515,
          5.585053606381854,
          5.648520124636194,
          5.711986642890533,
          5.775453161144872,
          5.838919679399211,
          5.902386197653551,
          5.96585271590789,
          6.029319234162229,
          6.092785752416569,
          6.156252270670908,
          6.219718788925247,
          6.283185307179586
         ],
         "y": [
          0,
          -0.07468190796695481,
          -0.14883735401445222,
          -0.2219422555527933,
          -0.2934773757415159,
          -0.3629309653405085,
          -0.4298016703438869,
          -0.49360179748461835,
          -0.5538610295313721,
          -0.6101306779244839,
          -0.6619885487012936,
          -0.7090444751828691,
          -0.7509465334780638,
          -0.7873879005897753,
          -0.818114236921348,
          -0.8429313748145592,
          -0.8617129760205667,
          -0.874407693141681,
          -0.8810452495535336,
          -0.8817407625315509,
          -0.8766966032971376,
          -0.8662011430270461,
          -0.8506238949807988,
          -0.8304068324980184,
          -0.8060520198697867,
          -0.7781060920862055,
          -0.7471424953913621,
          -0.7137426835317872,
          -0.6784775975714854,
          -0.6418907122820572,
          -0.6044837189393651,
          -0.5667055769602882,
          -0.5289452709359621,
          -0.4915282247277221,
          -0.4547160070395512,
          -0.4187087468884119,
          -0.38364957112560966,
          -0.3496303674997167,
          -0.316698241120463,
          -0.28486214096918033,
          -0.25409926012579825,
          -0.22436093857452902,
          -0.19557790795125596,
          -0.167664807082566,
          -0.1405239642854926,
          -0.1140484890026409,
          -0.08812474496877663,
          -0.06263429381703471,
          -0.037455405739479704,
          -0.012464235871237588,
          0.01246423587123767,
          0.03745540573947978,
          0.06263429381703486,
          0.08812474496877644,
          0.11404848900264104,
          0.14052396428549244,
          0.16766480708256612,
          0.1955779079512561,
          0.22436093857452913,
          0.2540992601257981,
          0.28486214096918044,
          0.3166982411204629,
          0.3496303674997168,
          0.38364957112560955,
          0.41870874688841214,
          0.45471600703955106,
          0.4915282247277225,
          0.5289452709359623,
          0.5667055769602882,
          0.6044837189393649,
          0.6418907122820574,
          0.6784775975714855,
          0.7137426835317872,
          0.7471424953913619,
          0.7781060920862057,
          0.8060520198697868,
          0.8304068324980183,
          0.8506238949807987,
          0.8662011430270462,
          0.8766966032971376,
          0.8817407625315509,
          0.8810452495535337,
          0.874407693141681,
          0.8617129760205667,
          0.8429313748145592,
          0.818114236921348,
          0.7873879005897751,
          0.7509465334780638,
          0.7090444751828694,
          0.6619885487012934,
          0.6101306779244835,
          0.5538610295313721,
          0.49360179748461863,
          0.4298016703438862,
          0.3629309653405085,
          0.293477375741516,
          0.22194225555279293,
          0.14883735401445203,
          0.07468190796695483,
          2.885506040582686e-16
         ]
        }
       ],
       "layout": {
        "autosize": false,
        "height": 600,
        "showlegend": true,
        "template": {
         "data": {
          "bar": [
           {
            "error_x": {
             "color": "#2a3f5f"
            },
            "error_y": {
             "color": "#2a3f5f"
            },
            "marker": {
             "line": {
              "color": "#E5ECF6",
              "width": 0.5
             },
             "pattern": {
              "fillmode": "overlay",
              "size": 10,
              "solidity": 0.2
             }
            },
            "type": "bar"
           }
          ],
          "barpolar": [
           {
            "marker": {
             "line": {
              "color": "#E5ECF6",
              "width": 0.5
             },
             "pattern": {
              "fillmode": "overlay",
              "size": 10,
              "solidity": 0.2
             }
            },
            "type": "barpolar"
           }
          ],
          "carpet": [
           {
            "aaxis": {
             "endlinecolor": "#2a3f5f",
             "gridcolor": "white",
             "linecolor": "white",
             "minorgridcolor": "white",
             "startlinecolor": "#2a3f5f"
            },
            "baxis": {
             "endlinecolor": "#2a3f5f",
             "gridcolor": "white",
             "linecolor": "white",
             "minorgridcolor": "white",
             "startlinecolor": "#2a3f5f"
            },
            "type": "carpet"
           }
          ],
          "choropleth": [
           {
            "colorbar": {
             "outlinewidth": 0,
             "ticks": ""
            },
            "type": "choropleth"
           }
          ],
          "contour": [
           {
            "colorbar": {
             "outlinewidth": 0,
             "ticks": ""
            },
            "colorscale": [
             [
              0,
              "#0d0887"
             ],
             [
              0.1111111111111111,
              "#46039f"
             ],
             [
              0.2222222222222222,
              "#7201a8"
             ],
             [
              0.3333333333333333,
              "#9c179e"
             ],
             [
              0.4444444444444444,
              "#bd3786"
             ],
             [
              0.5555555555555556,
              "#d8576b"
             ],
             [
              0.6666666666666666,
              "#ed7953"
             ],
             [
              0.7777777777777778,
              "#fb9f3a"
             ],
             [
              0.8888888888888888,
              "#fdca26"
             ],
             [
              1,
              "#f0f921"
             ]
            ],
            "type": "contour"
           }
          ],
          "contourcarpet": [
           {
            "colorbar": {
             "outlinewidth": 0,
             "ticks": ""
            },
            "type": "contourcarpet"
           }
          ],
          "heatmap": [
           {
            "colorbar": {
             "outlinewidth": 0,
             "ticks": ""
            },
            "colorscale": [
             [
              0,
              "#0d0887"
             ],
             [
              0.1111111111111111,
              "#46039f"
             ],
             [
              0.2222222222222222,
              "#7201a8"
             ],
             [
              0.3333333333333333,
              "#9c179e"
             ],
             [
              0.4444444444444444,
              "#bd3786"
             ],
             [
              0.5555555555555556,
              "#d8576b"
             ],
             [
              0.6666666666666666,
              "#ed7953"
             ],
             [
              0.7777777777777778,
              "#fb9f3a"
             ],
             [
              0.8888888888888888,
              "#fdca26"
             ],
             [
              1,
              "#f0f921"
             ]
            ],
            "type": "heatmap"
           }
          ],
          "heatmapgl": [
           {
            "colorbar": {
             "outlinewidth": 0,
             "ticks": ""
            },
            "colorscale": [
             [
              0,
              "#0d0887"
             ],
             [
              0.1111111111111111,
              "#46039f"
             ],
             [
              0.2222222222222222,
              "#7201a8"
             ],
             [
              0.3333333333333333,
              "#9c179e"
             ],
             [
              0.4444444444444444,
              "#bd3786"
             ],
             [
              0.5555555555555556,
              "#d8576b"
             ],
             [
              0.6666666666666666,
              "#ed7953"
             ],
             [
              0.7777777777777778,
              "#fb9f3a"
             ],
             [
              0.8888888888888888,
              "#fdca26"
             ],
             [
              1,
              "#f0f921"
             ]
            ],
            "type": "heatmapgl"
           }
          ],
          "histogram": [
           {
            "marker": {
             "pattern": {
              "fillmode": "overlay",
              "size": 10,
              "solidity": 0.2
             }
            },
            "type": "histogram"
           }
          ],
          "histogram2d": [
           {
            "colorbar": {
             "outlinewidth": 0,
             "ticks": ""
            },
            "colorscale": [
             [
              0,
              "#0d0887"
             ],
             [
              0.1111111111111111,
              "#46039f"
             ],
             [
              0.2222222222222222,
              "#7201a8"
             ],
             [
              0.3333333333333333,
              "#9c179e"
             ],
             [
              0.4444444444444444,
              "#bd3786"
             ],
             [
              0.5555555555555556,
              "#d8576b"
             ],
             [
              0.6666666666666666,
              "#ed7953"
             ],
             [
              0.7777777777777778,
              "#fb9f3a"
             ],
             [
              0.8888888888888888,
              "#fdca26"
             ],
             [
              1,
              "#f0f921"
             ]
            ],
            "type": "histogram2d"
           }
          ],
          "histogram2dcontour": [
           {
            "colorbar": {
             "outlinewidth": 0,
             "ticks": ""
            },
            "colorscale": [
             [
              0,
              "#0d0887"
             ],
             [
              0.1111111111111111,
              "#46039f"
             ],
             [
              0.2222222222222222,
              "#7201a8"
             ],
             [
              0.3333333333333333,
              "#9c179e"
             ],
             [
              0.4444444444444444,
              "#bd3786"
             ],
             [
              0.5555555555555556,
              "#d8576b"
             ],
             [
              0.6666666666666666,
              "#ed7953"
             ],
             [
              0.7777777777777778,
              "#fb9f3a"
             ],
             [
              0.8888888888888888,
              "#fdca26"
             ],
             [
              1,
              "#f0f921"
             ]
            ],
            "type": "histogram2dcontour"
           }
          ],
          "mesh3d": [
           {
            "colorbar": {
             "outlinewidth": 0,
             "ticks": ""
            },
            "type": "mesh3d"
           }
          ],
          "parcoords": [
           {
            "line": {
             "colorbar": {
              "outlinewidth": 0,
              "ticks": ""
             }
            },
            "type": "parcoords"
           }
          ],
          "pie": [
           {
            "automargin": true,
            "type": "pie"
           }
          ],
          "scatter": [
           {
            "fillpattern": {
             "fillmode": "overlay",
             "size": 10,
             "solidity": 0.2
            },
            "type": "scatter"
           }
          ],
          "scatter3d": [
           {
            "line": {
             "colorbar": {
              "outlinewidth": 0,
              "ticks": ""
             }
            },
            "marker": {
             "colorbar": {
              "outlinewidth": 0,
              "ticks": ""
             }
            },
            "type": "scatter3d"
           }
          ],
          "scattercarpet": [
           {
            "marker": {
             "colorbar": {
              "outlinewidth": 0,
              "ticks": ""
             }
            },
            "type": "scattercarpet"
           }
          ],
          "scattergeo": [
           {
            "marker": {
             "colorbar": {
              "outlinewidth": 0,
              "ticks": ""
             }
            },
            "type": "scattergeo"
           }
          ],
          "scattergl": [
           {
            "marker": {
             "colorbar": {
              "outlinewidth": 0,
              "ticks": ""
             }
            },
            "type": "scattergl"
           }
          ],
          "scattermapbox": [
           {
            "marker": {
             "colorbar": {
              "outlinewidth": 0,
              "ticks": ""
             }
            },
            "type": "scattermapbox"
           }
          ],
          "scatterpolar": [
           {
            "marker": {
             "colorbar": {
              "outlinewidth": 0,
              "ticks": ""
             }
            },
            "type": "scatterpolar"
           }
          ],
          "scatterpolargl": [
           {
            "marker": {
             "colorbar": {
              "outlinewidth": 0,
              "ticks": ""
             }
            },
            "type": "scatterpolargl"
           }
          ],
          "scatterternary": [
           {
            "marker": {
             "colorbar": {
              "outlinewidth": 0,
              "ticks": ""
             }
            },
            "type": "scatterternary"
           }
          ],
          "surface": [
           {
            "colorbar": {
             "outlinewidth": 0,
             "ticks": ""
            },
            "colorscale": [
             [
              0,
              "#0d0887"
             ],
             [
              0.1111111111111111,
              "#46039f"
             ],
             [
              0.2222222222222222,
              "#7201a8"
             ],
             [
              0.3333333333333333,
              "#9c179e"
             ],
             [
              0.4444444444444444,
              "#bd3786"
             ],
             [
              0.5555555555555556,
              "#d8576b"
             ],
             [
              0.6666666666666666,
              "#ed7953"
             ],
             [
              0.7777777777777778,
              "#fb9f3a"
             ],
             [
              0.8888888888888888,
              "#fdca26"
             ],
             [
              1,
              "#f0f921"
             ]
            ],
            "type": "surface"
           }
          ],
          "table": [
           {
            "cells": {
             "fill": {
              "color": "#EBF0F8"
             },
             "line": {
              "color": "white"
             }
            },
            "header": {
             "fill": {
              "color": "#C8D4E3"
             },
             "line": {
              "color": "white"
             }
            },
            "type": "table"
           }
          ]
         },
         "layout": {
          "annotationdefaults": {
           "arrowcolor": "#2a3f5f",
           "arrowhead": 0,
           "arrowwidth": 1
          },
          "autotypenumbers": "strict",
          "coloraxis": {
           "colorbar": {
            "outlinewidth": 0,
            "ticks": ""
           }
          },
          "colorscale": {
           "diverging": [
            [
             0,
             "#8e0152"
            ],
            [
             0.1,
             "#c51b7d"
            ],
            [
             0.2,
             "#de77ae"
            ],
            [
             0.3,
             "#f1b6da"
            ],
            [
             0.4,
             "#fde0ef"
            ],
            [
             0.5,
             "#f7f7f7"
            ],
            [
             0.6,
             "#e6f5d0"
            ],
            [
             0.7,
             "#b8e186"
            ],
            [
             0.8,
             "#7fbc41"
            ],
            [
             0.9,
             "#4d9221"
            ],
            [
             1,
             "#276419"
            ]
           ],
           "sequential": [
            [
             0,
             "#0d0887"
            ],
            [
             0.1111111111111111,
             "#46039f"
            ],
            [
             0.2222222222222222,
             "#7201a8"
            ],
            [
             0.3333333333333333,
             "#9c179e"
            ],
            [
             0.4444444444444444,
             "#bd3786"
            ],
            [
             0.5555555555555556,
             "#d8576b"
            ],
            [
             0.6666666666666666,
             "#ed7953"
            ],
            [
             0.7777777777777778,
             "#fb9f3a"
            ],
            [
             0.8888888888888888,
             "#fdca26"
            ],
            [
             1,
             "#f0f921"
            ]
           ],
           "sequentialminus": [
            [
             0,
             "#0d0887"
            ],
            [
             0.1111111111111111,
             "#46039f"
            ],
            [
             0.2222222222222222,
             "#7201a8"
            ],
            [
             0.3333333333333333,
             "#9c179e"
            ],
            [
             0.4444444444444444,
             "#bd3786"
            ],
            [
             0.5555555555555556,
             "#d8576b"
            ],
            [
             0.6666666666666666,
             "#ed7953"
            ],
            [
             0.7777777777777778,
             "#fb9f3a"
            ],
            [
             0.8888888888888888,
             "#fdca26"
            ],
            [
             1,
             "#f0f921"
            ]
           ]
          },
          "colorway": [
           "#636efa",
           "#EF553B",
           "#00cc96",
           "#ab63fa",
           "#FFA15A",
           "#19d3f3",
           "#FF6692",
           "#B6E880",
           "#FF97FF",
           "#FECB52"
          ],
          "font": {
           "color": "#2a3f5f"
          },
          "geo": {
           "bgcolor": "white",
           "lakecolor": "white",
           "landcolor": "#E5ECF6",
           "showlakes": true,
           "showland": true,
           "subunitcolor": "white"
          },
          "hoverlabel": {
           "align": "left"
          },
          "hovermode": "closest",
          "mapbox": {
           "style": "light"
          },
          "paper_bgcolor": "white",
          "plot_bgcolor": "#E5ECF6",
          "polar": {
           "angularaxis": {
            "gridcolor": "white",
            "linecolor": "white",
            "ticks": ""
           },
           "bgcolor": "#E5ECF6",
           "radialaxis": {
            "gridcolor": "white",
            "linecolor": "white",
            "ticks": ""
           }
          },
          "scene": {
           "xaxis": {
            "backgroundcolor": "#E5ECF6",
            "gridcolor": "white",
            "gridwidth": 2,
            "linecolor": "white",
            "showbackground": true,
            "ticks": "",
            "zerolinecolor": "white"
           },
           "yaxis": {
            "backgroundcolor": "#E5ECF6",
            "gridcolor": "white",
            "gridwidth": 2,
            "linecolor": "white",
            "showbackground": true,
            "ticks": "",
            "zerolinecolor": "white"
           },
           "zaxis": {
            "backgroundcolor": "#E5ECF6",
            "gridcolor": "white",
            "gridwidth": 2,
            "linecolor": "white",
            "showbackground": true,
            "ticks": "",
            "zerolinecolor": "white"
           }
          },
          "shapedefaults": {
           "line": {
            "color": "#2a3f5f"
           }
          },
          "ternary": {
           "aaxis": {
            "gridcolor": "white",
            "linecolor": "white",
            "ticks": ""
           },
           "baxis": {
            "gridcolor": "white",
            "linecolor": "white",
            "ticks": ""
           },
           "bgcolor": "#E5ECF6",
           "caxis": {
            "gridcolor": "white",
            "linecolor": "white",
            "ticks": ""
           }
          },
          "title": {
           "x": 0.05
          },
          "xaxis": {
           "automargin": true,
           "gridcolor": "white",
           "linecolor": "white",
           "ticks": "",
           "title": {
            "standoff": 15
           },
           "zerolinecolor": "white",
           "zerolinewidth": 2
          },
          "yaxis": {
           "automargin": true,
           "gridcolor": "white",
           "linecolor": "white",
           "ticks": "",
           "title": {
            "standoff": 15
           },
           "zerolinecolor": "white",
           "zerolinewidth": 2
          }
         }
        },
        "title": {
         "text": "Theta_2 vs v_x_4 Plot"
        },
        "width": 600,
        "xaxis": {
         "title": {
          "text": "Theta_2"
         }
        },
        "yaxis": {
         "title": {
          "text": "r_x_4"
         }
        }
       }
      }
     },
     "metadata": {},
     "output_type": "display_data"
    }
   ],
   "source": [
    "import numpy as np\n",
    "import plotly.graph_objs as go\n",
    "import sympy as sp\n",
    "\n",
    "def plot_theta2_vs_vx4_w_cte(theta_2_range, L2_value, L3_value, offset_value, alfa_value):\n",
    "    # Generate solutions for a range of theta_2 values\n",
    "    #solutions_list = []\n",
    "    \n",
    "    theta_2 = symbols('theta_2')\n",
    "    L2, L3, alfa, offset = symbols('L2 L3 alfa, offset')\n",
    "\n",
    "    C_q_inv = jacobian_slider_crank().inv() #dependent on q\n",
    "    C_t = C_t_slider_crank() #not dependant of q neither t here, constant\n",
    "\n",
    "\n",
    "    theta_2_values = []\n",
    "    v_x_4_values = []\n",
    "    for theta_2_loop in theta_2_range:\n",
    "\n",
    "        #solve the position\n",
    "        solutions = sp.solve( [eq.subs({theta_2: theta_2_loop, L2: L2_value, L3: L3_value, offset: offset_value, alfa: alfa_value}) for eq in four_bars_slidercrank_example_symbolic_full()] )\n",
    "        \n",
    "        q = solutions[1]\n",
    "\n",
    "        #now calculate q_dot\n",
    "        q_dot = -C_q_inv*C_t\n",
    "        \n",
    "\n",
    "        q_dot = q_dot.subs({theta_2: theta_2_loop, L2: L2_value, L3: L3_value, offset: offset_value, alfa: alfa_value, theta_3: q[theta_3]})\n",
    "        #print(q_dot)\n",
    "        v_x_4_values.append(float(q_dot[6]))\n",
    "\n",
    "        \n",
    "    \n",
    "        theta_2_values.append(theta_2_loop)\n",
    "\n",
    "    #return(q_dot,q)\n",
    "    #return(v_x_4_values)\n",
    "\n",
    "\n",
    "    \n",
    "\n",
    "    # Create trace\n",
    "    trace = go.Scatter(x=theta_2_values, y=v_x_4_values, mode='lines+markers', name='Theta_2 vs v_x_4 ????')\n",
    "\n",
    "    # Define layout\n",
    "    layout = go.Layout(title='Theta_2 vs v_x_4 Plot',\n",
    "                       xaxis=dict(title='Theta_2'),\n",
    "                       yaxis=dict(title='r_x_4'),\n",
    "                       showlegend=True,\n",
    "                       autosize=False,\n",
    "                       width=600,\n",
    "                       height=600)\n",
    "\n",
    "    fig = go.Figure(data=[trace], layout=layout)\n",
    "    fig.show()\n",
    "\n",
    "\n",
    "plot_theta2_vs_vx4_w_cte(theta_2_range = np.linspace(0, 2*np.pi, 100), L2_value=1, L3_value=2, offset_value=0, alfa_value=0) "
   ]
  },
  {
   "cell_type": "code",
   "execution_count": 45,
   "metadata": {},
   "outputs": [
    {
     "name": "stdout",
     "output_type": "stream",
     "text": [
      "Matrix([[Derivative(A(t), t), Derivative(B(t), t)], [Derivative(C(t), t), Derivative(D(t), t)]])\n"
     ]
    }
   ],
   "source": [
    "from sympy import symbols, Matrix, Function\n",
    "\n",
    "# Define time variable\n",
    "t = symbols('t')\n",
    "\n",
    "# Define matrix elements as functions of time\n",
    "A = Function('A')(t)\n",
    "B = Function('B')(t)\n",
    "C = Function('C')(t)\n",
    "D = Function('D')(t)\n",
    "\n",
    "# Create the matrix\n",
    "M = Matrix([\n",
    "    [A, B],\n",
    "    [C, D]\n",
    "])\n",
    "\n",
    "# Differentiate the matrix with respect to time\n",
    "M_diff = M.diff(t)\n",
    "\n",
    "print(M_diff)\n"
   ]
  },
  {
   "cell_type": "code",
   "execution_count": 46,
   "metadata": {},
   "outputs": [
    {
     "data": {
      "text/latex": [
       "$\\displaystyle \\left[\\begin{matrix}\\frac{d}{d t} A{\\left(t \\right)} & \\frac{d}{d t} B{\\left(t \\right)}\\\\\\frac{d}{d t} C{\\left(t \\right)} & \\frac{d}{d t} D{\\left(t \\right)}\\end{matrix}\\right]$"
      ],
      "text/plain": [
       "Matrix([\n",
       "[Derivative(A(t), t), Derivative(B(t), t)],\n",
       "[Derivative(C(t), t), Derivative(D(t), t)]])"
      ]
     },
     "execution_count": 46,
     "metadata": {},
     "output_type": "execute_result"
    }
   ],
   "source": [
    "M_diff"
   ]
  },
  {
   "cell_type": "code",
   "execution_count": 31,
   "metadata": {},
   "outputs": [
    {
     "data": {
      "text/plain": [
       "sympy.matrices.dense.MutableDenseMatrix"
      ]
     },
     "execution_count": 31,
     "metadata": {},
     "output_type": "execute_result"
    }
   ],
   "source": [
    "type(f)"
   ]
  },
  {
   "cell_type": "code",
   "execution_count": 35,
   "metadata": {},
   "outputs": [
    {
     "data": {
      "text/plain": [
       "sympy.matrices.dense.MutableDenseMatrix"
      ]
     },
     "execution_count": 35,
     "metadata": {},
     "output_type": "execute_result"
    }
   ],
   "source": [
    "type(C_q)"
   ]
  },
  {
   "cell_type": "code",
   "execution_count": null,
   "metadata": {},
   "outputs": [],
   "source": [
    "# theta_2, theta_3, theta_4 ,time= symbols('theta_2 theta_3 theta_4 time')\n",
    "# r_x_2, r_y_2, r_x_3, r_y_3, r_x_4, r_y_4 = symbols('r_x_2 r_y_2 r_x_3 r_y_3 r_x_4 r_y_4')\n",
    "\n",
    "# # Variables with respect to which we differentiate\n",
    "# variables = [r_x_2, r_y_2, theta_2, r_x_3, r_y_3, theta_3, r_x_4, r_y_4, theta_4]\n",
    "\n",
    "# f = Matrix(exprs)\n",
    "\n",
    "\n",
    "# jacobian_extended = f.jacobian(variables)\n",
    "\n",
    "# type(jacobian_extended)\n"
   ]
  },
  {
   "cell_type": "code",
   "execution_count": 37,
   "metadata": {},
   "outputs": [
    {
     "ename": "TypeError",
     "evalue": "``self`` must be a row or a column matrix",
     "output_type": "error",
     "traceback": [
      "\u001b[1;31m---------------------------------------------------------------------------\u001b[0m",
      "\u001b[1;31mTypeError\u001b[0m                                 Traceback (most recent call last)",
      "Cell \u001b[1;32mIn[37], line 16\u001b[0m\n\u001b[0;32m     11\u001b[0m variables \u001b[39m=\u001b[39m [time]\n\u001b[0;32m     14\u001b[0m C_t_dot \u001b[39m=\u001b[39m C_t\u001b[39m.\u001b[39mjacobian(variables)\n\u001b[1;32m---> 16\u001b[0m C_q_dot \u001b[39m=\u001b[39m C_q\u001b[39m.\u001b[39;49mjacobian(variables)\n\u001b[0;32m     19\u001b[0m q_dot2 \u001b[39m=\u001b[39m \u001b[39m-\u001b[39mC_q_inv\u001b[39m*\u001b[39m(C_q_dot\u001b[39m*\u001b[39mq_dot \u001b[39m+\u001b[39m C_t_dot)\n",
      "File \u001b[1;32mc:\\Users\\Jesus Alcocer\\anaconda3\\lib\\site-packages\\sympy\\matrices\\matrices.py:548\u001b[0m, in \u001b[0;36mMatrixCalculus.jacobian\u001b[1;34m(self, X)\u001b[0m\n\u001b[0;32m    546\u001b[0m     m \u001b[39m=\u001b[39m \u001b[39mself\u001b[39m\u001b[39m.\u001b[39mshape[\u001b[39m0\u001b[39m]\n\u001b[0;32m    547\u001b[0m \u001b[39melse\u001b[39;00m:\n\u001b[1;32m--> 548\u001b[0m     \u001b[39mraise\u001b[39;00m \u001b[39mTypeError\u001b[39;00m(\u001b[39m\"\u001b[39m\u001b[39m``self`` must be a row or a column matrix\u001b[39m\u001b[39m\"\u001b[39m)\n\u001b[0;32m    549\u001b[0m \u001b[39mif\u001b[39;00m X\u001b[39m.\u001b[39mshape[\u001b[39m0\u001b[39m] \u001b[39m==\u001b[39m \u001b[39m1\u001b[39m:\n\u001b[0;32m    550\u001b[0m     n \u001b[39m=\u001b[39m X\u001b[39m.\u001b[39mshape[\u001b[39m1\u001b[39m]\n",
      "\u001b[1;31mTypeError\u001b[0m: ``self`` must be a row or a column matrix"
     ]
    }
   ],
   "source": [
    "#L2, L3, alfa, offset = symbols('L2 L3 alfa, offset')\n",
    "\n",
    "#from previous step: q is solved, q_dot as well\n",
    "\n",
    "\n",
    "C_q = jacobian_slider_crank()\n",
    "C_q_inv = C_q.inv() #dependent on q\n",
    "C_t = C_t_slider_crank() \n",
    "\n",
    "time = symbols('time')\n",
    "variables = [time]\n",
    "\n",
    "\n",
    "C_t_dot = C_t.jacobian(variables)\n",
    "\n",
    "#C_q_dot = C_q.jacobian(variables)\n",
    "\n",
    "\n",
    "q_dot2 = -C_q_inv*(C_q_dot*q_dot + C_t_dot)"
   ]
  },
  {
   "cell_type": "code",
   "execution_count": 39,
   "metadata": {},
   "outputs": [
    {
     "data": {
      "text/latex": [
       "$\\displaystyle \\left[\\begin{matrix}0\\\\0\\\\0.785398163397448\\\\- 0.785398163397448 L_{2} \\sin{\\left(\\theta_{2} \\right)}\\\\0.785398163397448 L_{2} \\cos{\\left(\\theta_{2} \\right)}\\\\\\frac{0.785398163397448 \\left(- L_{2} \\sin{\\left(\\theta_{2} \\right)} \\tan{\\left(alfa \\right)} - L_{2} \\cos{\\left(\\theta_{2} \\right)}\\right)}{L_{3} \\sin{\\left(\\theta_{3} \\right)} \\tan{\\left(alfa \\right)} + L_{3} \\cos{\\left(\\theta_{3} \\right)}} - \\frac{\\frac{0.785398163397448 \\left(- L_{2} \\sin{\\left(\\theta_{2} \\right)} \\cos{\\left(\\theta_{3} \\right)} + L_{2} \\sin{\\left(\\theta_{3} \\right)} \\cos{\\left(\\theta_{2} \\right)}\\right) \\tan{\\left(alfa \\right)}}{\\sin{\\left(\\theta_{3} \\right)} \\tan{\\left(alfa \\right)} + \\cos{\\left(\\theta_{3} \\right)}} - \\frac{0.785398163397448 \\left(- L_{2} \\sin{\\left(\\theta_{2} \\right)} \\cos{\\left(\\theta_{3} \\right)} \\tan{\\left(alfa \\right)} + L_{2} \\sin{\\left(\\theta_{3} \\right)} \\cos{\\left(\\theta_{2} \\right)} \\tan{\\left(alfa \\right)}\\right)}{\\sin{\\left(\\theta_{3} \\right)} \\tan{\\left(alfa \\right)} + \\cos{\\left(\\theta_{3} \\right)}}}{L_{3} \\sin{\\left(\\theta_{3} \\right)} \\tan{\\left(alfa \\right)} + L_{3} \\cos{\\left(\\theta_{3} \\right)}} + \\frac{\\left(0.785398163397448 L_{2} \\sin{\\left(\\theta_{2} \\right)} + \\frac{0.785398163397448 L_{3} \\left(- L_{2} \\sin{\\left(\\theta_{2} \\right)} \\tan{\\left(alfa \\right)} - L_{2} \\cos{\\left(\\theta_{2} \\right)}\\right) \\sin{\\left(\\theta_{3} \\right)}}{L_{3} \\sin{\\left(\\theta_{3} \\right)} \\tan{\\left(alfa \\right)} + L_{3} \\cos{\\left(\\theta_{3} \\right)}} + \\frac{0.785398163397448 \\left(- L_{2} \\sin{\\left(\\theta_{2} \\right)} \\cos{\\left(\\theta_{3} \\right)} + L_{2} \\sin{\\left(\\theta_{3} \\right)} \\cos{\\left(\\theta_{2} \\right)}\\right)}{\\sin{\\left(\\theta_{3} \\right)} \\tan{\\left(alfa \\right)} + \\cos{\\left(\\theta_{3} \\right)}}\\right) \\tan{\\left(alfa \\right)}}{L_{3} \\sin{\\left(\\theta_{3} \\right)} \\tan{\\left(alfa \\right)} + L_{3} \\cos{\\left(\\theta_{3} \\right)}} - \\frac{- 0.785398163397448 L_{2} \\cos{\\left(\\theta_{2} \\right)} - \\frac{0.785398163397448 L_{3} \\left(- L_{2} \\sin{\\left(\\theta_{2} \\right)} \\tan{\\left(alfa \\right)} - L_{2} \\cos{\\left(\\theta_{2} \\right)}\\right) \\cos{\\left(\\theta_{3} \\right)}}{L_{3} \\sin{\\left(\\theta_{3} \\right)} \\tan{\\left(alfa \\right)} + L_{3} \\cos{\\left(\\theta_{3} \\right)}} + \\frac{0.785398163397448 \\left(- L_{2} \\sin{\\left(\\theta_{2} \\right)} \\cos{\\left(\\theta_{3} \\right)} \\tan{\\left(alfa \\right)} + L_{2} \\sin{\\left(\\theta_{3} \\right)} \\cos{\\left(\\theta_{2} \\right)} \\tan{\\left(alfa \\right)}\\right)}{\\sin{\\left(\\theta_{3} \\right)} \\tan{\\left(alfa \\right)} + \\cos{\\left(\\theta_{3} \\right)}}}{L_{3} \\sin{\\left(\\theta_{3} \\right)} \\tan{\\left(alfa \\right)} + L_{3} \\cos{\\left(\\theta_{3} \\right)}}\\\\\\frac{0.785398163397448 \\left(- L_{2} \\sin{\\left(\\theta_{2} \\right)} \\cos{\\left(\\theta_{3} \\right)} + L_{2} \\sin{\\left(\\theta_{3} \\right)} \\cos{\\left(\\theta_{2} \\right)}\\right)}{\\sin{\\left(\\theta_{3} \\right)} \\tan{\\left(alfa \\right)} + \\cos{\\left(\\theta_{3} \\right)}} + \\frac{\\left(\\frac{0.785398163397448 \\left(- L_{2} \\sin{\\left(\\theta_{2} \\right)} \\cos{\\left(\\theta_{3} \\right)} + L_{2} \\sin{\\left(\\theta_{3} \\right)} \\cos{\\left(\\theta_{2} \\right)}\\right) \\tan{\\left(alfa \\right)}}{\\sin{\\left(\\theta_{3} \\right)} \\tan{\\left(alfa \\right)} + \\cos{\\left(\\theta_{3} \\right)}} - \\frac{0.785398163397448 \\left(- L_{2} \\sin{\\left(\\theta_{2} \\right)} \\cos{\\left(\\theta_{3} \\right)} \\tan{\\left(alfa \\right)} + L_{2} \\sin{\\left(\\theta_{3} \\right)} \\cos{\\left(\\theta_{2} \\right)} \\tan{\\left(alfa \\right)}\\right)}{\\sin{\\left(\\theta_{3} \\right)} \\tan{\\left(alfa \\right)} + \\cos{\\left(\\theta_{3} \\right)}}\\right) \\sin{\\left(\\theta_{3} \\right)}}{\\sin{\\left(\\theta_{3} \\right)} \\tan{\\left(alfa \\right)} + \\cos{\\left(\\theta_{3} \\right)}} + \\frac{\\left(0.785398163397448 L_{2} \\sin{\\left(\\theta_{2} \\right)} + \\frac{0.785398163397448 L_{3} \\left(- L_{2} \\sin{\\left(\\theta_{2} \\right)} \\tan{\\left(alfa \\right)} - L_{2} \\cos{\\left(\\theta_{2} \\right)}\\right) \\sin{\\left(\\theta_{3} \\right)}}{L_{3} \\sin{\\left(\\theta_{3} \\right)} \\tan{\\left(alfa \\right)} + L_{3} \\cos{\\left(\\theta_{3} \\right)}} + \\frac{0.785398163397448 \\left(- L_{2} \\sin{\\left(\\theta_{2} \\right)} \\cos{\\left(\\theta_{3} \\right)} + L_{2} \\sin{\\left(\\theta_{3} \\right)} \\cos{\\left(\\theta_{2} \\right)}\\right)}{\\sin{\\left(\\theta_{3} \\right)} \\tan{\\left(alfa \\right)} + \\cos{\\left(\\theta_{3} \\right)}}\\right) \\cos{\\left(\\theta_{3} \\right)}}{\\sin{\\left(\\theta_{3} \\right)} \\tan{\\left(alfa \\right)} + \\cos{\\left(\\theta_{3} \\right)}} + \\frac{\\left(- 0.785398163397448 L_{2} \\cos{\\left(\\theta_{2} \\right)} - \\frac{0.785398163397448 L_{3} \\left(- L_{2} \\sin{\\left(\\theta_{2} \\right)} \\tan{\\left(alfa \\right)} - L_{2} \\cos{\\left(\\theta_{2} \\right)}\\right) \\cos{\\left(\\theta_{3} \\right)}}{L_{3} \\sin{\\left(\\theta_{3} \\right)} \\tan{\\left(alfa \\right)} + L_{3} \\cos{\\left(\\theta_{3} \\right)}} + \\frac{0.785398163397448 \\left(- L_{2} \\sin{\\left(\\theta_{2} \\right)} \\cos{\\left(\\theta_{3} \\right)} \\tan{\\left(alfa \\right)} + L_{2} \\sin{\\left(\\theta_{3} \\right)} \\cos{\\left(\\theta_{2} \\right)} \\tan{\\left(alfa \\right)}\\right)}{\\sin{\\left(\\theta_{3} \\right)} \\tan{\\left(alfa \\right)} + \\cos{\\left(\\theta_{3} \\right)}}\\right) \\sin{\\left(\\theta_{3} \\right)}}{\\sin{\\left(\\theta_{3} \\right)} \\tan{\\left(alfa \\right)} + \\cos{\\left(\\theta_{3} \\right)}}\\\\- \\frac{\\left(\\frac{0.785398163397448 \\left(- L_{2} \\sin{\\left(\\theta_{2} \\right)} \\cos{\\left(\\theta_{3} \\right)} + L_{2} \\sin{\\left(\\theta_{3} \\right)} \\cos{\\left(\\theta_{2} \\right)}\\right) \\tan{\\left(alfa \\right)}}{\\sin{\\left(\\theta_{3} \\right)} \\tan{\\left(alfa \\right)} + \\cos{\\left(\\theta_{3} \\right)}} - \\frac{0.785398163397448 \\left(- L_{2} \\sin{\\left(\\theta_{2} \\right)} \\cos{\\left(\\theta_{3} \\right)} \\tan{\\left(alfa \\right)} + L_{2} \\sin{\\left(\\theta_{3} \\right)} \\cos{\\left(\\theta_{2} \\right)} \\tan{\\left(alfa \\right)}\\right)}{\\sin{\\left(\\theta_{3} \\right)} \\tan{\\left(alfa \\right)} + \\cos{\\left(\\theta_{3} \\right)}}\\right) \\cos{\\left(\\theta_{3} \\right)}}{\\sin{\\left(\\theta_{3} \\right)} \\tan{\\left(alfa \\right)} + \\cos{\\left(\\theta_{3} \\right)}} + \\frac{0.785398163397448 \\left(- L_{2} \\sin{\\left(\\theta_{2} \\right)} \\cos{\\left(\\theta_{3} \\right)} \\tan{\\left(alfa \\right)} + L_{2} \\sin{\\left(\\theta_{3} \\right)} \\cos{\\left(\\theta_{2} \\right)} \\tan{\\left(alfa \\right)}\\right)}{\\sin{\\left(\\theta_{3} \\right)} \\tan{\\left(alfa \\right)} + \\cos{\\left(\\theta_{3} \\right)}} + \\frac{\\left(0.785398163397448 L_{2} \\sin{\\left(\\theta_{2} \\right)} + \\frac{0.785398163397448 L_{3} \\left(- L_{2} \\sin{\\left(\\theta_{2} \\right)} \\tan{\\left(alfa \\right)} - L_{2} \\cos{\\left(\\theta_{2} \\right)}\\right) \\sin{\\left(\\theta_{3} \\right)}}{L_{3} \\sin{\\left(\\theta_{3} \\right)} \\tan{\\left(alfa \\right)} + L_{3} \\cos{\\left(\\theta_{3} \\right)}} + \\frac{0.785398163397448 \\left(- L_{2} \\sin{\\left(\\theta_{2} \\right)} \\cos{\\left(\\theta_{3} \\right)} + L_{2} \\sin{\\left(\\theta_{3} \\right)} \\cos{\\left(\\theta_{2} \\right)}\\right)}{\\sin{\\left(\\theta_{3} \\right)} \\tan{\\left(alfa \\right)} + \\cos{\\left(\\theta_{3} \\right)}}\\right) \\cos{\\left(\\theta_{3} \\right)} \\tan{\\left(alfa \\right)}}{\\sin{\\left(\\theta_{3} \\right)} \\tan{\\left(alfa \\right)} + \\cos{\\left(\\theta_{3} \\right)}} + \\frac{\\left(- 0.785398163397448 L_{2} \\cos{\\left(\\theta_{2} \\right)} - \\frac{0.785398163397448 L_{3} \\left(- L_{2} \\sin{\\left(\\theta_{2} \\right)} \\tan{\\left(alfa \\right)} - L_{2} \\cos{\\left(\\theta_{2} \\right)}\\right) \\cos{\\left(\\theta_{3} \\right)}}{L_{3} \\sin{\\left(\\theta_{3} \\right)} \\tan{\\left(alfa \\right)} + L_{3} \\cos{\\left(\\theta_{3} \\right)}} + \\frac{0.785398163397448 \\left(- L_{2} \\sin{\\left(\\theta_{2} \\right)} \\cos{\\left(\\theta_{3} \\right)} \\tan{\\left(alfa \\right)} + L_{2} \\sin{\\left(\\theta_{3} \\right)} \\cos{\\left(\\theta_{2} \\right)} \\tan{\\left(alfa \\right)}\\right)}{\\sin{\\left(\\theta_{3} \\right)} \\tan{\\left(alfa \\right)} + \\cos{\\left(\\theta_{3} \\right)}}\\right) \\sin{\\left(\\theta_{3} \\right)} \\tan{\\left(alfa \\right)}}{\\sin{\\left(\\theta_{3} \\right)} \\tan{\\left(alfa \\right)} + \\cos{\\left(\\theta_{3} \\right)}}\\\\0\\end{matrix}\\right]$"
      ],
      "text/plain": [
       "Matrix([\n",
       "[                                                                                                                                                                                                                                                                                                                                                                                                                                                                                                                                                                                                                                                                                                                                                                                                                                                                                                                                                                                                                                                                                                                                                                                                                                              0],\n",
       "[                                                                                                                                                                                                                                                                                                                                                                                                                                                                                                                                                                                                                                                                                                                                                                                                                                                                                                                                                                                                                                                                                                                                                                                                                                              0],\n",
       "[                                                                                                                                                                                                                                                                                                                                                                                                                                                                                                                                                                                                                                                                                                                                                                                                                                                                                                                                                                                                                                                                                                                                                                                                                              0.785398163397448],\n",
       "[                                                                                                                                                                                                                                                                                                                                                                                                                                                                                                                                                                                                                                                                                                                                                                                                                                                                                                                                                                                                                                                                                                                                                                                                             -0.785398163397448*L2*sin(theta_2)],\n",
       "[                                                                                                                                                                                                                                                                                                                                                                                                                                                                                                                                                                                                                                                                                                                                                                                                                                                                                                                                                                                                                                                                                                                                                                                                              0.785398163397448*L2*cos(theta_2)],\n",
       "[                                                              0.785398163397448*(-L2*sin(theta_2)*tan(alfa) - L2*cos(theta_2))/(L3*sin(theta_3)*tan(alfa) + L3*cos(theta_3)) - (0.785398163397448*(-L2*sin(theta_2)*cos(theta_3) + L2*sin(theta_3)*cos(theta_2))*tan(alfa)/(sin(theta_3)*tan(alfa) + cos(theta_3)) - 0.785398163397448*(-L2*sin(theta_2)*cos(theta_3)*tan(alfa) + L2*sin(theta_3)*cos(theta_2)*tan(alfa))/(sin(theta_3)*tan(alfa) + cos(theta_3)))/(L3*sin(theta_3)*tan(alfa) + L3*cos(theta_3)) + (0.785398163397448*L2*sin(theta_2) + 0.785398163397448*L3*(-L2*sin(theta_2)*tan(alfa) - L2*cos(theta_2))*sin(theta_3)/(L3*sin(theta_3)*tan(alfa) + L3*cos(theta_3)) + 0.785398163397448*(-L2*sin(theta_2)*cos(theta_3) + L2*sin(theta_3)*cos(theta_2))/(sin(theta_3)*tan(alfa) + cos(theta_3)))*tan(alfa)/(L3*sin(theta_3)*tan(alfa) + L3*cos(theta_3)) - (-0.785398163397448*L2*cos(theta_2) - 0.785398163397448*L3*(-L2*sin(theta_2)*tan(alfa) - L2*cos(theta_2))*cos(theta_3)/(L3*sin(theta_3)*tan(alfa) + L3*cos(theta_3)) + 0.785398163397448*(-L2*sin(theta_2)*cos(theta_3)*tan(alfa) + L2*sin(theta_3)*cos(theta_2)*tan(alfa))/(sin(theta_3)*tan(alfa) + cos(theta_3)))/(L3*sin(theta_3)*tan(alfa) + L3*cos(theta_3))],\n",
       "[                                         0.785398163397448*(-L2*sin(theta_2)*cos(theta_3) + L2*sin(theta_3)*cos(theta_2))/(sin(theta_3)*tan(alfa) + cos(theta_3)) + (0.785398163397448*(-L2*sin(theta_2)*cos(theta_3) + L2*sin(theta_3)*cos(theta_2))*tan(alfa)/(sin(theta_3)*tan(alfa) + cos(theta_3)) - 0.785398163397448*(-L2*sin(theta_2)*cos(theta_3)*tan(alfa) + L2*sin(theta_3)*cos(theta_2)*tan(alfa))/(sin(theta_3)*tan(alfa) + cos(theta_3)))*sin(theta_3)/(sin(theta_3)*tan(alfa) + cos(theta_3)) + (0.785398163397448*L2*sin(theta_2) + 0.785398163397448*L3*(-L2*sin(theta_2)*tan(alfa) - L2*cos(theta_2))*sin(theta_3)/(L3*sin(theta_3)*tan(alfa) + L3*cos(theta_3)) + 0.785398163397448*(-L2*sin(theta_2)*cos(theta_3) + L2*sin(theta_3)*cos(theta_2))/(sin(theta_3)*tan(alfa) + cos(theta_3)))*cos(theta_3)/(sin(theta_3)*tan(alfa) + cos(theta_3)) + (-0.785398163397448*L2*cos(theta_2) - 0.785398163397448*L3*(-L2*sin(theta_2)*tan(alfa) - L2*cos(theta_2))*cos(theta_3)/(L3*sin(theta_3)*tan(alfa) + L3*cos(theta_3)) + 0.785398163397448*(-L2*sin(theta_2)*cos(theta_3)*tan(alfa) + L2*sin(theta_3)*cos(theta_2)*tan(alfa))/(sin(theta_3)*tan(alfa) + cos(theta_3)))*sin(theta_3)/(sin(theta_3)*tan(alfa) + cos(theta_3))],\n",
       "[-(0.785398163397448*(-L2*sin(theta_2)*cos(theta_3) + L2*sin(theta_3)*cos(theta_2))*tan(alfa)/(sin(theta_3)*tan(alfa) + cos(theta_3)) - 0.785398163397448*(-L2*sin(theta_2)*cos(theta_3)*tan(alfa) + L2*sin(theta_3)*cos(theta_2)*tan(alfa))/(sin(theta_3)*tan(alfa) + cos(theta_3)))*cos(theta_3)/(sin(theta_3)*tan(alfa) + cos(theta_3)) + 0.785398163397448*(-L2*sin(theta_2)*cos(theta_3)*tan(alfa) + L2*sin(theta_3)*cos(theta_2)*tan(alfa))/(sin(theta_3)*tan(alfa) + cos(theta_3)) + (0.785398163397448*L2*sin(theta_2) + 0.785398163397448*L3*(-L2*sin(theta_2)*tan(alfa) - L2*cos(theta_2))*sin(theta_3)/(L3*sin(theta_3)*tan(alfa) + L3*cos(theta_3)) + 0.785398163397448*(-L2*sin(theta_2)*cos(theta_3) + L2*sin(theta_3)*cos(theta_2))/(sin(theta_3)*tan(alfa) + cos(theta_3)))*cos(theta_3)*tan(alfa)/(sin(theta_3)*tan(alfa) + cos(theta_3)) + (-0.785398163397448*L2*cos(theta_2) - 0.785398163397448*L3*(-L2*sin(theta_2)*tan(alfa) - L2*cos(theta_2))*cos(theta_3)/(L3*sin(theta_3)*tan(alfa) + L3*cos(theta_3)) + 0.785398163397448*(-L2*sin(theta_2)*cos(theta_3)*tan(alfa) + L2*sin(theta_3)*cos(theta_2)*tan(alfa))/(sin(theta_3)*tan(alfa) + cos(theta_3)))*sin(theta_3)*tan(alfa)/(sin(theta_3)*tan(alfa) + cos(theta_3))],\n",
       "[                                                                                                                                                                                                                                                                                                                                                                                                                                                                                                                                                                                                                                                                                                                                                                                                                                                                                                                                                                                                                                                                                                                                                                                                                                              0]])"
      ]
     },
     "execution_count": 39,
     "metadata": {},
     "output_type": "execute_result"
    }
   ],
   "source": [
    "q_dot2"
   ]
  },
  {
   "cell_type": "code",
   "execution_count": 44,
   "metadata": {},
   "outputs": [
    {
     "data": {
      "application/vnd.plotly.v1+json": {
       "config": {
        "plotlyServerURL": "https://plot.ly"
       },
       "data": [
        {
         "mode": "lines+markers",
         "name": "Theta_2 vs a_x_4",
         "type": "scatter",
         "x": [
          0,
          0.06346651825433926,
          0.12693303650867852,
          0.1903995547630178,
          0.25386607301735703,
          0.3173325912716963,
          0.3807991095260356,
          0.4442656277803748,
          0.5077321460347141,
          0.5711986642890533,
          0.6346651825433925,
          0.6981317007977318,
          0.7615982190520711,
          0.8250647373064104,
          0.8885312555607496,
          0.9519977738150889,
          1.0154642920694281,
          1.0789308103237674,
          1.1423973285781066,
          1.2058638468324459,
          1.269330365086785,
          1.3327968833411243,
          1.3962634015954636,
          1.4597299198498028,
          1.5231964381041423,
          1.5866629563584815,
          1.6501294746128208,
          1.71359599286716,
          1.7770625111214993,
          1.8405290293758385,
          1.9039955476301778,
          1.967462065884517,
          2.0309285841388562,
          2.0943951023931957,
          2.1578616206475347,
          2.221328138901874,
          2.284794657156213,
          2.3482611754105527,
          2.4117276936648917,
          2.475194211919231,
          2.53866073017357,
          2.6021272484279097,
          2.6655937666822487,
          2.729060284936588,
          2.792526803190927,
          2.8559933214452666,
          2.9194598396996057,
          2.982926357953945,
          3.0463928762082846,
          3.1098593944626236,
          3.173325912716963,
          3.236792430971302,
          3.3002589492256416,
          3.3637254674799806,
          3.42719198573432,
          3.490658503988659,
          3.5541250222429985,
          3.6175915404973376,
          3.681058058751677,
          3.744524577006016,
          3.8079910952603555,
          3.8714576135146945,
          3.934924131769034,
          3.998390650023373,
          4.0618571682777125,
          4.1253236865320515,
          4.188790204786391,
          4.25225672304073,
          4.3157232412950695,
          4.3791897595494085,
          4.442656277803748,
          4.506122796058087,
          4.569589314312426,
          4.6330558325667655,
          4.696522350821105,
          4.759988869075444,
          4.823455387329783,
          4.886921905584122,
          4.950388423838462,
          5.013854942092801,
          5.07732146034714,
          5.14078797860148,
          5.204254496855819,
          5.267721015110158,
          5.331187533364497,
          5.394654051618837,
          5.458120569873176,
          5.521587088127515,
          5.585053606381854,
          5.648520124636194,
          5.711986642890533,
          5.775453161144872,
          5.838919679399211,
          5.902386197653551,
          5.96585271590789,
          6.029319234162229,
          6.092785752416569,
          6.156252270670908,
          6.219718788925247,
          6.283185307179586
         ],
         "y": [
          0,
          0.0746819079669548,
          0.14883735401445222,
          0.2219422555527933,
          0.2934773757415159,
          0.3629309653405085,
          0.42980167034388683,
          0.49360179748461835,
          0.5538610295313722,
          0.6101306779244839,
          0.6619885487012938,
          0.7090444751828691,
          0.7509465334780641,
          0.7873879005897754,
          0.8181142369213479,
          0.8429313748145592,
          0.8617129760205668,
          0.8744076931416809,
          0.8810452495535336,
          0.8817407625315509,
          0.8766966032971375,
          0.8662011430270461,
          0.8506238949807987,
          0.8304068324980183,
          0.8060520198697867,
          0.7781060920862055,
          0.7471424953913622,
          0.7137426835317872,
          0.6784775975714854,
          0.6418907122820571,
          0.6044837189393651,
          0.5667055769602882,
          0.528945270935962,
          0.4915282247277221,
          0.4547160070395512,
          0.41870874688841186,
          0.3836495711256096,
          0.3496303674997168,
          0.31669824112046296,
          0.2848621409691803,
          0.25409926012579825,
          0.22436093857452902,
          0.19557790795125604,
          0.16766480708256606,
          0.1405239642854926,
          0.11404848900264086,
          0.08812474496877665,
          0.06263429381703473,
          0.03745540573947969,
          0.01246423587123759,
          -0.01246423587123767,
          -0.03745540573947977,
          -0.06263429381703486,
          -0.08812474496877645,
          -0.11404848900264103,
          -0.14052396428549246,
          -0.16766480708256612,
          -0.19557790795125615,
          -0.2243609385745291,
          -0.2540992601257982,
          -0.2848621409691805,
          -0.31669824112046285,
          -0.34963036749971693,
          -0.3836495711256095,
          -0.4187087468884121,
          -0.45471600703955106,
          -0.49152822472772245,
          -0.5289452709359622,
          -0.5667055769602882,
          -0.6044837189393649,
          -0.6418907122820574,
          -0.6784775975714856,
          -0.7137426835317872,
          -0.747142495391362,
          -0.7781060920862058,
          -0.8060520198697868,
          -0.8304068324980182,
          -0.8506238949807987,
          -0.8662011430270462,
          -0.8766966032971375,
          -0.8817407625315508,
          -0.8810452495535338,
          -0.8744076931416809,
          -0.8617129760205668,
          -0.8429313748145592,
          -0.8181142369213481,
          -0.7873879005897753,
          -0.7509465334780641,
          -0.7090444751828693,
          -0.6619885487012934,
          -0.6101306779244835,
          -0.5538610295313721,
          -0.49360179748461874,
          -0.42980167034388617,
          -0.3629309653405085,
          -0.293477375741516,
          -0.2219422555527929,
          -0.148837354014452,
          -0.07468190796695483,
          -2.885506040582686e-16
         ]
        }
       ],
       "layout": {
        "autosize": false,
        "height": 600,
        "showlegend": true,
        "template": {
         "data": {
          "bar": [
           {
            "error_x": {
             "color": "#2a3f5f"
            },
            "error_y": {
             "color": "#2a3f5f"
            },
            "marker": {
             "line": {
              "color": "#E5ECF6",
              "width": 0.5
             },
             "pattern": {
              "fillmode": "overlay",
              "size": 10,
              "solidity": 0.2
             }
            },
            "type": "bar"
           }
          ],
          "barpolar": [
           {
            "marker": {
             "line": {
              "color": "#E5ECF6",
              "width": 0.5
             },
             "pattern": {
              "fillmode": "overlay",
              "size": 10,
              "solidity": 0.2
             }
            },
            "type": "barpolar"
           }
          ],
          "carpet": [
           {
            "aaxis": {
             "endlinecolor": "#2a3f5f",
             "gridcolor": "white",
             "linecolor": "white",
             "minorgridcolor": "white",
             "startlinecolor": "#2a3f5f"
            },
            "baxis": {
             "endlinecolor": "#2a3f5f",
             "gridcolor": "white",
             "linecolor": "white",
             "minorgridcolor": "white",
             "startlinecolor": "#2a3f5f"
            },
            "type": "carpet"
           }
          ],
          "choropleth": [
           {
            "colorbar": {
             "outlinewidth": 0,
             "ticks": ""
            },
            "type": "choropleth"
           }
          ],
          "contour": [
           {
            "colorbar": {
             "outlinewidth": 0,
             "ticks": ""
            },
            "colorscale": [
             [
              0,
              "#0d0887"
             ],
             [
              0.1111111111111111,
              "#46039f"
             ],
             [
              0.2222222222222222,
              "#7201a8"
             ],
             [
              0.3333333333333333,
              "#9c179e"
             ],
             [
              0.4444444444444444,
              "#bd3786"
             ],
             [
              0.5555555555555556,
              "#d8576b"
             ],
             [
              0.6666666666666666,
              "#ed7953"
             ],
             [
              0.7777777777777778,
              "#fb9f3a"
             ],
             [
              0.8888888888888888,
              "#fdca26"
             ],
             [
              1,
              "#f0f921"
             ]
            ],
            "type": "contour"
           }
          ],
          "contourcarpet": [
           {
            "colorbar": {
             "outlinewidth": 0,
             "ticks": ""
            },
            "type": "contourcarpet"
           }
          ],
          "heatmap": [
           {
            "colorbar": {
             "outlinewidth": 0,
             "ticks": ""
            },
            "colorscale": [
             [
              0,
              "#0d0887"
             ],
             [
              0.1111111111111111,
              "#46039f"
             ],
             [
              0.2222222222222222,
              "#7201a8"
             ],
             [
              0.3333333333333333,
              "#9c179e"
             ],
             [
              0.4444444444444444,
              "#bd3786"
             ],
             [
              0.5555555555555556,
              "#d8576b"
             ],
             [
              0.6666666666666666,
              "#ed7953"
             ],
             [
              0.7777777777777778,
              "#fb9f3a"
             ],
             [
              0.8888888888888888,
              "#fdca26"
             ],
             [
              1,
              "#f0f921"
             ]
            ],
            "type": "heatmap"
           }
          ],
          "heatmapgl": [
           {
            "colorbar": {
             "outlinewidth": 0,
             "ticks": ""
            },
            "colorscale": [
             [
              0,
              "#0d0887"
             ],
             [
              0.1111111111111111,
              "#46039f"
             ],
             [
              0.2222222222222222,
              "#7201a8"
             ],
             [
              0.3333333333333333,
              "#9c179e"
             ],
             [
              0.4444444444444444,
              "#bd3786"
             ],
             [
              0.5555555555555556,
              "#d8576b"
             ],
             [
              0.6666666666666666,
              "#ed7953"
             ],
             [
              0.7777777777777778,
              "#fb9f3a"
             ],
             [
              0.8888888888888888,
              "#fdca26"
             ],
             [
              1,
              "#f0f921"
             ]
            ],
            "type": "heatmapgl"
           }
          ],
          "histogram": [
           {
            "marker": {
             "pattern": {
              "fillmode": "overlay",
              "size": 10,
              "solidity": 0.2
             }
            },
            "type": "histogram"
           }
          ],
          "histogram2d": [
           {
            "colorbar": {
             "outlinewidth": 0,
             "ticks": ""
            },
            "colorscale": [
             [
              0,
              "#0d0887"
             ],
             [
              0.1111111111111111,
              "#46039f"
             ],
             [
              0.2222222222222222,
              "#7201a8"
             ],
             [
              0.3333333333333333,
              "#9c179e"
             ],
             [
              0.4444444444444444,
              "#bd3786"
             ],
             [
              0.5555555555555556,
              "#d8576b"
             ],
             [
              0.6666666666666666,
              "#ed7953"
             ],
             [
              0.7777777777777778,
              "#fb9f3a"
             ],
             [
              0.8888888888888888,
              "#fdca26"
             ],
             [
              1,
              "#f0f921"
             ]
            ],
            "type": "histogram2d"
           }
          ],
          "histogram2dcontour": [
           {
            "colorbar": {
             "outlinewidth": 0,
             "ticks": ""
            },
            "colorscale": [
             [
              0,
              "#0d0887"
             ],
             [
              0.1111111111111111,
              "#46039f"
             ],
             [
              0.2222222222222222,
              "#7201a8"
             ],
             [
              0.3333333333333333,
              "#9c179e"
             ],
             [
              0.4444444444444444,
              "#bd3786"
             ],
             [
              0.5555555555555556,
              "#d8576b"
             ],
             [
              0.6666666666666666,
              "#ed7953"
             ],
             [
              0.7777777777777778,
              "#fb9f3a"
             ],
             [
              0.8888888888888888,
              "#fdca26"
             ],
             [
              1,
              "#f0f921"
             ]
            ],
            "type": "histogram2dcontour"
           }
          ],
          "mesh3d": [
           {
            "colorbar": {
             "outlinewidth": 0,
             "ticks": ""
            },
            "type": "mesh3d"
           }
          ],
          "parcoords": [
           {
            "line": {
             "colorbar": {
              "outlinewidth": 0,
              "ticks": ""
             }
            },
            "type": "parcoords"
           }
          ],
          "pie": [
           {
            "automargin": true,
            "type": "pie"
           }
          ],
          "scatter": [
           {
            "fillpattern": {
             "fillmode": "overlay",
             "size": 10,
             "solidity": 0.2
            },
            "type": "scatter"
           }
          ],
          "scatter3d": [
           {
            "line": {
             "colorbar": {
              "outlinewidth": 0,
              "ticks": ""
             }
            },
            "marker": {
             "colorbar": {
              "outlinewidth": 0,
              "ticks": ""
             }
            },
            "type": "scatter3d"
           }
          ],
          "scattercarpet": [
           {
            "marker": {
             "colorbar": {
              "outlinewidth": 0,
              "ticks": ""
             }
            },
            "type": "scattercarpet"
           }
          ],
          "scattergeo": [
           {
            "marker": {
             "colorbar": {
              "outlinewidth": 0,
              "ticks": ""
             }
            },
            "type": "scattergeo"
           }
          ],
          "scattergl": [
           {
            "marker": {
             "colorbar": {
              "outlinewidth": 0,
              "ticks": ""
             }
            },
            "type": "scattergl"
           }
          ],
          "scattermapbox": [
           {
            "marker": {
             "colorbar": {
              "outlinewidth": 0,
              "ticks": ""
             }
            },
            "type": "scattermapbox"
           }
          ],
          "scatterpolar": [
           {
            "marker": {
             "colorbar": {
              "outlinewidth": 0,
              "ticks": ""
             }
            },
            "type": "scatterpolar"
           }
          ],
          "scatterpolargl": [
           {
            "marker": {
             "colorbar": {
              "outlinewidth": 0,
              "ticks": ""
             }
            },
            "type": "scatterpolargl"
           }
          ],
          "scatterternary": [
           {
            "marker": {
             "colorbar": {
              "outlinewidth": 0,
              "ticks": ""
             }
            },
            "type": "scatterternary"
           }
          ],
          "surface": [
           {
            "colorbar": {
             "outlinewidth": 0,
             "ticks": ""
            },
            "colorscale": [
             [
              0,
              "#0d0887"
             ],
             [
              0.1111111111111111,
              "#46039f"
             ],
             [
              0.2222222222222222,
              "#7201a8"
             ],
             [
              0.3333333333333333,
              "#9c179e"
             ],
             [
              0.4444444444444444,
              "#bd3786"
             ],
             [
              0.5555555555555556,
              "#d8576b"
             ],
             [
              0.6666666666666666,
              "#ed7953"
             ],
             [
              0.7777777777777778,
              "#fb9f3a"
             ],
             [
              0.8888888888888888,
              "#fdca26"
             ],
             [
              1,
              "#f0f921"
             ]
            ],
            "type": "surface"
           }
          ],
          "table": [
           {
            "cells": {
             "fill": {
              "color": "#EBF0F8"
             },
             "line": {
              "color": "white"
             }
            },
            "header": {
             "fill": {
              "color": "#C8D4E3"
             },
             "line": {
              "color": "white"
             }
            },
            "type": "table"
           }
          ]
         },
         "layout": {
          "annotationdefaults": {
           "arrowcolor": "#2a3f5f",
           "arrowhead": 0,
           "arrowwidth": 1
          },
          "autotypenumbers": "strict",
          "coloraxis": {
           "colorbar": {
            "outlinewidth": 0,
            "ticks": ""
           }
          },
          "colorscale": {
           "diverging": [
            [
             0,
             "#8e0152"
            ],
            [
             0.1,
             "#c51b7d"
            ],
            [
             0.2,
             "#de77ae"
            ],
            [
             0.3,
             "#f1b6da"
            ],
            [
             0.4,
             "#fde0ef"
            ],
            [
             0.5,
             "#f7f7f7"
            ],
            [
             0.6,
             "#e6f5d0"
            ],
            [
             0.7,
             "#b8e186"
            ],
            [
             0.8,
             "#7fbc41"
            ],
            [
             0.9,
             "#4d9221"
            ],
            [
             1,
             "#276419"
            ]
           ],
           "sequential": [
            [
             0,
             "#0d0887"
            ],
            [
             0.1111111111111111,
             "#46039f"
            ],
            [
             0.2222222222222222,
             "#7201a8"
            ],
            [
             0.3333333333333333,
             "#9c179e"
            ],
            [
             0.4444444444444444,
             "#bd3786"
            ],
            [
             0.5555555555555556,
             "#d8576b"
            ],
            [
             0.6666666666666666,
             "#ed7953"
            ],
            [
             0.7777777777777778,
             "#fb9f3a"
            ],
            [
             0.8888888888888888,
             "#fdca26"
            ],
            [
             1,
             "#f0f921"
            ]
           ],
           "sequentialminus": [
            [
             0,
             "#0d0887"
            ],
            [
             0.1111111111111111,
             "#46039f"
            ],
            [
             0.2222222222222222,
             "#7201a8"
            ],
            [
             0.3333333333333333,
             "#9c179e"
            ],
            [
             0.4444444444444444,
             "#bd3786"
            ],
            [
             0.5555555555555556,
             "#d8576b"
            ],
            [
             0.6666666666666666,
             "#ed7953"
            ],
            [
             0.7777777777777778,
             "#fb9f3a"
            ],
            [
             0.8888888888888888,
             "#fdca26"
            ],
            [
             1,
             "#f0f921"
            ]
           ]
          },
          "colorway": [
           "#636efa",
           "#EF553B",
           "#00cc96",
           "#ab63fa",
           "#FFA15A",
           "#19d3f3",
           "#FF6692",
           "#B6E880",
           "#FF97FF",
           "#FECB52"
          ],
          "font": {
           "color": "#2a3f5f"
          },
          "geo": {
           "bgcolor": "white",
           "lakecolor": "white",
           "landcolor": "#E5ECF6",
           "showlakes": true,
           "showland": true,
           "subunitcolor": "white"
          },
          "hoverlabel": {
           "align": "left"
          },
          "hovermode": "closest",
          "mapbox": {
           "style": "light"
          },
          "paper_bgcolor": "white",
          "plot_bgcolor": "#E5ECF6",
          "polar": {
           "angularaxis": {
            "gridcolor": "white",
            "linecolor": "white",
            "ticks": ""
           },
           "bgcolor": "#E5ECF6",
           "radialaxis": {
            "gridcolor": "white",
            "linecolor": "white",
            "ticks": ""
           }
          },
          "scene": {
           "xaxis": {
            "backgroundcolor": "#E5ECF6",
            "gridcolor": "white",
            "gridwidth": 2,
            "linecolor": "white",
            "showbackground": true,
            "ticks": "",
            "zerolinecolor": "white"
           },
           "yaxis": {
            "backgroundcolor": "#E5ECF6",
            "gridcolor": "white",
            "gridwidth": 2,
            "linecolor": "white",
            "showbackground": true,
            "ticks": "",
            "zerolinecolor": "white"
           },
           "zaxis": {
            "backgroundcolor": "#E5ECF6",
            "gridcolor": "white",
            "gridwidth": 2,
            "linecolor": "white",
            "showbackground": true,
            "ticks": "",
            "zerolinecolor": "white"
           }
          },
          "shapedefaults": {
           "line": {
            "color": "#2a3f5f"
           }
          },
          "ternary": {
           "aaxis": {
            "gridcolor": "white",
            "linecolor": "white",
            "ticks": ""
           },
           "baxis": {
            "gridcolor": "white",
            "linecolor": "white",
            "ticks": ""
           },
           "bgcolor": "#E5ECF6",
           "caxis": {
            "gridcolor": "white",
            "linecolor": "white",
            "ticks": ""
           }
          },
          "title": {
           "x": 0.05
          },
          "xaxis": {
           "automargin": true,
           "gridcolor": "white",
           "linecolor": "white",
           "ticks": "",
           "title": {
            "standoff": 15
           },
           "zerolinecolor": "white",
           "zerolinewidth": 2
          },
          "yaxis": {
           "automargin": true,
           "gridcolor": "white",
           "linecolor": "white",
           "ticks": "",
           "title": {
            "standoff": 15
           },
           "zerolinecolor": "white",
           "zerolinewidth": 2
          }
         }
        },
        "title": {
         "text": "Theta_2 vs a_x_4 Plot"
        },
        "width": 600,
        "xaxis": {
         "title": {
          "text": "Theta_2"
         }
        },
        "yaxis": {
         "title": {
          "text": "a_x_4"
         }
        }
       }
      }
     },
     "metadata": {},
     "output_type": "display_data"
    }
   ],
   "source": [
    "import numpy as np\n",
    "import plotly.graph_objs as go\n",
    "import sympy as sp\n",
    "\n",
    "def plot_theta2_vs_ax4_w_cte(theta_2_range, L2_value, L3_value, offset_value, alfa_value): #NO!!!\n",
    "    # Generate solutions for a range of theta_2 values\n",
    "    #solutions_list = []\n",
    "    \n",
    "    theta_2 = symbols('theta_2')\n",
    "    L2, L3, alfa, offset = symbols('L2 L3 alfa, offset')\n",
    "\n",
    "    C_q_inv = jacobian_slider_crank().inv() #dependent on q\n",
    "    C_t = C_t_slider_crank() #not dependant of q neither t here, constant\n",
    "\n",
    "\n",
    "    # C_q = jacobian_slider_crank()\n",
    "    # C_q_inv = C_q.inv() #dependent on q\n",
    "    #C_t = C_t_slider_crank() \n",
    "\n",
    "    time = symbols('time')\n",
    "    variables = [time]\n",
    "\n",
    "\n",
    "    C_t_dot = C_t.jacobian(variables)\n",
    "\n",
    "    #C_q_dot = C_q.jacobian(variables)\n",
    "\n",
    "\n",
    "    #q_dot2 = -C_q_inv*(C_q_dot*q_dot + C_t_dot)\n",
    "\n",
    "\n",
    "    theta_2_values = []\n",
    "    a_x_4_values = []\n",
    "    for theta_2_loop in theta_2_range:\n",
    "\n",
    "        #solve the position\n",
    "        solutions = sp.solve( [eq.subs({theta_2: theta_2_loop, L2: L2_value, L3: L3_value, offset: offset_value, alfa: alfa_value}) for eq in four_bars_slidercrank_example_symbolic_full()] )\n",
    "        \n",
    "        q = solutions[1]\n",
    "\n",
    "        #now calculate q_dot\n",
    "        q_dot = -C_q_inv*C_t\n",
    "        \n",
    "\n",
    "        q_dot = q_dot.subs({theta_2: theta_2_loop, L2: L2_value, L3: L3_value, offset: offset_value, alfa: alfa_value, theta_3: q[theta_3]})\n",
    "        #print(q_dot)\n",
    "        #v_x_4_values.append(float(q_dot[6]))\n",
    "\n",
    "        q_dot2 = -C_q_inv*(C_q_dot*q_dot + C_t_dot)\n",
    "        q_dot2 = q_dot2.subs({theta_2: theta_2_loop, L2: L2_value, L3: L3_value, offset: offset_value, alfa: alfa_value, theta_3: q[theta_3]})\n",
    "        #print(q_dot2)\n",
    "        a_x_4_values.append(float(q_dot2[6]))\n",
    "    \n",
    "        theta_2_values.append(theta_2_loop)\n",
    "\n",
    "    #return(q_dot,q)\n",
    "    #return(v_x_4_values)\n",
    "\n",
    "\n",
    "    \n",
    "\n",
    "    # Create trace\n",
    "    trace = go.Scatter(x=theta_2_values, y=a_x_4_values, mode='lines+markers', name='Theta_2 vs a_x_4')\n",
    "\n",
    "    # Define layout\n",
    "    layout = go.Layout(title='Theta_2 vs a_x_4 Plot',\n",
    "                       xaxis=dict(title='Theta_2'),\n",
    "                       yaxis=dict(title='a_x_4'),\n",
    "                       showlegend=True,\n",
    "                       autosize=False,\n",
    "                       width=600,\n",
    "                       height=600)\n",
    "\n",
    "    fig = go.Figure(data=[trace], layout=layout)\n",
    "    fig.show()\n",
    "\n",
    "\n",
    "plot_theta2_vs_ax4_w_cte(theta_2_range = np.linspace(0, 2*np.pi, 100), L2_value=1, L3_value=2, offset_value=0, alfa_value=0) "
   ]
  },
  {
   "cell_type": "code",
   "execution_count": null,
   "metadata": {},
   "outputs": [],
   "source": []
  },
  {
   "cell_type": "code",
   "execution_count": null,
   "metadata": {},
   "outputs": [],
   "source": []
  },
  {
   "cell_type": "code",
   "execution_count": null,
   "metadata": {},
   "outputs": [],
   "source": []
  },
  {
   "cell_type": "code",
   "execution_count": 1,
   "metadata": {},
   "outputs": [],
   "source": [
    "# time =  np.linspace(0, 4, 100)\n",
    "\n",
    "# w_2 = npi.pi/2 #1 rev every 4 seconds"
   ]
  },
  {
   "cell_type": "code",
   "execution_count": null,
   "metadata": {},
   "outputs": [],
   "source": []
  },
  {
   "cell_type": "markdown",
   "metadata": {},
   "source": [
    "## Streamlit"
   ]
  },
  {
   "cell_type": "code",
   "execution_count": 1,
   "metadata": {},
   "outputs": [
    {
     "name": "stderr",
     "output_type": "stream",
     "text": [
      "2023-08-28 10:59:46.142 INFO    numexpr.utils: NumExpr defaulting to 8 threads.\n"
     ]
    },
    {
     "data": {
      "application/vnd.plotly.v1+json": {
       "config": {
        "plotlyServerURL": "https://plot.ly"
       },
       "data": [
        {
         "mode": "lines+markers",
         "name": "Theta_2 vs v_x_4 ????",
         "type": "scatter",
         "x": [
          0,
          0.06346651825433926,
          0.12693303650867852,
          0.1903995547630178,
          0.25386607301735703,
          0.3173325912716963,
          0.3807991095260356,
          0.4442656277803748,
          0.5077321460347141,
          0.5711986642890533,
          0.6346651825433925,
          0.6981317007977318,
          0.7615982190520711,
          0.8250647373064104,
          0.8885312555607496,
          0.9519977738150889,
          1.0154642920694281,
          1.0789308103237674,
          1.1423973285781066,
          1.2058638468324459,
          1.269330365086785,
          1.3327968833411243,
          1.3962634015954636,
          1.4597299198498028,
          1.5231964381041423,
          1.5866629563584815,
          1.6501294746128208,
          1.71359599286716,
          1.7770625111214993,
          1.8405290293758385,
          1.9039955476301778,
          1.967462065884517,
          2.0309285841388562,
          2.0943951023931957,
          2.1578616206475347,
          2.221328138901874,
          2.284794657156213,
          2.3482611754105527,
          2.4117276936648917,
          2.475194211919231,
          2.53866073017357,
          2.6021272484279097,
          2.6655937666822487,
          2.729060284936588,
          2.792526803190927,
          2.8559933214452666,
          2.9194598396996057,
          2.982926357953945,
          3.0463928762082846,
          3.1098593944626236,
          3.173325912716963,
          3.236792430971302,
          3.3002589492256416,
          3.3637254674799806,
          3.42719198573432,
          3.490658503988659,
          3.5541250222429985,
          3.6175915404973376,
          3.681058058751677,
          3.744524577006016,
          3.8079910952603555,
          3.8714576135146945,
          3.934924131769034,
          3.998390650023373,
          4.0618571682777125,
          4.1253236865320515,
          4.188790204786391,
          4.25225672304073,
          4.3157232412950695,
          4.3791897595494085,
          4.442656277803748,
          4.506122796058087,
          4.569589314312426,
          4.6330558325667655,
          4.696522350821105,
          4.759988869075444,
          4.823455387329783,
          4.886921905584122,
          4.950388423838462,
          5.013854942092801,
          5.07732146034714,
          5.14078797860148,
          5.204254496855819,
          5.267721015110158,
          5.331187533364497,
          5.394654051618837,
          5.458120569873176,
          5.521587088127515,
          5.585053606381854,
          5.648520124636194,
          5.711986642890533,
          5.775453161144872,
          5.838919679399211,
          5.902386197653551,
          5.96585271590789,
          6.029319234162229,
          6.092785752416569,
          6.156252270670908,
          6.219718788925247,
          6.283185307179586
         ],
         "y": [
          0,
          -0.07468190796695481,
          -0.14883735401445222,
          -0.2219422555527933,
          -0.2934773757415159,
          -0.3629309653405085,
          -0.4298016703438869,
          -0.49360179748461835,
          -0.5538610295313721,
          -0.6101306779244839,
          -0.6619885487012936,
          -0.7090444751828691,
          -0.7509465334780638,
          -0.7873879005897753,
          -0.818114236921348,
          -0.8429313748145592,
          -0.8617129760205667,
          -0.874407693141681,
          -0.8810452495535336,
          -0.8817407625315509,
          -0.8766966032971376,
          -0.8662011430270461,
          -0.8506238949807988,
          -0.8304068324980184,
          -0.8060520198697867,
          -0.7781060920862055,
          -0.7471424953913621,
          -0.7137426835317872,
          -0.6784775975714854,
          -0.6418907122820572,
          -0.6044837189393651,
          -0.5667055769602882,
          -0.5289452709359621,
          -0.4915282247277221,
          -0.4547160070395512,
          -0.4187087468884119,
          -0.38364957112560966,
          -0.3496303674997167,
          -0.316698241120463,
          -0.28486214096918033,
          -0.25409926012579825,
          -0.22436093857452902,
          -0.19557790795125596,
          -0.167664807082566,
          -0.1405239642854926,
          -0.1140484890026409,
          -0.08812474496877663,
          -0.06263429381703471,
          -0.037455405739479704,
          -0.012464235871237588,
          0.01246423587123767,
          0.03745540573947978,
          0.06263429381703486,
          0.08812474496877644,
          0.11404848900264104,
          0.14052396428549244,
          0.16766480708256612,
          0.1955779079512561,
          0.22436093857452913,
          0.2540992601257981,
          0.28486214096918044,
          0.3166982411204629,
          0.3496303674997168,
          0.38364957112560955,
          0.41870874688841214,
          0.45471600703955106,
          0.4915282247277225,
          0.5289452709359623,
          0.5667055769602882,
          0.6044837189393649,
          0.6418907122820574,
          0.6784775975714855,
          0.7137426835317872,
          0.7471424953913619,
          0.7781060920862057,
          0.8060520198697868,
          0.8304068324980183,
          0.8506238949807987,
          0.8662011430270462,
          0.8766966032971376,
          0.8817407625315509,
          0.8810452495535337,
          0.874407693141681,
          0.8617129760205667,
          0.8429313748145592,
          0.818114236921348,
          0.7873879005897751,
          0.7509465334780638,
          0.7090444751828694,
          0.6619885487012934,
          0.6101306779244835,
          0.5538610295313721,
          0.49360179748461863,
          0.4298016703438862,
          0.3629309653405085,
          0.293477375741516,
          0.22194225555279293,
          0.14883735401445203,
          0.07468190796695483,
          2.885506040582686e-16
         ]
        }
       ],
       "layout": {
        "autosize": false,
        "height": 600,
        "showlegend": true,
        "template": {
         "data": {
          "bar": [
           {
            "error_x": {
             "color": "#2a3f5f"
            },
            "error_y": {
             "color": "#2a3f5f"
            },
            "marker": {
             "line": {
              "color": "#E5ECF6",
              "width": 0.5
             },
             "pattern": {
              "fillmode": "overlay",
              "size": 10,
              "solidity": 0.2
             }
            },
            "type": "bar"
           }
          ],
          "barpolar": [
           {
            "marker": {
             "line": {
              "color": "#E5ECF6",
              "width": 0.5
             },
             "pattern": {
              "fillmode": "overlay",
              "size": 10,
              "solidity": 0.2
             }
            },
            "type": "barpolar"
           }
          ],
          "carpet": [
           {
            "aaxis": {
             "endlinecolor": "#2a3f5f",
             "gridcolor": "white",
             "linecolor": "white",
             "minorgridcolor": "white",
             "startlinecolor": "#2a3f5f"
            },
            "baxis": {
             "endlinecolor": "#2a3f5f",
             "gridcolor": "white",
             "linecolor": "white",
             "minorgridcolor": "white",
             "startlinecolor": "#2a3f5f"
            },
            "type": "carpet"
           }
          ],
          "choropleth": [
           {
            "colorbar": {
             "outlinewidth": 0,
             "ticks": ""
            },
            "type": "choropleth"
           }
          ],
          "contour": [
           {
            "colorbar": {
             "outlinewidth": 0,
             "ticks": ""
            },
            "colorscale": [
             [
              0,
              "#0d0887"
             ],
             [
              0.1111111111111111,
              "#46039f"
             ],
             [
              0.2222222222222222,
              "#7201a8"
             ],
             [
              0.3333333333333333,
              "#9c179e"
             ],
             [
              0.4444444444444444,
              "#bd3786"
             ],
             [
              0.5555555555555556,
              "#d8576b"
             ],
             [
              0.6666666666666666,
              "#ed7953"
             ],
             [
              0.7777777777777778,
              "#fb9f3a"
             ],
             [
              0.8888888888888888,
              "#fdca26"
             ],
             [
              1,
              "#f0f921"
             ]
            ],
            "type": "contour"
           }
          ],
          "contourcarpet": [
           {
            "colorbar": {
             "outlinewidth": 0,
             "ticks": ""
            },
            "type": "contourcarpet"
           }
          ],
          "heatmap": [
           {
            "colorbar": {
             "outlinewidth": 0,
             "ticks": ""
            },
            "colorscale": [
             [
              0,
              "#0d0887"
             ],
             [
              0.1111111111111111,
              "#46039f"
             ],
             [
              0.2222222222222222,
              "#7201a8"
             ],
             [
              0.3333333333333333,
              "#9c179e"
             ],
             [
              0.4444444444444444,
              "#bd3786"
             ],
             [
              0.5555555555555556,
              "#d8576b"
             ],
             [
              0.6666666666666666,
              "#ed7953"
             ],
             [
              0.7777777777777778,
              "#fb9f3a"
             ],
             [
              0.8888888888888888,
              "#fdca26"
             ],
             [
              1,
              "#f0f921"
             ]
            ],
            "type": "heatmap"
           }
          ],
          "heatmapgl": [
           {
            "colorbar": {
             "outlinewidth": 0,
             "ticks": ""
            },
            "colorscale": [
             [
              0,
              "#0d0887"
             ],
             [
              0.1111111111111111,
              "#46039f"
             ],
             [
              0.2222222222222222,
              "#7201a8"
             ],
             [
              0.3333333333333333,
              "#9c179e"
             ],
             [
              0.4444444444444444,
              "#bd3786"
             ],
             [
              0.5555555555555556,
              "#d8576b"
             ],
             [
              0.6666666666666666,
              "#ed7953"
             ],
             [
              0.7777777777777778,
              "#fb9f3a"
             ],
             [
              0.8888888888888888,
              "#fdca26"
             ],
             [
              1,
              "#f0f921"
             ]
            ],
            "type": "heatmapgl"
           }
          ],
          "histogram": [
           {
            "marker": {
             "pattern": {
              "fillmode": "overlay",
              "size": 10,
              "solidity": 0.2
             }
            },
            "type": "histogram"
           }
          ],
          "histogram2d": [
           {
            "colorbar": {
             "outlinewidth": 0,
             "ticks": ""
            },
            "colorscale": [
             [
              0,
              "#0d0887"
             ],
             [
              0.1111111111111111,
              "#46039f"
             ],
             [
              0.2222222222222222,
              "#7201a8"
             ],
             [
              0.3333333333333333,
              "#9c179e"
             ],
             [
              0.4444444444444444,
              "#bd3786"
             ],
             [
              0.5555555555555556,
              "#d8576b"
             ],
             [
              0.6666666666666666,
              "#ed7953"
             ],
             [
              0.7777777777777778,
              "#fb9f3a"
             ],
             [
              0.8888888888888888,
              "#fdca26"
             ],
             [
              1,
              "#f0f921"
             ]
            ],
            "type": "histogram2d"
           }
          ],
          "histogram2dcontour": [
           {
            "colorbar": {
             "outlinewidth": 0,
             "ticks": ""
            },
            "colorscale": [
             [
              0,
              "#0d0887"
             ],
             [
              0.1111111111111111,
              "#46039f"
             ],
             [
              0.2222222222222222,
              "#7201a8"
             ],
             [
              0.3333333333333333,
              "#9c179e"
             ],
             [
              0.4444444444444444,
              "#bd3786"
             ],
             [
              0.5555555555555556,
              "#d8576b"
             ],
             [
              0.6666666666666666,
              "#ed7953"
             ],
             [
              0.7777777777777778,
              "#fb9f3a"
             ],
             [
              0.8888888888888888,
              "#fdca26"
             ],
             [
              1,
              "#f0f921"
             ]
            ],
            "type": "histogram2dcontour"
           }
          ],
          "mesh3d": [
           {
            "colorbar": {
             "outlinewidth": 0,
             "ticks": ""
            },
            "type": "mesh3d"
           }
          ],
          "parcoords": [
           {
            "line": {
             "colorbar": {
              "outlinewidth": 0,
              "ticks": ""
             }
            },
            "type": "parcoords"
           }
          ],
          "pie": [
           {
            "automargin": true,
            "type": "pie"
           }
          ],
          "scatter": [
           {
            "fillpattern": {
             "fillmode": "overlay",
             "size": 10,
             "solidity": 0.2
            },
            "type": "scatter"
           }
          ],
          "scatter3d": [
           {
            "line": {
             "colorbar": {
              "outlinewidth": 0,
              "ticks": ""
             }
            },
            "marker": {
             "colorbar": {
              "outlinewidth": 0,
              "ticks": ""
             }
            },
            "type": "scatter3d"
           }
          ],
          "scattercarpet": [
           {
            "marker": {
             "colorbar": {
              "outlinewidth": 0,
              "ticks": ""
             }
            },
            "type": "scattercarpet"
           }
          ],
          "scattergeo": [
           {
            "marker": {
             "colorbar": {
              "outlinewidth": 0,
              "ticks": ""
             }
            },
            "type": "scattergeo"
           }
          ],
          "scattergl": [
           {
            "marker": {
             "colorbar": {
              "outlinewidth": 0,
              "ticks": ""
             }
            },
            "type": "scattergl"
           }
          ],
          "scattermapbox": [
           {
            "marker": {
             "colorbar": {
              "outlinewidth": 0,
              "ticks": ""
             }
            },
            "type": "scattermapbox"
           }
          ],
          "scatterpolar": [
           {
            "marker": {
             "colorbar": {
              "outlinewidth": 0,
              "ticks": ""
             }
            },
            "type": "scatterpolar"
           }
          ],
          "scatterpolargl": [
           {
            "marker": {
             "colorbar": {
              "outlinewidth": 0,
              "ticks": ""
             }
            },
            "type": "scatterpolargl"
           }
          ],
          "scatterternary": [
           {
            "marker": {
             "colorbar": {
              "outlinewidth": 0,
              "ticks": ""
             }
            },
            "type": "scatterternary"
           }
          ],
          "surface": [
           {
            "colorbar": {
             "outlinewidth": 0,
             "ticks": ""
            },
            "colorscale": [
             [
              0,
              "#0d0887"
             ],
             [
              0.1111111111111111,
              "#46039f"
             ],
             [
              0.2222222222222222,
              "#7201a8"
             ],
             [
              0.3333333333333333,
              "#9c179e"
             ],
             [
              0.4444444444444444,
              "#bd3786"
             ],
             [
              0.5555555555555556,
              "#d8576b"
             ],
             [
              0.6666666666666666,
              "#ed7953"
             ],
             [
              0.7777777777777778,
              "#fb9f3a"
             ],
             [
              0.8888888888888888,
              "#fdca26"
             ],
             [
              1,
              "#f0f921"
             ]
            ],
            "type": "surface"
           }
          ],
          "table": [
           {
            "cells": {
             "fill": {
              "color": "#EBF0F8"
             },
             "line": {
              "color": "white"
             }
            },
            "header": {
             "fill": {
              "color": "#C8D4E3"
             },
             "line": {
              "color": "white"
             }
            },
            "type": "table"
           }
          ]
         },
         "layout": {
          "annotationdefaults": {
           "arrowcolor": "#2a3f5f",
           "arrowhead": 0,
           "arrowwidth": 1
          },
          "autotypenumbers": "strict",
          "coloraxis": {
           "colorbar": {
            "outlinewidth": 0,
            "ticks": ""
           }
          },
          "colorscale": {
           "diverging": [
            [
             0,
             "#8e0152"
            ],
            [
             0.1,
             "#c51b7d"
            ],
            [
             0.2,
             "#de77ae"
            ],
            [
             0.3,
             "#f1b6da"
            ],
            [
             0.4,
             "#fde0ef"
            ],
            [
             0.5,
             "#f7f7f7"
            ],
            [
             0.6,
             "#e6f5d0"
            ],
            [
             0.7,
             "#b8e186"
            ],
            [
             0.8,
             "#7fbc41"
            ],
            [
             0.9,
             "#4d9221"
            ],
            [
             1,
             "#276419"
            ]
           ],
           "sequential": [
            [
             0,
             "#0d0887"
            ],
            [
             0.1111111111111111,
             "#46039f"
            ],
            [
             0.2222222222222222,
             "#7201a8"
            ],
            [
             0.3333333333333333,
             "#9c179e"
            ],
            [
             0.4444444444444444,
             "#bd3786"
            ],
            [
             0.5555555555555556,
             "#d8576b"
            ],
            [
             0.6666666666666666,
             "#ed7953"
            ],
            [
             0.7777777777777778,
             "#fb9f3a"
            ],
            [
             0.8888888888888888,
             "#fdca26"
            ],
            [
             1,
             "#f0f921"
            ]
           ],
           "sequentialminus": [
            [
             0,
             "#0d0887"
            ],
            [
             0.1111111111111111,
             "#46039f"
            ],
            [
             0.2222222222222222,
             "#7201a8"
            ],
            [
             0.3333333333333333,
             "#9c179e"
            ],
            [
             0.4444444444444444,
             "#bd3786"
            ],
            [
             0.5555555555555556,
             "#d8576b"
            ],
            [
             0.6666666666666666,
             "#ed7953"
            ],
            [
             0.7777777777777778,
             "#fb9f3a"
            ],
            [
             0.8888888888888888,
             "#fdca26"
            ],
            [
             1,
             "#f0f921"
            ]
           ]
          },
          "colorway": [
           "#636efa",
           "#EF553B",
           "#00cc96",
           "#ab63fa",
           "#FFA15A",
           "#19d3f3",
           "#FF6692",
           "#B6E880",
           "#FF97FF",
           "#FECB52"
          ],
          "font": {
           "color": "#2a3f5f"
          },
          "geo": {
           "bgcolor": "white",
           "lakecolor": "white",
           "landcolor": "#E5ECF6",
           "showlakes": true,
           "showland": true,
           "subunitcolor": "white"
          },
          "hoverlabel": {
           "align": "left"
          },
          "hovermode": "closest",
          "mapbox": {
           "style": "light"
          },
          "paper_bgcolor": "white",
          "plot_bgcolor": "#E5ECF6",
          "polar": {
           "angularaxis": {
            "gridcolor": "white",
            "linecolor": "white",
            "ticks": ""
           },
           "bgcolor": "#E5ECF6",
           "radialaxis": {
            "gridcolor": "white",
            "linecolor": "white",
            "ticks": ""
           }
          },
          "scene": {
           "xaxis": {
            "backgroundcolor": "#E5ECF6",
            "gridcolor": "white",
            "gridwidth": 2,
            "linecolor": "white",
            "showbackground": true,
            "ticks": "",
            "zerolinecolor": "white"
           },
           "yaxis": {
            "backgroundcolor": "#E5ECF6",
            "gridcolor": "white",
            "gridwidth": 2,
            "linecolor": "white",
            "showbackground": true,
            "ticks": "",
            "zerolinecolor": "white"
           },
           "zaxis": {
            "backgroundcolor": "#E5ECF6",
            "gridcolor": "white",
            "gridwidth": 2,
            "linecolor": "white",
            "showbackground": true,
            "ticks": "",
            "zerolinecolor": "white"
           }
          },
          "shapedefaults": {
           "line": {
            "color": "#2a3f5f"
           }
          },
          "ternary": {
           "aaxis": {
            "gridcolor": "white",
            "linecolor": "white",
            "ticks": ""
           },
           "baxis": {
            "gridcolor": "white",
            "linecolor": "white",
            "ticks": ""
           },
           "bgcolor": "#E5ECF6",
           "caxis": {
            "gridcolor": "white",
            "linecolor": "white",
            "ticks": ""
           }
          },
          "title": {
           "x": 0.05
          },
          "xaxis": {
           "automargin": true,
           "gridcolor": "white",
           "linecolor": "white",
           "ticks": "",
           "title": {
            "standoff": 15
           },
           "zerolinecolor": "white",
           "zerolinewidth": 2
          },
          "yaxis": {
           "automargin": true,
           "gridcolor": "white",
           "linecolor": "white",
           "ticks": "",
           "title": {
            "standoff": 15
           },
           "zerolinecolor": "white",
           "zerolinewidth": 2
          }
         }
        },
        "title": {
         "text": "Theta_2 vs v_x_4 Plot"
        },
        "width": 600,
        "xaxis": {
         "title": {
          "text": "Theta_2"
         }
        },
        "yaxis": {
         "title": {
          "text": "r_x_4"
         }
        }
       }
      }
     },
     "metadata": {},
     "output_type": "display_data"
    }
   ],
   "source": [
    "import streamlit as st\n",
    "import numpy as np\n",
    "import plotly.graph_objects as go\n",
    "\n",
    "\n",
    "\n",
    "\n",
    "import sympy as sp\n",
    "\n",
    "from sympy import Eq, solve, pi\n",
    "from sympy import lambdify\n",
    "from scipy.optimize import fsolve\n",
    "\n",
    "\n",
    "from sympy import symbols, Eq, cos, sin, diff, Matrix\n",
    "from sympy import Matrix, Eq\n",
    "\n",
    "\n",
    "\n",
    "# from sympy import symbols, Eq, cos, sin, diff, Matrix\n",
    "# from sympy import Matrix, Eq\n",
    "\n",
    "\n",
    "from sympy import Matrix, cos, sin, symbols\n",
    "\n",
    "def rotation_matrix_2d(theta):\n",
    "    \"\"\"Generate a 2D rotation matrix for a given angle.\"\"\"\n",
    "    return Matrix([\n",
    "        [cos(theta), -sin(theta)],\n",
    "        [sin(theta), cos(theta)]\n",
    "    ])\n",
    "\n",
    "def generate_constraint_equations_pr(theta_i, theta_j, r_x_i, r_y_i, r_x_j, r_y_j, u_x_i, u_y_i, u_x_j, u_y_j):\n",
    "    \"\"\"Generate the position restraint equations for the PR.\"\"\"\n",
    "    R_i = Matrix([r_x_i, r_y_i])\n",
    "    R_j = Matrix([r_x_j, r_y_j])\n",
    "    local_vector_i = Matrix([u_x_i, u_y_i])\n",
    "    local_vector_j = Matrix([u_x_j, u_y_j])\n",
    "    \n",
    "    transformed_vector_i = rotation_matrix_2d(theta_i) * local_vector_i\n",
    "    transformed_vector_j = rotation_matrix_2d(theta_j) * local_vector_j\n",
    "\n",
    "    constraint_equations = R_i + transformed_vector_i - R_j - transformed_vector_j\n",
    "    return constraint_equations\n",
    "\n",
    "\n",
    "\n",
    "def generate_equations_included_topology_pr(theta_i, theta_j, r_x_i, r_y_i, r_x_j, r_y_j, u_x_a, u_y_a, u_x_b, u_y_b):\n",
    "\n",
    "    u_x_i, u_y_i, u_x_j, u_y_j = symbols('u_x_i u_y_i u_x_j u_y_j')\n",
    "\n",
    "\n",
    "    # Generate the constraint equations\n",
    "    equations = generate_constraint_equations_pr(theta_i, theta_j, r_x_i, r_y_i, r_x_j, r_y_j, u_x_i, u_y_i, u_x_j, u_y_j)\n",
    "    \n",
    "    # Substitute the symbolic variables with the provided values\n",
    "    equations_substituted = equations.subs({u_x_i: u_x_a, u_y_i: u_y_a, u_x_j: u_x_b, u_y_j: u_y_b})\n",
    "    \n",
    "    \n",
    "    # Return the equation and the symbols\n",
    "    #return (equations)\n",
    "    return equations_substituted\n",
    "\n",
    "from sympy import symbols, Eq, tan, Matrix\n",
    "\n",
    "def generate_constraint_equations_ppl(theta_i, theta_j, r_x_i, r_y_i, r_x_j, r_y_j, alfa, offset):\n",
    "    \"\"\"Generate the position restraint equations for the PPL.\"\"\"\n",
    "\n",
    "    expr1 = theta_j - theta_i - alfa\n",
    "    expr2 = r_y_j - tan(alfa) * r_x_j - offset\n",
    "    \n",
    "    return Matrix([[expr1], [expr2]])\n",
    "\n",
    "\n",
    "def four_bars_slidercrank_example_symbolic_full():\n",
    "\n",
    "    theta_1, theta_2, theta_3, theta_4 = symbols('theta_1 theta_2 theta_3 theta_4')\n",
    "    r_x_1, r_y_1, r_x_2, r_y_2, r_x_3, r_y_3, r_x_4, r_y_4 = symbols('r_x_1 r_y_1 r_x_2 r_y_2 r_x_3 r_y_3 r_x_4 r_y_4')\n",
    "\n",
    "    L2, L3, L4, alfa, offset = symbols('L2 L3 L4 alfa, offset')\n",
    "\n",
    "\n",
    "    u_x_1_12 = 0\n",
    "    u_y_1_12 = 0\n",
    "    u_x_2_12 = 0\n",
    "    u_y_2_12 = 0\n",
    "    restrictions_pr12 = generate_equations_included_topology_pr(theta_1, theta_2, r_x_1, r_y_1, r_x_2, r_y_2, u_x_1_12, u_y_1_12, u_x_2_12, u_y_2_12)\n",
    "\n",
    "    u_x_2_23 = L2\n",
    "    u_y_2_23 = 0\n",
    "    u_x_3_23 = 0\n",
    "    u_y_3_23 = 0\n",
    "    restrictions_pr23 = generate_equations_included_topology_pr(theta_2, theta_3, r_x_2, r_y_2, r_x_3, r_y_3, u_x_2_23, u_y_2_23, u_x_3_23, u_y_3_23)\n",
    "\n",
    "    u_x_3_34 = L3\n",
    "    u_y_3_34 = 0\n",
    "    u_x_4_34 = 0\n",
    "    u_y_4_34 = 0\n",
    "    restrictions_pr34 = generate_equations_included_topology_pr(theta_3, theta_4, r_x_3, r_y_3, r_x_4, r_y_4, u_x_3_34, u_y_3_34, u_x_4_34, u_y_4_34)\n",
    "    \n",
    "    restrictions_ppl14 = generate_constraint_equations_ppl(theta_1, theta_4, r_x_1, r_y_1, r_x_4, r_y_4, alfa, offset)\n",
    "    \n",
    "    # Stacking the matrices vertically to form a single large matrix\n",
    "    restrictions_to_solve = restrictions_pr12.col_join(restrictions_pr23).col_join(restrictions_pr34).col_join(restrictions_ppl14)\n",
    "\n",
    "    # Substituting the known values into the equations\n",
    "    restrictions_substituted = restrictions_to_solve.subs({\n",
    "        r_x_1: 0,\n",
    "        r_y_1: 0,\n",
    "        theta_1: 0 })\n",
    "\n",
    "    # Create a list of equations from the matrix\n",
    "    equation_list = [Eq(restrictions_substituted[i, 0], 0) for i in range(restrictions_substituted.shape[0])]\n",
    "\n",
    "\n",
    "    return(equation_list)\n",
    "\n",
    "\n",
    "def convert_floats(solution_dict):\n",
    "    \"\"\"Convert all values in the dictionary to float.\"\"\"\n",
    "    return {key: float(value.evalf()) if isinstance(value, (sp.Number, sp.Symbol)) else value \n",
    "            for key, value in solution_dict.items()}\n",
    "\n",
    "\n",
    "def plot_slidercrank_position_json(new_input):\n",
    "    # Extract values from the input dictionary using string keys\n",
    "    r_x_2_value = new_input['r_x_2']\n",
    "    r_y_2_value = new_input['r_y_2']\n",
    "    r_x_3_value = new_input['r_x_3']\n",
    "    r_y_3_value = new_input['r_y_3']\n",
    "    r_x_4_value = new_input['r_x_4']\n",
    "    r_y_4_value = new_input['r_y_4']\n",
    "\n",
    "    #print(r_x_2_value)\n",
    "    \n",
    "    # Create traces for each line\n",
    "    trace1 = go.Scatter(x=[r_x_2_value, r_x_3_value], y=[r_y_2_value, r_y_3_value], mode='lines+markers', name='Link 2-3')\n",
    "    trace2 = go.Scatter(x=[r_x_3_value, r_x_4_value], y=[r_y_3_value, r_y_4_value], mode='lines+markers', name='Link 3-4')\n",
    "    #trace3 = go.Scatter(x=[r_x_4_value, Separation], y=[r_y_4_value, 0], mode='lines+markers', name='Link 4-Base')\n",
    "    \n",
    "    # Define layout with equal aspect ratio and specified axis ranges\n",
    "    layout = go.Layout(title='Four Bars Mechanism Visualization',\n",
    "                       xaxis=dict(title='X Coordinate', scaleanchor=\"y\", scaleratio=1, range=[-15, 15]),\n",
    "                       yaxis=dict(title='Y Coordinate', scaleanchor=\"x\", scaleratio=1, range=[-15, 15]),\n",
    "                       showlegend=True,\n",
    "                       autosize=False,  # Disable automatic sizing to maintain aspect ratio\n",
    "                       width=500,  # Set width of the plot\n",
    "                       height=500)  # Set height of the plot\n",
    "    \n",
    "    # Create figure and plot\n",
    "    fig = go.Figure(data=[trace1, trace2], layout=layout)\n",
    "    fig.show()\n",
    "\n",
    "\n",
    "\n",
    "def solve_and_plot_slidercrank(theta_2_value, L2_value, L3_value, offset_value, alfa_value):\n",
    "\n",
    "        \n",
    "    # Solve the equations\n",
    "    #solutions = sp.solve( [eq.subs({theta_2: np.pi/2, L2: 8, L3: 8, offset: 0, alfa: 0}) for eq in four_bars_slidercrank_example_symbolic_full()] )\n",
    "    solutions = sp.solve( [eq.subs({theta_2: theta_2_value, L2: L2_value, L3: L3_value, offset: offset_value, alfa: alfa_value}) for eq in four_bars_slidercrank_example_symbolic_full()] )\n",
    "\n",
    "    solutions_theta_3_1 = solutions[1]\n",
    "\n",
    "    solution_json = {str(key): value for key, value in solutions_theta_3_1.items()}\n",
    "\n",
    "    solution_json_converted = convert_floats(solution_json)\n",
    "    print(solution_json_converted)\n",
    "    plot_slidercrank_position_json(solution_json_converted)\n",
    "\n",
    "\n",
    "\n",
    "\n",
    "def plot_slidercrank_with_slider(theta_2_range, L2_value, L3_value, offset_value, alfa_value):\n",
    "\n",
    "    theta_2, L2, L3, offset, alfa = sp.symbols('theta_2 L2 L3 offset alfa')\n",
    "\n",
    "\n",
    "    # Generate solutions for a range of theta_2 values\n",
    "    solutions_list = []\n",
    "    print(theta_2_range)\n",
    "    for theta_2_loop in theta_2_range:\n",
    "        #print(theta_2_loop)\n",
    "        solutions = sp.solve( [eq.subs({theta_2: theta_2_loop, L2: L2_value, L3: L3_value, offset: offset_value, alfa: alfa_value}) for eq in four_bars_slidercrank_example_symbolic_full()] )\n",
    "        #print(solutions)\n",
    "        selected_solution = solutions[1]\n",
    "\n",
    "        \n",
    "        solution_json = {str(key): value for key, value in selected_solution.items()}\n",
    "        solution_json_converted = convert_floats(solution_json)\n",
    "        solutions_list.append(solution_json_converted)\n",
    "\n",
    "     # Generate traces for the plot\n",
    "    traces = []\n",
    "    for solution in solutions_list:\n",
    "        trace1 = go.Scatter(x=[solution['r_x_2'], solution['r_x_3']],\n",
    "                            y=[solution['r_y_2'], solution['r_y_3']],\n",
    "                            mode='lines+markers', name='Link 2-3')\n",
    "        trace2 = go.Scatter(x=[solution['r_x_3'], solution['r_x_4']],\n",
    "                            y=[solution['r_y_3'], solution['r_y_4']],\n",
    "                            mode='lines+markers', name='Link 3-4')\n",
    "        traces.extend([trace1, trace2])\n",
    "\n",
    "    # Create the slider steps\n",
    "    steps = []\n",
    "    for i, theta_2 in enumerate(theta_2_range):\n",
    "        step = dict(args=[{\"visible\": [False] * len(traces)}],  # Set all traces to invisible\n",
    "                    method=\"restyle\",\n",
    "                    label=f\"{theta_2:.2f}\")\n",
    "        step[\"args\"][0][\"visible\"][i*2:i*2+2] = [True, True]  # Toggle i'th trace to \"visible\"\n",
    "        steps.append(step)\n",
    "\n",
    "    sliders = [dict(active=10, yanchor=\"top\", steps=steps)]\n",
    "\n",
    "    # Define layout\n",
    "    layout = go.Layout(title='Four Bars Mechanism Visualization',\n",
    "                       xaxis=dict(title='X Coordinate', scaleanchor=\"y\", scaleratio=1, range=[-15, 15]),\n",
    "                       yaxis=dict(title='Y Coordinate', scaleanchor=\"x\", scaleratio=1, range=[-15, 15]),\n",
    "                       showlegend=True,\n",
    "                       autosize=False,\n",
    "                       width=600,\n",
    "                       height=600,\n",
    "                       sliders=sliders)\n",
    "\n",
    "    fig = go.Figure(data=traces, layout=layout)\n",
    "    fig.show()\n",
    "\n",
    "\n",
    "\n",
    "\n",
    "def plot_theta2_vs_rx4(theta_2_range, L2_value, L3_value, offset_value, alfa_value):\n",
    "    # Generate solutions for a range of theta_2 values\n",
    "    #solutions_list = []\n",
    "    \n",
    "    theta_2, r_x_4 = symbols('theta_2, r_x_4')\n",
    "    L2, L3, alfa, offset = symbols('L2 L3 alfa, offset')\n",
    "\n",
    "    theta_2_values = []\n",
    "    r_x_4_values = []\n",
    "    for theta_2_loop in theta_2_range:\n",
    "        solutions = sp.solve( [eq.subs({theta_2: theta_2_loop, L2: L2_value, L3: L3_value, offset: offset_value, alfa: alfa_value}) for eq in four_bars_slidercrank_example_symbolic_full()] )\n",
    "        \n",
    "        selected_solution = solutions[1]\n",
    "\n",
    "        r_x_4_values.append(float(selected_solution[r_x_4]))\n",
    "        theta_2_values.append(theta_2_loop)\n",
    "\n",
    "\n",
    "    # Extract theta_2 and r_x_4 values for plotting\n",
    "    # theta_2_values = [theta_2 for theta_2 in theta_2_range]\n",
    "    # r_x_4_values = [solution['r_x_4'] for solution in solutions_list]\n",
    "\n",
    "    # Create trace\n",
    "    trace = go.Scatter(x=theta_2_values, y=r_x_4_values, mode='lines+markers', name='Theta_2 vs r_x_4')\n",
    "\n",
    "    # Define layout\n",
    "    layout = go.Layout(title='Theta_2 vs r_x_4 Plot',\n",
    "                       xaxis=dict(title='Theta_2'),\n",
    "                       yaxis=dict(title='r_x_4'),\n",
    "                       showlegend=True,\n",
    "                       autosize=False,\n",
    "                       width=600,\n",
    "                       height=600)\n",
    "\n",
    "    fig = go.Figure(data=[trace], layout=layout)\n",
    "    fig.show()\n",
    "\n",
    "\n",
    "\n",
    "\n",
    "def jacobian_slider_crank(): #ADAPT IT TO CONSIDER ANY MOVEMENT CONSTRAINT!!!\n",
    "\n",
    "    #     # Define the symbols\n",
    "    theta_2, theta_3, theta_4 = symbols('theta_2 theta_3 theta_4')\n",
    "    r_x_2, r_y_2, r_x_3, r_y_3, r_x_4, r_y_4 = symbols('r_x_2 r_y_2 r_x_3 r_y_3 r_x_4 r_y_4')\n",
    "\n",
    "    # Extract left-hand side of each equation\n",
    "    exprs = [eq.lhs for eq in four_bars_slidercrank_example_symbolic_full()]\n",
    "\n",
    "    # Add the additional constraint\n",
    "    exprs.append(theta_2)\n",
    "\n",
    "    # Convert the list to a Matrix\n",
    "    f = Matrix(exprs)\n",
    "\n",
    "\n",
    "    # Variables with respect to which we differentiate\n",
    "    variables = [r_x_2, r_y_2, theta_2, r_x_3, r_y_3, theta_3, r_x_4, r_y_4, theta_4]\n",
    "\n",
    "    # Compute the Jacobian\n",
    "    jacobian_extended = f.jacobian(variables)\n",
    "    return(jacobian_extended)\n",
    "\n",
    "\n",
    "\n",
    "def C_t_slider_crank(): #ADAPT IT TO CONSIDER ANY MOVEMENT CONSTRAINT!!!\n",
    "\n",
    "    #     # Define the symbols\n",
    "    theta_2, theta_3, theta_4 ,time= symbols('theta_2 theta_3 theta_4 time')\n",
    "    r_x_2, r_y_2, r_x_3, r_y_3, r_x_4, r_y_4 = symbols('r_x_2 r_y_2 r_x_3 r_y_3 r_x_4 r_y_4')\n",
    "\n",
    "    # Extract left-hand side of each equation\n",
    "    exprs = [eq.lhs for eq in four_bars_slidercrank_example_symbolic_full()]\n",
    "\n",
    "    # Add the additional constraint\n",
    "    exprs.append(theta_2-np.pi/4*time)\n",
    "\n",
    "    # Convert the list to a Matrix\n",
    "    f = Matrix(exprs)\n",
    "\n",
    "\n",
    "    # Variables with respect to which we differentiate\n",
    "    variables = [time]\n",
    "\n",
    "    # Compute the Jacobian\n",
    "    C_t = f.jacobian(variables)\n",
    "    return(C_t)\n",
    "\n",
    "\n",
    "def plot_theta2_vs_vx4_w_cte(theta_2_range, L2_value, L3_value, offset_value, alfa_value):\n",
    "    # Generate solutions for a range of theta_2 values\n",
    "    #solutions_list = []\n",
    "    \n",
    "    theta_2, theta_3 = symbols('theta_2, theta_3')\n",
    "    L2, L3, alfa, offset = symbols('L2 L3 alfa, offset')\n",
    "\n",
    "    C_q_inv = jacobian_slider_crank().inv() #dependent on q\n",
    "    C_t = C_t_slider_crank() #not dependant of q neither t here, constant\n",
    "\n",
    "\n",
    "    theta_2_values = []\n",
    "    v_x_4_values = []\n",
    "    for theta_2_loop in theta_2_range:\n",
    "\n",
    "        #solve the position\n",
    "        solutions = sp.solve( [eq.subs({theta_2: theta_2_loop, L2: L2_value, L3: L3_value, offset: offset_value, alfa: alfa_value}) for eq in four_bars_slidercrank_example_symbolic_full()] )\n",
    "        \n",
    "        q = solutions[1]\n",
    "\n",
    "        #now calculate q_dot\n",
    "        q_dot = -C_q_inv*C_t\n",
    "        \n",
    "\n",
    "        q_dot = q_dot.subs({theta_2: theta_2_loop, L2: L2_value, L3: L3_value, offset: offset_value, alfa: alfa_value, theta_3: q[theta_3]})\n",
    "        #print(q_dot)\n",
    "        v_x_4_values.append(float(q_dot[6]))\n",
    "\n",
    "        \n",
    "    \n",
    "        theta_2_values.append(theta_2_loop)\n",
    "   \n",
    "\n",
    "    # Create trace\n",
    "    trace = go.Scatter(x=theta_2_values, y=v_x_4_values, mode='lines+markers', name='Theta_2 vs v_x_4 ????')\n",
    "\n",
    "    # Define layout\n",
    "    layout = go.Layout(title='Theta_2 vs v_x_4 Plot',\n",
    "                       xaxis=dict(title='Theta_2'),\n",
    "                       yaxis=dict(title='r_x_4'),\n",
    "                       showlegend=True,\n",
    "                       autosize=False,\n",
    "                       width=600,\n",
    "                       height=600)\n",
    "\n",
    "    fig = go.Figure(data=[trace], layout=layout)\n",
    "    fig.show()\n",
    "\n",
    "\n",
    "\n",
    "plot_theta2_vs_vx4_w_cte(theta_2_range = np.linspace(0, 2*np.pi, 100), L2_value=1, L3_value=2, offset_value=0, alfa_value=0) "
   ]
  },
  {
   "cell_type": "code",
   "execution_count": 4,
   "metadata": {},
   "outputs": [
    {
     "data": {
      "application/vnd.plotly.v1+json": {
       "config": {
        "plotlyServerURL": "https://plot.ly"
       },
       "data": [
        {
         "mode": "lines+markers",
         "name": "Theta_2 vs r_x_4",
         "type": "scatter",
         "x": [
          0,
          0.06346651825433926,
          0.12693303650867852,
          0.1903995547630178,
          0.25386607301735703,
          0.3173325912716963,
          0.3807991095260356,
          0.4442656277803748,
          0.5077321460347141,
          0.5711986642890533,
          0.6346651825433925,
          0.6981317007977318,
          0.7615982190520711,
          0.8250647373064104,
          0.8885312555607496,
          0.9519977738150889,
          1.0154642920694281,
          1.0789308103237674,
          1.1423973285781066,
          1.2058638468324459,
          1.269330365086785,
          1.3327968833411243,
          1.3962634015954636,
          1.4597299198498028,
          1.5231964381041423,
          1.5866629563584815,
          1.6501294746128208,
          1.71359599286716,
          1.7770625111214993,
          1.8405290293758385,
          1.9039955476301778,
          1.967462065884517,
          2.0309285841388562,
          2.0943951023931957,
          2.1578616206475347,
          2.221328138901874,
          2.284794657156213,
          2.3482611754105527,
          2.4117276936648917,
          2.475194211919231,
          2.53866073017357,
          2.6021272484279097,
          2.6655937666822487,
          2.729060284936588,
          2.792526803190927,
          2.8559933214452666,
          2.9194598396996057,
          2.982926357953945,
          3.0463928762082846,
          3.1098593944626236,
          3.173325912716963,
          3.236792430971302,
          3.3002589492256416,
          3.3637254674799806,
          3.42719198573432,
          3.490658503988659,
          3.5541250222429985,
          3.6175915404973376,
          3.681058058751677,
          3.744524577006016,
          3.8079910952603555,
          3.8714576135146945,
          3.934924131769034,
          3.998390650023373,
          4.0618571682777125,
          4.1253236865320515,
          4.188790204786391,
          4.25225672304073,
          4.3157232412950695,
          4.3791897595494085,
          4.442656277803748,
          4.506122796058087,
          4.569589314312426,
          4.6330558325667655,
          4.696522350821105,
          4.759988869075444,
          4.823455387329783,
          4.886921905584122,
          4.950388423838462,
          5.013854942092801,
          5.07732146034714,
          5.14078797860148,
          5.204254496855819,
          5.267721015110158,
          5.331187533364497,
          5.394654051618837,
          5.458120569873176,
          5.521587088127515,
          5.585053606381854,
          5.648520124636194,
          5.711986642890533,
          5.775453161144872,
          5.838919679399211,
          5.902386197653551,
          5.96585271590789,
          6.029319234162229,
          6.092785752416569,
          6.156252270670908,
          6.219718788925247,
          6.283185307179586
         ],
         "y": [
          3,
          2.996980775116349,
          2.9879443796116885,
          2.9729545550827496,
          2.952117214536027,
          2.925579945553549,
          2.8935312898524796,
          2.8561997740481364,
          2.813852658975579,
          2.766794367636027,
          2.7153645451682262,
          2.659935698928948,
          2.600910363843244,
          2.538717739022528,
          2.4738097478975614,
          2.406656487568874,
          2.337741055418879,
          2.267553773421268,
          2.1965858731462347,
          2.125322755698234,
          2.0542369971369583,
          1.9837813254325474,
          1.9143818418462168,
          1.8464317890103097,
          1.7802861718101635,
          1.7162575100573991,
          1.6546129430467198,
          1.5955728201191528,
          1.5393108082774907,
          1.4859554411965956,
          1.4355929378852474,
          1.388271045806173,
          1.3440036199161944,
          1.3027756377319946,
          1.2645483678514813,
          1.229264448369993,
          1.196852683639455,
          1.1672324243365777,
          1.1403174498848303,
          1.1160193191665022,
          1.0942501926665962,
          1.0749251560942454,
          1.0579640928453309,
          1.0432931618840329,
          1.0308459405113555,
          1.020564289803809,
          1.012398995767493,
          1.0063102326702393,
          1.0022678874700932,
          1.0002517763399343,
          1.0002517763399343,
          1.0022678874700932,
          1.0063102326702393,
          1.012398995767493,
          1.020564289803809,
          1.0308459405113555,
          1.0432931618840329,
          1.057964092845331,
          1.0749251560942454,
          1.0942501926665962,
          1.116019319166503,
          1.1403174498848303,
          1.1672324243365777,
          1.196852683639455,
          1.229264448369993,
          1.2645483678514813,
          1.3027756377319946,
          1.3440036199161944,
          1.388271045806173,
          1.4355929378852474,
          1.4859554411965956,
          1.5393108082774907,
          1.5955728201191528,
          1.6546129430467196,
          1.7162575100573996,
          1.7802861718101637,
          1.8464317890103097,
          1.9143818418462168,
          1.9837813254325474,
          2.0542369971369583,
          2.125322755698234,
          2.1965858731462355,
          2.267553773421268,
          2.337741055418879,
          2.406656487568874,
          2.4738097478975614,
          2.538717739022528,
          2.600910363843244,
          2.6599356989289475,
          2.7153645451682262,
          2.7667943676360274,
          2.813852658975579,
          2.8561997740481364,
          2.89353128985248,
          2.925579945553549,
          2.952117214536027,
          2.9729545550827496,
          2.9879443796116885,
          2.996980775116349,
          3
         ]
        }
       ],
       "layout": {
        "autosize": false,
        "height": 600,
        "showlegend": true,
        "template": {
         "data": {
          "bar": [
           {
            "error_x": {
             "color": "#2a3f5f"
            },
            "error_y": {
             "color": "#2a3f5f"
            },
            "marker": {
             "line": {
              "color": "#E5ECF6",
              "width": 0.5
             },
             "pattern": {
              "fillmode": "overlay",
              "size": 10,
              "solidity": 0.2
             }
            },
            "type": "bar"
           }
          ],
          "barpolar": [
           {
            "marker": {
             "line": {
              "color": "#E5ECF6",
              "width": 0.5
             },
             "pattern": {
              "fillmode": "overlay",
              "size": 10,
              "solidity": 0.2
             }
            },
            "type": "barpolar"
           }
          ],
          "carpet": [
           {
            "aaxis": {
             "endlinecolor": "#2a3f5f",
             "gridcolor": "white",
             "linecolor": "white",
             "minorgridcolor": "white",
             "startlinecolor": "#2a3f5f"
            },
            "baxis": {
             "endlinecolor": "#2a3f5f",
             "gridcolor": "white",
             "linecolor": "white",
             "minorgridcolor": "white",
             "startlinecolor": "#2a3f5f"
            },
            "type": "carpet"
           }
          ],
          "choropleth": [
           {
            "colorbar": {
             "outlinewidth": 0,
             "ticks": ""
            },
            "type": "choropleth"
           }
          ],
          "contour": [
           {
            "colorbar": {
             "outlinewidth": 0,
             "ticks": ""
            },
            "colorscale": [
             [
              0,
              "#0d0887"
             ],
             [
              0.1111111111111111,
              "#46039f"
             ],
             [
              0.2222222222222222,
              "#7201a8"
             ],
             [
              0.3333333333333333,
              "#9c179e"
             ],
             [
              0.4444444444444444,
              "#bd3786"
             ],
             [
              0.5555555555555556,
              "#d8576b"
             ],
             [
              0.6666666666666666,
              "#ed7953"
             ],
             [
              0.7777777777777778,
              "#fb9f3a"
             ],
             [
              0.8888888888888888,
              "#fdca26"
             ],
             [
              1,
              "#f0f921"
             ]
            ],
            "type": "contour"
           }
          ],
          "contourcarpet": [
           {
            "colorbar": {
             "outlinewidth": 0,
             "ticks": ""
            },
            "type": "contourcarpet"
           }
          ],
          "heatmap": [
           {
            "colorbar": {
             "outlinewidth": 0,
             "ticks": ""
            },
            "colorscale": [
             [
              0,
              "#0d0887"
             ],
             [
              0.1111111111111111,
              "#46039f"
             ],
             [
              0.2222222222222222,
              "#7201a8"
             ],
             [
              0.3333333333333333,
              "#9c179e"
             ],
             [
              0.4444444444444444,
              "#bd3786"
             ],
             [
              0.5555555555555556,
              "#d8576b"
             ],
             [
              0.6666666666666666,
              "#ed7953"
             ],
             [
              0.7777777777777778,
              "#fb9f3a"
             ],
             [
              0.8888888888888888,
              "#fdca26"
             ],
             [
              1,
              "#f0f921"
             ]
            ],
            "type": "heatmap"
           }
          ],
          "heatmapgl": [
           {
            "colorbar": {
             "outlinewidth": 0,
             "ticks": ""
            },
            "colorscale": [
             [
              0,
              "#0d0887"
             ],
             [
              0.1111111111111111,
              "#46039f"
             ],
             [
              0.2222222222222222,
              "#7201a8"
             ],
             [
              0.3333333333333333,
              "#9c179e"
             ],
             [
              0.4444444444444444,
              "#bd3786"
             ],
             [
              0.5555555555555556,
              "#d8576b"
             ],
             [
              0.6666666666666666,
              "#ed7953"
             ],
             [
              0.7777777777777778,
              "#fb9f3a"
             ],
             [
              0.8888888888888888,
              "#fdca26"
             ],
             [
              1,
              "#f0f921"
             ]
            ],
            "type": "heatmapgl"
           }
          ],
          "histogram": [
           {
            "marker": {
             "pattern": {
              "fillmode": "overlay",
              "size": 10,
              "solidity": 0.2
             }
            },
            "type": "histogram"
           }
          ],
          "histogram2d": [
           {
            "colorbar": {
             "outlinewidth": 0,
             "ticks": ""
            },
            "colorscale": [
             [
              0,
              "#0d0887"
             ],
             [
              0.1111111111111111,
              "#46039f"
             ],
             [
              0.2222222222222222,
              "#7201a8"
             ],
             [
              0.3333333333333333,
              "#9c179e"
             ],
             [
              0.4444444444444444,
              "#bd3786"
             ],
             [
              0.5555555555555556,
              "#d8576b"
             ],
             [
              0.6666666666666666,
              "#ed7953"
             ],
             [
              0.7777777777777778,
              "#fb9f3a"
             ],
             [
              0.8888888888888888,
              "#fdca26"
             ],
             [
              1,
              "#f0f921"
             ]
            ],
            "type": "histogram2d"
           }
          ],
          "histogram2dcontour": [
           {
            "colorbar": {
             "outlinewidth": 0,
             "ticks": ""
            },
            "colorscale": [
             [
              0,
              "#0d0887"
             ],
             [
              0.1111111111111111,
              "#46039f"
             ],
             [
              0.2222222222222222,
              "#7201a8"
             ],
             [
              0.3333333333333333,
              "#9c179e"
             ],
             [
              0.4444444444444444,
              "#bd3786"
             ],
             [
              0.5555555555555556,
              "#d8576b"
             ],
             [
              0.6666666666666666,
              "#ed7953"
             ],
             [
              0.7777777777777778,
              "#fb9f3a"
             ],
             [
              0.8888888888888888,
              "#fdca26"
             ],
             [
              1,
              "#f0f921"
             ]
            ],
            "type": "histogram2dcontour"
           }
          ],
          "mesh3d": [
           {
            "colorbar": {
             "outlinewidth": 0,
             "ticks": ""
            },
            "type": "mesh3d"
           }
          ],
          "parcoords": [
           {
            "line": {
             "colorbar": {
              "outlinewidth": 0,
              "ticks": ""
             }
            },
            "type": "parcoords"
           }
          ],
          "pie": [
           {
            "automargin": true,
            "type": "pie"
           }
          ],
          "scatter": [
           {
            "fillpattern": {
             "fillmode": "overlay",
             "size": 10,
             "solidity": 0.2
            },
            "type": "scatter"
           }
          ],
          "scatter3d": [
           {
            "line": {
             "colorbar": {
              "outlinewidth": 0,
              "ticks": ""
             }
            },
            "marker": {
             "colorbar": {
              "outlinewidth": 0,
              "ticks": ""
             }
            },
            "type": "scatter3d"
           }
          ],
          "scattercarpet": [
           {
            "marker": {
             "colorbar": {
              "outlinewidth": 0,
              "ticks": ""
             }
            },
            "type": "scattercarpet"
           }
          ],
          "scattergeo": [
           {
            "marker": {
             "colorbar": {
              "outlinewidth": 0,
              "ticks": ""
             }
            },
            "type": "scattergeo"
           }
          ],
          "scattergl": [
           {
            "marker": {
             "colorbar": {
              "outlinewidth": 0,
              "ticks": ""
             }
            },
            "type": "scattergl"
           }
          ],
          "scattermapbox": [
           {
            "marker": {
             "colorbar": {
              "outlinewidth": 0,
              "ticks": ""
             }
            },
            "type": "scattermapbox"
           }
          ],
          "scatterpolar": [
           {
            "marker": {
             "colorbar": {
              "outlinewidth": 0,
              "ticks": ""
             }
            },
            "type": "scatterpolar"
           }
          ],
          "scatterpolargl": [
           {
            "marker": {
             "colorbar": {
              "outlinewidth": 0,
              "ticks": ""
             }
            },
            "type": "scatterpolargl"
           }
          ],
          "scatterternary": [
           {
            "marker": {
             "colorbar": {
              "outlinewidth": 0,
              "ticks": ""
             }
            },
            "type": "scatterternary"
           }
          ],
          "surface": [
           {
            "colorbar": {
             "outlinewidth": 0,
             "ticks": ""
            },
            "colorscale": [
             [
              0,
              "#0d0887"
             ],
             [
              0.1111111111111111,
              "#46039f"
             ],
             [
              0.2222222222222222,
              "#7201a8"
             ],
             [
              0.3333333333333333,
              "#9c179e"
             ],
             [
              0.4444444444444444,
              "#bd3786"
             ],
             [
              0.5555555555555556,
              "#d8576b"
             ],
             [
              0.6666666666666666,
              "#ed7953"
             ],
             [
              0.7777777777777778,
              "#fb9f3a"
             ],
             [
              0.8888888888888888,
              "#fdca26"
             ],
             [
              1,
              "#f0f921"
             ]
            ],
            "type": "surface"
           }
          ],
          "table": [
           {
            "cells": {
             "fill": {
              "color": "#EBF0F8"
             },
             "line": {
              "color": "white"
             }
            },
            "header": {
             "fill": {
              "color": "#C8D4E3"
             },
             "line": {
              "color": "white"
             }
            },
            "type": "table"
           }
          ]
         },
         "layout": {
          "annotationdefaults": {
           "arrowcolor": "#2a3f5f",
           "arrowhead": 0,
           "arrowwidth": 1
          },
          "autotypenumbers": "strict",
          "coloraxis": {
           "colorbar": {
            "outlinewidth": 0,
            "ticks": ""
           }
          },
          "colorscale": {
           "diverging": [
            [
             0,
             "#8e0152"
            ],
            [
             0.1,
             "#c51b7d"
            ],
            [
             0.2,
             "#de77ae"
            ],
            [
             0.3,
             "#f1b6da"
            ],
            [
             0.4,
             "#fde0ef"
            ],
            [
             0.5,
             "#f7f7f7"
            ],
            [
             0.6,
             "#e6f5d0"
            ],
            [
             0.7,
             "#b8e186"
            ],
            [
             0.8,
             "#7fbc41"
            ],
            [
             0.9,
             "#4d9221"
            ],
            [
             1,
             "#276419"
            ]
           ],
           "sequential": [
            [
             0,
             "#0d0887"
            ],
            [
             0.1111111111111111,
             "#46039f"
            ],
            [
             0.2222222222222222,
             "#7201a8"
            ],
            [
             0.3333333333333333,
             "#9c179e"
            ],
            [
             0.4444444444444444,
             "#bd3786"
            ],
            [
             0.5555555555555556,
             "#d8576b"
            ],
            [
             0.6666666666666666,
             "#ed7953"
            ],
            [
             0.7777777777777778,
             "#fb9f3a"
            ],
            [
             0.8888888888888888,
             "#fdca26"
            ],
            [
             1,
             "#f0f921"
            ]
           ],
           "sequentialminus": [
            [
             0,
             "#0d0887"
            ],
            [
             0.1111111111111111,
             "#46039f"
            ],
            [
             0.2222222222222222,
             "#7201a8"
            ],
            [
             0.3333333333333333,
             "#9c179e"
            ],
            [
             0.4444444444444444,
             "#bd3786"
            ],
            [
             0.5555555555555556,
             "#d8576b"
            ],
            [
             0.6666666666666666,
             "#ed7953"
            ],
            [
             0.7777777777777778,
             "#fb9f3a"
            ],
            [
             0.8888888888888888,
             "#fdca26"
            ],
            [
             1,
             "#f0f921"
            ]
           ]
          },
          "colorway": [
           "#636efa",
           "#EF553B",
           "#00cc96",
           "#ab63fa",
           "#FFA15A",
           "#19d3f3",
           "#FF6692",
           "#B6E880",
           "#FF97FF",
           "#FECB52"
          ],
          "font": {
           "color": "#2a3f5f"
          },
          "geo": {
           "bgcolor": "white",
           "lakecolor": "white",
           "landcolor": "#E5ECF6",
           "showlakes": true,
           "showland": true,
           "subunitcolor": "white"
          },
          "hoverlabel": {
           "align": "left"
          },
          "hovermode": "closest",
          "mapbox": {
           "style": "light"
          },
          "paper_bgcolor": "white",
          "plot_bgcolor": "#E5ECF6",
          "polar": {
           "angularaxis": {
            "gridcolor": "white",
            "linecolor": "white",
            "ticks": ""
           },
           "bgcolor": "#E5ECF6",
           "radialaxis": {
            "gridcolor": "white",
            "linecolor": "white",
            "ticks": ""
           }
          },
          "scene": {
           "xaxis": {
            "backgroundcolor": "#E5ECF6",
            "gridcolor": "white",
            "gridwidth": 2,
            "linecolor": "white",
            "showbackground": true,
            "ticks": "",
            "zerolinecolor": "white"
           },
           "yaxis": {
            "backgroundcolor": "#E5ECF6",
            "gridcolor": "white",
            "gridwidth": 2,
            "linecolor": "white",
            "showbackground": true,
            "ticks": "",
            "zerolinecolor": "white"
           },
           "zaxis": {
            "backgroundcolor": "#E5ECF6",
            "gridcolor": "white",
            "gridwidth": 2,
            "linecolor": "white",
            "showbackground": true,
            "ticks": "",
            "zerolinecolor": "white"
           }
          },
          "shapedefaults": {
           "line": {
            "color": "#2a3f5f"
           }
          },
          "ternary": {
           "aaxis": {
            "gridcolor": "white",
            "linecolor": "white",
            "ticks": ""
           },
           "baxis": {
            "gridcolor": "white",
            "linecolor": "white",
            "ticks": ""
           },
           "bgcolor": "#E5ECF6",
           "caxis": {
            "gridcolor": "white",
            "linecolor": "white",
            "ticks": ""
           }
          },
          "title": {
           "x": 0.05
          },
          "xaxis": {
           "automargin": true,
           "gridcolor": "white",
           "linecolor": "white",
           "ticks": "",
           "title": {
            "standoff": 15
           },
           "zerolinecolor": "white",
           "zerolinewidth": 2
          },
          "yaxis": {
           "automargin": true,
           "gridcolor": "white",
           "linecolor": "white",
           "ticks": "",
           "title": {
            "standoff": 15
           },
           "zerolinecolor": "white",
           "zerolinewidth": 2
          }
         }
        },
        "title": {
         "text": "Theta_2 vs r_x_4 Plot"
        },
        "width": 600,
        "xaxis": {
         "title": {
          "text": "Theta_2"
         }
        },
        "yaxis": {
         "title": {
          "text": "r_x_4"
         }
        }
       }
      }
     },
     "metadata": {},
     "output_type": "display_data"
    }
   ],
   "source": [
    "plot_theta2_vs_rx4(theta_2_range = np.linspace(0, 2*np.pi, 100), L2_value=1, L3_value=2, offset_value=0, alfa_value=0) "
   ]
  },
  {
   "cell_type": "code",
   "execution_count": null,
   "metadata": {},
   "outputs": [],
   "source": [
    "#streamlit run slidercrankv1.py\n",
    "\n",
    "\n",
    "import streamlit as st\n",
    "import numpy as np\n",
    "import plotly.graph_objects as go\n",
    "\n",
    "\n",
    "\n",
    "\n",
    "import sympy as sp\n",
    "\n",
    "from sympy import Eq, solve, pi\n",
    "from sympy import lambdify\n",
    "from scipy.optimize import fsolve\n",
    "\n",
    "\n",
    "from sympy import symbols, Eq, cos, sin, diff, Matrix\n",
    "from sympy import Matrix, Eq\n",
    "\n",
    "\n",
    "\n",
    "# from sympy import symbols, Eq, cos, sin, diff, Matrix\n",
    "# from sympy import Matrix, Eq\n",
    "\n",
    "\n",
    "from sympy import Matrix, cos, sin, symbols\n",
    "\n",
    "def rotation_matrix_2d(theta):\n",
    "    \"\"\"Generate a 2D rotation matrix for a given angle.\"\"\"\n",
    "    return Matrix([\n",
    "        [cos(theta), -sin(theta)],\n",
    "        [sin(theta), cos(theta)]\n",
    "    ])\n",
    "\n",
    "def generate_constraint_equations_pr(theta_i, theta_j, r_x_i, r_y_i, r_x_j, r_y_j, u_x_i, u_y_i, u_x_j, u_y_j):\n",
    "    \"\"\"Generate the position restraint equations for the PR.\"\"\"\n",
    "    R_i = Matrix([r_x_i, r_y_i])\n",
    "    R_j = Matrix([r_x_j, r_y_j])\n",
    "    local_vector_i = Matrix([u_x_i, u_y_i])\n",
    "    local_vector_j = Matrix([u_x_j, u_y_j])\n",
    "    \n",
    "    transformed_vector_i = rotation_matrix_2d(theta_i) * local_vector_i\n",
    "    transformed_vector_j = rotation_matrix_2d(theta_j) * local_vector_j\n",
    "\n",
    "    constraint_equations = R_i + transformed_vector_i - R_j - transformed_vector_j\n",
    "    return constraint_equations\n",
    "\n",
    "\n",
    "\n",
    "def generate_equations_included_topology_pr(theta_i, theta_j, r_x_i, r_y_i, r_x_j, r_y_j, u_x_a, u_y_a, u_x_b, u_y_b):\n",
    "\n",
    "    u_x_i, u_y_i, u_x_j, u_y_j = symbols('u_x_i u_y_i u_x_j u_y_j')\n",
    "\n",
    "\n",
    "    # Generate the constraint equations\n",
    "    equations = generate_constraint_equations_pr(theta_i, theta_j, r_x_i, r_y_i, r_x_j, r_y_j, u_x_i, u_y_i, u_x_j, u_y_j)\n",
    "    \n",
    "    # Substitute the symbolic variables with the provided values\n",
    "    equations_substituted = equations.subs({u_x_i: u_x_a, u_y_i: u_y_a, u_x_j: u_x_b, u_y_j: u_y_b})\n",
    "    \n",
    "    \n",
    "    # Return the equation and the symbols\n",
    "    #return (equations)\n",
    "    return equations_substituted\n",
    "\n",
    "from sympy import symbols, Eq, tan, Matrix\n",
    "\n",
    "def generate_constraint_equations_ppl(theta_i, theta_j, r_x_i, r_y_i, r_x_j, r_y_j, alfa, offset):\n",
    "    \"\"\"Generate the position restraint equations for the PPL.\"\"\"\n",
    "\n",
    "    expr1 = theta_j - theta_i - alfa\n",
    "    expr2 = r_y_j - tan(alfa) * r_x_j - offset\n",
    "    \n",
    "    return Matrix([[expr1], [expr2]])\n",
    "\n",
    "\n",
    "def four_bars_slidercrank_example_symbolic_full():\n",
    "\n",
    "    theta_1, theta_2, theta_3, theta_4 = symbols('theta_1 theta_2 theta_3 theta_4')\n",
    "    r_x_1, r_y_1, r_x_2, r_y_2, r_x_3, r_y_3, r_x_4, r_y_4 = symbols('r_x_1 r_y_1 r_x_2 r_y_2 r_x_3 r_y_3 r_x_4 r_y_4')\n",
    "\n",
    "    L2, L3, L4, alfa, offset = symbols('L2 L3 L4 alfa, offset')\n",
    "\n",
    "\n",
    "    u_x_1_12 = 0\n",
    "    u_y_1_12 = 0\n",
    "    u_x_2_12 = 0\n",
    "    u_y_2_12 = 0\n",
    "    restrictions_pr12 = generate_equations_included_topology_pr(theta_1, theta_2, r_x_1, r_y_1, r_x_2, r_y_2, u_x_1_12, u_y_1_12, u_x_2_12, u_y_2_12)\n",
    "\n",
    "    u_x_2_23 = L2\n",
    "    u_y_2_23 = 0\n",
    "    u_x_3_23 = 0\n",
    "    u_y_3_23 = 0\n",
    "    restrictions_pr23 = generate_equations_included_topology_pr(theta_2, theta_3, r_x_2, r_y_2, r_x_3, r_y_3, u_x_2_23, u_y_2_23, u_x_3_23, u_y_3_23)\n",
    "\n",
    "    u_x_3_34 = L3\n",
    "    u_y_3_34 = 0\n",
    "    u_x_4_34 = 0\n",
    "    u_y_4_34 = 0\n",
    "    restrictions_pr34 = generate_equations_included_topology_pr(theta_3, theta_4, r_x_3, r_y_3, r_x_4, r_y_4, u_x_3_34, u_y_3_34, u_x_4_34, u_y_4_34)\n",
    "    \n",
    "    restrictions_ppl14 = generate_constraint_equations_ppl(theta_1, theta_4, r_x_1, r_y_1, r_x_4, r_y_4, alfa, offset)\n",
    "    \n",
    "    # Stacking the matrices vertically to form a single large matrix\n",
    "    restrictions_to_solve = restrictions_pr12.col_join(restrictions_pr23).col_join(restrictions_pr34).col_join(restrictions_ppl14)\n",
    "\n",
    "    # Substituting the known values into the equations\n",
    "    restrictions_substituted = restrictions_to_solve.subs({\n",
    "        r_x_1: 0,\n",
    "        r_y_1: 0,\n",
    "        theta_1: 0 })\n",
    "\n",
    "    # Create a list of equations from the matrix\n",
    "    equation_list = [Eq(restrictions_substituted[i, 0], 0) for i in range(restrictions_substituted.shape[0])]\n",
    "\n",
    "\n",
    "    return(equation_list)\n",
    "\n",
    "\n",
    "def convert_floats(solution_dict):\n",
    "    \"\"\"Convert all values in the dictionary to float.\"\"\"\n",
    "    return {key: float(value.evalf()) if isinstance(value, (sp.Number, sp.Symbol)) else value \n",
    "            for key, value in solution_dict.items()}\n",
    "\n",
    "\n",
    "def plot_slidercrank_position_json(new_input):\n",
    "    # Extract values from the input dictionary using string keys\n",
    "    r_x_2_value = new_input['r_x_2']\n",
    "    r_y_2_value = new_input['r_y_2']\n",
    "    r_x_3_value = new_input['r_x_3']\n",
    "    r_y_3_value = new_input['r_y_3']\n",
    "    r_x_4_value = new_input['r_x_4']\n",
    "    r_y_4_value = new_input['r_y_4']\n",
    "\n",
    "    #print(r_x_2_value)\n",
    "    \n",
    "    # Create traces for each line\n",
    "    trace1 = go.Scatter(x=[r_x_2_value, r_x_3_value], y=[r_y_2_value, r_y_3_value], mode='lines+markers', name='Link 2-3')\n",
    "    trace2 = go.Scatter(x=[r_x_3_value, r_x_4_value], y=[r_y_3_value, r_y_4_value], mode='lines+markers', name='Link 3-4')\n",
    "    #trace3 = go.Scatter(x=[r_x_4_value, Separation], y=[r_y_4_value, 0], mode='lines+markers', name='Link 4-Base')\n",
    "    \n",
    "    # Define layout with equal aspect ratio and specified axis ranges\n",
    "    layout = go.Layout(title='Four Bars Mechanism Visualization',\n",
    "                       xaxis=dict(title='X Coordinate', scaleanchor=\"y\", scaleratio=1, range=[-15, 15]),\n",
    "                       yaxis=dict(title='Y Coordinate', scaleanchor=\"x\", scaleratio=1, range=[-15, 15]),\n",
    "                       showlegend=True,\n",
    "                       autosize=False,  # Disable automatic sizing to maintain aspect ratio\n",
    "                       width=500,  # Set width of the plot\n",
    "                       height=500)  # Set height of the plot\n",
    "    \n",
    "    # Create figure and plot\n",
    "    fig = go.Figure(data=[trace1, trace2], layout=layout)\n",
    "    fig.show()\n",
    "\n",
    "\n",
    "\n",
    "def solve_and_plot_slidercrank(theta_2_value, L2_value, L3_value, offset_value, alfa_value):\n",
    "\n",
    "        \n",
    "    # Solve the equations\n",
    "    #solutions = sp.solve( [eq.subs({theta_2: np.pi/2, L2: 8, L3: 8, offset: 0, alfa: 0}) for eq in four_bars_slidercrank_example_symbolic_full()] )\n",
    "    solutions = sp.solve( [eq.subs({theta_2: theta_2_value, L2: L2_value, L3: L3_value, offset: offset_value, alfa: alfa_value}) for eq in four_bars_slidercrank_example_symbolic_full()] )\n",
    "\n",
    "    solutions_theta_3_1 = solutions[1]\n",
    "\n",
    "    solution_json = {str(key): value for key, value in solutions_theta_3_1.items()}\n",
    "\n",
    "    solution_json_converted = convert_floats(solution_json)\n",
    "    print(solution_json_converted)\n",
    "    plot_slidercrank_position_json(solution_json_converted)\n",
    "\n",
    "\n",
    "\n",
    "\n",
    "# def plot_slidercrank_with_slider(theta_2_range, L2_value, L3_value, offset_value, alfa_value):\n",
    "\n",
    "#     theta_2, L2, L3, offset, alfa = sp.symbols('theta_2 L2 L3 offset alfa')\n",
    "\n",
    "\n",
    "#     # Generate solutions for a range of theta_2 values\n",
    "#     solutions_list = []\n",
    "#     print(theta_2_range)\n",
    "#     for theta_2_loop in theta_2_range:\n",
    "#         #print(theta_2_loop)\n",
    "#         solutions = sp.solve( [eq.subs({theta_2: theta_2_loop, L2: L2_value, L3: L3_value, offset: offset_value, alfa: alfa_value}) for eq in four_bars_slidercrank_example_symbolic_full()] )\n",
    "#         #print(solutions)\n",
    "#         selected_solution = solutions[1]\n",
    "\n",
    "        \n",
    "#         solution_json = {str(key): value for key, value in selected_solution.items()}\n",
    "#         solution_json_converted = convert_floats(solution_json)\n",
    "#         solutions_list.append(solution_json_converted)\n",
    "\n",
    "#      # Generate traces for the plot\n",
    "#     traces = []\n",
    "#     for solution in solutions_list:\n",
    "#         trace1 = go.Scatter(x=[solution['r_x_2'], solution['r_x_3']],\n",
    "#                             y=[solution['r_y_2'], solution['r_y_3']],\n",
    "#                             mode='lines+markers', name='Link 2-3')\n",
    "#         trace2 = go.Scatter(x=[solution['r_x_3'], solution['r_x_4']],\n",
    "#                             y=[solution['r_y_3'], solution['r_y_4']],\n",
    "#                             mode='lines+markers', name='Link 3-4')\n",
    "#         traces.extend([trace1, trace2])\n",
    "\n",
    "#     # Create the slider steps\n",
    "#     steps = []\n",
    "#     for i, theta_2 in enumerate(theta_2_range):\n",
    "#         step = dict(args=[{\"visible\": [False] * len(traces)}],  # Set all traces to invisible\n",
    "#                     method=\"restyle\",\n",
    "#                     label=f\"{theta_2:.2f}\")\n",
    "#         step[\"args\"][0][\"visible\"][i*2:i*2+2] = [True, True]  # Toggle i'th trace to \"visible\"\n",
    "#         steps.append(step)\n",
    "\n",
    "#     sliders = [dict(active=10, yanchor=\"top\", steps=steps)]\n",
    "\n",
    "#     # Define layout\n",
    "#     layout = go.Layout(title='Four Bars Mechanism Visualization',\n",
    "#                        xaxis=dict(title='X Coordinate', scaleanchor=\"y\", scaleratio=1, range=[-15, 15]),\n",
    "#                        yaxis=dict(title='Y Coordinate', scaleanchor=\"x\", scaleratio=1, range=[-15, 15]),\n",
    "#                        showlegend=True,\n",
    "#                        autosize=False,\n",
    "#                        width=600,\n",
    "#                        height=600,\n",
    "#                        sliders=sliders)\n",
    "\n",
    "#     fig = go.Figure(data=traces, layout=layout)\n",
    "#     #fig.show()\n",
    "#     return(fig)\n",
    "\n",
    "\n",
    "\n",
    "\n",
    "# def plot_theta2_vs_rx4(theta_2_range, L2_value, L3_value, offset_value, alfa_value):\n",
    "#     # Generate solutions for a range of theta_2 values\n",
    "#     #solutions_list = []\n",
    "    \n",
    "#     theta_2, r_x_4 = symbols('theta_2, r_x_4')\n",
    "#     L2, L3, alfa, offset = symbols('L2 L3 alfa, offset')\n",
    "\n",
    "#     theta_2_values = []\n",
    "#     r_x_4_values = []\n",
    "#     for theta_2_loop in theta_2_range:\n",
    "#         solutions = sp.solve( [eq.subs({theta_2: theta_2_loop, L2: L2_value, L3: L3_value, offset: offset_value, alfa: alfa_value}) for eq in four_bars_slidercrank_example_symbolic_full()] )\n",
    "        \n",
    "#         selected_solution = solutions[1]\n",
    "\n",
    "#         r_x_4_values.append(float(selected_solution[r_x_4]))\n",
    "#         theta_2_values.append(theta_2_loop)\n",
    "\n",
    "\n",
    "#     # Extract theta_2 and r_x_4 values for plotting\n",
    "#     # theta_2_values = [theta_2 for theta_2 in theta_2_range]\n",
    "#     # r_x_4_values = [solution['r_x_4'] for solution in solutions_list]\n",
    "\n",
    "#     # Create trace\n",
    "#     trace = go.Scatter(x=theta_2_values, y=r_x_4_values, mode='lines+markers', name='Theta_2 vs r_x_4')\n",
    "\n",
    "#     # Define layout\n",
    "#     layout = go.Layout(title='Theta_2 vs r_x_4 Plot',\n",
    "#                        xaxis=dict(title='Theta_2'),\n",
    "#                        yaxis=dict(title='r_x_4'),\n",
    "#                        showlegend=True,\n",
    "#                        autosize=False,\n",
    "#                        width=600,\n",
    "#                        height=600)\n",
    "\n",
    "#     fig = go.Figure(data=[trace], layout=layout)\n",
    "#     #fig.show()\n",
    "#     return(fig)\n",
    "\n",
    "\n",
    "\n",
    "\n",
    "def jacobian_slider_crank(): #ADAPT IT TO CONSIDER ANY MOVEMENT CONSTRAINT!!!\n",
    "\n",
    "    #     # Define the symbols\n",
    "    theta_2, theta_3, theta_4 = symbols('theta_2 theta_3 theta_4')\n",
    "    r_x_2, r_y_2, r_x_3, r_y_3, r_x_4, r_y_4 = symbols('r_x_2 r_y_2 r_x_3 r_y_3 r_x_4 r_y_4')\n",
    "\n",
    "    # Extract left-hand side of each equation\n",
    "    exprs = [eq.lhs for eq in four_bars_slidercrank_example_symbolic_full()]\n",
    "\n",
    "    # Add the additional constraint\n",
    "    exprs.append(theta_2)\n",
    "\n",
    "    # Convert the list to a Matrix\n",
    "    f = Matrix(exprs)\n",
    "\n",
    "\n",
    "    # Variables with respect to which we differentiate\n",
    "    variables = [r_x_2, r_y_2, theta_2, r_x_3, r_y_3, theta_3, r_x_4, r_y_4, theta_4]\n",
    "\n",
    "    # Compute the Jacobian\n",
    "    jacobian_extended = f.jacobian(variables)\n",
    "    return(jacobian_extended)\n",
    "\n",
    "\n",
    "\n",
    "def C_t_slider_crank(): #ADAPT IT TO CONSIDER ANY MOVEMENT CONSTRAINT!!!\n",
    "\n",
    "    #     # Define the symbols\n",
    "    theta_2, theta_3, theta_4 ,time= symbols('theta_2 theta_3 theta_4 time')\n",
    "    r_x_2, r_y_2, r_x_3, r_y_3, r_x_4, r_y_4 = symbols('r_x_2 r_y_2 r_x_3 r_y_3 r_x_4 r_y_4')\n",
    "\n",
    "    # Extract left-hand side of each equation\n",
    "    exprs = [eq.lhs for eq in four_bars_slidercrank_example_symbolic_full()]\n",
    "\n",
    "    # Add the additional constraint\n",
    "    exprs.append(theta_2-np.pi/4*time)\n",
    "\n",
    "    # Convert the list to a Matrix\n",
    "    f = Matrix(exprs)\n",
    "\n",
    "\n",
    "    # Variables with respect to which we differentiate\n",
    "    variables = [time]\n",
    "\n",
    "    # Compute the Jacobian\n",
    "    C_t = f.jacobian(variables)\n",
    "    return(C_t)\n",
    "\n",
    "\n",
    "# def plot_theta2_vs_vx4_w_cte(theta_2_range, L2_value, L3_value, offset_value, alfa_value):\n",
    "#     # Generate solutions for a range of theta_2 values\n",
    "#     #solutions_list = []\n",
    "    \n",
    "#     theta_2, theta_3 = symbols('theta_2, theta_3')\n",
    "#     L2, L3, alfa, offset = symbols('L2 L3 alfa, offset')\n",
    "\n",
    "#     C_q_inv = jacobian_slider_crank().inv() #dependent on q\n",
    "#     C_t = C_t_slider_crank() #not dependant of q neither t here, constant\n",
    "\n",
    "\n",
    "#     theta_2_values = []\n",
    "#     v_x_4_values = []\n",
    "#     for theta_2_loop in theta_2_range:\n",
    "\n",
    "#         #solve the position\n",
    "#         solutions = sp.solve( [eq.subs({theta_2: theta_2_loop, L2: L2_value, L3: L3_value, offset: offset_value, alfa: alfa_value}) for eq in four_bars_slidercrank_example_symbolic_full()] )\n",
    "        \n",
    "#         q = solutions[1]\n",
    "\n",
    "#         #now calculate q_dot\n",
    "#         q_dot = -C_q_inv*C_t\n",
    "        \n",
    "\n",
    "#         q_dot = q_dot.subs({theta_2: theta_2_loop, L2: L2_value, L3: L3_value, offset: offset_value, alfa: alfa_value, theta_3: q[theta_3]})\n",
    "#         #print(q_dot)\n",
    "#         v_x_4_values.append(float(q_dot[6]))\n",
    "\n",
    "        \n",
    "    \n",
    "#         theta_2_values.append(theta_2_loop)\n",
    "   \n",
    "\n",
    "#     # Create trace\n",
    "#     trace = go.Scatter(x=theta_2_values, y=v_x_4_values, mode='lines+markers', name='Theta_2 vs v_x_4 ????')\n",
    "\n",
    "#     # Define layout\n",
    "#     layout = go.Layout(title='Theta_2 vs v_x_4 Plot',\n",
    "#                        xaxis=dict(title='Theta_2'),\n",
    "#                        yaxis=dict(title='r_x_4'),\n",
    "#                        showlegend=True,\n",
    "#                        autosize=False,\n",
    "#                        width=600,\n",
    "#                        height=600)\n",
    "\n",
    "#     fig = go.Figure(data=[trace], layout=layout)\n",
    "#     #fig.show()\n",
    "#     return(fig)\n",
    "\n",
    "\n",
    "# import sympy as sp\n",
    "# import plotly.graph_objs as go\n",
    "\n",
    "def generate_solutions(theta_2_range, L2_value, L3_value, offset_value, alfa_value):\n",
    "    theta_2, L2, L3, offset, alfa = sp.symbols('theta_2 L2 L3 offset alfa')\n",
    "\n",
    "    solutions_list = []\n",
    "    for theta_2_loop in theta_2_range:\n",
    "        solutions = sp.solve([eq.subs({theta_2: theta_2_loop, L2: L2_value, L3: L3_value, offset: offset_value, alfa: alfa_value}) for eq in four_bars_slidercrank_example_symbolic_full()])\n",
    "        selected_solution = solutions[1]\n",
    "        solution_json = {str(key): value for key, value in selected_solution.items()}\n",
    "        solution_json_converted = convert_floats(solution_json)  # Assuming you have this function defined elsewhere\n",
    "        solutions_list.append(solution_json_converted)\n",
    "    \n",
    "    return solutions_list\n",
    "\n",
    "\n",
    "import sympy as sp\n",
    "import plotly.graph_objs as go\n",
    "import math  # for radians and degrees conversion\n",
    "\n",
    "def generate_solutions(theta_2_range, L2_value, L3_value, offset_value, alfa_value):\n",
    "    theta_2, L2, L3, offset, alfa = sp.symbols('theta_2 L2 L3 offset alfa')\n",
    "\n",
    "    solutions_list = []\n",
    "    for theta_2_rad in theta_2_range:\n",
    "        solutions = sp.solve([eq.subs({theta_2: theta_2_rad, L2: L2_value, L3: L3_value, offset: offset_value, alfa: alfa_value}) for eq in four_bars_slidercrank_example_symbolic_full()])\n",
    "        selected_solution = solutions[1]\n",
    "        solution_json = {str(key): value for key, value in selected_solution.items()}\n",
    "        solution_json_converted = convert_floats(solution_json)  # Assuming you have this function defined elsewhere\n",
    "        solutions_list.append(solution_json_converted)\n",
    "    \n",
    "    return solutions_list\n",
    "\n",
    "def combined_plot_functions(theta_2_range, L2_value, L3_value, offset_value, alfa_value):\n",
    "    solutions_list = generate_solutions(theta_2_range, L2_value, L3_value, offset_value, alfa_value)\n",
    "\n",
    "    # For the first plot\n",
    "    traces = []\n",
    "    for solution in solutions_list:\n",
    "        trace1 = go.Scatter(x=[solution['r_x_2'], solution['r_x_3']],\n",
    "                            y=[solution['r_y_2'], solution['r_y_3']],\n",
    "                            mode='lines+markers', name='Link 2-3')\n",
    "        trace2 = go.Scatter(x=[solution['r_x_3'], solution['r_x_4']],\n",
    "                            y=[solution['r_y_3'], solution['r_y_4']],\n",
    "                            mode='lines+markers', name='Link 3-4')\n",
    "        traces.extend([trace1, trace2])\n",
    "\n",
    "    # Slider setup for the first plot\n",
    "    steps = []\n",
    "    for i, theta_2_rad in enumerate(theta_2_range):\n",
    "        theta_2_deg = math.degrees(theta_2_rad)  # Convert radians to degrees for the slider labels\n",
    "        step = dict(args=[{\"visible\": [False] * len(traces)}],\n",
    "                    method=\"restyle\",\n",
    "                    label=f\"{theta_2_deg:.2f}\")  # Displayed in degrees\n",
    "        step[\"args\"][0][\"visible\"][i*2:i*2+2] = [True, True]\n",
    "        steps.append(step)\n",
    "\n",
    "    sliders = [dict(active=10, yanchor=\"top\", steps=steps)]\n",
    "    layout1 = go.Layout(title='Four Bars Mechanism Visualization',\n",
    "                        xaxis=dict(title='Theta_2 (degrees)', scaleanchor=\"y\", scaleratio=1, range=[-15, 15]),\n",
    "                        yaxis=dict(title='Y Coordinate', scaleanchor=\"x\", scaleratio=1, range=[-15, 15]),\n",
    "                        showlegend=True, autosize=False, width=600, height=600, sliders=sliders)\n",
    "    fig1 = go.Figure(data=traces, layout=layout1)\n",
    "\n",
    "    # For the second plot\n",
    "    theta_2_values_deg = [math.degrees(theta_2_rad) for theta_2_rad in theta_2_range]  # Convert radians to degrees for plotting\n",
    "    r_x_4_values = [solution['r_x_4'] for solution in solutions_list]\n",
    "    trace = go.Scatter(x=theta_2_values_deg, y=r_x_4_values, mode='lines+markers', name='Theta_2 vs r_x_4')\n",
    "    layout2 = go.Layout(title='Theta_2 vs r_x_4 Plot',\n",
    "                        xaxis=dict(title='Theta_2 (degrees)'),\n",
    "                        yaxis=dict(title='r_x_4'),\n",
    "                        showlegend=True, autosize=False, width=600, height=600)\n",
    "    fig2 = go.Figure(data=[trace], layout=layout2)\n",
    "\n",
    "    return fig1, fig2\n",
    "\n",
    "# # Usage:\n",
    "# fig1, fig2 = combined_plot_functions(theta_2_range, L2_value, L3_value, offset_value, alfa_value)\n",
    "# fig1.show()\n",
    "# fig2.show()\n",
    "\n",
    "\n",
    "\n",
    "\n",
    "\n",
    "\n",
    "\n",
    "\n",
    "st.title(\"Simulation App\")\n",
    "\n",
    "# Slider to select L2, L3, offset, and alfa values\n",
    "L2 = st.slider('L2 Value', 0.0, 10.0, 1.0)\n",
    "L3 = st.slider('L3 Value', 0.0, 10.0, 2.0)\n",
    "offset = st.slider('Offset Value', 0.0, 1.0, 0.0)\n",
    "alfa = st.slider('Alfa Value', -5, 5, 0)\n",
    "\n",
    "if st.button('Simulate'):\n",
    "    theta_2_range = np.linspace(0, 2*np.pi, 100)\n",
    "    \n",
    "    # Call your functions and plot\n",
    "    # fig3 = plot_theta2_vs_vx4_w_cte(theta_2_range, L2, L3, offset, alfa)\n",
    "    # fig2 = plot_theta2_vs_rx4(theta_2_range, L2, L3, offset, alfa)\n",
    "    # fig1 = plot_slidercrank_with_slider(theta_2_range, L2, L3, offset, alfa)\n",
    "    fig1, fig2 = combined_plot_functions(theta_2_range, L2, L3, offset, alfa)\n",
    "    # Display plots\n",
    "    st.plotly_chart(fig1)\n",
    "    st.plotly_chart(fig2)\n",
    "    #st.plotly_chart(fig3)"
   ]
  },
  {
   "cell_type": "code",
   "execution_count": null,
   "metadata": {},
   "outputs": [],
   "source": [
    "#streamlit run slidercrankv1.py\n",
    "\n",
    "\n",
    "import streamlit as st\n",
    "import numpy as np\n",
    "import plotly.graph_objects as go\n",
    "\n",
    "\n",
    "\n",
    "\n",
    "import sympy as sp\n",
    "\n",
    "from sympy import Eq, solve, pi\n",
    "from sympy import lambdify\n",
    "from scipy.optimize import fsolve\n",
    "\n",
    "\n",
    "from sympy import symbols, Eq, cos, sin, diff, Matrix\n",
    "from sympy import Matrix, Eq\n",
    "\n",
    "\n",
    "\n",
    "# from sympy import symbols, Eq, cos, sin, diff, Matrix\n",
    "# from sympy import Matrix, Eq\n",
    "\n",
    "\n",
    "from sympy import Matrix, cos, sin, symbols\n",
    "\n",
    "def rotation_matrix_2d(theta):\n",
    "    \"\"\"Generate a 2D rotation matrix for a given angle.\"\"\"\n",
    "    return Matrix([\n",
    "        [cos(theta), -sin(theta)],\n",
    "        [sin(theta), cos(theta)]\n",
    "    ])\n",
    "\n",
    "def generate_constraint_equations_pr(theta_i, theta_j, r_x_i, r_y_i, r_x_j, r_y_j, u_x_i, u_y_i, u_x_j, u_y_j):\n",
    "    \"\"\"Generate the position restraint equations for the PR.\"\"\"\n",
    "    R_i = Matrix([r_x_i, r_y_i])\n",
    "    R_j = Matrix([r_x_j, r_y_j])\n",
    "    local_vector_i = Matrix([u_x_i, u_y_i])\n",
    "    local_vector_j = Matrix([u_x_j, u_y_j])\n",
    "    \n",
    "    transformed_vector_i = rotation_matrix_2d(theta_i) * local_vector_i\n",
    "    transformed_vector_j = rotation_matrix_2d(theta_j) * local_vector_j\n",
    "\n",
    "    constraint_equations = R_i + transformed_vector_i - R_j - transformed_vector_j\n",
    "    return constraint_equations\n",
    "\n",
    "\n",
    "\n",
    "def generate_equations_included_topology_pr(theta_i, theta_j, r_x_i, r_y_i, r_x_j, r_y_j, u_x_a, u_y_a, u_x_b, u_y_b):\n",
    "\n",
    "    u_x_i, u_y_i, u_x_j, u_y_j = symbols('u_x_i u_y_i u_x_j u_y_j')\n",
    "\n",
    "\n",
    "    # Generate the constraint equations\n",
    "    equations = generate_constraint_equations_pr(theta_i, theta_j, r_x_i, r_y_i, r_x_j, r_y_j, u_x_i, u_y_i, u_x_j, u_y_j)\n",
    "    \n",
    "    # Substitute the symbolic variables with the provided values\n",
    "    equations_substituted = equations.subs({u_x_i: u_x_a, u_y_i: u_y_a, u_x_j: u_x_b, u_y_j: u_y_b})\n",
    "    \n",
    "    \n",
    "    # Return the equation and the symbols\n",
    "    #return (equations)\n",
    "    return equations_substituted\n",
    "\n",
    "from sympy import symbols, Eq, tan, Matrix\n",
    "\n",
    "def generate_constraint_equations_ppl(theta_i, theta_j, r_x_i, r_y_i, r_x_j, r_y_j, alfa, offset):\n",
    "    \"\"\"Generate the position restraint equations for the PPL.\"\"\"\n",
    "\n",
    "    expr1 = theta_j - theta_i - alfa\n",
    "    expr2 = r_y_j - tan(alfa) * r_x_j - offset\n",
    "    \n",
    "    return Matrix([[expr1], [expr2]])\n",
    "\n",
    "\n",
    "def four_bars_slidercrank_example_symbolic_full():\n",
    "\n",
    "    theta_1, theta_2, theta_3, theta_4 = symbols('theta_1 theta_2 theta_3 theta_4')\n",
    "    r_x_1, r_y_1, r_x_2, r_y_2, r_x_3, r_y_3, r_x_4, r_y_4 = symbols('r_x_1 r_y_1 r_x_2 r_y_2 r_x_3 r_y_3 r_x_4 r_y_4')\n",
    "\n",
    "    L2, L3, L4, alfa, offset = symbols('L2 L3 L4 alfa, offset')\n",
    "\n",
    "\n",
    "    u_x_1_12 = 0\n",
    "    u_y_1_12 = 0\n",
    "    u_x_2_12 = 0\n",
    "    u_y_2_12 = 0\n",
    "    restrictions_pr12 = generate_equations_included_topology_pr(theta_1, theta_2, r_x_1, r_y_1, r_x_2, r_y_2, u_x_1_12, u_y_1_12, u_x_2_12, u_y_2_12)\n",
    "\n",
    "    u_x_2_23 = L2\n",
    "    u_y_2_23 = 0\n",
    "    u_x_3_23 = 0\n",
    "    u_y_3_23 = 0\n",
    "    restrictions_pr23 = generate_equations_included_topology_pr(theta_2, theta_3, r_x_2, r_y_2, r_x_3, r_y_3, u_x_2_23, u_y_2_23, u_x_3_23, u_y_3_23)\n",
    "\n",
    "    u_x_3_34 = L3\n",
    "    u_y_3_34 = 0\n",
    "    u_x_4_34 = 0\n",
    "    u_y_4_34 = 0\n",
    "    restrictions_pr34 = generate_equations_included_topology_pr(theta_3, theta_4, r_x_3, r_y_3, r_x_4, r_y_4, u_x_3_34, u_y_3_34, u_x_4_34, u_y_4_34)\n",
    "    \n",
    "    restrictions_ppl14 = generate_constraint_equations_ppl(theta_1, theta_4, r_x_1, r_y_1, r_x_4, r_y_4, alfa, offset)\n",
    "    \n",
    "    # Stacking the matrices vertically to form a single large matrix\n",
    "    restrictions_to_solve = restrictions_pr12.col_join(restrictions_pr23).col_join(restrictions_pr34).col_join(restrictions_ppl14)\n",
    "\n",
    "    # Substituting the known values into the equations\n",
    "    restrictions_substituted = restrictions_to_solve.subs({\n",
    "        r_x_1: 0,\n",
    "        r_y_1: 0,\n",
    "        theta_1: 0 })\n",
    "\n",
    "    # Create a list of equations from the matrix\n",
    "    equation_list = [Eq(restrictions_substituted[i, 0], 0) for i in range(restrictions_substituted.shape[0])]\n",
    "\n",
    "\n",
    "    return(equation_list)\n",
    "\n",
    "\n",
    "def convert_floats(solution_dict):\n",
    "    \"\"\"Convert all values in the dictionary to float.\"\"\"\n",
    "    return {key: float(value.evalf()) if isinstance(value, (sp.Number, sp.Symbol)) else value \n",
    "            for key, value in solution_dict.items()}\n",
    "\n",
    "\n",
    "def plot_slidercrank_position_json(new_input):\n",
    "    # Extract values from the input dictionary using string keys\n",
    "    r_x_2_value = new_input['r_x_2']\n",
    "    r_y_2_value = new_input['r_y_2']\n",
    "    r_x_3_value = new_input['r_x_3']\n",
    "    r_y_3_value = new_input['r_y_3']\n",
    "    r_x_4_value = new_input['r_x_4']\n",
    "    r_y_4_value = new_input['r_y_4']\n",
    "\n",
    "    #print(r_x_2_value)\n",
    "    \n",
    "    # Create traces for each line\n",
    "    trace1 = go.Scatter(x=[r_x_2_value, r_x_3_value], y=[r_y_2_value, r_y_3_value], mode='lines+markers', name='Link 2-3')\n",
    "    trace2 = go.Scatter(x=[r_x_3_value, r_x_4_value], y=[r_y_3_value, r_y_4_value], mode='lines+markers', name='Link 3-4')\n",
    "    #trace3 = go.Scatter(x=[r_x_4_value, Separation], y=[r_y_4_value, 0], mode='lines+markers', name='Link 4-Base')\n",
    "    \n",
    "    # Define layout with equal aspect ratio and specified axis ranges\n",
    "    layout = go.Layout(title='Four Bars Mechanism Visualization',\n",
    "                       xaxis=dict(title='X Coordinate', scaleanchor=\"y\", scaleratio=1, range=[-15, 15]),\n",
    "                       yaxis=dict(title='Y Coordinate', scaleanchor=\"x\", scaleratio=1, range=[-15, 15]),\n",
    "                       showlegend=True,\n",
    "                       autosize=False,  # Disable automatic sizing to maintain aspect ratio\n",
    "                       width=500,  # Set width of the plot\n",
    "                       height=500)  # Set height of the plot\n",
    "    \n",
    "    # Create figure and plot\n",
    "    fig = go.Figure(data=[trace1, trace2], layout=layout)\n",
    "    fig.show()\n",
    "\n",
    "\n",
    "\n",
    "def solve_and_plot_slidercrank(theta_2_value, L2_value, L3_value, offset_value, alfa_value):\n",
    "\n",
    "        \n",
    "    # Solve the equations\n",
    "    #solutions = sp.solve( [eq.subs({theta_2: np.pi/2, L2: 8, L3: 8, offset: 0, alfa: 0}) for eq in four_bars_slidercrank_example_symbolic_full()] )\n",
    "    solutions = sp.solve( [eq.subs({theta_2: theta_2_value, L2: L2_value, L3: L3_value, offset: offset_value, alfa: alfa_value}) for eq in four_bars_slidercrank_example_symbolic_full()] )\n",
    "\n",
    "    solutions_theta_3_1 = solutions[1]\n",
    "\n",
    "    solution_json = {str(key): value for key, value in solutions_theta_3_1.items()}\n",
    "\n",
    "    solution_json_converted = convert_floats(solution_json)\n",
    "    print(solution_json_converted)\n",
    "    plot_slidercrank_position_json(solution_json_converted)\n",
    "\n",
    "\n",
    "\n",
    "\n",
    "def plot_slidercrank_with_slider(theta_2_range, L2_value, L3_value, offset_value, alfa_value):\n",
    "\n",
    "    theta_2, L2, L3, offset, alfa = sp.symbols('theta_2 L2 L3 offset alfa')\n",
    "\n",
    "\n",
    "    # Generate solutions for a range of theta_2 values\n",
    "    solutions_list = []\n",
    "    print(theta_2_range)\n",
    "    for theta_2_loop in theta_2_range:\n",
    "        #print(theta_2_loop)\n",
    "        solutions = sp.solve( [eq.subs({theta_2: theta_2_loop, L2: L2_value, L3: L3_value, offset: offset_value, alfa: alfa_value}) for eq in four_bars_slidercrank_example_symbolic_full()] )\n",
    "        #print(solutions)\n",
    "        selected_solution = solutions[1]\n",
    "\n",
    "        \n",
    "        solution_json = {str(key): value for key, value in selected_solution.items()}\n",
    "        solution_json_converted = convert_floats(solution_json)\n",
    "        solutions_list.append(solution_json_converted)\n",
    "\n",
    "     # Generate traces for the plot\n",
    "    traces = []\n",
    "    for solution in solutions_list:\n",
    "        trace1 = go.Scatter(x=[solution['r_x_2'], solution['r_x_3']],\n",
    "                            y=[solution['r_y_2'], solution['r_y_3']],\n",
    "                            mode='lines+markers', name='Link 2-3')\n",
    "        trace2 = go.Scatter(x=[solution['r_x_3'], solution['r_x_4']],\n",
    "                            y=[solution['r_y_3'], solution['r_y_4']],\n",
    "                            mode='lines+markers', name='Link 3-4')\n",
    "        traces.extend([trace1, trace2])\n",
    "\n",
    "    # Create the slider steps\n",
    "    steps = []\n",
    "    for i, theta_2 in enumerate(theta_2_range):\n",
    "        step = dict(args=[{\"visible\": [False] * len(traces)}],  # Set all traces to invisible\n",
    "                    method=\"restyle\",\n",
    "                    label=f\"{theta_2:.2f}\")\n",
    "        step[\"args\"][0][\"visible\"][i*2:i*2+2] = [True, True]  # Toggle i'th trace to \"visible\"\n",
    "        steps.append(step)\n",
    "\n",
    "    sliders = [dict(active=10, yanchor=\"top\", steps=steps)]\n",
    "\n",
    "    # Define layout\n",
    "    layout = go.Layout(title='Four Bars Mechanism Visualization',\n",
    "                       xaxis=dict(title='X Coordinate', scaleanchor=\"y\", scaleratio=1, range=[-15, 15]),\n",
    "                       yaxis=dict(title='Y Coordinate', scaleanchor=\"x\", scaleratio=1, range=[-15, 15]),\n",
    "                       showlegend=True,\n",
    "                       autosize=False,\n",
    "                       width=600,\n",
    "                       height=600,\n",
    "                       sliders=sliders)\n",
    "\n",
    "    fig = go.Figure(data=traces, layout=layout)\n",
    "    #fig.show()\n",
    "    return(fig)\n",
    "\n",
    "\n",
    "\n",
    "\n",
    "def plot_theta2_vs_rx4(theta_2_range, L2_value, L3_value, offset_value, alfa_value):\n",
    "    # Generate solutions for a range of theta_2 values\n",
    "    #solutions_list = []\n",
    "    \n",
    "    theta_2, r_x_4 = symbols('theta_2, r_x_4')\n",
    "    L2, L3, alfa, offset = symbols('L2 L3 alfa, offset')\n",
    "\n",
    "    theta_2_values = []\n",
    "    r_x_4_values = []\n",
    "    for theta_2_loop in theta_2_range:\n",
    "        solutions = sp.solve( [eq.subs({theta_2: theta_2_loop, L2: L2_value, L3: L3_value, offset: offset_value, alfa: alfa_value}) for eq in four_bars_slidercrank_example_symbolic_full()] )\n",
    "        \n",
    "        selected_solution = solutions[1]\n",
    "\n",
    "        r_x_4_values.append(float(selected_solution[r_x_4]))\n",
    "        theta_2_values.append(theta_2_loop)\n",
    "\n",
    "\n",
    "    # Extract theta_2 and r_x_4 values for plotting\n",
    "    # theta_2_values = [theta_2 for theta_2 in theta_2_range]\n",
    "    # r_x_4_values = [solution['r_x_4'] for solution in solutions_list]\n",
    "\n",
    "    # Create trace\n",
    "    trace = go.Scatter(x=theta_2_values, y=r_x_4_values, mode='lines+markers', name='Theta_2 vs r_x_4')\n",
    "\n",
    "    # Define layout\n",
    "    layout = go.Layout(title='Theta_2 vs r_x_4 Plot',\n",
    "                       xaxis=dict(title='Theta_2'),\n",
    "                       yaxis=dict(title='r_x_4'),\n",
    "                       showlegend=True,\n",
    "                       autosize=False,\n",
    "                       width=600,\n",
    "                       height=600)\n",
    "\n",
    "    fig = go.Figure(data=[trace], layout=layout)\n",
    "    #fig.show()\n",
    "    return(fig)\n",
    "\n",
    "\n",
    "\n",
    "\n",
    "def jacobian_slider_crank(): #ADAPT IT TO CONSIDER ANY MOVEMENT CONSTRAINT!!!\n",
    "\n",
    "    #     # Define the symbols\n",
    "    theta_2, theta_3, theta_4 = symbols('theta_2 theta_3 theta_4')\n",
    "    r_x_2, r_y_2, r_x_3, r_y_3, r_x_4, r_y_4 = symbols('r_x_2 r_y_2 r_x_3 r_y_3 r_x_4 r_y_4')\n",
    "\n",
    "    # Extract left-hand side of each equation\n",
    "    exprs = [eq.lhs for eq in four_bars_slidercrank_example_symbolic_full()]\n",
    "\n",
    "    # Add the additional constraint\n",
    "    exprs.append(theta_2)\n",
    "\n",
    "    # Convert the list to a Matrix\n",
    "    f = Matrix(exprs)\n",
    "\n",
    "\n",
    "    # Variables with respect to which we differentiate\n",
    "    variables = [r_x_2, r_y_2, theta_2, r_x_3, r_y_3, theta_3, r_x_4, r_y_4, theta_4]\n",
    "\n",
    "    # Compute the Jacobian\n",
    "    jacobian_extended = f.jacobian(variables)\n",
    "    return(jacobian_extended)\n",
    "\n",
    "\n",
    "\n",
    "def C_t_slider_crank(): #ADAPT IT TO CONSIDER ANY MOVEMENT CONSTRAINT!!!\n",
    "\n",
    "    #     # Define the symbols\n",
    "    theta_2, theta_3, theta_4 ,time= symbols('theta_2 theta_3 theta_4 time')\n",
    "    r_x_2, r_y_2, r_x_3, r_y_3, r_x_4, r_y_4 = symbols('r_x_2 r_y_2 r_x_3 r_y_3 r_x_4 r_y_4')\n",
    "\n",
    "    # Extract left-hand side of each equation\n",
    "    exprs = [eq.lhs for eq in four_bars_slidercrank_example_symbolic_full()]\n",
    "\n",
    "    # Add the additional constraint\n",
    "    exprs.append(theta_2-np.pi/4*time)\n",
    "\n",
    "    # Convert the list to a Matrix\n",
    "    f = Matrix(exprs)\n",
    "\n",
    "\n",
    "    # Variables with respect to which we differentiate\n",
    "    variables = [time]\n",
    "\n",
    "    # Compute the Jacobian\n",
    "    C_t = f.jacobian(variables)\n",
    "    return(C_t)\n",
    "\n",
    "\n",
    "def plot_theta2_vs_vx4_w_cte(theta_2_range, L2_value, L3_value, offset_value, alfa_value):\n",
    "    # Generate solutions for a range of theta_2 values\n",
    "    #solutions_list = []\n",
    "    \n",
    "    theta_2, theta_3 = symbols('theta_2, theta_3')\n",
    "    L2, L3, alfa, offset = symbols('L2 L3 alfa, offset')\n",
    "\n",
    "    C_q_inv = jacobian_slider_crank().inv() #dependent on q\n",
    "    C_t = C_t_slider_crank() #not dependant of q neither t here, constant\n",
    "\n",
    "\n",
    "    theta_2_values = []\n",
    "    v_x_4_values = []\n",
    "    for theta_2_loop in theta_2_range:\n",
    "\n",
    "        #solve the position\n",
    "        solutions = sp.solve( [eq.subs({theta_2: theta_2_loop, L2: L2_value, L3: L3_value, offset: offset_value, alfa: alfa_value}) for eq in four_bars_slidercrank_example_symbolic_full()] )\n",
    "        \n",
    "        q = solutions[1]\n",
    "\n",
    "        #now calculate q_dot\n",
    "        q_dot = -C_q_inv*C_t\n",
    "        \n",
    "\n",
    "        q_dot = q_dot.subs({theta_2: theta_2_loop, L2: L2_value, L3: L3_value, offset: offset_value, alfa: alfa_value, theta_3: q[theta_3]})\n",
    "        #print(q_dot)\n",
    "        v_x_4_values.append(float(q_dot[6]))\n",
    "\n",
    "        \n",
    "    \n",
    "        theta_2_values.append(theta_2_loop)\n",
    "   \n",
    "\n",
    "    # Create trace\n",
    "    trace = go.Scatter(x=theta_2_values, y=v_x_4_values, mode='lines+markers', name='Theta_2 vs v_x_4 ????')\n",
    "\n",
    "    # Define layout\n",
    "    layout = go.Layout(title='Theta_2 vs v_x_4 Plot',\n",
    "                       xaxis=dict(title='Theta_2'),\n",
    "                       yaxis=dict(title='r_x_4'),\n",
    "                       showlegend=True,\n",
    "                       autosize=False,\n",
    "                       width=600,\n",
    "                       height=600)\n",
    "\n",
    "    fig = go.Figure(data=[trace], layout=layout)\n",
    "    #fig.show()\n",
    "    return(fig)\n",
    "\n",
    "\n",
    "\n",
    "\n",
    "\n",
    "\n",
    "\n",
    "st.title(\"Simulation App\")\n",
    "\n",
    "# Slider to select L2, L3, offset, and alfa values\n",
    "L2 = st.slider('L2 Value', 0.0, 10.0, 1.0)\n",
    "L3 = st.slider('L3 Value', 0.0, 10.0, 2.0)\n",
    "offset = st.slider('Offset Value', 0.0, 1.0, 0.0)\n",
    "alfa = st.slider('Alfa Value', -5.0, 5.0, 0.0)\n",
    "\n",
    "if st.button('Simulate'):\n",
    "    theta_2_range = np.linspace(0, 2*np.pi, 100)\n",
    "    \n",
    "    # Call your functions and plot\n",
    "    fig3 = plot_theta2_vs_vx4_w_cte(theta_2_range, L2, L3, offset, alfa)\n",
    "    fig2 = plot_theta2_vs_rx4(theta_2_range, L2, L3, offset, alfa)\n",
    "    fig1 = plot_slidercrank_with_slider(theta_2_range, L2, L3, offset, alfa)\n",
    "    # Display plots\n",
    "    st.plotly_chart(fig1)\n",
    "    st.plotly_chart(fig2)\n",
    "    st.plotly_chart(fig3)"
   ]
  },
  {
   "cell_type": "markdown",
   "metadata": {},
   "source": [
    "\n",
    "\n",
    "\n"
   ]
  }
 ],
 "metadata": {
  "kernelspec": {
   "display_name": "base",
   "language": "python",
   "name": "python3"
  },
  "language_info": {
   "codemirror_mode": {
    "name": "ipython",
    "version": 3
   },
   "file_extension": ".py",
   "mimetype": "text/x-python",
   "name": "python",
   "nbconvert_exporter": "python",
   "pygments_lexer": "ipython3",
   "version": "3.9.7"
  },
  "orig_nbformat": 4
 },
 "nbformat": 4,
 "nbformat_minor": 2
}
